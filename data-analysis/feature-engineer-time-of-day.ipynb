{
 "cells": [
  {
   "cell_type": "code",
   "execution_count": 75,
   "metadata": {
    "collapsed": true
   },
   "outputs": [],
   "source": [
    "import pandas as pd\n",
    "import datetime\n",
    "import numpy as np\n",
    "import matplotlib.pyplot as plt\n",
    "%matplotlib inline \n",
    "import seaborn as sns\n",
    "\n",
    "from sklearn.feature_extraction.text import CountVectorizer, TfidfVectorizer\n",
    "from sklearn.metrics import confusion_matrix, roc_curve, auc, mean_absolute_error, accuracy_score\n",
    "from sklearn.model_selection import train_test_split, cross_val_score, GridSearchCV, KFold, StratifiedKFold\n",
    "from sklearn.model_selection import ShuffleSplit, learning_curve\n",
    "from sklearn.ensemble import RandomForestClassifier, RandomForestRegressor\n",
    "from sklearn.metrics.pairwise import cosine_similarity\n",
    "from sklearn.neighbors import KNeighborsRegressor\n",
    "from sklearn.externals import joblib\n",
    "\n",
    "\n",
    "\n",
    "import sys\n",
    "sys.path.insert(0, '/Users/Naekid/Desktop/capstone-DSI-5/ebay-price-predictor/data-analysis/utilities/')\n",
    "from plot_learning_curve import plot_learning_curve\n",
    "from clean_text import clean_text\n",
    "\n",
    "\n",
    "pd.set_option('display.max_columns', 60)\n"
   ]
  },
  {
   "cell_type": "markdown",
   "metadata": {},
   "source": [
    "### Import Data"
   ]
  },
  {
   "cell_type": "code",
   "execution_count": 2,
   "metadata": {
    "collapsed": true
   },
   "outputs": [],
   "source": [
    "auctions = pd.read_pickle('./pickles/auctions.p')"
   ]
  },
  {
   "cell_type": "code",
   "execution_count": 91,
   "metadata": {
    "collapsed": false
   },
   "outputs": [
    {
     "data": {
      "text/html": [
       "<div>\n",
       "<table border=\"1\" class=\"dataframe\">\n",
       "  <thead>\n",
       "    <tr style=\"text-align: right;\">\n",
       "      <th></th>\n",
       "      <th>index</th>\n",
       "      <th>id</th>\n",
       "      <th>timestamp</th>\n",
       "      <th>itemId</th>\n",
       "      <th>topRatedListing</th>\n",
       "      <th>globalId</th>\n",
       "      <th>title</th>\n",
       "      <th>subtitle</th>\n",
       "      <th>country</th>\n",
       "      <th>primaryCategory.categoryId</th>\n",
       "      <th>primaryCategory.categoryName</th>\n",
       "      <th>secondaryCategory.categoryId</th>\n",
       "      <th>secondaryCategory.categoryName</th>\n",
       "      <th>pictureURLLarge</th>\n",
       "      <th>galleryURL</th>\n",
       "      <th>sellerInfo.feedbackRatingStar</th>\n",
       "      <th>sellerInfo.feedbackScore</th>\n",
       "      <th>sellerInfo.positiveFeedbackPercent</th>\n",
       "      <th>sellerInfo.topRatedSeller</th>\n",
       "      <th>shippingInfo.expeditedShipping</th>\n",
       "      <th>shippingInfo.shipToLocations</th>\n",
       "      <th>shippingInfo.shippingServiceCost.value</th>\n",
       "      <th>shippingInfo.oneDayShippingAvailable</th>\n",
       "      <th>shippingInfo.handlingTime</th>\n",
       "      <th>shippingInfo.shippingType</th>\n",
       "      <th>autoPay</th>\n",
       "      <th>returnsAccepted</th>\n",
       "      <th>viewItemURL</th>\n",
       "      <th>sellingStatus.currentPrice.value</th>\n",
       "      <th>startprice</th>\n",
       "      <th>endPrice</th>\n",
       "      <th>sellingStatus.bidCount</th>\n",
       "      <th>sellingStatus.sellingState</th>\n",
       "      <th>condition</th>\n",
       "      <th>condition.conditionId</th>\n",
       "      <th>condition.conditionDisplayName</th>\n",
       "      <th>listingInfo.listingType</th>\n",
       "      <th>listingInfo.bestOfferEnabled</th>\n",
       "      <th>listingInfo.buyItNowAvailable</th>\n",
       "      <th>listingInfo.buyItNowPrice.value</th>\n",
       "      <th>listingInfo.startTime</th>\n",
       "      <th>listingInfo.endTime</th>\n",
       "      <th>conditiondescription</th>\n",
       "      <th>endListingType</th>\n",
       "      <th>startPrice</th>\n",
       "      <th>sold_state</th>\n",
       "      <th>conditionAvailable</th>\n",
       "      <th>conditionCombined</th>\n",
       "      <th>listingInfo.startTime.hour</th>\n",
       "      <th>listingInfo.startTime.weekday</th>\n",
       "    </tr>\n",
       "  </thead>\n",
       "  <tbody>\n",
       "    <tr>\n",
       "      <th>0</th>\n",
       "      <td>1</td>\n",
       "      <td>78584</td>\n",
       "      <td>2017-04-06 03:20:46.048000+00:00</td>\n",
       "      <td>322461255962</td>\n",
       "      <td>0</td>\n",
       "      <td>EBAY-US</td>\n",
       "      <td>Canon EOS Rebel SL1 / EOS 100D 18.0 MP Digital...</td>\n",
       "      <td>Buy Direct from Best Buy</td>\n",
       "      <td>US</td>\n",
       "      <td>31388</td>\n",
       "      <td>Digital Cameras</td>\n",
       "      <td>None</td>\n",
       "      <td>None</td>\n",
       "      <td>http://i.ebayimg.com/00/s/NTAwWDUwMA==/z/YqcAA...</td>\n",
       "      <td>http://thumbs3.ebaystatic.com/m/mv_DS7lPhi2xP4...</td>\n",
       "      <td>Blue</td>\n",
       "      <td>98</td>\n",
       "      <td>91.7</td>\n",
       "      <td>False</td>\n",
       "      <td>1</td>\n",
       "      <td>{US,CA,GB,AU,AT,BE,FR,DE,IT,JP,ES,TW,NL,HK,MX,...</td>\n",
       "      <td>0.0</td>\n",
       "      <td>0</td>\n",
       "      <td>2.0</td>\n",
       "      <td>Calculated</td>\n",
       "      <td>0</td>\n",
       "      <td>1</td>\n",
       "      <td>http://www.ebay.com/itm/Canon-EOS-Rebel-SL1-EO...</td>\n",
       "      <td>399.0</td>\n",
       "      <td>NaN</td>\n",
       "      <td>399.0</td>\n",
       "      <td>0</td>\n",
       "      <td>EndedWithoutSales</td>\n",
       "      <td>None</td>\n",
       "      <td>1000</td>\n",
       "      <td>New</td>\n",
       "      <td>Auction</td>\n",
       "      <td>0</td>\n",
       "      <td>0</td>\n",
       "      <td>529.0</td>\n",
       "      <td>2017-03-23 18:27:59</td>\n",
       "      <td>2017-03-30 18:27:59</td>\n",
       "      <td></td>\n",
       "      <td>Auction</td>\n",
       "      <td>399.0</td>\n",
       "      <td>0</td>\n",
       "      <td>0</td>\n",
       "      <td>New</td>\n",
       "      <td>18</td>\n",
       "      <td>3</td>\n",
       "    </tr>\n",
       "    <tr>\n",
       "      <th>1</th>\n",
       "      <td>5</td>\n",
       "      <td>78567</td>\n",
       "      <td>2017-04-06 03:20:46.048000+00:00</td>\n",
       "      <td>332163381834</td>\n",
       "      <td>0</td>\n",
       "      <td>EBAY-US</td>\n",
       "      <td>Sony Cyber-shot DSC-RX100 20.2MP Digital Camer...</td>\n",
       "      <td>Refurbished with 90 Day Nikon Warranty</td>\n",
       "      <td>US</td>\n",
       "      <td>31388</td>\n",
       "      <td>Digital Cameras</td>\n",
       "      <td>None</td>\n",
       "      <td>None</td>\n",
       "      <td>http://i.ebayimg.com/00/s/MTIwMFgxNjAw/z/4AsAA...</td>\n",
       "      <td>http://thumbs3.ebaystatic.com/m/myycjRB33Dwncv...</td>\n",
       "      <td>Yellow</td>\n",
       "      <td>45</td>\n",
       "      <td>100.0</td>\n",
       "      <td>False</td>\n",
       "      <td>1</td>\n",
       "      <td>{US,CA,GB,AU,AT,BE,FR,DE,IT,JP,ES,TW,NL,HK,MX,...</td>\n",
       "      <td>0.0</td>\n",
       "      <td>0</td>\n",
       "      <td>3.0</td>\n",
       "      <td>Calculated</td>\n",
       "      <td>1</td>\n",
       "      <td>0</td>\n",
       "      <td>http://www.ebay.com/itm/Sony-Cyber-shot-DSC-RX...</td>\n",
       "      <td>369.0</td>\n",
       "      <td>300.0</td>\n",
       "      <td>369.0</td>\n",
       "      <td>10</td>\n",
       "      <td>EndedWithSales</td>\n",
       "      <td>None</td>\n",
       "      <td>1000</td>\n",
       "      <td>New</td>\n",
       "      <td>Auction</td>\n",
       "      <td>0</td>\n",
       "      <td>0</td>\n",
       "      <td>NaN</td>\n",
       "      <td>2017-03-23 23:26:46</td>\n",
       "      <td>2017-03-30 23:26:46</td>\n",
       "      <td></td>\n",
       "      <td>Auction</td>\n",
       "      <td>300.0</td>\n",
       "      <td>1</td>\n",
       "      <td>0</td>\n",
       "      <td>New</td>\n",
       "      <td>23</td>\n",
       "      <td>3</td>\n",
       "    </tr>\n",
       "  </tbody>\n",
       "</table>\n",
       "</div>"
      ],
      "text/plain": [
       "   index     id                        timestamp        itemId  \\\n",
       "0      1  78584 2017-04-06 03:20:46.048000+00:00  322461255962   \n",
       "1      5  78567 2017-04-06 03:20:46.048000+00:00  332163381834   \n",
       "\n",
       "   topRatedListing globalId  \\\n",
       "0                0  EBAY-US   \n",
       "1                0  EBAY-US   \n",
       "\n",
       "                                               title  \\\n",
       "0  Canon EOS Rebel SL1 / EOS 100D 18.0 MP Digital...   \n",
       "1  Sony Cyber-shot DSC-RX100 20.2MP Digital Camer...   \n",
       "\n",
       "                                 subtitle country  primaryCategory.categoryId  \\\n",
       "0                Buy Direct from Best Buy      US                       31388   \n",
       "1  Refurbished with 90 Day Nikon Warranty      US                       31388   \n",
       "\n",
       "  primaryCategory.categoryName secondaryCategory.categoryId  \\\n",
       "0              Digital Cameras                         None   \n",
       "1              Digital Cameras                         None   \n",
       "\n",
       "  secondaryCategory.categoryName  \\\n",
       "0                           None   \n",
       "1                           None   \n",
       "\n",
       "                                     pictureURLLarge  \\\n",
       "0  http://i.ebayimg.com/00/s/NTAwWDUwMA==/z/YqcAA...   \n",
       "1  http://i.ebayimg.com/00/s/MTIwMFgxNjAw/z/4AsAA...   \n",
       "\n",
       "                                          galleryURL  \\\n",
       "0  http://thumbs3.ebaystatic.com/m/mv_DS7lPhi2xP4...   \n",
       "1  http://thumbs3.ebaystatic.com/m/myycjRB33Dwncv...   \n",
       "\n",
       "  sellerInfo.feedbackRatingStar  sellerInfo.feedbackScore  \\\n",
       "0                          Blue                        98   \n",
       "1                        Yellow                        45   \n",
       "\n",
       "   sellerInfo.positiveFeedbackPercent sellerInfo.topRatedSeller  \\\n",
       "0                                91.7                     False   \n",
       "1                               100.0                     False   \n",
       "\n",
       "   shippingInfo.expeditedShipping  \\\n",
       "0                               1   \n",
       "1                               1   \n",
       "\n",
       "                        shippingInfo.shipToLocations  \\\n",
       "0  {US,CA,GB,AU,AT,BE,FR,DE,IT,JP,ES,TW,NL,HK,MX,...   \n",
       "1  {US,CA,GB,AU,AT,BE,FR,DE,IT,JP,ES,TW,NL,HK,MX,...   \n",
       "\n",
       "   shippingInfo.shippingServiceCost.value  \\\n",
       "0                                     0.0   \n",
       "1                                     0.0   \n",
       "\n",
       "   shippingInfo.oneDayShippingAvailable  shippingInfo.handlingTime  \\\n",
       "0                                     0                        2.0   \n",
       "1                                     0                        3.0   \n",
       "\n",
       "  shippingInfo.shippingType  autoPay  returnsAccepted  \\\n",
       "0                Calculated        0                1   \n",
       "1                Calculated        1                0   \n",
       "\n",
       "                                         viewItemURL  \\\n",
       "0  http://www.ebay.com/itm/Canon-EOS-Rebel-SL1-EO...   \n",
       "1  http://www.ebay.com/itm/Sony-Cyber-shot-DSC-RX...   \n",
       "\n",
       "   sellingStatus.currentPrice.value  startprice  endPrice  \\\n",
       "0                             399.0         NaN     399.0   \n",
       "1                             369.0       300.0     369.0   \n",
       "\n",
       "   sellingStatus.bidCount sellingStatus.sellingState condition  \\\n",
       "0                       0          EndedWithoutSales      None   \n",
       "1                      10             EndedWithSales      None   \n",
       "\n",
       "   condition.conditionId condition.conditionDisplayName  \\\n",
       "0                   1000                            New   \n",
       "1                   1000                            New   \n",
       "\n",
       "  listingInfo.listingType  listingInfo.bestOfferEnabled  \\\n",
       "0                 Auction                             0   \n",
       "1                 Auction                             0   \n",
       "\n",
       "   listingInfo.buyItNowAvailable  listingInfo.buyItNowPrice.value  \\\n",
       "0                              0                            529.0   \n",
       "1                              0                              NaN   \n",
       "\n",
       "  listingInfo.startTime listingInfo.endTime conditiondescription  \\\n",
       "0   2017-03-23 18:27:59 2017-03-30 18:27:59                        \n",
       "1   2017-03-23 23:26:46 2017-03-30 23:26:46                        \n",
       "\n",
       "  endListingType  startPrice  sold_state  conditionAvailable  \\\n",
       "0        Auction       399.0           0                   0   \n",
       "1        Auction       300.0           1                   0   \n",
       "\n",
       "  conditionCombined  listingInfo.startTime.hour  listingInfo.startTime.weekday  \n",
       "0               New                          18                              3  \n",
       "1               New                          23                              3  "
      ]
     },
     "execution_count": 91,
     "metadata": {},
     "output_type": "execute_result"
    }
   ],
   "source": [
    "auctions.head(2)"
   ]
  },
  {
   "cell_type": "code",
   "execution_count": 17,
   "metadata": {
    "collapsed": false
   },
   "outputs": [],
   "source": [
    "auctions['listingInfo.startTime.hour'] = auctions['listingInfo.startTime'].dt.hour\n",
    "auctions['listingInfo.startTime.weekday'] = auctions['listingInfo.startTime'].dt.weekday"
   ]
  },
  {
   "cell_type": "markdown",
   "metadata": {},
   "source": [
    "### EDA"
   ]
  },
  {
   "cell_type": "code",
   "execution_count": 39,
   "metadata": {
    "collapsed": false
   },
   "outputs": [
    {
     "data": {
      "image/png": "[encoded data removed]",
      "text/plain": [
       "<matplotlib.figure.Figure at 0x126688650>"
      ]
     },
     "metadata": {},
     "output_type": "display_data"
    }
   ],
   "source": [
    "fig, axes = plt.subplots(1, 2)\n",
    "\n",
    "\n",
    "x = [auctions.loc[auctions['sold_state']==1,'listingInfo.startTime.weekday'].values,\\\n",
    "     auctions.loc[auctions['sold_state']==0,'listingInfo.startTime.weekday'].values]\n",
    "colors = ['lime', 'b']\n",
    "axes[0].hist(x, normed=1, color=colors, label=['sold=0','sold=1']);\n",
    "\n",
    "x = [auctions.loc[auctions['sold_state']==1,'listingInfo.startTime.hour'].values,\\\n",
    "     auctions.loc[auctions['sold_state']==0,'listingInfo.startTime.hour'].values]\n",
    "# axes[1].hist(x, normed=1, color=colors, label=['sold=0','sold=1']);\n",
    "axes[1].plot\n",
    "\n",
    "plt.legend()\n",
    "\n",
    "# sns.distplot(auctions.loc[auctions['sold_state']==1,'listingInfo.startTime.weekday'])\n",
    "# sns.distplot(auctions.loc[auctions['sold_state']==0,'listingInfo.startTime.weekday'])"
   ]
  },
  {
   "cell_type": "code",
   "execution_count": null,
   "metadata": {
    "collapsed": true
   },
   "outputs": [],
   "source": [
    "# line plot\n",
    "sold_by_hour = auctions.loc[auctions['sold_state']==1].groupby(by='listingInfo.startTime.hour').sum()['id']\n",
    "unsold_by_hour = auctions.loc[auctions['sold_state']==0].groupby(by='listingInfo.startTime.hour').sum()['id']\n",
    "\n",
    "sold_by_hour_df = pd.DataFrame(data=sold_by_hour.values, columns=['sold'], index=sold_by_hour.index)\n",
    "unsold_by_hour_df = pd.DataFrame(data=unsold_by_hour.values, columns=['unsold'], index=unsold_by_hour.index)\n",
    "\n",
    "listings_by_hour = pd.concat(objs=[sold_by_hour_df, unsold_by_hour_df], axis=1)\n",
    "\n",
    "listings_by_hour['total'] = listings_by_hour['sold'] + listings_by_hour['unsold']\n",
    "\n",
    "listings_by_hour['% sold'] = listings_by_hour['sold'] / listings_by_hour['total']\n",
    "listings_by_hour['% unsold'] = listings_by_hour['unsold'] / listings_by_hour['total']"
   ]
  },
  {
   "cell_type": "code",
   "execution_count": 71,
   "metadata": {
    "collapsed": false
   },
   "outputs": [
    {
     "data": {
      "text/plain": [
       "<matplotlib.text.Text at 0x11ea59bd0>"
      ]
     },
     "execution_count": 71,
     "metadata": {},
     "output_type": "execute_result"
    },
    {
     "data": {
      "image/png": "[encoded data removed]",
      "text/plain": [
       "<matplotlib.figure.Figure at 0x11e9fad50>"
      ]
     },
     "metadata": {},
     "output_type": "display_data"
    }
   ],
   "source": [
    "plt.plot(listings_by_hour['% sold'])\n",
    "plt.title('% Listing Sold per Hour')"
   ]
  },
  {
   "cell_type": "markdown",
   "metadata": {},
   "source": [
    "### Data Preprocessing"
   ]
  },
  {
   "cell_type": "code",
   "execution_count": 73,
   "metadata": {
    "collapsed": true
   },
   "outputs": [],
   "source": [
    "# Use startPrice, title (vectorized), conditionDisplayName (one-hot-encoded)\n",
    "auction_condition_dummies = pd.get_dummies(data=auctions['condition.conditionDisplayName'])\n",
    "\n",
    "start_price_series = auctions['startPrice']\n",
    "\n",
    "titles = auctions['title']\n",
    "\n",
    "sold = auctions['sold_state']\n",
    "\n",
    "condition_combined = auctions['conditionCombined']\n",
    "\n",
    "end_price = auctions['endPrice']\n",
    "\n",
    "start_time_series = auctions['listingInfo.startTime']\n",
    "\n",
    "end_time_series = auctions['listingInfo.endTime']\n",
    "\n",
    "feedback_percent_series = pd.Series(auctions['sellerInfo.positiveFeedbackPercent'], name='feedback_percent')\n",
    "\n",
    "top_rated_seller_series = pd.Series(auctions['sellerInfo.topRatedSeller'].apply(lambda x: 1 if x==True else 0), name='top_rated_seller')\n",
    "\n",
    "expedited_shipping_series = pd.Series(auctions['shippingInfo.expeditedShipping'], name='expedited_shipping')\n",
    "\n",
    "shipping_cost_series = pd.Series(auctions['shippingInfo.shippingServiceCost.value'], name='shipping_cost')\n",
    "\n",
    "handling_time_series = pd.Series(auctions['shippingInfo.handlingTime'], name='handling_time')\n",
    "\n",
    "one_day_shipping_series = pd.Series(auctions['shippingInfo.oneDayShippingAvailable'], name='one_day_shipping')\n",
    "\n",
    "one_day_shipping_series = pd.Series(auctions['shippingInfo.oneDayShippingAvailable'], name='one_day_shipping')\n",
    "\n",
    "returns_accepted_series = pd.Series(auctions['returnsAccepted'], name='returns_accepted')\n",
    "\n",
    "hour = auctions['listingInfo.startTime.hour']"
   ]
  },
  {
   "cell_type": "code",
   "execution_count": 74,
   "metadata": {
    "collapsed": false
   },
   "outputs": [
    {
     "name": "stdout",
     "output_type": "stream",
     "text": [
      "cleaning #5000 out of 29961 documents\n",
      "cleaning #10000 out of 29961 documents\n",
      "cleaning #15000 out of 29961 documents\n",
      "cleaning #20000 out of 29961 documents\n",
      "cleaning #25000 out of 29961 documents\n",
      "cleaning #5000 out of 29961 documents\n",
      "cleaning #10000 out of 29961 documents\n",
      "cleaning #15000 out of 29961 documents\n",
      "cleaning #20000 out of 29961 documents\n"
     ]
    },
    {
     "name": "stderr",
     "output_type": "stream",
     "text": [
      "/Users/Naekid/anaconda3/envs/dsi/lib/python2.7/site-packages/bs4/__init__.py:219: UserWarning: \".\" looks like a filename, not markup. You shouldprobably open this file and pass the filehandle intoBeautiful Soup.\n",
      "  'Beautiful Soup.' % markup)\n"
     ]
    },
    {
     "name": "stdout",
     "output_type": "stream",
     "text": [
      "cleaning #25000 out of 29961 documents\n"
     ]
    }
   ],
   "source": [
    "clean_titles = []\n",
    "for i,title in enumerate(titles.values):\n",
    "    if (i+1)%5000==0:\n",
    "        print 'cleaning #{} out of {} documents'.format(i+1,len(condition_combined))\n",
    "    clean_titles.append(clean_text(title))\n",
    "\n",
    "clean_conditions = []\n",
    "for i,cond in enumerate(condition_combined):\n",
    "    if (i+1)%5000==0:\n",
    "        print 'cleaning #{} out of {} documents'.format(i+1,len(condition_combined))\n",
    "    clean_conditions.append(clean_text(cond))"
   ]
  },
  {
   "cell_type": "code",
   "execution_count": 76,
   "metadata": {
    "collapsed": true
   },
   "outputs": [],
   "source": [
    "vectorizer = TfidfVectorizer(ngram_range = (1,2),\n",
    "                             min_df=5,\n",
    "                             analyzer='word',\n",
    "                             stop_words=None,\n",
    "                             max_features=10000,\n",
    "                            )\n",
    "\n",
    "titles_matrix = vectorizer.fit_transform(clean_titles)\n",
    "\n",
    "import operator\n",
    "# print sorted(vectorizer.vocabulary_.items(), key=operator.itemgetter(1), reverse=True)[:5]\n",
    "\n",
    "titles_df = pd.DataFrame(titles_matrix.todense(), columns=vectorizer.vocabulary_.keys())"
   ]
  },
  {
   "cell_type": "code",
   "execution_count": 77,
   "metadata": {
    "collapsed": true
   },
   "outputs": [],
   "source": [
    "vectorizer = CountVectorizer(ngram_range = (1,2),\n",
    "                             min_df=30,\n",
    "                             analyzer='word',\n",
    "                             stop_words=None,\n",
    "                             max_features=5000,\n",
    "                            )\n",
    "\n",
    "conditions_matrix = vectorizer.fit_transform(clean_conditions)\n",
    "\n",
    "import operator\n",
    "# print 'most common condition grams:',sorted(vectorizer.vocabulary_.items(), key=operator.itemgetter(1), reverse=True)[:5]\n",
    "# print 'least common condition grams:',sorted(vectorizer.vocabulary_.items(), key=operator.itemgetter(1), reverse=False)[:5]\n",
    "\n",
    "conditions_df = pd.DataFrame(conditions_matrix.todense(), columns=vectorizer.vocabulary_.keys())"
   ]
  },
  {
   "cell_type": "code",
   "execution_count": 78,
   "metadata": {
    "collapsed": true
   },
   "outputs": [],
   "source": [
    "del clean_titles\n",
    "del clean_conditions\n",
    "del conditions_matrix\n",
    "del titles_matrix"
   ]
  },
  {
   "cell_type": "markdown",
   "metadata": {},
   "source": [
    "Create processed dataframe"
   ]
  },
  {
   "cell_type": "code",
   "execution_count": 87,
   "metadata": {
    "collapsed": true
   },
   "outputs": [],
   "source": [
    "data_frames_to_keep = [titles_df,\\\n",
    "                       conditions_df,\\\n",
    "                       auction_condition_dummies,\\\n",
    "                       feedback_percent_series,\\\n",
    "                       top_rated_seller_series,\\\n",
    "                       expedited_shipping_series,\\\n",
    "                       shipping_cost_series,\\\n",
    "                       handling_time_series,\\\n",
    "                       one_day_shipping_series,\\\n",
    "                       returns_accepted_series,\\\n",
    "                       start_price_series,\\\n",
    "                       hour,\\\n",
    "                       sold]\n",
    "\n",
    "df_classification = pd.concat(data_frames_to_keep, axis=1)"
   ]
  },
  {
   "cell_type": "code",
   "execution_count": 88,
   "metadata": {
    "collapsed": false
   },
   "outputs": [
    {
     "name": "stdout",
     "output_type": "stream",
     "text": [
      "Null Rows %: 0\n"
     ]
    }
   ],
   "source": [
    "# Impute missing values\n",
    "from sklearn.preprocessing import Imputer\n",
    "imputer = Imputer(strategy='most_frequent', axis=0)\n",
    "df_classification['shipping_cost'] = imputer.fit_transform(df_classification['shipping_cost'].values.reshape(-1,1))\n",
    "\n",
    "df_classification['handling_time'] = imputer.fit_transform(df_classification['handling_time'].values.reshape(-1,1))\n",
    "\n",
    "print 'Null Rows %:',np.sum(df_classification.isnull().sum())/df_classification.shape[0]\n",
    "\n",
    "for dataframe in data_frames_to_keep:\n",
    "    del dataframe"
   ]
  },
  {
   "cell_type": "code",
   "execution_count": 89,
   "metadata": {
    "collapsed": false
   },
   "outputs": [
    {
     "data": {
      "text/html": [
       "<div>\n",
       "<table border=\"1\" class=\"dataframe\">\n",
       "  <thead>\n",
       "    <tr style=\"text-align: right;\">\n",
       "      <th></th>\n",
       "      <th>z990 12</th>\n",
       "      <th>excellent cond</th>\n",
       "      <th>lumix digital</th>\n",
       "      <th>grip charger</th>\n",
       "      <th>medium format</th>\n",
       "      <th>270</th>\n",
       "      <th>275</th>\n",
       "      <th>kodak</th>\n",
       "      <th>af nikon</th>\n",
       "      <th>body read</th>\n",
       "      <th>cmos smart</th>\n",
       "      <th>package deal</th>\n",
       "      <th>card case</th>\n",
       "      <th>lens free</th>\n",
       "      <th>batteries strap</th>\n",
       "      <th>e6</th>\n",
       "      <th>slt a33</th>\n",
       "      <th>slt a35</th>\n",
       "      <th>zoom lense</th>\n",
       "      <th>fe fe</th>\n",
       "      <th>elph 170</th>\n",
       "      <th>fujifilm pro1</th>\n",
       "      <th>tz25</th>\n",
       "      <th>body working</th>\n",
       "      <th>12 megapixel</th>\n",
       "      <th>titanium</th>\n",
       "      <th>zoom mega</th>\n",
       "      <th>fuji fine</th>\n",
       "      <th>dsc f707</th>\n",
       "      <th>travel</th>\n",
       "      <th>...</th>\n",
       "      <th>photos hassle</th>\n",
       "      <th>scratches dents</th>\n",
       "      <th>cleaned</th>\n",
       "      <th>condition low</th>\n",
       "      <th>please read</th>\n",
       "      <th>shutter actuations</th>\n",
       "      <th>store returns</th>\n",
       "      <th>dent</th>\n",
       "      <th>operational</th>\n",
       "      <th>know</th>\n",
       "      <th>repair</th>\n",
       "      <th>warranty</th>\n",
       "      <th>ex</th>\n",
       "      <th>little use</th>\n",
       "      <th>For parts or not working</th>\n",
       "      <th>Manufacturer refurbished</th>\n",
       "      <th>New</th>\n",
       "      <th>New other (see details)</th>\n",
       "      <th>Seller refurbished</th>\n",
       "      <th>Used</th>\n",
       "      <th>feedback_percent</th>\n",
       "      <th>top_rated_seller</th>\n",
       "      <th>expedited_shipping</th>\n",
       "      <th>shipping_cost</th>\n",
       "      <th>handling_time</th>\n",
       "      <th>one_day_shipping</th>\n",
       "      <th>returns_accepted</th>\n",
       "      <th>startPrice</th>\n",
       "      <th>listingInfo.startTime.hour</th>\n",
       "      <th>sold_state</th>\n",
       "    </tr>\n",
       "  </thead>\n",
       "  <tbody>\n",
       "    <tr>\n",
       "      <th>0</th>\n",
       "      <td>0.0</td>\n",
       "      <td>0.0</td>\n",
       "      <td>0.0</td>\n",
       "      <td>0.0</td>\n",
       "      <td>0.0</td>\n",
       "      <td>0.0</td>\n",
       "      <td>0.0</td>\n",
       "      <td>0.0</td>\n",
       "      <td>0.0</td>\n",
       "      <td>0.0</td>\n",
       "      <td>0.0</td>\n",
       "      <td>0.0</td>\n",
       "      <td>0.0</td>\n",
       "      <td>0.0</td>\n",
       "      <td>0.0</td>\n",
       "      <td>0.0</td>\n",
       "      <td>0.0</td>\n",
       "      <td>0.0</td>\n",
       "      <td>0.0</td>\n",
       "      <td>0.0</td>\n",
       "      <td>0.0</td>\n",
       "      <td>0.0</td>\n",
       "      <td>0.0</td>\n",
       "      <td>0.0</td>\n",
       "      <td>0.0</td>\n",
       "      <td>0.0</td>\n",
       "      <td>0.0</td>\n",
       "      <td>0.0</td>\n",
       "      <td>0.0</td>\n",
       "      <td>0.0</td>\n",
       "      <td>...</td>\n",
       "      <td>0</td>\n",
       "      <td>0</td>\n",
       "      <td>0</td>\n",
       "      <td>0</td>\n",
       "      <td>0</td>\n",
       "      <td>0</td>\n",
       "      <td>0</td>\n",
       "      <td>0</td>\n",
       "      <td>0</td>\n",
       "      <td>0</td>\n",
       "      <td>0</td>\n",
       "      <td>0</td>\n",
       "      <td>0</td>\n",
       "      <td>0</td>\n",
       "      <td>0</td>\n",
       "      <td>0</td>\n",
       "      <td>1</td>\n",
       "      <td>0</td>\n",
       "      <td>0</td>\n",
       "      <td>0</td>\n",
       "      <td>91.7</td>\n",
       "      <td>0</td>\n",
       "      <td>1</td>\n",
       "      <td>0.0</td>\n",
       "      <td>2.0</td>\n",
       "      <td>0</td>\n",
       "      <td>1</td>\n",
       "      <td>399.0</td>\n",
       "      <td>18</td>\n",
       "      <td>0</td>\n",
       "    </tr>\n",
       "    <tr>\n",
       "      <th>1</th>\n",
       "      <td>0.0</td>\n",
       "      <td>0.0</td>\n",
       "      <td>0.0</td>\n",
       "      <td>0.0</td>\n",
       "      <td>0.0</td>\n",
       "      <td>0.0</td>\n",
       "      <td>0.0</td>\n",
       "      <td>0.0</td>\n",
       "      <td>0.0</td>\n",
       "      <td>0.0</td>\n",
       "      <td>0.0</td>\n",
       "      <td>0.0</td>\n",
       "      <td>0.0</td>\n",
       "      <td>0.0</td>\n",
       "      <td>0.0</td>\n",
       "      <td>0.0</td>\n",
       "      <td>0.0</td>\n",
       "      <td>0.0</td>\n",
       "      <td>0.0</td>\n",
       "      <td>0.0</td>\n",
       "      <td>0.0</td>\n",
       "      <td>0.0</td>\n",
       "      <td>0.0</td>\n",
       "      <td>0.0</td>\n",
       "      <td>0.0</td>\n",
       "      <td>0.0</td>\n",
       "      <td>0.0</td>\n",
       "      <td>0.0</td>\n",
       "      <td>0.0</td>\n",
       "      <td>0.0</td>\n",
       "      <td>...</td>\n",
       "      <td>0</td>\n",
       "      <td>0</td>\n",
       "      <td>0</td>\n",
       "      <td>0</td>\n",
       "      <td>0</td>\n",
       "      <td>0</td>\n",
       "      <td>0</td>\n",
       "      <td>0</td>\n",
       "      <td>0</td>\n",
       "      <td>0</td>\n",
       "      <td>0</td>\n",
       "      <td>0</td>\n",
       "      <td>0</td>\n",
       "      <td>0</td>\n",
       "      <td>0</td>\n",
       "      <td>0</td>\n",
       "      <td>1</td>\n",
       "      <td>0</td>\n",
       "      <td>0</td>\n",
       "      <td>0</td>\n",
       "      <td>100.0</td>\n",
       "      <td>0</td>\n",
       "      <td>1</td>\n",
       "      <td>0.0</td>\n",
       "      <td>3.0</td>\n",
       "      <td>0</td>\n",
       "      <td>0</td>\n",
       "      <td>300.0</td>\n",
       "      <td>23</td>\n",
       "      <td>1</td>\n",
       "    </tr>\n",
       "  </tbody>\n",
       "</table>\n",
       "<p>2 rows × 7739 columns</p>\n",
       "</div>"
      ],
      "text/plain": [
       "   z990 12  excellent cond  lumix digital  grip charger  medium format  270  \\\n",
       "0      0.0             0.0            0.0           0.0            0.0  0.0   \n",
       "1      0.0             0.0            0.0           0.0            0.0  0.0   \n",
       "\n",
       "   275  kodak  af nikon  body read  cmos smart  package deal  card case  \\\n",
       "0  0.0    0.0       0.0        0.0         0.0           0.0        0.0   \n",
       "1  0.0    0.0       0.0        0.0         0.0           0.0        0.0   \n",
       "\n",
       "   lens free  batteries strap   e6  slt a33  slt a35  zoom lense  fe fe  \\\n",
       "0        0.0              0.0  0.0      0.0      0.0         0.0    0.0   \n",
       "1        0.0              0.0  0.0      0.0      0.0         0.0    0.0   \n",
       "\n",
       "   elph 170  fujifilm pro1  tz25  body working  12 megapixel  titanium  \\\n",
       "0       0.0            0.0   0.0           0.0           0.0       0.0   \n",
       "1       0.0            0.0   0.0           0.0           0.0       0.0   \n",
       "\n",
       "   zoom mega  fuji fine  dsc f707  travel     ...      photos hassle  \\\n",
       "0        0.0        0.0       0.0     0.0     ...                  0   \n",
       "1        0.0        0.0       0.0     0.0     ...                  0   \n",
       "\n",
       "   scratches dents  cleaned  condition low  please read  shutter actuations  \\\n",
       "0                0        0              0            0                   0   \n",
       "1                0        0              0            0                   0   \n",
       "\n",
       "   store returns  dent  operational  know  repair  warranty  ex  little use  \\\n",
       "0              0     0            0     0       0         0   0           0   \n",
       "1              0     0            0     0       0         0   0           0   \n",
       "\n",
       "   For parts or not working  Manufacturer refurbished  New  \\\n",
       "0                         0                         0    1   \n",
       "1                         0                         0    1   \n",
       "\n",
       "   New other (see details)  Seller refurbished  Used  feedback_percent  \\\n",
       "0                        0                   0     0              91.7   \n",
       "1                        0                   0     0             100.0   \n",
       "\n",
       "   top_rated_seller  expedited_shipping  shipping_cost  handling_time  \\\n",
       "0                 0                   1            0.0            2.0   \n",
       "1                 0                   1            0.0            3.0   \n",
       "\n",
       "   one_day_shipping  returns_accepted  startPrice  listingInfo.startTime.hour  \\\n",
       "0                 0                 1       399.0                          18   \n",
       "1                 0                 0       300.0                          23   \n",
       "\n",
       "   sold_state  \n",
       "0           0  \n",
       "1           1  \n",
       "\n",
       "[2 rows x 7739 columns]"
      ]
     },
     "execution_count": 89,
     "metadata": {},
     "output_type": "execute_result"
    }
   ],
   "source": [
    "df_classification.head(2)"
   ]
  },
  {
   "cell_type": "markdown",
   "metadata": {},
   "source": [
    "### Train Test Split"
   ]
  },
  {
   "cell_type": "code",
   "execution_count": 82,
   "metadata": {
    "collapsed": true
   },
   "outputs": [],
   "source": [
    "X_class = df_classification.ix[:, :-1].values\n",
    "y_class = df_classification.ix[:, -1].values\n",
    "X_train_class, X_test_class, y_train_class, y_test_class = train_test_split(X_class, y_class, random_state=42, test_size=0.2)"
   ]
  },
  {
   "cell_type": "code",
   "execution_count": 83,
   "metadata": {
    "collapsed": true
   },
   "outputs": [],
   "source": [
    "del df_classification"
   ]
  },
  {
   "cell_type": "markdown",
   "metadata": {},
   "source": [
    "### Modeling \n"
   ]
  },
  {
   "cell_type": "markdown",
   "metadata": {},
   "source": [
    "Baseline"
   ]
  },
  {
   "cell_type": "code",
   "execution_count": null,
   "metadata": {
    "collapsed": true
   },
   "outputs": [],
   "source": []
  },
  {
   "cell_type": "markdown",
   "metadata": {},
   "source": [
    "With hour of day feature "
   ]
  },
  {
   "cell_type": "code",
   "execution_count": 84,
   "metadata": {
    "collapsed": false
   },
   "outputs": [
    {
     "data": {
      "text/plain": [
       "RandomForestClassifier(bootstrap=True, class_weight=None, criterion='gini',\n",
       "            max_depth=None, max_features='auto', max_leaf_nodes=None,\n",
       "            min_impurity_split=1e-07, min_samples_leaf=1,\n",
       "            min_samples_split=2, min_weight_fraction_leaf=0.0,\n",
       "            n_estimators=100, n_jobs=-1, oob_score=False,\n",
       "            random_state=None, verbose=0, warm_start=False)"
      ]
     },
     "execution_count": 84,
     "metadata": {},
     "output_type": "execute_result"
    }
   ],
   "source": [
    "rfc = RandomForestClassifier(n_estimators=100, n_jobs=-1)\n",
    "\n",
    "rfc.fit(X_train_class, y_train_class)"
   ]
  },
  {
   "cell_type": "code",
   "execution_count": 85,
   "metadata": {
    "collapsed": false
   },
   "outputs": [
    {
     "name": "stdout",
     "output_type": "stream",
     "text": [
      "Baseline Accuracy: 0.857667278492\n",
      "Model accuracy: 0.90772567996\n"
     ]
    }
   ],
   "source": [
    "print 'Baseline Accuracy:',accuracy_score(y_test_class, np.ones(y_test_class.shape[0]))\n",
    "print 'Model accuracy:',accuracy_score(y_test_class, rfc.predict(X_test_class))"
   ]
  },
  {
   "cell_type": "code",
   "execution_count": 90,
   "metadata": {
    "collapsed": false
   },
   "outputs": [
    {
     "name": "stdout",
     "output_type": "stream",
     "text": [
      "top 5 features:\n"
     ]
    },
    {
     "data": {
      "text/plain": [
       "[('startPrice', 0.063738503386308376),\n",
       " ('listingInfo.startTime.hour', 0.041149680519517423),\n",
       " ('shipping_cost', 0.02036953189404922),\n",
       " (u'255', 0.014619487225890893),\n",
       " ('handling_time', 0.011516121251740013)]"
      ]
     },
     "execution_count": 90,
     "metadata": {},
     "output_type": "execute_result"
    }
   ],
   "source": [
    "print 'top 5 features:'\n",
    "feature_importances = sorted(zip(auctions.columns.tolist()[:-1], rfc.feature_importances_), key=lambda x: x[1], reverse=True)\n",
    "sorted(zip(df_classification.columns.tolist()[:-1], rfc.feature_importances_), key=lambda x: x[1], reverse=True)[:5]"
   ]
  },
  {
   "cell_type": "code",
   "execution_count": null,
   "metadata": {
    "collapsed": true
   },
   "outputs": [],
   "source": []
  },
  {
   "cell_type": "code",
   "execution_count": null,
   "metadata": {
    "collapsed": true
   },
   "outputs": [],
   "source": []
  },
  {
   "cell_type": "code",
   "execution_count": null,
   "metadata": {
    "collapsed": true
   },
   "outputs": [],
   "source": []
  },
  {
   "cell_type": "code",
   "execution_count": null,
   "metadata": {
    "collapsed": true
   },
   "outputs": [],
   "source": []
  },
  {
   "cell_type": "code",
   "execution_count": null,
   "metadata": {
    "collapsed": true
   },
   "outputs": [],
   "source": []
  },
  {
   "cell_type": "code",
   "execution_count": null,
   "metadata": {
    "collapsed": true
   },
   "outputs": [],
   "source": []
  },
  {
   "cell_type": "code",
   "execution_count": 92,
   "metadata": {
    "collapsed": true
   },
   "outputs": [],
   "source": [
    "df_regression = pd.read_pickle('./pickles/df_regression_tfidf.p')"
   ]
  },
  {
   "cell_type": "code",
   "execution_count": 93,
   "metadata": {
    "collapsed": false
   },
   "outputs": [
    {
     "data": {
      "text/plain": [
       "<matplotlib.axes._subplots.AxesSubplot at 0x11f133f50>"
      ]
     },
     "execution_count": 93,
     "metadata": {},
     "output_type": "execute_result"
    },
    {
     "data": {
      "image/png": "[encoded data removed]",
      "text/plain": [
       "<matplotlib.figure.Figure at 0x11eab3450>"
      ]
     },
     "metadata": {},
     "output_type": "display_data"
    }
   ],
   "source": [
    "sns.distplot(df_regression['endPrice'])"
   ]
  }
 ],
 "metadata": {
  "kernelspec": {
   "display_name": "Python 2",
   "language": "python",
   "name": "python2"
  },
  "language_info": {
   "codemirror_mode": {
    "name": "ipython",
    "version": 2
   },
   "file_extension": ".py",
   "mimetype": "text/x-python",
   "name": "python",
   "nbconvert_exporter": "python",
   "pygments_lexer": "ipython2",
   "version": "2.7.13"
  }
 },
 "nbformat": 4,
 "nbformat_minor": 2
}
