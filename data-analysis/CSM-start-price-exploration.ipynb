{
 "cells": [
  {
   "cell_type": "code",
   "execution_count": 1,
   "metadata": {
    "collapsed": true,
    "deletable": true,
    "editable": true
   },
   "outputs": [],
   "source": [
    "from __future__ import division\n",
    "import psycopg2\n",
    "import pandas as pd\n",
    "import matplotlib.pyplot as plt\n",
    "%matplotlib inline\n",
    "import seaborn as sns\n",
    "import datetime\n",
    "import numpy as np\n",
    "\n",
    "from sklearn.feature_extraction.text import CountVectorizer, TfidfVectorizer\n",
    "from sklearn.metrics import confusion_matrix, roc_curve, auc, mean_absolute_error\n",
    "from sklearn.model_selection import train_test_split, cross_val_score, GridSearchCV, KFold, StratifiedKFold\n",
    "from sklearn.model_selection import ShuffleSplit, learning_curve\n",
    "from sklearn.ensemble import RandomForestClassifier\n",
    "from sklearn.metrics.pairwise import cosine_similarity\n",
    "from sklearn.neighbors import KNeighborsRegressor\n",
    "\n",
    "import sys\n",
    "sys.path.insert(0, '/Users/Naekid/Desktop/capstone-DSI-5/ebay-price-predictor/data-analysis/utilities/')\n",
    "from plot_learning_curve import plot_learning_curve\n",
    "from clean_text import clean_text\n",
    "\n",
    "pd.set_option('display.max_columns', 60)"
   ]
  },
  {
   "cell_type": "markdown",
   "metadata": {
    "deletable": true,
    "editable": true
   },
   "source": [
    "Import data"
   ]
  },
  {
   "cell_type": "code",
   "execution_count": 2,
   "metadata": {
    "collapsed": true,
    "deletable": true,
    "editable": true
   },
   "outputs": [],
   "source": [
    "auctions = pd.read_pickle('./pickles/auctions.p')\n",
    "concurrent_similar_median_start_price_series = pd.read_pickle('./feature-engineering-concurrent-similar-median-start-price/pickles/auctions_median_start_price_series.p')\n",
    "concurrent_similar_median_start_price_series.name = 'concurrent_similar_median_start_price'"
   ]
  },
  {
   "cell_type": "code",
   "execution_count": 3,
   "metadata": {
    "collapsed": false,
    "deletable": true,
    "editable": true
   },
   "outputs": [
    {
     "name": "stdout",
     "output_type": "stream",
     "text": [
      "Total Values: 29961\n",
      "Non NaN Values: 22376\n",
      "NaN Values: 7585\n"
     ]
    }
   ],
   "source": [
    "# Count NaN values\n",
    "print 'Total Values:',concurrent_similar_median_start_price_series.shape[0]\n",
    "print 'Non NaN Values:',concurrent_similar_median_start_price_series.count()\n",
    "print 'NaN Values:',concurrent_similar_median_start_price_series.shape[0] - concurrent_similar_median_start_price_series.count()"
   ]
  },
  {
   "cell_type": "markdown",
   "metadata": {
    "deletable": true,
    "editable": true
   },
   "source": [
    "Impute missing values"
   ]
  },
  {
   "cell_type": "code",
   "execution_count": 4,
   "metadata": {
    "collapsed": true,
    "deletable": true,
    "editable": true
   },
   "outputs": [],
   "source": [
    "# Replace missing concurrent median start prices with the median overall start price\n",
    "concurrent_similar_median_start_price_series[concurrent_similar_median_start_price_series.isnull()] = np.median(auctions['startPrice'])"
   ]
  },
  {
   "cell_type": "markdown",
   "metadata": {
    "deletable": true,
    "editable": true
   },
   "source": [
    "Extract Features"
   ]
  },
  {
   "cell_type": "code",
   "execution_count": 7,
   "metadata": {
    "collapsed": false,
    "deletable": true,
    "editable": true
   },
   "outputs": [],
   "source": [
    "# Use startPrice, title (vectorized), conditionDisplayName (one-hot-encoded)\n",
    "auction_condition_dummies = pd.get_dummies(data=auctions['condition.conditionDisplayName'])\n",
    "\n",
    "start_price_series = auctions['startPrice']\n",
    "\n",
    "titles = auctions['title']\n",
    "\n",
    "sold = auctions['sold_state']\n",
    "\n",
    "condition_combined = auctions['conditionCombined']\n",
    "\n",
    "end_price = auctions['endPrice']\n",
    "\n",
    "start_time_series = auctions['listingInfo.startTime']\n",
    "\n",
    "end_time_series = auctions['listingInfo.endTime']"
   ]
  },
  {
   "cell_type": "markdown",
   "metadata": {
    "deletable": true,
    "editable": true
   },
   "source": [
    "Clean text"
   ]
  },
  {
   "cell_type": "code",
   "execution_count": 54,
   "metadata": {
    "collapsed": false,
    "deletable": true,
    "editable": true
   },
   "outputs": [
    {
     "name": "stdout",
     "output_type": "stream",
     "text": [
      "cleaning #5000 out of 29961 documents\n",
      "cleaning #10000 out of 29961 documents\n",
      "cleaning #15000 out of 29961 documents\n",
      "cleaning #20000 out of 29961 documents\n",
      "cleaning #25000 out of 29961 documents\n"
     ]
    }
   ],
   "source": [
    "clean_titles = []\n",
    "for i,title in enumerate(titles.values):\n",
    "    if (i+1)%5000==0:\n",
    "        print 'cleaning #{} out of {} documents'.format(i+1,len(condition_combined))\n",
    "    clean_titles.append(clean_text(title))"
   ]
  },
  {
   "cell_type": "code",
   "execution_count": 55,
   "metadata": {
    "collapsed": false,
    "deletable": true,
    "editable": true
   },
   "outputs": [
    {
     "name": "stdout",
     "output_type": "stream",
     "text": [
      "cleaning #5000 out of 29961 documents\n",
      "cleaning #10000 out of 29961 documents\n",
      "cleaning #15000 out of 29961 documents\n",
      "cleaning #20000 out of 29961 documents\n",
      "cleaning #25000 out of 29961 documents\n"
     ]
    }
   ],
   "source": [
    "clean_conditions = []\n",
    "for i,cond in enumerate(condition_combined):\n",
    "    if (i+1)%5000==0:\n",
    "        print 'cleaning #{} out of {} documents'.format(i+1,len(condition_combined))\n",
    "    clean_conditions.append(clean_text(cond))"
   ]
  },
  {
   "cell_type": "code",
   "execution_count": 56,
   "metadata": {
    "collapsed": false,
    "deletable": true,
    "editable": true
   },
   "outputs": [],
   "source": [
    "vectorizer = CountVectorizer(ngram_range = (1,2),\n",
    "                             min_df=5,\n",
    "                             analyzer='word',\n",
    "                             stop_words=None,\n",
    "                             max_features=10000,\n",
    "                            )\n",
    "\n",
    "titles_matrix = vectorizer.fit_transform(clean_titles)\n",
    "\n",
    "import operator\n",
    "# print sorted(vectorizer.vocabulary_.items(), key=operator.itemgetter(1), reverse=True)[:5]\n",
    "\n",
    "titles_df = pd.DataFrame(titles_matrix.todense(), columns=vectorizer.vocabulary_.keys())"
   ]
  },
  {
   "cell_type": "code",
   "execution_count": 57,
   "metadata": {
    "collapsed": false,
    "deletable": true,
    "editable": true
   },
   "outputs": [],
   "source": [
    "vectorizer = CountVectorizer(ngram_range = (1,2),\n",
    "                             min_df=30,\n",
    "                             analyzer='word',\n",
    "                             stop_words=None,\n",
    "                             max_features=5000,\n",
    "                            )\n",
    "\n",
    "conditions_matrix = vectorizer.fit_transform(clean_conditions)\n",
    "\n",
    "import operator\n",
    "# print 'most common condition grams:',sorted(vectorizer.vocabulary_.items(), key=operator.itemgetter(1), reverse=True)[:5]\n",
    "# print 'least common condition grams:',sorted(vectorizer.vocabulary_.items(), key=operator.itemgetter(1), reverse=False)[:5]\n",
    "\n",
    "conditions_df = pd.DataFrame(conditions_matrix.todense(), columns=vectorizer.vocabulary_.keys())"
   ]
  },
  {
   "cell_type": "code",
   "execution_count": 58,
   "metadata": {
    "collapsed": true,
    "deletable": true,
    "editable": true
   },
   "outputs": [],
   "source": [
    "del clean_titles\n",
    "del clean_conditions\n",
    "del conditions_matrix\n",
    "del titles_matrix"
   ]
  },
  {
   "cell_type": "markdown",
   "metadata": {
    "deletable": true,
    "editable": true
   },
   "source": [
    "## Create Processed DataFrame"
   ]
  },
  {
   "cell_type": "markdown",
   "metadata": {
    "deletable": true,
    "editable": true
   },
   "source": [
    "**Create processed feature dataframe**"
   ]
  },
  {
   "cell_type": "code",
   "execution_count": 20,
   "metadata": {
    "collapsed": false,
    "deletable": true,
    "editable": true
   },
   "outputs": [],
   "source": [
    "data_frames_to_keep = [\\\n",
    "#                         titles_df,\\\n",
    "#                        conditions_df,\\\n",
    "#                        auction_condition_dummies,\\\n",
    "                       concurrent_similar_median_start_price_series,\\\n",
    "                       start_price_series,\\\n",
    "                       end_price,\\\n",
    "                       sold]\n",
    "\n",
    "\n",
    "df_classification = pd.concat(data_frames_to_keep, axis=1)"
   ]
  },
  {
   "cell_type": "code",
   "execution_count": 60,
   "metadata": {
    "collapsed": true,
    "deletable": true,
    "editable": true
   },
   "outputs": [],
   "source": [
    "for dataframe in data_frames_to_keep:\n",
    "    del dataframe"
   ]
  },
  {
   "cell_type": "markdown",
   "metadata": {
    "deletable": true,
    "editable": true
   },
   "source": [
    "** Train Test Split **"
   ]
  },
  {
   "cell_type": "code",
   "execution_count": 84,
   "metadata": {
    "collapsed": false,
    "deletable": true,
    "editable": true
   },
   "outputs": [
    {
     "data": {
      "text/html": [
       "<div>\n",
       "<table border=\"1\" class=\"dataframe\">\n",
       "  <thead>\n",
       "    <tr style=\"text-align: right;\">\n",
       "      <th></th>\n",
       "      <th>z990 12</th>\n",
       "      <th>excellent cond</th>\n",
       "      <th>lumix digital</th>\n",
       "      <th>grip charger</th>\n",
       "      <th>medium format</th>\n",
       "      <th>270</th>\n",
       "      <th>275</th>\n",
       "      <th>kodak</th>\n",
       "      <th>af nikon</th>\n",
       "      <th>body read</th>\n",
       "      <th>cmos smart</th>\n",
       "      <th>package deal</th>\n",
       "      <th>card case</th>\n",
       "      <th>lens free</th>\n",
       "      <th>batteries strap</th>\n",
       "      <th>e6</th>\n",
       "      <th>slt a33</th>\n",
       "      <th>slt a35</th>\n",
       "      <th>zoom lense</th>\n",
       "      <th>fe fe</th>\n",
       "      <th>elph 170</th>\n",
       "      <th>fujifilm pro1</th>\n",
       "      <th>tz25</th>\n",
       "      <th>body working</th>\n",
       "      <th>12 megapixel</th>\n",
       "      <th>titanium</th>\n",
       "      <th>zoom mega</th>\n",
       "      <th>fuji fine</th>\n",
       "      <th>dsc f707</th>\n",
       "      <th>travel</th>\n",
       "      <th>...</th>\n",
       "      <th>come</th>\n",
       "      <th>working camera</th>\n",
       "      <th>rubber</th>\n",
       "      <th>condition shutter</th>\n",
       "      <th>sony</th>\n",
       "      <th>functioning</th>\n",
       "      <th>bundle</th>\n",
       "      <th>photos hassle</th>\n",
       "      <th>scratches dents</th>\n",
       "      <th>cleaned</th>\n",
       "      <th>condition low</th>\n",
       "      <th>please read</th>\n",
       "      <th>shutter actuations</th>\n",
       "      <th>store returns</th>\n",
       "      <th>dent</th>\n",
       "      <th>operational</th>\n",
       "      <th>know</th>\n",
       "      <th>repair</th>\n",
       "      <th>warranty</th>\n",
       "      <th>ex</th>\n",
       "      <th>little use</th>\n",
       "      <th>For parts or not working</th>\n",
       "      <th>Manufacturer refurbished</th>\n",
       "      <th>New</th>\n",
       "      <th>New other (see details)</th>\n",
       "      <th>Seller refurbished</th>\n",
       "      <th>Used</th>\n",
       "      <th>concurrent_similar_median_start_price</th>\n",
       "      <th>startPrice</th>\n",
       "      <th>sold_state</th>\n",
       "    </tr>\n",
       "  </thead>\n",
       "  <tbody>\n",
       "    <tr>\n",
       "      <th>0</th>\n",
       "      <td>0</td>\n",
       "      <td>0</td>\n",
       "      <td>0</td>\n",
       "      <td>0</td>\n",
       "      <td>0</td>\n",
       "      <td>0</td>\n",
       "      <td>0</td>\n",
       "      <td>0</td>\n",
       "      <td>0</td>\n",
       "      <td>0</td>\n",
       "      <td>0</td>\n",
       "      <td>0</td>\n",
       "      <td>0</td>\n",
       "      <td>0</td>\n",
       "      <td>0</td>\n",
       "      <td>0</td>\n",
       "      <td>0</td>\n",
       "      <td>0</td>\n",
       "      <td>0</td>\n",
       "      <td>0</td>\n",
       "      <td>0</td>\n",
       "      <td>0</td>\n",
       "      <td>0</td>\n",
       "      <td>0</td>\n",
       "      <td>0</td>\n",
       "      <td>0</td>\n",
       "      <td>0</td>\n",
       "      <td>0</td>\n",
       "      <td>0</td>\n",
       "      <td>0</td>\n",
       "      <td>...</td>\n",
       "      <td>0</td>\n",
       "      <td>0</td>\n",
       "      <td>0</td>\n",
       "      <td>0</td>\n",
       "      <td>0</td>\n",
       "      <td>0</td>\n",
       "      <td>0</td>\n",
       "      <td>0</td>\n",
       "      <td>0</td>\n",
       "      <td>0</td>\n",
       "      <td>0</td>\n",
       "      <td>0</td>\n",
       "      <td>0</td>\n",
       "      <td>0</td>\n",
       "      <td>0</td>\n",
       "      <td>0</td>\n",
       "      <td>0</td>\n",
       "      <td>0</td>\n",
       "      <td>0</td>\n",
       "      <td>0</td>\n",
       "      <td>0</td>\n",
       "      <td>0</td>\n",
       "      <td>0</td>\n",
       "      <td>1</td>\n",
       "      <td>0</td>\n",
       "      <td>0</td>\n",
       "      <td>0</td>\n",
       "      <td>92.5</td>\n",
       "      <td>399.0</td>\n",
       "      <td>0</td>\n",
       "    </tr>\n",
       "    <tr>\n",
       "      <th>1</th>\n",
       "      <td>0</td>\n",
       "      <td>0</td>\n",
       "      <td>0</td>\n",
       "      <td>0</td>\n",
       "      <td>0</td>\n",
       "      <td>0</td>\n",
       "      <td>0</td>\n",
       "      <td>0</td>\n",
       "      <td>0</td>\n",
       "      <td>0</td>\n",
       "      <td>0</td>\n",
       "      <td>0</td>\n",
       "      <td>0</td>\n",
       "      <td>0</td>\n",
       "      <td>0</td>\n",
       "      <td>0</td>\n",
       "      <td>0</td>\n",
       "      <td>0</td>\n",
       "      <td>0</td>\n",
       "      <td>0</td>\n",
       "      <td>0</td>\n",
       "      <td>0</td>\n",
       "      <td>0</td>\n",
       "      <td>0</td>\n",
       "      <td>0</td>\n",
       "      <td>0</td>\n",
       "      <td>0</td>\n",
       "      <td>0</td>\n",
       "      <td>0</td>\n",
       "      <td>0</td>\n",
       "      <td>...</td>\n",
       "      <td>0</td>\n",
       "      <td>0</td>\n",
       "      <td>0</td>\n",
       "      <td>0</td>\n",
       "      <td>0</td>\n",
       "      <td>0</td>\n",
       "      <td>0</td>\n",
       "      <td>0</td>\n",
       "      <td>0</td>\n",
       "      <td>0</td>\n",
       "      <td>0</td>\n",
       "      <td>0</td>\n",
       "      <td>0</td>\n",
       "      <td>0</td>\n",
       "      <td>0</td>\n",
       "      <td>0</td>\n",
       "      <td>0</td>\n",
       "      <td>0</td>\n",
       "      <td>0</td>\n",
       "      <td>0</td>\n",
       "      <td>0</td>\n",
       "      <td>0</td>\n",
       "      <td>0</td>\n",
       "      <td>1</td>\n",
       "      <td>0</td>\n",
       "      <td>0</td>\n",
       "      <td>0</td>\n",
       "      <td>92.5</td>\n",
       "      <td>300.0</td>\n",
       "      <td>1</td>\n",
       "    </tr>\n",
       "  </tbody>\n",
       "</table>\n",
       "<p>2 rows × 7732 columns</p>\n",
       "</div>"
      ],
      "text/plain": [
       "   z990 12  excellent cond  lumix digital  grip charger  medium format  270  \\\n",
       "0        0               0              0             0              0    0   \n",
       "1        0               0              0             0              0    0   \n",
       "\n",
       "   275  kodak  af nikon  body read  cmos smart  package deal  card case  \\\n",
       "0    0      0         0          0           0             0          0   \n",
       "1    0      0         0          0           0             0          0   \n",
       "\n",
       "   lens free  batteries strap  e6  slt a33  slt a35  zoom lense  fe fe  \\\n",
       "0          0                0   0        0        0           0      0   \n",
       "1          0                0   0        0        0           0      0   \n",
       "\n",
       "   elph 170  fujifilm pro1  tz25  body working  12 megapixel  titanium  \\\n",
       "0         0              0     0             0             0         0   \n",
       "1         0              0     0             0             0         0   \n",
       "\n",
       "   zoom mega  fuji fine  dsc f707  travel     ...      come  working camera  \\\n",
       "0          0          0         0       0     ...         0               0   \n",
       "1          0          0         0       0     ...         0               0   \n",
       "\n",
       "   rubber  condition shutter  sony  functioning  bundle  photos hassle  \\\n",
       "0       0                  0     0            0       0              0   \n",
       "1       0                  0     0            0       0              0   \n",
       "\n",
       "   scratches dents  cleaned  condition low  please read  shutter actuations  \\\n",
       "0                0        0              0            0                   0   \n",
       "1                0        0              0            0                   0   \n",
       "\n",
       "   store returns  dent  operational  know  repair  warranty  ex  little use  \\\n",
       "0              0     0            0     0       0         0   0           0   \n",
       "1              0     0            0     0       0         0   0           0   \n",
       "\n",
       "   For parts or not working  Manufacturer refurbished  New  \\\n",
       "0                         0                         0    1   \n",
       "1                         0                         0    1   \n",
       "\n",
       "   New other (see details)  Seller refurbished  Used  \\\n",
       "0                        0                   0     0   \n",
       "1                        0                   0     0   \n",
       "\n",
       "   concurrent_similar_median_start_price  startPrice  sold_state  \n",
       "0                                   92.5       399.0           0  \n",
       "1                                   92.5       300.0           1  \n",
       "\n",
       "[2 rows x 7732 columns]"
      ]
     },
     "execution_count": 84,
     "metadata": {},
     "output_type": "execute_result"
    }
   ],
   "source": [
    "df_classification.head(2)"
   ]
  },
  {
   "cell_type": "code",
   "execution_count": 75,
   "metadata": {
    "collapsed": true,
    "deletable": true,
    "editable": true
   },
   "outputs": [],
   "source": [
    "X_class = df_classification.ix[:, :-1].values\n",
    "y_class = df_classification.ix[:, -1].values\n",
    "\n",
    "X_train_class, X_test_class, y_train_class, y_test_class = train_test_split(X_class, y_class, random_state=42, test_size=0.2)"
   ]
  },
  {
   "cell_type": "markdown",
   "metadata": {
    "deletable": true,
    "editable": true
   },
   "source": [
    "** Model **"
   ]
  },
  {
   "cell_type": "code",
   "execution_count": 76,
   "metadata": {
    "collapsed": false,
    "deletable": true,
    "editable": true
   },
   "outputs": [
    {
     "data": {
      "text/plain": [
       "RandomForestClassifier(bootstrap=True, class_weight=None, criterion='gini',\n",
       "            max_depth=None, max_features='auto', max_leaf_nodes=None,\n",
       "            min_impurity_split=1e-07, min_samples_leaf=1,\n",
       "            min_samples_split=2, min_weight_fraction_leaf=0.0,\n",
       "            n_estimators=100, n_jobs=-1, oob_score=False,\n",
       "            random_state=None, verbose=0, warm_start=False)"
      ]
     },
     "execution_count": 76,
     "metadata": {},
     "output_type": "execute_result"
    }
   ],
   "source": [
    "rfc = RandomForestClassifier(n_estimators=100, n_jobs=-1)\n",
    "\n",
    "rfc.fit(X_train_class, y_train_class)"
   ]
  },
  {
   "cell_type": "code",
   "execution_count": 63,
   "metadata": {
    "collapsed": false,
    "deletable": true,
    "editable": true
   },
   "outputs": [
    {
     "name": "stdout",
     "output_type": "stream",
     "text": [
      "top 5 features:\n"
     ]
    },
    {
     "data": {
      "text/plain": [
       "[('startPrice', 0.091041724275354508),\n",
       " ('concurrent_similar_median_start_price', 0.072779250151591424),\n",
       " (u'scratches body', 0.0065584151677305557),\n",
       " (u'50mm prime', 0.0048426325250845821),\n",
       " (u'255', 0.0041375394373774389)]"
      ]
     },
     "execution_count": 63,
     "metadata": {},
     "output_type": "execute_result"
    }
   ],
   "source": [
    "print 'top 5 features:'\n",
    "feature_importances = sorted(zip(df_classification.columns.tolist()[:-1], rfc.feature_importances_), key=lambda x: x[1], reverse=True)\n",
    "sorted(zip(df_classification.columns.tolist()[:-1], rfc.feature_importances_), key=lambda x: x[1], reverse=True)[:5]"
   ]
  },
  {
   "cell_type": "markdown",
   "metadata": {
    "deletable": true,
    "editable": true
   },
   "source": [
    "# Score Model"
   ]
  },
  {
   "cell_type": "markdown",
   "metadata": {
    "deletable": true,
    "editable": true
   },
   "source": [
    "Baseline "
   ]
  },
  {
   "cell_type": "code",
   "execution_count": 71,
   "metadata": {
    "collapsed": false,
    "deletable": true,
    "editable": true
   },
   "outputs": [
    {
     "name": "stdout",
     "output_type": "stream",
     "text": [
      "Baseline accuracy: 0.853763351135\n"
     ]
    }
   ],
   "source": [
    "from sklearn.metrics import accuracy_score\n",
    "# calculate baseline\n",
    "y_true = y_train_class\n",
    "y_pred = np.ones(y_true.shape[0])\n",
    "print 'Baseline accuracy:',accuracy_score(y_true, y_pred)"
   ]
  },
  {
   "cell_type": "markdown",
   "metadata": {
    "deletable": true,
    "editable": true
   },
   "source": [
    "Cross val score"
   ]
  },
  {
   "cell_type": "code",
   "execution_count": 69,
   "metadata": {
    "collapsed": false,
    "deletable": true,
    "editable": true
   },
   "outputs": [],
   "source": [
    "# scores = cross_val_score(estimator=RandomForestClassifier(n_estimators=100, n_jobs=-1), X=X_class, y=y_class, scoring='accuracy',cv=3, n_jobs=-1)\n",
    "# print np.mean(scores)"
   ]
  },
  {
   "cell_type": "code",
   "execution_count": 78,
   "metadata": {
    "collapsed": false,
    "deletable": true,
    "editable": true
   },
   "outputs": [
    {
     "name": "stdout",
     "output_type": "stream",
     "text": [
      "Test accuracy WITHOUT csm start price: 0.904054730519\n"
     ]
    }
   ],
   "source": [
    "print 'Test accuracy WITHOUT csm start price:',accuracy_score(y_test_class, rfc.predict(X_test_class))"
   ]
  },
  {
   "cell_type": "code",
   "execution_count": 79,
   "metadata": {
    "collapsed": false,
    "deletable": true,
    "editable": true
   },
   "outputs": [
    {
     "name": "stdout",
     "output_type": "stream",
     "text": [
      "Test accuracy WITH csm start price: 0.904054730519\n"
     ]
    }
   ],
   "source": [
    "print 'Test accuracy WITH csm start price:',accuracy_score(y_test_class, rfc.predict(X_test_class))"
   ]
  },
  {
   "cell_type": "markdown",
   "metadata": {
    "deletable": true,
    "editable": true
   },
   "source": [
    "### Explore why concurrent similar start price is not helping model."
   ]
  },
  {
   "cell_type": "markdown",
   "metadata": {
    "deletable": true,
    "editable": true
   },
   "source": [
    "Plotting csm start price vs end price"
   ]
  },
  {
   "cell_type": "markdown",
   "metadata": {
    "deletable": true,
    "editable": true
   },
   "source": [
    "Based on the numbers, the CSM start price variance is less than the overall auction start price."
   ]
  },
  {
   "cell_type": "code",
   "execution_count": 163,
   "metadata": {
    "collapsed": false,
    "deletable": true,
    "editable": true
   },
   "outputs": [
    {
     "data": {
      "text/plain": [
       "<seaborn.axisgrid.JointGrid at 0x16db9cd90>"
      ]
     },
     "execution_count": 163,
     "metadata": {},
     "output_type": "execute_result"
    },
    {
     "data": {
      "image/png": "[encoded data removed]",
      "text/plain": [
       "<matplotlib.figure.Figure at 0x16d86b690>"
      ]
     },
     "metadata": {},
     "output_type": "display_data"
    }
   ],
   "source": [
    "sns.jointplot(x=concurrent_similar_median_start_price_series, y=end_price, kind='reg', ci=5, color='b',joint_kws={'line_kws':{'color':'cyan'}})\n",
    "# g.title('CSM Start Price vs End Price')\n",
    "# g.xlabel('CSM Start Price')\n",
    "# plt.ylabel('End Price')"
   ]
  },
  {
   "cell_type": "code",
   "execution_count": 19,
   "metadata": {
    "collapsed": false
   },
   "outputs": [
    {
     "data": {
      "text/plain": [
       "(0, 400)"
      ]
     },
     "execution_count": 19,
     "metadata": {},
     "output_type": "execute_result"
    },
    {
     "data": {
      "image/png": "[encoded data removed]",
      "text/plain": [
       "<matplotlib.figure.Figure at 0x125256290>"
      ]
     },
     "metadata": {},
     "output_type": "display_data"
    }
   ],
   "source": [
    "sns.boxplot(x=df_classification['sold_state'], \n",
    "            y=df_classification['concurrent_similar_median_start_price'],\n",
    "           fliersize=0)d\n",
    "\n",
    "plt.ylim(0, 400)"
   ]
  },
  {
   "cell_type": "markdown",
   "metadata": {
    "deletable": true,
    "editable": true
   },
   "source": [
    "The results of our modeling and the plots above show that the start price of similar, concurrent listings don't affect the end price. \n",
    "<br><br>\n",
    "The question is why is this? Are people considering the start price of similar, concurrent listings when they post their items? More specifically, is the start price of similar, concurrent listings correlated with the start price for a paritcular listing?"
   ]
  },
  {
   "cell_type": "code",
   "execution_count": 111,
   "metadata": {
    "collapsed": false,
    "deletable": true,
    "editable": true
   },
   "outputs": [],
   "source": [
    "non_null_csm_start_price_subset = df_classification[df_classification['concurrent_similar_median_start_price']!=92.5]"
   ]
  },
  {
   "cell_type": "code",
   "execution_count": 165,
   "metadata": {
    "collapsed": false,
    "deletable": true,
    "editable": true
   },
   "outputs": [
    {
     "data": {
      "text/plain": [
       "<seaborn.axisgrid.JointGrid at 0x16daaf6d0>"
      ]
     },
     "execution_count": 165,
     "metadata": {},
     "output_type": "execute_result"
    },
    {
     "data": {
      "image/png": "[encoded data removed]",
      "text/plain": [
       "<matplotlib.figure.Figure at 0x16e6504d0>"
      ]
     },
     "metadata": {},
     "output_type": "display_data"
    }
   ],
   "source": [
    "sns.jointplot(x=non_null_csm_start_price_subset['concurrent_similar_median_start_price'],\\\n",
    "              y=non_null_csm_start_price_subset['startPrice'],\\\n",
    "              kind='reg', ci=5, color='b',joint_kws={'line_kws':{'color':'cyan'}})"
   ]
  },
  {
   "cell_type": "markdown",
   "metadata": {
    "deletable": true,
    "editable": true
   },
   "source": [
    "No it doesn't seem that the CSM start price has an affect on start price. "
   ]
  },
  {
   "cell_type": "markdown",
   "metadata": {
    "deletable": true,
    "editable": true
   },
   "source": [
    "oes the distribution of CSM start prices have a tighter variance than the distribution of ALL start prices? In other words, is there less randomness in the CSM start prices?"
   ]
  },
  {
   "cell_type": "code",
   "execution_count": 140,
   "metadata": {
    "collapsed": false,
    "deletable": true,
    "editable": true
   },
   "outputs": [
    {
     "data": {
      "text/plain": [
       "<matplotlib.legend.Legend at 0x113932810>"
      ]
     },
     "execution_count": 140,
     "metadata": {},
     "output_type": "execute_result"
    },
    {
     "data": {
      "image/png": "[encoded data removed]",
      "text/plain": [
       "<matplotlib.figure.Figure at 0x10fba3290>"
      ]
     },
     "metadata": {},
     "output_type": "display_data"
    }
   ],
   "source": [
    "# range=(-50, 50)\n",
    "bins=30\n",
    "max_range = 500\n",
    "plt.hist(non_null_csm_start_price_subset['concurrent_similar_median_start_price'].values, bins=bins, range=(0,max_range), label='CSM');\n",
    "plt.hist(non_null_csm_start_price_subset['startPrice'].values, bins=bins, range=(0,max_range), alpha=0.6, label='All');\n",
    "plt.ylabel('Start Prices ($)')\n",
    "plt.xlabel('Count')\n",
    "plt.title('Distribution of Start Prices for CSM Start Prices and ALL Start Prices')\n",
    "plt.legend()"
   ]
  },
  {
   "cell_type": "markdown",
   "metadata": {
    "deletable": true,
    "editable": true
   },
   "source": [
    "**Explore variance of start prices for CSM and ALL**\n",
    "<br>Take the log to get normal distributions"
   ]
  },
  {
   "cell_type": "code",
   "execution_count": 146,
   "metadata": {
    "collapsed": false,
    "deletable": true,
    "editable": true
   },
   "outputs": [
    {
     "data": {
      "text/plain": [
       "<matplotlib.legend.Legend at 0x16c6d5ed0>"
      ]
     },
     "execution_count": 146,
     "metadata": {},
     "output_type": "execute_result"
    },
    {
     "data": {
      "image/png": "[encoded data removed]",
      "text/plain": [
       "<matplotlib.figure.Figure at 0x11596d610>"
      ]
     },
     "metadata": {},
     "output_type": "display_data"
    }
   ],
   "source": [
    "bins=50\n",
    "plt.hist(np.log(non_null_csm_start_price_subset['concurrent_similar_median_start_price'].values), bins=bins, label='CSM');\n",
    "plt.hist(np.log(non_null_csm_start_price_subset['startPrice'].values), bins=bins, alpha=0.6, label='All');\n",
    "plt.ylabel('Start Prices ($)')\n",
    "plt.xlabel('Count')\n",
    "plt.title('Distribution of Start Prices for CSM Start Prices and ALL Start Prices')\n",
    "plt.legend()"
   ]
  },
  {
   "cell_type": "markdown",
   "metadata": {
    "deletable": true,
    "editable": true
   },
   "source": [
    "To quantify with numbers:"
   ]
  },
  {
   "cell_type": "code",
   "execution_count": 170,
   "metadata": {
    "collapsed": false,
    "deletable": true,
    "editable": true
   },
   "outputs": [
    {
     "name": "stdout",
     "output_type": "stream",
     "text": [
      "Auctions Start Price Max: 1150.0\n",
      "Auctions Start Price Min: 0.01\n",
      "Auctions Start Price Variance: 37277.1299753\n",
      "Auctions Start Price Std Dev: 193.07286183\n"
     ]
    }
   ],
   "source": [
    "print 'Auctions Start Price Max:', np.max(auctions['startPrice'].values)\n",
    "print 'Auctions Start Price Min:', np.min(auctions['startPrice'].values)\n",
    "print 'Auctions Start Price Variance:', np.var(auctions['startPrice'].values)\n",
    "print 'Auctions Start Price Std Dev:', np.std(auctions['startPrice'].values)"
   ]
  },
  {
   "cell_type": "code",
   "execution_count": 171,
   "metadata": {
    "collapsed": false,
    "deletable": true,
    "editable": true
   },
   "outputs": [
    {
     "name": "stdout",
     "output_type": "stream",
     "text": [
      "CSM Start Price Max: 1049.5\n",
      "CSM Start Price Min: 0.01\n",
      "CSM Start Price Variance: 22369.7277446\n",
      "CSM Start Price Std Dev: 149.565128772\n"
     ]
    }
   ],
   "source": [
    "print 'CSM Start Price Max:', np.max(non_null_csm_start_price_subset['concurrent_similar_median_start_price'].values)\n",
    "print 'CSM Start Price Min:', np.min(non_null_csm_start_price_subset['concurrent_similar_median_start_price'].values)\n",
    "print 'CSM Start Price Variance:', np.var(non_null_csm_start_price_subset['concurrent_similar_median_start_price'].values)\n",
    "print 'CSM Start Price Std Dev:', np.std(non_null_csm_start_price_subset['concurrent_similar_median_start_price'].values)"
   ]
  },
  {
   "cell_type": "code",
   "execution_count": 28,
   "metadata": {
    "collapsed": false
   },
   "outputs": [
    {
     "data": {
      "text/plain": [
       "<matplotlib.collections.PathCollection at 0x11c5c1bd0>"
      ]
     },
     "execution_count": 28,
     "metadata": {},
     "output_type": "execute_result"
    },
    {
     "data": {
      "image/png": "[encoded data removed]",
      "text/plain": [
       "<matplotlib.figure.Figure at 0x125d07a90>"
      ]
     },
     "metadata": {},
     "output_type": "display_data"
    }
   ],
   "source": [
    "df_sold = df_classification.loc[(df_classification.sold_state == 1) &\n",
    "                                (df_classification['concurrent_similar_median_start_price'] > 200)\n",
    "                               ]\n",
    "\n",
    "plt.scatter(df_sold['concurrent_similar_median_start_price'], df_sold['endPrice'])"
   ]
  },
  {
   "cell_type": "markdown",
   "metadata": {
    "deletable": true,
    "editable": true
   },
   "source": [
    "**Conclusion**\n",
    "<br>\n",
    "There doesn't seem to be less randomness in the concurrent similar median start prices. "
   ]
  },
  {
   "cell_type": "code",
   "execution_count": 25,
   "metadata": {
    "collapsed": true,
    "deletable": true,
    "editable": true
   },
   "outputs": [
    {
     "data": {
      "text/html": [
       "<div>\n",
       "<table border=\"1\" class=\"dataframe\">\n",
       "  <thead>\n",
       "    <tr style=\"text-align: right;\">\n",
       "      <th></th>\n",
       "      <th>concurrent_similar_median_start_price</th>\n",
       "      <th>startPrice</th>\n",
       "      <th>endPrice</th>\n",
       "      <th>sold_state</th>\n",
       "    </tr>\n",
       "  </thead>\n",
       "  <tbody>\n",
       "    <tr>\n",
       "      <th>0</th>\n",
       "      <td>92.50</td>\n",
       "      <td>399.00</td>\n",
       "      <td>399.00</td>\n",
       "      <td>0</td>\n",
       "    </tr>\n",
       "    <tr>\n",
       "      <th>1</th>\n",
       "      <td>92.50</td>\n",
       "      <td>300.00</td>\n",
       "      <td>369.00</td>\n",
       "      <td>1</td>\n",
       "    </tr>\n",
       "    <tr>\n",
       "      <th>2</th>\n",
       "      <td>92.50</td>\n",
       "      <td>349.99</td>\n",
       "      <td>385.00</td>\n",
       "      <td>1</td>\n",
       "    </tr>\n",
       "    <tr>\n",
       "      <th>3</th>\n",
       "      <td>92.50</td>\n",
       "      <td>0.99</td>\n",
       "      <td>387.00</td>\n",
       "      <td>1</td>\n",
       "    </tr>\n",
       "    <tr>\n",
       "      <th>4</th>\n",
       "      <td>92.50</td>\n",
       "      <td>380.00</td>\n",
       "      <td>380.00</td>\n",
       "      <td>0</td>\n",
       "    </tr>\n",
       "    <tr>\n",
       "      <th>5</th>\n",
       "      <td>92.50</td>\n",
       "      <td>370.00</td>\n",
       "      <td>370.00</td>\n",
       "      <td>1</td>\n",
       "    </tr>\n",
       "    <tr>\n",
       "      <th>6</th>\n",
       "      <td>92.50</td>\n",
       "      <td>378.00</td>\n",
       "      <td>378.00</td>\n",
       "      <td>1</td>\n",
       "    </tr>\n",
       "    <tr>\n",
       "      <th>7</th>\n",
       "      <td>92.50</td>\n",
       "      <td>382.00</td>\n",
       "      <td>382.00</td>\n",
       "      <td>0</td>\n",
       "    </tr>\n",
       "    <tr>\n",
       "      <th>8</th>\n",
       "      <td>92.50</td>\n",
       "      <td>150.00</td>\n",
       "      <td>394.00</td>\n",
       "      <td>1</td>\n",
       "    </tr>\n",
       "    <tr>\n",
       "      <th>9</th>\n",
       "      <td>92.50</td>\n",
       "      <td>0.01</td>\n",
       "      <td>377.00</td>\n",
       "      <td>1</td>\n",
       "    </tr>\n",
       "    <tr>\n",
       "      <th>10</th>\n",
       "      <td>92.50</td>\n",
       "      <td>121.00</td>\n",
       "      <td>121.00</td>\n",
       "      <td>0</td>\n",
       "    </tr>\n",
       "    <tr>\n",
       "      <th>11</th>\n",
       "      <td>92.50</td>\n",
       "      <td>49.95</td>\n",
       "      <td>117.50</td>\n",
       "      <td>1</td>\n",
       "    </tr>\n",
       "    <tr>\n",
       "      <th>12</th>\n",
       "      <td>92.50</td>\n",
       "      <td>93.50</td>\n",
       "      <td>112.50</td>\n",
       "      <td>1</td>\n",
       "    </tr>\n",
       "    <tr>\n",
       "      <th>13</th>\n",
       "      <td>92.50</td>\n",
       "      <td>0.99</td>\n",
       "      <td>124.50</td>\n",
       "      <td>1</td>\n",
       "    </tr>\n",
       "    <tr>\n",
       "      <th>15</th>\n",
       "      <td>92.50</td>\n",
       "      <td>112.00</td>\n",
       "      <td>112.00</td>\n",
       "      <td>0</td>\n",
       "    </tr>\n",
       "    <tr>\n",
       "      <th>16</th>\n",
       "      <td>92.50</td>\n",
       "      <td>119.95</td>\n",
       "      <td>122.45</td>\n",
       "      <td>1</td>\n",
       "    </tr>\n",
       "    <tr>\n",
       "      <th>17</th>\n",
       "      <td>92.50</td>\n",
       "      <td>119.95</td>\n",
       "      <td>119.95</td>\n",
       "      <td>0</td>\n",
       "    </tr>\n",
       "    <tr>\n",
       "      <th>18</th>\n",
       "      <td>92.50</td>\n",
       "      <td>80.00</td>\n",
       "      <td>126.71</td>\n",
       "      <td>1</td>\n",
       "    </tr>\n",
       "    <tr>\n",
       "      <th>19</th>\n",
       "      <td>92.50</td>\n",
       "      <td>4.99</td>\n",
       "      <td>112.50</td>\n",
       "      <td>1</td>\n",
       "    </tr>\n",
       "    <tr>\n",
       "      <th>21</th>\n",
       "      <td>92.50</td>\n",
       "      <td>120.00</td>\n",
       "      <td>120.00</td>\n",
       "      <td>1</td>\n",
       "    </tr>\n",
       "    <tr>\n",
       "      <th>22</th>\n",
       "      <td>92.50</td>\n",
       "      <td>99.99</td>\n",
       "      <td>127.50</td>\n",
       "      <td>1</td>\n",
       "    </tr>\n",
       "    <tr>\n",
       "      <th>23</th>\n",
       "      <td>92.50</td>\n",
       "      <td>109.99</td>\n",
       "      <td>109.99</td>\n",
       "      <td>1</td>\n",
       "    </tr>\n",
       "    <tr>\n",
       "      <th>24</th>\n",
       "      <td>92.50</td>\n",
       "      <td>125.00</td>\n",
       "      <td>125.00</td>\n",
       "      <td>1</td>\n",
       "    </tr>\n",
       "    <tr>\n",
       "      <th>25</th>\n",
       "      <td>92.50</td>\n",
       "      <td>0.01</td>\n",
       "      <td>126.00</td>\n",
       "      <td>1</td>\n",
       "    </tr>\n",
       "    <tr>\n",
       "      <th>26</th>\n",
       "      <td>92.50</td>\n",
       "      <td>49.99</td>\n",
       "      <td>125.00</td>\n",
       "      <td>1</td>\n",
       "    </tr>\n",
       "    <tr>\n",
       "      <th>27</th>\n",
       "      <td>92.50</td>\n",
       "      <td>20.00</td>\n",
       "      <td>118.01</td>\n",
       "      <td>1</td>\n",
       "    </tr>\n",
       "    <tr>\n",
       "      <th>28</th>\n",
       "      <td>92.50</td>\n",
       "      <td>49.99</td>\n",
       "      <td>113.50</td>\n",
       "      <td>1</td>\n",
       "    </tr>\n",
       "    <tr>\n",
       "      <th>29</th>\n",
       "      <td>92.50</td>\n",
       "      <td>119.99</td>\n",
       "      <td>119.99</td>\n",
       "      <td>0</td>\n",
       "    </tr>\n",
       "    <tr>\n",
       "      <th>30</th>\n",
       "      <td>92.50</td>\n",
       "      <td>112.00</td>\n",
       "      <td>119.50</td>\n",
       "      <td>1</td>\n",
       "    </tr>\n",
       "    <tr>\n",
       "      <th>31</th>\n",
       "      <td>92.50</td>\n",
       "      <td>19.99</td>\n",
       "      <td>124.50</td>\n",
       "      <td>1</td>\n",
       "    </tr>\n",
       "    <tr>\n",
       "      <th>...</th>\n",
       "      <td>...</td>\n",
       "      <td>...</td>\n",
       "      <td>...</td>\n",
       "      <td>...</td>\n",
       "    </tr>\n",
       "    <tr>\n",
       "      <th>29930</th>\n",
       "      <td>92.50</td>\n",
       "      <td>100.00</td>\n",
       "      <td>102.50</td>\n",
       "      <td>1</td>\n",
       "    </tr>\n",
       "    <tr>\n",
       "      <th>29931</th>\n",
       "      <td>295.00</td>\n",
       "      <td>10.00</td>\n",
       "      <td>108.50</td>\n",
       "      <td>1</td>\n",
       "    </tr>\n",
       "    <tr>\n",
       "      <th>29932</th>\n",
       "      <td>92.50</td>\n",
       "      <td>89.00</td>\n",
       "      <td>102.50</td>\n",
       "      <td>1</td>\n",
       "    </tr>\n",
       "    <tr>\n",
       "      <th>29933</th>\n",
       "      <td>92.50</td>\n",
       "      <td>99.00</td>\n",
       "      <td>99.00</td>\n",
       "      <td>1</td>\n",
       "    </tr>\n",
       "    <tr>\n",
       "      <th>29934</th>\n",
       "      <td>67.50</td>\n",
       "      <td>99.99</td>\n",
       "      <td>104.05</td>\n",
       "      <td>1</td>\n",
       "    </tr>\n",
       "    <tr>\n",
       "      <th>29935</th>\n",
       "      <td>449.86</td>\n",
       "      <td>95.00</td>\n",
       "      <td>95.00</td>\n",
       "      <td>1</td>\n",
       "    </tr>\n",
       "    <tr>\n",
       "      <th>29936</th>\n",
       "      <td>92.50</td>\n",
       "      <td>69.00</td>\n",
       "      <td>103.50</td>\n",
       "      <td>1</td>\n",
       "    </tr>\n",
       "    <tr>\n",
       "      <th>29937</th>\n",
       "      <td>92.50</td>\n",
       "      <td>0.99</td>\n",
       "      <td>99.50</td>\n",
       "      <td>1</td>\n",
       "    </tr>\n",
       "    <tr>\n",
       "      <th>29938</th>\n",
       "      <td>92.50</td>\n",
       "      <td>98.50</td>\n",
       "      <td>98.50</td>\n",
       "      <td>1</td>\n",
       "    </tr>\n",
       "    <tr>\n",
       "      <th>29939</th>\n",
       "      <td>92.50</td>\n",
       "      <td>100.00</td>\n",
       "      <td>100.00</td>\n",
       "      <td>1</td>\n",
       "    </tr>\n",
       "    <tr>\n",
       "      <th>29940</th>\n",
       "      <td>42.50</td>\n",
       "      <td>100.00</td>\n",
       "      <td>100.00</td>\n",
       "      <td>1</td>\n",
       "    </tr>\n",
       "    <tr>\n",
       "      <th>29941</th>\n",
       "      <td>49.00</td>\n",
       "      <td>0.99</td>\n",
       "      <td>102.01</td>\n",
       "      <td>1</td>\n",
       "    </tr>\n",
       "    <tr>\n",
       "      <th>29942</th>\n",
       "      <td>92.50</td>\n",
       "      <td>105.00</td>\n",
       "      <td>107.51</td>\n",
       "      <td>1</td>\n",
       "    </tr>\n",
       "    <tr>\n",
       "      <th>29943</th>\n",
       "      <td>92.50</td>\n",
       "      <td>35.99</td>\n",
       "      <td>100.00</td>\n",
       "      <td>1</td>\n",
       "    </tr>\n",
       "    <tr>\n",
       "      <th>29944</th>\n",
       "      <td>50.00</td>\n",
       "      <td>75.00</td>\n",
       "      <td>102.50</td>\n",
       "      <td>1</td>\n",
       "    </tr>\n",
       "    <tr>\n",
       "      <th>29945</th>\n",
       "      <td>92.50</td>\n",
       "      <td>75.00</td>\n",
       "      <td>105.50</td>\n",
       "      <td>1</td>\n",
       "    </tr>\n",
       "    <tr>\n",
       "      <th>29946</th>\n",
       "      <td>92.50</td>\n",
       "      <td>99.00</td>\n",
       "      <td>99.00</td>\n",
       "      <td>1</td>\n",
       "    </tr>\n",
       "    <tr>\n",
       "      <th>29947</th>\n",
       "      <td>92.50</td>\n",
       "      <td>9.99</td>\n",
       "      <td>102.50</td>\n",
       "      <td>1</td>\n",
       "    </tr>\n",
       "    <tr>\n",
       "      <th>29948</th>\n",
       "      <td>500.00</td>\n",
       "      <td>1.78</td>\n",
       "      <td>100.99</td>\n",
       "      <td>1</td>\n",
       "    </tr>\n",
       "    <tr>\n",
       "      <th>29949</th>\n",
       "      <td>92.50</td>\n",
       "      <td>40.00</td>\n",
       "      <td>97.00</td>\n",
       "      <td>1</td>\n",
       "    </tr>\n",
       "    <tr>\n",
       "      <th>29950</th>\n",
       "      <td>99.99</td>\n",
       "      <td>60.00</td>\n",
       "      <td>100.09</td>\n",
       "      <td>1</td>\n",
       "    </tr>\n",
       "    <tr>\n",
       "      <th>29951</th>\n",
       "      <td>92.50</td>\n",
       "      <td>91.00</td>\n",
       "      <td>100.00</td>\n",
       "      <td>1</td>\n",
       "    </tr>\n",
       "    <tr>\n",
       "      <th>29952</th>\n",
       "      <td>92.50</td>\n",
       "      <td>99.00</td>\n",
       "      <td>99.00</td>\n",
       "      <td>1</td>\n",
       "    </tr>\n",
       "    <tr>\n",
       "      <th>29953</th>\n",
       "      <td>92.50</td>\n",
       "      <td>85.00</td>\n",
       "      <td>95.00</td>\n",
       "      <td>1</td>\n",
       "    </tr>\n",
       "    <tr>\n",
       "      <th>29954</th>\n",
       "      <td>92.50</td>\n",
       "      <td>99.00</td>\n",
       "      <td>99.00</td>\n",
       "      <td>1</td>\n",
       "    </tr>\n",
       "    <tr>\n",
       "      <th>29955</th>\n",
       "      <td>92.50</td>\n",
       "      <td>100.00</td>\n",
       "      <td>107.50</td>\n",
       "      <td>1</td>\n",
       "    </tr>\n",
       "    <tr>\n",
       "      <th>29956</th>\n",
       "      <td>92.50</td>\n",
       "      <td>100.00</td>\n",
       "      <td>105.00</td>\n",
       "      <td>1</td>\n",
       "    </tr>\n",
       "    <tr>\n",
       "      <th>29957</th>\n",
       "      <td>92.50</td>\n",
       "      <td>100.00</td>\n",
       "      <td>100.00</td>\n",
       "      <td>1</td>\n",
       "    </tr>\n",
       "    <tr>\n",
       "      <th>29958</th>\n",
       "      <td>92.50</td>\n",
       "      <td>100.00</td>\n",
       "      <td>102.50</td>\n",
       "      <td>1</td>\n",
       "    </tr>\n",
       "    <tr>\n",
       "      <th>29959</th>\n",
       "      <td>92.50</td>\n",
       "      <td>99.00</td>\n",
       "      <td>99.00</td>\n",
       "      <td>1</td>\n",
       "    </tr>\n",
       "  </tbody>\n",
       "</table>\n",
       "<p>22423 rows × 4 columns</p>\n",
       "</div>"
      ],
      "text/plain": [
       "       concurrent_similar_median_start_price  startPrice  endPrice  sold_state\n",
       "0                                      92.50      399.00    399.00           0\n",
       "1                                      92.50      300.00    369.00           1\n",
       "2                                      92.50      349.99    385.00           1\n",
       "3                                      92.50        0.99    387.00           1\n",
       "4                                      92.50      380.00    380.00           0\n",
       "5                                      92.50      370.00    370.00           1\n",
       "6                                      92.50      378.00    378.00           1\n",
       "7                                      92.50      382.00    382.00           0\n",
       "8                                      92.50      150.00    394.00           1\n",
       "9                                      92.50        0.01    377.00           1\n",
       "10                                     92.50      121.00    121.00           0\n",
       "11                                     92.50       49.95    117.50           1\n",
       "12                                     92.50       93.50    112.50           1\n",
       "13                                     92.50        0.99    124.50           1\n",
       "15                                     92.50      112.00    112.00           0\n",
       "16                                     92.50      119.95    122.45           1\n",
       "17                                     92.50      119.95    119.95           0\n",
       "18                                     92.50       80.00    126.71           1\n",
       "19                                     92.50        4.99    112.50           1\n",
       "21                                     92.50      120.00    120.00           1\n",
       "22                                     92.50       99.99    127.50           1\n",
       "23                                     92.50      109.99    109.99           1\n",
       "24                                     92.50      125.00    125.00           1\n",
       "25                                     92.50        0.01    126.00           1\n",
       "26                                     92.50       49.99    125.00           1\n",
       "27                                     92.50       20.00    118.01           1\n",
       "28                                     92.50       49.99    113.50           1\n",
       "29                                     92.50      119.99    119.99           0\n",
       "30                                     92.50      112.00    119.50           1\n",
       "31                                     92.50       19.99    124.50           1\n",
       "...                                      ...         ...       ...         ...\n",
       "29930                                  92.50      100.00    102.50           1\n",
       "29931                                 295.00       10.00    108.50           1\n",
       "29932                                  92.50       89.00    102.50           1\n",
       "29933                                  92.50       99.00     99.00           1\n",
       "29934                                  67.50       99.99    104.05           1\n",
       "29935                                 449.86       95.00     95.00           1\n",
       "29936                                  92.50       69.00    103.50           1\n",
       "29937                                  92.50        0.99     99.50           1\n",
       "29938                                  92.50       98.50     98.50           1\n",
       "29939                                  92.50      100.00    100.00           1\n",
       "29940                                  42.50      100.00    100.00           1\n",
       "29941                                  49.00        0.99    102.01           1\n",
       "29942                                  92.50      105.00    107.51           1\n",
       "29943                                  92.50       35.99    100.00           1\n",
       "29944                                  50.00       75.00    102.50           1\n",
       "29945                                  92.50       75.00    105.50           1\n",
       "29946                                  92.50       99.00     99.00           1\n",
       "29947                                  92.50        9.99    102.50           1\n",
       "29948                                 500.00        1.78    100.99           1\n",
       "29949                                  92.50       40.00     97.00           1\n",
       "29950                                  99.99       60.00    100.09           1\n",
       "29951                                  92.50       91.00    100.00           1\n",
       "29952                                  92.50       99.00     99.00           1\n",
       "29953                                  92.50       85.00     95.00           1\n",
       "29954                                  92.50       99.00     99.00           1\n",
       "29955                                  92.50      100.00    107.50           1\n",
       "29956                                  92.50      100.00    105.00           1\n",
       "29957                                  92.50      100.00    100.00           1\n",
       "29958                                  92.50      100.00    102.50           1\n",
       "29959                                  92.50       99.00     99.00           1\n",
       "\n",
       "[22423 rows x 4 columns]"
      ]
     },
     "execution_count": 25,
     "metadata": {},
     "output_type": "execute_result"
    }
   ],
   "source": [
    "df_classification[df_classification['concurrent_similar_median_start_price'] > 39.95]"
   ]
  },
  {
   "cell_type": "code",
   "execution_count": null,
   "metadata": {
    "collapsed": true
   },
   "outputs": [],
   "source": []
  }
 ],
 "metadata": {
  "kernelspec": {
   "display_name": "Python 2",
   "language": "python",
   "name": "python2"
  },
  "language_info": {
   "codemirror_mode": {
    "name": "ipython",
    "version": 2
   },
   "file_extension": ".py",
   "mimetype": "text/x-python",
   "name": "python",
   "nbconvert_exporter": "python",
   "pygments_lexer": "ipython2",
   "version": "2.7.13"
  }
 },
 "nbformat": 4,
 "nbformat_minor": 2
}
