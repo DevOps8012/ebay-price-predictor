{
 "cells": [
  {
   "cell_type": "code",
   "execution_count": 1,
   "metadata": {
    "collapsed": false,
    "deletable": true,
    "editable": true
   },
   "outputs": [],
   "source": [
    "from __future__ import division\n",
    "import psycopg2\n",
    "import pandas as pd\n",
    "from sqlalchemy import create_engine\n",
    "import matplotlib.pyplot as plt\n",
    "%matplotlib inline\n",
    "import seaborn as sns\n",
    "import datetime\n",
    "import numpy as np\n",
    "\n",
    "from sklearn.feature_extraction.text import CountVectorizer, TfidfVectorizer\n",
    "\n",
    "from sklearn.metrics import confusion_matrix, roc_curve, auc, mean_absolute_error\n",
    "from sklearn.model_selection import train_test_split, cross_val_score, GridSearchCV, KFold, StratifiedKFold\n",
    "from sklearn.model_selection import ShuffleSplit, learning_curve\n",
    "from sklearn.ensemble import RandomForestClassifier\n",
    "from sklearn.metrics.pairwise import cosine_similarity\n",
    "from sklearn.neighbors import KNeighborsRegressor\n",
    "\n",
    "import sys\n",
    "sys.path.insert(0, '/Users/Naekid/Desktop/capstone-DSI-5/ebay-price-predictor/data-analysis/utilities/')\n",
    "from plot_learning_curve import plot_learning_curve\n",
    "\n",
    "pd.set_option('display.max_columns', 60)"
   ]
  },
  {
   "cell_type": "markdown",
   "metadata": {
    "deletable": true,
    "editable": true
   },
   "source": [
    "Connect to DataBase"
   ]
  },
  {
   "cell_type": "code",
   "execution_count": 4,
   "metadata": {
    "collapsed": true,
    "deletable": true,
    "editable": true
   },
   "outputs": [],
   "source": [
    "dbname='ebay'\n",
    "user='nathan'\n",
    "host='localhost'\n",
    "TABLE_NAME = 'completed_items_v2'\n",
    "\n",
    "engine = create_engine('postgresql://%s@%s/%s' % (user,host,dbname), echo=False)"
   ]
  },
  {
   "cell_type": "code",
   "execution_count": 4,
   "metadata": {
    "collapsed": false,
    "deletable": true,
    "editable": true
   },
   "outputs": [],
   "source": [
    "df = pd.read_sql_table(TABLE_NAME, engine)"
   ]
  },
  {
   "cell_type": "markdown",
   "metadata": {
    "deletable": true,
    "editable": true
   },
   "source": [
    "# Data Exploration"
   ]
  },
  {
   "cell_type": "code",
   "execution_count": 5,
   "metadata": {
    "collapsed": false,
    "deletable": true,
    "editable": true
   },
   "outputs": [
    {
     "name": "stdout",
     "output_type": "stream",
     "text": [
      "No duplicate itemIds.\n"
     ]
    }
   ],
   "source": [
    "# yields true if there are no duplicate 'itemId'\n",
    "if df['itemId'].shape[0] == len(df['itemId'].unique()):\n",
    "    print 'No duplicate itemIds.'\n",
    "else:\n",
    "    print df['itemId'].shape[0], len(df['itemId'].unique())\n",
    "    raise ValueError('Duplicate itemId in dataframe.')\n",
    "    "
   ]
  },
  {
   "cell_type": "code",
   "execution_count": 6,
   "metadata": {
    "collapsed": false,
    "deletable": true,
    "editable": true
   },
   "outputs": [
    {
     "data": {
      "text/plain": [
       "(92935, 48)"
      ]
     },
     "execution_count": 6,
     "metadata": {},
     "output_type": "execute_result"
    }
   ],
   "source": [
    "df.shape"
   ]
  },
  {
   "cell_type": "code",
   "execution_count": 7,
   "metadata": {
    "collapsed": false,
    "deletable": true,
    "editable": true
   },
   "outputs": [
    {
     "data": {
      "text/html": [
       "<div>\n",
       "<table border=\"1\" class=\"dataframe\">\n",
       "  <thead>\n",
       "    <tr style=\"text-align: right;\">\n",
       "      <th></th>\n",
       "      <th>id</th>\n",
       "      <th>timestamp</th>\n",
       "      <th>itemId</th>\n",
       "      <th>topRatedListing</th>\n",
       "      <th>globalId</th>\n",
       "      <th>title</th>\n",
       "      <th>subtitle</th>\n",
       "      <th>country</th>\n",
       "      <th>primaryCategory.categoryId</th>\n",
       "      <th>primaryCategory.categoryName</th>\n",
       "      <th>secondaryCategory.categoryId</th>\n",
       "      <th>secondaryCategory.categoryName</th>\n",
       "      <th>pictureURLLarge</th>\n",
       "      <th>galleryURL</th>\n",
       "      <th>sellerInfo.feedbackRatingStar</th>\n",
       "      <th>sellerInfo.feedbackScore</th>\n",
       "      <th>sellerInfo.positiveFeedbackPercent</th>\n",
       "      <th>sellerInfo.sellerUserName</th>\n",
       "      <th>sellerInfo.topRatedSeller</th>\n",
       "      <th>shippingInfo.expeditedShipping</th>\n",
       "      <th>shippingInfo.shipToLocations</th>\n",
       "      <th>shippingInfo.shippingServiceCost.value</th>\n",
       "      <th>shippingInfo.oneDayShippingAvailable</th>\n",
       "      <th>shippingInfo.handlingTime</th>\n",
       "      <th>shippingInfo.shippingType</th>\n",
       "      <th>autoPay</th>\n",
       "      <th>location</th>\n",
       "      <th>postalCode</th>\n",
       "      <th>returnsAccepted</th>\n",
       "      <th>viewItemURL</th>\n",
       "      <th>sellingStatus.currentPrice.value</th>\n",
       "      <th>startprice</th>\n",
       "      <th>endPrice</th>\n",
       "      <th>sellingStatus.bidCount</th>\n",
       "      <th>sellingStatus.sellingState</th>\n",
       "      <th>paymentMethod</th>\n",
       "      <th>isMultiVariationListing</th>\n",
       "      <th>condition</th>\n",
       "      <th>condition.conditionId</th>\n",
       "      <th>condition.conditionDisplayName</th>\n",
       "      <th>listingInfo.listingType</th>\n",
       "      <th>listingInfo.gift</th>\n",
       "      <th>listingInfo.bestOfferEnabled</th>\n",
       "      <th>listingInfo.buyItNowAvailable</th>\n",
       "      <th>listingInfo.buyItNowPrice.value</th>\n",
       "      <th>listingInfo.startTime</th>\n",
       "      <th>listingInfo.endTime</th>\n",
       "      <th>conditiondescription</th>\n",
       "    </tr>\n",
       "  </thead>\n",
       "  <tbody>\n",
       "    <tr>\n",
       "      <th>0</th>\n",
       "      <td>30565</td>\n",
       "      <td>2017-04-05 06:17:14.195000+00:00</td>\n",
       "      <td>262804086758</td>\n",
       "      <td>True</td>\n",
       "      <td>EBAY-US</td>\n",
       "      <td>Sony Cyber-shot DSC-W830 20.1 MP HD Movie 720p...</td>\n",
       "      <td>Roberts Camera - Photo Industry Leader since 1...</td>\n",
       "      <td>US</td>\n",
       "      <td>31388</td>\n",
       "      <td>Digital Cameras</td>\n",
       "      <td>None</td>\n",
       "      <td>None</td>\n",
       "      <td>http://i.ebayimg.com/00/s/MTA2NlgxNjAw/z/NmQAA...</td>\n",
       "      <td>http://thumbs3.ebaystatic.com/m/mS-eU_Q86jobL5...</td>\n",
       "      <td>Red</td>\n",
       "      <td>1203</td>\n",
       "      <td>99.3</td>\n",
       "      <td>hb_marketplace</td>\n",
       "      <td>True</td>\n",
       "      <td>True</td>\n",
       "      <td>Worldwide</td>\n",
       "      <td>0.0</td>\n",
       "      <td>False</td>\n",
       "      <td>1.0</td>\n",
       "      <td>Free</td>\n",
       "      <td>True</td>\n",
       "      <td>Miami,FL,USA</td>\n",
       "      <td>33178.0</td>\n",
       "      <td>True</td>\n",
       "      <td>http://www.ebay.com/itm/Sony-Cyber-shot-DSC-W8...</td>\n",
       "      <td>75.99</td>\n",
       "      <td>NaN</td>\n",
       "      <td>None</td>\n",
       "      <td>3.0</td>\n",
       "      <td>EndedWithSales</td>\n",
       "      <td>PayPal</td>\n",
       "      <td>False</td>\n",
       "      <td>None</td>\n",
       "      <td>1500</td>\n",
       "      <td>New other (see details)</td>\n",
       "      <td>StoreInventory</td>\n",
       "      <td>False</td>\n",
       "      <td>True</td>\n",
       "      <td>False</td>\n",
       "      <td>NaN</td>\n",
       "      <td>2017-01-12 03:09:46</td>\n",
       "      <td>2017-01-14 07:03:33</td>\n",
       "      <td>This unit was a retail display.  It has not be...</td>\n",
       "    </tr>\n",
       "    <tr>\n",
       "      <th>1</th>\n",
       "      <td>30569</td>\n",
       "      <td>2017-04-05 06:17:14.195000+00:00</td>\n",
       "      <td>302191372790</td>\n",
       "      <td>False</td>\n",
       "      <td>EBAY-US</td>\n",
       "      <td>Nikon Coolpix P500 12.1MP 36x Optical Zoom Dig...</td>\n",
       "      <td>Roberts Camera - Photo Industry Leader since 1...</td>\n",
       "      <td>US</td>\n",
       "      <td>31388</td>\n",
       "      <td>Digital Cameras</td>\n",
       "      <td>None</td>\n",
       "      <td>None</td>\n",
       "      <td>http://i.ebayimg.com/00/s/MTIwMFgxNjAw/z/oxEAA...</td>\n",
       "      <td>http://thumbs3.ebaystatic.com/m/mc6KIAyyfcvX5z...</td>\n",
       "      <td>Yellow</td>\n",
       "      <td>48</td>\n",
       "      <td>100.0</td>\n",
       "      <td>zmussani</td>\n",
       "      <td>False</td>\n",
       "      <td>True</td>\n",
       "      <td>US</td>\n",
       "      <td>0.0</td>\n",
       "      <td>False</td>\n",
       "      <td>2.0</td>\n",
       "      <td>Calculated</td>\n",
       "      <td>False</td>\n",
       "      <td>Sugar Land,TX,USA</td>\n",
       "      <td>77479.0</td>\n",
       "      <td>False</td>\n",
       "      <td>http://www.ebay.com/itm/Nikon-Coolpix-P500-12-...</td>\n",
       "      <td>72.00</td>\n",
       "      <td>49.0</td>\n",
       "      <td>None</td>\n",
       "      <td>5.0</td>\n",
       "      <td>EndedWithSales</td>\n",
       "      <td>PayPal</td>\n",
       "      <td>False</td>\n",
       "      <td>None</td>\n",
       "      <td>3000</td>\n",
       "      <td>Used</td>\n",
       "      <td>Auction</td>\n",
       "      <td>False</td>\n",
       "      <td>False</td>\n",
       "      <td>False</td>\n",
       "      <td>NaN</td>\n",
       "      <td>2017-01-09 04:46:02</td>\n",
       "      <td>2017-01-14 04:46:02</td>\n",
       "      <td>NULL</td>\n",
       "    </tr>\n",
       "  </tbody>\n",
       "</table>\n",
       "</div>"
      ],
      "text/plain": [
       "      id                        timestamp        itemId topRatedListing  \\\n",
       "0  30565 2017-04-05 06:17:14.195000+00:00  262804086758            True   \n",
       "1  30569 2017-04-05 06:17:14.195000+00:00  302191372790           False   \n",
       "\n",
       "  globalId                                              title  \\\n",
       "0  EBAY-US  Sony Cyber-shot DSC-W830 20.1 MP HD Movie 720p...   \n",
       "1  EBAY-US  Nikon Coolpix P500 12.1MP 36x Optical Zoom Dig...   \n",
       "\n",
       "                                            subtitle country  \\\n",
       "0  Roberts Camera - Photo Industry Leader since 1...      US   \n",
       "1  Roberts Camera - Photo Industry Leader since 1...      US   \n",
       "\n",
       "   primaryCategory.categoryId primaryCategory.categoryName  \\\n",
       "0                       31388              Digital Cameras   \n",
       "1                       31388              Digital Cameras   \n",
       "\n",
       "  secondaryCategory.categoryId secondaryCategory.categoryName  \\\n",
       "0                         None                           None   \n",
       "1                         None                           None   \n",
       "\n",
       "                                     pictureURLLarge  \\\n",
       "0  http://i.ebayimg.com/00/s/MTA2NlgxNjAw/z/NmQAA...   \n",
       "1  http://i.ebayimg.com/00/s/MTIwMFgxNjAw/z/oxEAA...   \n",
       "\n",
       "                                          galleryURL  \\\n",
       "0  http://thumbs3.ebaystatic.com/m/mS-eU_Q86jobL5...   \n",
       "1  http://thumbs3.ebaystatic.com/m/mc6KIAyyfcvX5z...   \n",
       "\n",
       "  sellerInfo.feedbackRatingStar  sellerInfo.feedbackScore  \\\n",
       "0                           Red                      1203   \n",
       "1                        Yellow                        48   \n",
       "\n",
       "   sellerInfo.positiveFeedbackPercent sellerInfo.sellerUserName  \\\n",
       "0                                99.3            hb_marketplace   \n",
       "1                               100.0                  zmussani   \n",
       "\n",
       "  sellerInfo.topRatedSeller shippingInfo.expeditedShipping  \\\n",
       "0                      True                           True   \n",
       "1                     False                           True   \n",
       "\n",
       "  shippingInfo.shipToLocations  shippingInfo.shippingServiceCost.value  \\\n",
       "0                    Worldwide                                     0.0   \n",
       "1                           US                                     0.0   \n",
       "\n",
       "  shippingInfo.oneDayShippingAvailable  shippingInfo.handlingTime  \\\n",
       "0                                False                        1.0   \n",
       "1                                False                        2.0   \n",
       "\n",
       "  shippingInfo.shippingType autoPay           location  postalCode  \\\n",
       "0                      Free    True       Miami,FL,USA     33178.0   \n",
       "1                Calculated   False  Sugar Land,TX,USA     77479.0   \n",
       "\n",
       "  returnsAccepted                                        viewItemURL  \\\n",
       "0            True  http://www.ebay.com/itm/Sony-Cyber-shot-DSC-W8...   \n",
       "1           False  http://www.ebay.com/itm/Nikon-Coolpix-P500-12-...   \n",
       "\n",
       "   sellingStatus.currentPrice.value  startprice endPrice  \\\n",
       "0                             75.99         NaN     None   \n",
       "1                             72.00        49.0     None   \n",
       "\n",
       "   sellingStatus.bidCount sellingStatus.sellingState paymentMethod  \\\n",
       "0                     3.0             EndedWithSales        PayPal   \n",
       "1                     5.0             EndedWithSales        PayPal   \n",
       "\n",
       "  isMultiVariationListing condition  condition.conditionId  \\\n",
       "0                   False      None                   1500   \n",
       "1                   False      None                   3000   \n",
       "\n",
       "  condition.conditionDisplayName listingInfo.listingType listingInfo.gift  \\\n",
       "0        New other (see details)          StoreInventory            False   \n",
       "1                           Used                 Auction            False   \n",
       "\n",
       "  listingInfo.bestOfferEnabled listingInfo.buyItNowAvailable  \\\n",
       "0                         True                         False   \n",
       "1                        False                         False   \n",
       "\n",
       "   listingInfo.buyItNowPrice.value listingInfo.startTime listingInfo.endTime  \\\n",
       "0                              NaN   2017-01-12 03:09:46 2017-01-14 07:03:33   \n",
       "1                              NaN   2017-01-09 04:46:02 2017-01-14 04:46:02   \n",
       "\n",
       "                                conditiondescription  \n",
       "0  This unit was a retail display.  It has not be...  \n",
       "1                                               NULL  "
      ]
     },
     "execution_count": 7,
     "metadata": {},
     "output_type": "execute_result"
    }
   ],
   "source": [
    "df.head(2)"
   ]
  },
  {
   "cell_type": "code",
   "execution_count": 8,
   "metadata": {
    "collapsed": false,
    "deletable": true,
    "editable": true
   },
   "outputs": [
    {
     "data": {
      "text/plain": [
       "['id',\n",
       " 'timestamp',\n",
       " 'itemId',\n",
       " 'topRatedListing',\n",
       " 'globalId',\n",
       " 'title',\n",
       " 'subtitle',\n",
       " 'country',\n",
       " 'primaryCategory.categoryId',\n",
       " 'primaryCategory.categoryName',\n",
       " 'secondaryCategory.categoryId',\n",
       " 'secondaryCategory.categoryName',\n",
       " 'pictureURLLarge',\n",
       " 'galleryURL',\n",
       " 'sellerInfo.feedbackRatingStar',\n",
       " 'sellerInfo.feedbackScore',\n",
       " 'sellerInfo.positiveFeedbackPercent',\n",
       " 'sellerInfo.sellerUserName',\n",
       " 'sellerInfo.topRatedSeller',\n",
       " 'shippingInfo.expeditedShipping',\n",
       " 'shippingInfo.shipToLocations',\n",
       " 'shippingInfo.shippingServiceCost.value',\n",
       " 'shippingInfo.oneDayShippingAvailable',\n",
       " 'shippingInfo.handlingTime',\n",
       " 'shippingInfo.shippingType',\n",
       " 'autoPay',\n",
       " 'location',\n",
       " 'postalCode',\n",
       " 'returnsAccepted',\n",
       " 'viewItemURL',\n",
       " 'sellingStatus.currentPrice.value',\n",
       " 'startprice',\n",
       " 'endPrice',\n",
       " 'sellingStatus.bidCount',\n",
       " 'sellingStatus.sellingState',\n",
       " 'paymentMethod',\n",
       " 'isMultiVariationListing',\n",
       " 'condition',\n",
       " 'condition.conditionId',\n",
       " 'condition.conditionDisplayName',\n",
       " 'listingInfo.listingType',\n",
       " 'listingInfo.gift',\n",
       " 'listingInfo.bestOfferEnabled',\n",
       " 'listingInfo.buyItNowAvailable',\n",
       " 'listingInfo.buyItNowPrice.value',\n",
       " 'listingInfo.startTime',\n",
       " 'listingInfo.endTime',\n",
       " 'conditiondescription']"
      ]
     },
     "execution_count": 8,
     "metadata": {},
     "output_type": "execute_result"
    }
   ],
   "source": [
    "df.columns.tolist()"
   ]
  },
  {
   "cell_type": "code",
   "execution_count": 9,
   "metadata": {
    "collapsed": false,
    "deletable": true,
    "editable": true
   },
   "outputs": [
    {
     "data": {
      "text/html": [
       "<div>\n",
       "<table border=\"1\" class=\"dataframe\">\n",
       "  <thead>\n",
       "    <tr style=\"text-align: right;\">\n",
       "      <th></th>\n",
       "      <th>id</th>\n",
       "      <th>timestamp</th>\n",
       "      <th>itemId</th>\n",
       "      <th>topRatedListing</th>\n",
       "      <th>globalId</th>\n",
       "      <th>title</th>\n",
       "      <th>subtitle</th>\n",
       "      <th>country</th>\n",
       "      <th>primaryCategory.categoryId</th>\n",
       "      <th>primaryCategory.categoryName</th>\n",
       "      <th>secondaryCategory.categoryId</th>\n",
       "      <th>secondaryCategory.categoryName</th>\n",
       "      <th>pictureURLLarge</th>\n",
       "      <th>galleryURL</th>\n",
       "      <th>sellerInfo.feedbackRatingStar</th>\n",
       "      <th>sellerInfo.feedbackScore</th>\n",
       "      <th>sellerInfo.positiveFeedbackPercent</th>\n",
       "      <th>sellerInfo.sellerUserName</th>\n",
       "      <th>sellerInfo.topRatedSeller</th>\n",
       "      <th>shippingInfo.expeditedShipping</th>\n",
       "      <th>shippingInfo.shipToLocations</th>\n",
       "      <th>shippingInfo.shippingServiceCost.value</th>\n",
       "      <th>shippingInfo.oneDayShippingAvailable</th>\n",
       "      <th>shippingInfo.handlingTime</th>\n",
       "      <th>shippingInfo.shippingType</th>\n",
       "      <th>autoPay</th>\n",
       "      <th>location</th>\n",
       "      <th>postalCode</th>\n",
       "      <th>returnsAccepted</th>\n",
       "      <th>viewItemURL</th>\n",
       "      <th>sellingStatus.currentPrice.value</th>\n",
       "      <th>startprice</th>\n",
       "      <th>endPrice</th>\n",
       "      <th>sellingStatus.bidCount</th>\n",
       "      <th>sellingStatus.sellingState</th>\n",
       "      <th>paymentMethod</th>\n",
       "      <th>isMultiVariationListing</th>\n",
       "      <th>condition</th>\n",
       "      <th>condition.conditionId</th>\n",
       "      <th>condition.conditionDisplayName</th>\n",
       "      <th>listingInfo.listingType</th>\n",
       "      <th>listingInfo.gift</th>\n",
       "      <th>listingInfo.bestOfferEnabled</th>\n",
       "      <th>listingInfo.buyItNowAvailable</th>\n",
       "      <th>listingInfo.buyItNowPrice.value</th>\n",
       "      <th>listingInfo.startTime</th>\n",
       "      <th>listingInfo.endTime</th>\n",
       "      <th>conditiondescription</th>\n",
       "    </tr>\n",
       "  </thead>\n",
       "  <tbody>\n",
       "    <tr>\n",
       "      <th>0</th>\n",
       "      <td>30565</td>\n",
       "      <td>2017-04-05 06:17:14.195000+00:00</td>\n",
       "      <td>262804086758</td>\n",
       "      <td>True</td>\n",
       "      <td>EBAY-US</td>\n",
       "      <td>Sony Cyber-shot DSC-W830 20.1 MP HD Movie 720p...</td>\n",
       "      <td>Roberts Camera - Photo Industry Leader since 1...</td>\n",
       "      <td>US</td>\n",
       "      <td>31388</td>\n",
       "      <td>Digital Cameras</td>\n",
       "      <td>None</td>\n",
       "      <td>None</td>\n",
       "      <td>http://i.ebayimg.com/00/s/MTA2NlgxNjAw/z/NmQAA...</td>\n",
       "      <td>http://thumbs3.ebaystatic.com/m/mS-eU_Q86jobL5...</td>\n",
       "      <td>Red</td>\n",
       "      <td>1203</td>\n",
       "      <td>99.3</td>\n",
       "      <td>hb_marketplace</td>\n",
       "      <td>True</td>\n",
       "      <td>True</td>\n",
       "      <td>Worldwide</td>\n",
       "      <td>0.0</td>\n",
       "      <td>False</td>\n",
       "      <td>1.0</td>\n",
       "      <td>Free</td>\n",
       "      <td>True</td>\n",
       "      <td>Miami,FL,USA</td>\n",
       "      <td>33178.0</td>\n",
       "      <td>True</td>\n",
       "      <td>http://www.ebay.com/itm/Sony-Cyber-shot-DSC-W8...</td>\n",
       "      <td>75.99</td>\n",
       "      <td>NaN</td>\n",
       "      <td>None</td>\n",
       "      <td>3.0</td>\n",
       "      <td>EndedWithSales</td>\n",
       "      <td>PayPal</td>\n",
       "      <td>False</td>\n",
       "      <td>None</td>\n",
       "      <td>1500</td>\n",
       "      <td>New other (see details)</td>\n",
       "      <td>StoreInventory</td>\n",
       "      <td>False</td>\n",
       "      <td>True</td>\n",
       "      <td>False</td>\n",
       "      <td>NaN</td>\n",
       "      <td>2017-01-12 03:09:46</td>\n",
       "      <td>2017-01-14 07:03:33</td>\n",
       "      <td>This unit was a retail display.  It has not be...</td>\n",
       "    </tr>\n",
       "    <tr>\n",
       "      <th>1</th>\n",
       "      <td>30569</td>\n",
       "      <td>2017-04-05 06:17:14.195000+00:00</td>\n",
       "      <td>302191372790</td>\n",
       "      <td>False</td>\n",
       "      <td>EBAY-US</td>\n",
       "      <td>Nikon Coolpix P500 12.1MP 36x Optical Zoom Dig...</td>\n",
       "      <td>Roberts Camera - Photo Industry Leader since 1...</td>\n",
       "      <td>US</td>\n",
       "      <td>31388</td>\n",
       "      <td>Digital Cameras</td>\n",
       "      <td>None</td>\n",
       "      <td>None</td>\n",
       "      <td>http://i.ebayimg.com/00/s/MTIwMFgxNjAw/z/oxEAA...</td>\n",
       "      <td>http://thumbs3.ebaystatic.com/m/mc6KIAyyfcvX5z...</td>\n",
       "      <td>Yellow</td>\n",
       "      <td>48</td>\n",
       "      <td>100.0</td>\n",
       "      <td>zmussani</td>\n",
       "      <td>False</td>\n",
       "      <td>True</td>\n",
       "      <td>US</td>\n",
       "      <td>0.0</td>\n",
       "      <td>False</td>\n",
       "      <td>2.0</td>\n",
       "      <td>Calculated</td>\n",
       "      <td>False</td>\n",
       "      <td>Sugar Land,TX,USA</td>\n",
       "      <td>77479.0</td>\n",
       "      <td>False</td>\n",
       "      <td>http://www.ebay.com/itm/Nikon-Coolpix-P500-12-...</td>\n",
       "      <td>72.00</td>\n",
       "      <td>49.0</td>\n",
       "      <td>None</td>\n",
       "      <td>5.0</td>\n",
       "      <td>EndedWithSales</td>\n",
       "      <td>PayPal</td>\n",
       "      <td>False</td>\n",
       "      <td>None</td>\n",
       "      <td>3000</td>\n",
       "      <td>Used</td>\n",
       "      <td>Auction</td>\n",
       "      <td>False</td>\n",
       "      <td>False</td>\n",
       "      <td>False</td>\n",
       "      <td>NaN</td>\n",
       "      <td>2017-01-09 04:46:02</td>\n",
       "      <td>2017-01-14 04:46:02</td>\n",
       "      <td>NULL</td>\n",
       "    </tr>\n",
       "  </tbody>\n",
       "</table>\n",
       "</div>"
      ],
      "text/plain": [
       "      id                        timestamp        itemId topRatedListing  \\\n",
       "0  30565 2017-04-05 06:17:14.195000+00:00  262804086758            True   \n",
       "1  30569 2017-04-05 06:17:14.195000+00:00  302191372790           False   \n",
       "\n",
       "  globalId                                              title  \\\n",
       "0  EBAY-US  Sony Cyber-shot DSC-W830 20.1 MP HD Movie 720p...   \n",
       "1  EBAY-US  Nikon Coolpix P500 12.1MP 36x Optical Zoom Dig...   \n",
       "\n",
       "                                            subtitle country  \\\n",
       "0  Roberts Camera - Photo Industry Leader since 1...      US   \n",
       "1  Roberts Camera - Photo Industry Leader since 1...      US   \n",
       "\n",
       "   primaryCategory.categoryId primaryCategory.categoryName  \\\n",
       "0                       31388              Digital Cameras   \n",
       "1                       31388              Digital Cameras   \n",
       "\n",
       "  secondaryCategory.categoryId secondaryCategory.categoryName  \\\n",
       "0                         None                           None   \n",
       "1                         None                           None   \n",
       "\n",
       "                                     pictureURLLarge  \\\n",
       "0  http://i.ebayimg.com/00/s/MTA2NlgxNjAw/z/NmQAA...   \n",
       "1  http://i.ebayimg.com/00/s/MTIwMFgxNjAw/z/oxEAA...   \n",
       "\n",
       "                                          galleryURL  \\\n",
       "0  http://thumbs3.ebaystatic.com/m/mS-eU_Q86jobL5...   \n",
       "1  http://thumbs3.ebaystatic.com/m/mc6KIAyyfcvX5z...   \n",
       "\n",
       "  sellerInfo.feedbackRatingStar  sellerInfo.feedbackScore  \\\n",
       "0                           Red                      1203   \n",
       "1                        Yellow                        48   \n",
       "\n",
       "   sellerInfo.positiveFeedbackPercent sellerInfo.sellerUserName  \\\n",
       "0                                99.3            hb_marketplace   \n",
       "1                               100.0                  zmussani   \n",
       "\n",
       "  sellerInfo.topRatedSeller shippingInfo.expeditedShipping  \\\n",
       "0                      True                           True   \n",
       "1                     False                           True   \n",
       "\n",
       "  shippingInfo.shipToLocations  shippingInfo.shippingServiceCost.value  \\\n",
       "0                    Worldwide                                     0.0   \n",
       "1                           US                                     0.0   \n",
       "\n",
       "  shippingInfo.oneDayShippingAvailable  shippingInfo.handlingTime  \\\n",
       "0                                False                        1.0   \n",
       "1                                False                        2.0   \n",
       "\n",
       "  shippingInfo.shippingType autoPay           location  postalCode  \\\n",
       "0                      Free    True       Miami,FL,USA     33178.0   \n",
       "1                Calculated   False  Sugar Land,TX,USA     77479.0   \n",
       "\n",
       "  returnsAccepted                                        viewItemURL  \\\n",
       "0            True  http://www.ebay.com/itm/Sony-Cyber-shot-DSC-W8...   \n",
       "1           False  http://www.ebay.com/itm/Nikon-Coolpix-P500-12-...   \n",
       "\n",
       "   sellingStatus.currentPrice.value  startprice endPrice  \\\n",
       "0                             75.99         NaN     None   \n",
       "1                             72.00        49.0     None   \n",
       "\n",
       "   sellingStatus.bidCount sellingStatus.sellingState paymentMethod  \\\n",
       "0                     3.0             EndedWithSales        PayPal   \n",
       "1                     5.0             EndedWithSales        PayPal   \n",
       "\n",
       "  isMultiVariationListing condition  condition.conditionId  \\\n",
       "0                   False      None                   1500   \n",
       "1                   False      None                   3000   \n",
       "\n",
       "  condition.conditionDisplayName listingInfo.listingType listingInfo.gift  \\\n",
       "0        New other (see details)          StoreInventory            False   \n",
       "1                           Used                 Auction            False   \n",
       "\n",
       "  listingInfo.bestOfferEnabled listingInfo.buyItNowAvailable  \\\n",
       "0                         True                         False   \n",
       "1                        False                         False   \n",
       "\n",
       "   listingInfo.buyItNowPrice.value listingInfo.startTime listingInfo.endTime  \\\n",
       "0                              NaN   2017-01-12 03:09:46 2017-01-14 07:03:33   \n",
       "1                              NaN   2017-01-09 04:46:02 2017-01-14 04:46:02   \n",
       "\n",
       "                                conditiondescription  \n",
       "0  This unit was a retail display.  It has not be...  \n",
       "1                                               NULL  "
      ]
     },
     "execution_count": 9,
     "metadata": {},
     "output_type": "execute_result"
    }
   ],
   "source": [
    "df.head(2)"
   ]
  },
  {
   "cell_type": "code",
   "execution_count": 10,
   "metadata": {
    "collapsed": false,
    "deletable": true,
    "editable": true
   },
   "outputs": [
    {
     "data": {
      "text/html": [
       "<div>\n",
       "<table border=\"1\" class=\"dataframe\">\n",
       "  <thead>\n",
       "    <tr style=\"text-align: right;\">\n",
       "      <th></th>\n",
       "      <th>itemId</th>\n",
       "      <th>viewItemURL</th>\n",
       "      <th>sellingStatus.currentPrice.value</th>\n",
       "      <th>listingInfo.listingType</th>\n",
       "      <th>startprice</th>\n",
       "      <th>sellingStatus.bidCount</th>\n",
       "      <th>listingInfo.buyItNowAvailable</th>\n",
       "    </tr>\n",
       "  </thead>\n",
       "  <tbody>\n",
       "    <tr>\n",
       "      <th>0</th>\n",
       "      <td>262804086758</td>\n",
       "      <td>http://www.ebay.com/itm/Sony-Cyber-shot-DSC-W8...</td>\n",
       "      <td>75.99</td>\n",
       "      <td>StoreInventory</td>\n",
       "      <td>NaN</td>\n",
       "      <td>3.0</td>\n",
       "      <td>False</td>\n",
       "    </tr>\n",
       "    <tr>\n",
       "      <th>1</th>\n",
       "      <td>302191372790</td>\n",
       "      <td>http://www.ebay.com/itm/Nikon-Coolpix-P500-12-...</td>\n",
       "      <td>72.00</td>\n",
       "      <td>Auction</td>\n",
       "      <td>49.00</td>\n",
       "      <td>5.0</td>\n",
       "      <td>False</td>\n",
       "    </tr>\n",
       "    <tr>\n",
       "      <th>2</th>\n",
       "      <td>322389959274</td>\n",
       "      <td>http://www.ebay.com/itm/Canon-PowerShot-SX170-...</td>\n",
       "      <td>70.00</td>\n",
       "      <td>FixedPrice</td>\n",
       "      <td>NaN</td>\n",
       "      <td>3.0</td>\n",
       "      <td>False</td>\n",
       "    </tr>\n",
       "    <tr>\n",
       "      <th>3</th>\n",
       "      <td>142239979842</td>\n",
       "      <td>http://www.ebay.com/itm/Fujifilm-XP75-FinePix-...</td>\n",
       "      <td>69.99</td>\n",
       "      <td>StoreInventory</td>\n",
       "      <td>NaN</td>\n",
       "      <td>3.0</td>\n",
       "      <td>False</td>\n",
       "    </tr>\n",
       "    <tr>\n",
       "      <th>4</th>\n",
       "      <td>252717626714</td>\n",
       "      <td>http://www.ebay.com/itm/Sony-Cyber-DSC-H7-8-1-...</td>\n",
       "      <td>65.99</td>\n",
       "      <td>StoreInventory</td>\n",
       "      <td>NaN</td>\n",
       "      <td>3.0</td>\n",
       "      <td>False</td>\n",
       "    </tr>\n",
       "    <tr>\n",
       "      <th>5</th>\n",
       "      <td>182414001252</td>\n",
       "      <td>http://www.ebay.com/itm/CANON-REBEL-XTi-Digita...</td>\n",
       "      <td>72.00</td>\n",
       "      <td>Auction</td>\n",
       "      <td>49.99</td>\n",
       "      <td>10.0</td>\n",
       "      <td>False</td>\n",
       "    </tr>\n",
       "    <tr>\n",
       "      <th>6</th>\n",
       "      <td>302194957225</td>\n",
       "      <td>http://www.ebay.com/itm/Polaroid-Snap-Instant-...</td>\n",
       "      <td>74.88</td>\n",
       "      <td>FixedPrice</td>\n",
       "      <td>NaN</td>\n",
       "      <td>3.0</td>\n",
       "      <td>False</td>\n",
       "    </tr>\n",
       "    <tr>\n",
       "      <th>7</th>\n",
       "      <td>282325036031</td>\n",
       "      <td>http://www.ebay.com/itm/Fujifilm-FinePix-S7000...</td>\n",
       "      <td>65.00</td>\n",
       "      <td>StoreInventory</td>\n",
       "      <td>NaN</td>\n",
       "      <td>29.0</td>\n",
       "      <td>False</td>\n",
       "    </tr>\n",
       "    <tr>\n",
       "      <th>8</th>\n",
       "      <td>142237555435</td>\n",
       "      <td>http://www.ebay.com/itm/Canon-PowerShot-ELPH-3...</td>\n",
       "      <td>69.76</td>\n",
       "      <td>Auction</td>\n",
       "      <td>64.95</td>\n",
       "      <td>3.0</td>\n",
       "      <td>False</td>\n",
       "    </tr>\n",
       "    <tr>\n",
       "      <th>9</th>\n",
       "      <td>371836602547</td>\n",
       "      <td>http://www.ebay.com/itm/Sony-Alpha-a100-10-2-M...</td>\n",
       "      <td>75.00</td>\n",
       "      <td>Auction</td>\n",
       "      <td>0.01</td>\n",
       "      <td>29.0</td>\n",
       "      <td>False</td>\n",
       "    </tr>\n",
       "    <tr>\n",
       "      <th>10</th>\n",
       "      <td>401255633472</td>\n",
       "      <td>http://www.ebay.com/itm/Nikon-CoolPix-S9700-Di...</td>\n",
       "      <td>75.00</td>\n",
       "      <td>Auction</td>\n",
       "      <td>9.99</td>\n",
       "      <td>27.0</td>\n",
       "      <td>False</td>\n",
       "    </tr>\n",
       "  </tbody>\n",
       "</table>\n",
       "</div>"
      ],
      "text/plain": [
       "          itemId                                        viewItemURL  \\\n",
       "0   262804086758  http://www.ebay.com/itm/Sony-Cyber-shot-DSC-W8...   \n",
       "1   302191372790  http://www.ebay.com/itm/Nikon-Coolpix-P500-12-...   \n",
       "2   322389959274  http://www.ebay.com/itm/Canon-PowerShot-SX170-...   \n",
       "3   142239979842  http://www.ebay.com/itm/Fujifilm-XP75-FinePix-...   \n",
       "4   252717626714  http://www.ebay.com/itm/Sony-Cyber-DSC-H7-8-1-...   \n",
       "5   182414001252  http://www.ebay.com/itm/CANON-REBEL-XTi-Digita...   \n",
       "6   302194957225  http://www.ebay.com/itm/Polaroid-Snap-Instant-...   \n",
       "7   282325036031  http://www.ebay.com/itm/Fujifilm-FinePix-S7000...   \n",
       "8   142237555435  http://www.ebay.com/itm/Canon-PowerShot-ELPH-3...   \n",
       "9   371836602547  http://www.ebay.com/itm/Sony-Alpha-a100-10-2-M...   \n",
       "10  401255633472  http://www.ebay.com/itm/Nikon-CoolPix-S9700-Di...   \n",
       "\n",
       "    sellingStatus.currentPrice.value listingInfo.listingType  startprice  \\\n",
       "0                              75.99          StoreInventory         NaN   \n",
       "1                              72.00                 Auction       49.00   \n",
       "2                              70.00              FixedPrice         NaN   \n",
       "3                              69.99          StoreInventory         NaN   \n",
       "4                              65.99          StoreInventory         NaN   \n",
       "5                              72.00                 Auction       49.99   \n",
       "6                              74.88              FixedPrice         NaN   \n",
       "7                              65.00          StoreInventory         NaN   \n",
       "8                              69.76                 Auction       64.95   \n",
       "9                              75.00                 Auction        0.01   \n",
       "10                             75.00                 Auction        9.99   \n",
       "\n",
       "    sellingStatus.bidCount listingInfo.buyItNowAvailable  \n",
       "0                      3.0                         False  \n",
       "1                      5.0                         False  \n",
       "2                      3.0                         False  \n",
       "3                      3.0                         False  \n",
       "4                      3.0                         False  \n",
       "5                     10.0                         False  \n",
       "6                      3.0                         False  \n",
       "7                     29.0                         False  \n",
       "8                      3.0                         False  \n",
       "9                     29.0                         False  \n",
       "10                    27.0                         False  "
      ]
     },
     "execution_count": 10,
     "metadata": {},
     "output_type": "execute_result"
    }
   ],
   "source": [
    "df[['itemId','viewItemURL','sellingStatus.currentPrice.value','listingInfo.listingType','startprice','sellingStatus.bidCount','listingInfo.buyItNowAvailable']].ix[0:10]"
   ]
  },
  {
   "cell_type": "code",
   "execution_count": 27,
   "metadata": {
    "collapsed": false,
    "deletable": true,
    "editable": true
   },
   "outputs": [
    {
     "name": "stdout",
     "output_type": "stream",
     "text": [
      "http://www.ebay.com/itm/Canon-PowerShot-Digital-ELPH-SD1100-Digital-IXUS-80-8-0MP-Digital-Camer-/332172404108\n"
     ]
    }
   ],
   "source": [
    "print df[df['itemId']==332172404108]['viewItemURL'].values[0]"
   ]
  },
  {
   "cell_type": "code",
   "execution_count": 55,
   "metadata": {
    "collapsed": false,
    "deletable": true,
    "editable": true
   },
   "outputs": [
    {
     "data": {
      "text/plain": [
       "True"
      ]
     },
     "execution_count": 55,
     "metadata": {},
     "output_type": "execute_result"
    }
   ],
   "source": [
    "np.isnan(df['startprice'].iloc[1])"
   ]
  },
  {
   "cell_type": "code",
   "execution_count": 162,
   "metadata": {
    "collapsed": false,
    "deletable": true,
    "editable": true
   },
   "outputs": [
    {
     "data": {
      "text/html": [
       "<div>\n",
       "<table border=\"1\" class=\"dataframe\">\n",
       "  <thead>\n",
       "    <tr style=\"text-align: right;\">\n",
       "      <th></th>\n",
       "      <th>itemId</th>\n",
       "      <th>viewItemURL</th>\n",
       "      <th>sellingStatus.currentPrice.value</th>\n",
       "      <th>sellingStatus.sellingState</th>\n",
       "      <th>listingInfo.listingType</th>\n",
       "      <th>startprice</th>\n",
       "      <th>sellingStatus.bidCount</th>\n",
       "      <th>listingInfo.buyItNowAvailable</th>\n",
       "    </tr>\n",
       "  </thead>\n",
       "  <tbody>\n",
       "    <tr>\n",
       "      <th>1</th>\n",
       "      <td>162448179688</td>\n",
       "      <td>http://www.ebay.com/itm/Sony-Cyber-shot-DSC-F7...</td>\n",
       "      <td>20.00</td>\n",
       "      <td>EndedWithSales</td>\n",
       "      <td>StoreInventory</td>\n",
       "      <td>NaN</td>\n",
       "      <td>NaN</td>\n",
       "      <td>False</td>\n",
       "    </tr>\n",
       "    <tr>\n",
       "      <th>2</th>\n",
       "      <td>122429789466</td>\n",
       "      <td>http://www.ebay.com/itm/Samsung-Galaxy-Camera-...</td>\n",
       "      <td>20.00</td>\n",
       "      <td>EndedWithSales</td>\n",
       "      <td>StoreInventory</td>\n",
       "      <td>NaN</td>\n",
       "      <td>NaN</td>\n",
       "      <td>False</td>\n",
       "    </tr>\n",
       "    <tr>\n",
       "      <th>3</th>\n",
       "      <td>222378788434</td>\n",
       "      <td>http://www.ebay.com/itm/Kodak-EasyShare-M580-1...</td>\n",
       "      <td>23.50</td>\n",
       "      <td>EndedWithSales</td>\n",
       "      <td>FixedPrice</td>\n",
       "      <td>NaN</td>\n",
       "      <td>NaN</td>\n",
       "      <td>False</td>\n",
       "    </tr>\n",
       "    <tr>\n",
       "      <th>4</th>\n",
       "      <td>252835915121</td>\n",
       "      <td>http://www.ebay.com/itm/Sanyo-VPC-X1200-12-0-M...</td>\n",
       "      <td>24.00</td>\n",
       "      <td>EndedWithSales</td>\n",
       "      <td>StoreInventory</td>\n",
       "      <td>NaN</td>\n",
       "      <td>NaN</td>\n",
       "      <td>False</td>\n",
       "    </tr>\n",
       "    <tr>\n",
       "      <th>8</th>\n",
       "      <td>132142733893</td>\n",
       "      <td>http://www.ebay.com/itm/Polaroid-M737T-7-0MP-D...</td>\n",
       "      <td>23.00</td>\n",
       "      <td>EndedWithSales</td>\n",
       "      <td>FixedPrice</td>\n",
       "      <td>NaN</td>\n",
       "      <td>NaN</td>\n",
       "      <td>False</td>\n",
       "    </tr>\n",
       "    <tr>\n",
       "      <th>9</th>\n",
       "      <td>262848754826</td>\n",
       "      <td>http://www.ebay.com/itm/Kodak-EasyShare-P880-5...</td>\n",
       "      <td>20.00</td>\n",
       "      <td>EndedWithSales</td>\n",
       "      <td>StoreInventory</td>\n",
       "      <td>NaN</td>\n",
       "      <td>NaN</td>\n",
       "      <td>False</td>\n",
       "    </tr>\n",
       "    <tr>\n",
       "      <th>11</th>\n",
       "      <td>272499024591</td>\n",
       "      <td>http://www.ebay.com/itm/Silver-Sony-Cyber-Shot...</td>\n",
       "      <td>24.00</td>\n",
       "      <td>EndedWithSales</td>\n",
       "      <td>StoreInventory</td>\n",
       "      <td>NaN</td>\n",
       "      <td>NaN</td>\n",
       "      <td>False</td>\n",
       "    </tr>\n",
       "    <tr>\n",
       "      <th>20</th>\n",
       "      <td>322469666570</td>\n",
       "      <td>http://www.ebay.com/itm/Kodak-EasyShare-C813-8...</td>\n",
       "      <td>21.42</td>\n",
       "      <td>EndedWithSales</td>\n",
       "      <td>StoreInventory</td>\n",
       "      <td>NaN</td>\n",
       "      <td>NaN</td>\n",
       "      <td>False</td>\n",
       "    </tr>\n",
       "    <tr>\n",
       "      <th>22</th>\n",
       "      <td>152496317507</td>\n",
       "      <td>http://www.ebay.com/itm/Olympus-Stylus-710-7-1...</td>\n",
       "      <td>23.99</td>\n",
       "      <td>EndedWithSales</td>\n",
       "      <td>FixedPrice</td>\n",
       "      <td>NaN</td>\n",
       "      <td>NaN</td>\n",
       "      <td>False</td>\n",
       "    </tr>\n",
       "    <tr>\n",
       "      <th>259</th>\n",
       "      <td>272610941974</td>\n",
       "      <td>http://www.ebay.com/itm/Sony-Cyber-shot-DSC-H9...</td>\n",
       "      <td>20.00</td>\n",
       "      <td>EndedWithSales</td>\n",
       "      <td>StoreInventory</td>\n",
       "      <td>NaN</td>\n",
       "      <td>NaN</td>\n",
       "      <td>False</td>\n",
       "    </tr>\n",
       "    <tr>\n",
       "      <th>595</th>\n",
       "      <td>322453728653</td>\n",
       "      <td>http://www.ebay.com/itm/Panasonic-LUMIX-DMC-F3...</td>\n",
       "      <td>22.49</td>\n",
       "      <td>EndedWithSales</td>\n",
       "      <td>StoreInventory</td>\n",
       "      <td>NaN</td>\n",
       "      <td>NaN</td>\n",
       "      <td>False</td>\n",
       "    </tr>\n",
       "    <tr>\n",
       "      <th>678</th>\n",
       "      <td>332161019055</td>\n",
       "      <td>http://www.ebay.com/itm/Kodak-EasyShare-Z1285-...</td>\n",
       "      <td>21.95</td>\n",
       "      <td>EndedWithSales</td>\n",
       "      <td>StoreInventory</td>\n",
       "      <td>NaN</td>\n",
       "      <td>NaN</td>\n",
       "      <td>False</td>\n",
       "    </tr>\n",
       "    <tr>\n",
       "      <th>1016</th>\n",
       "      <td>252788129107</td>\n",
       "      <td>http://www.ebay.com/itm/Nikon-D-D1-2-7-MP-Digi...</td>\n",
       "      <td>20.00</td>\n",
       "      <td>EndedWithSales</td>\n",
       "      <td>StoreInventory</td>\n",
       "      <td>NaN</td>\n",
       "      <td>NaN</td>\n",
       "      <td>False</td>\n",
       "    </tr>\n",
       "    <tr>\n",
       "      <th>1017</th>\n",
       "      <td>222424848763</td>\n",
       "      <td>http://www.ebay.com/itm/Kodak-EasyShare-Sport-...</td>\n",
       "      <td>20.00</td>\n",
       "      <td>EndedWithSales</td>\n",
       "      <td>FixedPrice</td>\n",
       "      <td>NaN</td>\n",
       "      <td>NaN</td>\n",
       "      <td>False</td>\n",
       "    </tr>\n",
       "    <tr>\n",
       "      <th>1028</th>\n",
       "      <td>291770235966</td>\n",
       "      <td>http://www.ebay.com/itm/Lens-Pentax-M-ASAHI-SM...</td>\n",
       "      <td>20.00</td>\n",
       "      <td>EndedWithSales</td>\n",
       "      <td>StoreInventory</td>\n",
       "      <td>NaN</td>\n",
       "      <td>NaN</td>\n",
       "      <td>False</td>\n",
       "    </tr>\n",
       "    <tr>\n",
       "      <th>1032</th>\n",
       "      <td>142316041695</td>\n",
       "      <td>http://www.ebay.com/itm/Nikon-COOLPIX-S3100-14...</td>\n",
       "      <td>20.00</td>\n",
       "      <td>EndedWithSales</td>\n",
       "      <td>FixedPrice</td>\n",
       "      <td>NaN</td>\n",
       "      <td>NaN</td>\n",
       "      <td>False</td>\n",
       "    </tr>\n",
       "    <tr>\n",
       "      <th>1102</th>\n",
       "      <td>201801243202</td>\n",
       "      <td>http://www.ebay.com/itm/Kodak-C913-Digital-Cam...</td>\n",
       "      <td>23.99</td>\n",
       "      <td>EndedWithSales</td>\n",
       "      <td>StoreInventory</td>\n",
       "      <td>NaN</td>\n",
       "      <td>NaN</td>\n",
       "      <td>False</td>\n",
       "    </tr>\n",
       "    <tr>\n",
       "      <th>1103</th>\n",
       "      <td>232266686882</td>\n",
       "      <td>http://www.ebay.com/itm/HP-CB350-12-0-MEGAPIXE...</td>\n",
       "      <td>21.00</td>\n",
       "      <td>EndedWithSales</td>\n",
       "      <td>FixedPrice</td>\n",
       "      <td>NaN</td>\n",
       "      <td>NaN</td>\n",
       "      <td>False</td>\n",
       "    </tr>\n",
       "    <tr>\n",
       "      <th>1104</th>\n",
       "      <td>272590229263</td>\n",
       "      <td>http://www.ebay.com/itm/Polaroid-I1037-10-0-MP...</td>\n",
       "      <td>24.00</td>\n",
       "      <td>EndedWithSales</td>\n",
       "      <td>FixedPrice</td>\n",
       "      <td>NaN</td>\n",
       "      <td>NaN</td>\n",
       "      <td>False</td>\n",
       "    </tr>\n",
       "    <tr>\n",
       "      <th>1520</th>\n",
       "      <td>282363788405</td>\n",
       "      <td>http://www.ebay.com/itm/NIKON-DIGITAL-CAMERA-C...</td>\n",
       "      <td>20.69</td>\n",
       "      <td>EndedWithSales</td>\n",
       "      <td>StoreInventory</td>\n",
       "      <td>NaN</td>\n",
       "      <td>NaN</td>\n",
       "      <td>False</td>\n",
       "    </tr>\n",
       "    <tr>\n",
       "      <th>1680</th>\n",
       "      <td>112319370403</td>\n",
       "      <td>http://www.ebay.com/itm/NIKON-COOLPIX-950-DIGI...</td>\n",
       "      <td>22.00</td>\n",
       "      <td>EndedWithSales</td>\n",
       "      <td>FixedPrice</td>\n",
       "      <td>NaN</td>\n",
       "      <td>NaN</td>\n",
       "      <td>False</td>\n",
       "    </tr>\n",
       "    <tr>\n",
       "      <th>2098</th>\n",
       "      <td>122349073216</td>\n",
       "      <td>http://www.ebay.com/itm/Sony-Cyber-shot-DSC-W8...</td>\n",
       "      <td>20.00</td>\n",
       "      <td>EndedWithSales</td>\n",
       "      <td>StoreInventory</td>\n",
       "      <td>NaN</td>\n",
       "      <td>NaN</td>\n",
       "      <td>False</td>\n",
       "    </tr>\n",
       "    <tr>\n",
       "      <th>2180</th>\n",
       "      <td>262837904199</td>\n",
       "      <td>http://www.ebay.com/itm/Kodak-EasyShare-Sport-...</td>\n",
       "      <td>22.75</td>\n",
       "      <td>EndedWithSales</td>\n",
       "      <td>FixedPrice</td>\n",
       "      <td>NaN</td>\n",
       "      <td>NaN</td>\n",
       "      <td>False</td>\n",
       "    </tr>\n",
       "    <tr>\n",
       "      <th>2181</th>\n",
       "      <td>112258531738</td>\n",
       "      <td>http://www.ebay.com/itm/Sony-Cyber-shot-DSC-T9...</td>\n",
       "      <td>22.99</td>\n",
       "      <td>EndedWithSales</td>\n",
       "      <td>StoreInventory</td>\n",
       "      <td>NaN</td>\n",
       "      <td>NaN</td>\n",
       "      <td>False</td>\n",
       "    </tr>\n",
       "    <tr>\n",
       "      <th>2271</th>\n",
       "      <td>282350415264</td>\n",
       "      <td>http://www.ebay.com/itm/Digital-Camera-Lot-13-...</td>\n",
       "      <td>21.00</td>\n",
       "      <td>EndedWithSales</td>\n",
       "      <td>StoreInventory</td>\n",
       "      <td>NaN</td>\n",
       "      <td>NaN</td>\n",
       "      <td>False</td>\n",
       "    </tr>\n",
       "    <tr>\n",
       "      <th>2715</th>\n",
       "      <td>262697283048</td>\n",
       "      <td>http://www.ebay.com/itm/Sony-Cyber-Shot-DSC-S5...</td>\n",
       "      <td>21.99</td>\n",
       "      <td>EndedWithSales</td>\n",
       "      <td>StoreInventory</td>\n",
       "      <td>NaN</td>\n",
       "      <td>NaN</td>\n",
       "      <td>False</td>\n",
       "    </tr>\n",
       "    <tr>\n",
       "      <th>2779</th>\n",
       "      <td>152392353337</td>\n",
       "      <td>http://www.ebay.com/itm/Olympus-V-Series-VG-11...</td>\n",
       "      <td>20.00</td>\n",
       "      <td>EndedWithSales</td>\n",
       "      <td>FixedPrice</td>\n",
       "      <td>NaN</td>\n",
       "      <td>NaN</td>\n",
       "      <td>False</td>\n",
       "    </tr>\n",
       "    <tr>\n",
       "      <th>3002</th>\n",
       "      <td>262838102143</td>\n",
       "      <td>http://www.ebay.com/itm/Kodak-EasyShare-Sport-...</td>\n",
       "      <td>22.75</td>\n",
       "      <td>EndedWithSales</td>\n",
       "      <td>FixedPrice</td>\n",
       "      <td>NaN</td>\n",
       "      <td>NaN</td>\n",
       "      <td>False</td>\n",
       "    </tr>\n",
       "    <tr>\n",
       "      <th>3003</th>\n",
       "      <td>322419488949</td>\n",
       "      <td>http://www.ebay.com/itm/Kodak-EasyShare-Touch-...</td>\n",
       "      <td>20.00</td>\n",
       "      <td>EndedWithSales</td>\n",
       "      <td>FixedPrice</td>\n",
       "      <td>NaN</td>\n",
       "      <td>NaN</td>\n",
       "      <td>False</td>\n",
       "    </tr>\n",
       "    <tr>\n",
       "      <th>3021</th>\n",
       "      <td>201813363232</td>\n",
       "      <td>http://www.ebay.com/itm/Plum-Nikon-COOLPIX-S22...</td>\n",
       "      <td>23.98</td>\n",
       "      <td>EndedWithSales</td>\n",
       "      <td>FixedPrice</td>\n",
       "      <td>NaN</td>\n",
       "      <td>NaN</td>\n",
       "      <td>False</td>\n",
       "    </tr>\n",
       "    <tr>\n",
       "      <th>...</th>\n",
       "      <td>...</td>\n",
       "      <td>...</td>\n",
       "      <td>...</td>\n",
       "      <td>...</td>\n",
       "      <td>...</td>\n",
       "      <td>...</td>\n",
       "      <td>...</td>\n",
       "      <td>...</td>\n",
       "    </tr>\n",
       "    <tr>\n",
       "      <th>77608</th>\n",
       "      <td>152464307607</td>\n",
       "      <td>http://www.ebay.com/itm/Panasonic-Lumix-DMC-FZ...</td>\n",
       "      <td>380.00</td>\n",
       "      <td>EndedWithSales</td>\n",
       "      <td>FixedPrice</td>\n",
       "      <td>NaN</td>\n",
       "      <td>NaN</td>\n",
       "      <td>False</td>\n",
       "    </tr>\n",
       "    <tr>\n",
       "      <th>77704</th>\n",
       "      <td>152462845379</td>\n",
       "      <td>http://www.ebay.com/itm/Sony-Alpha-a5000-20-1M...</td>\n",
       "      <td>398.90</td>\n",
       "      <td>EndedWithSales</td>\n",
       "      <td>StoreInventory</td>\n",
       "      <td>NaN</td>\n",
       "      <td>NaN</td>\n",
       "      <td>False</td>\n",
       "    </tr>\n",
       "    <tr>\n",
       "      <th>77705</th>\n",
       "      <td>172555215617</td>\n",
       "      <td>http://www.ebay.com/itm/Sony-Alpha-a5000-Mirro...</td>\n",
       "      <td>369.00</td>\n",
       "      <td>EndedWithSales</td>\n",
       "      <td>StoreInventory</td>\n",
       "      <td>NaN</td>\n",
       "      <td>NaN</td>\n",
       "      <td>False</td>\n",
       "    </tr>\n",
       "    <tr>\n",
       "      <th>77802</th>\n",
       "      <td>252799943355</td>\n",
       "      <td>http://www.ebay.com/itm/Sony-Alpha-a6000-24-3M...</td>\n",
       "      <td>370.00</td>\n",
       "      <td>EndedWithSales</td>\n",
       "      <td>StoreInventory</td>\n",
       "      <td>NaN</td>\n",
       "      <td>NaN</td>\n",
       "      <td>False</td>\n",
       "    </tr>\n",
       "    <tr>\n",
       "      <th>77902</th>\n",
       "      <td>332127728482</td>\n",
       "      <td>http://www.ebay.com/itm/Excellent-Condition-Ni...</td>\n",
       "      <td>385.00</td>\n",
       "      <td>EndedWithSales</td>\n",
       "      <td>FixedPrice</td>\n",
       "      <td>NaN</td>\n",
       "      <td>NaN</td>\n",
       "      <td>False</td>\n",
       "    </tr>\n",
       "    <tr>\n",
       "      <th>77903</th>\n",
       "      <td>381984106128</td>\n",
       "      <td>http://www.ebay.com/itm/Nikon-D3400-Digital-SL...</td>\n",
       "      <td>389.99</td>\n",
       "      <td>EndedWithSales</td>\n",
       "      <td>StoreInventory</td>\n",
       "      <td>NaN</td>\n",
       "      <td>NaN</td>\n",
       "      <td>False</td>\n",
       "    </tr>\n",
       "    <tr>\n",
       "      <th>77904</th>\n",
       "      <td>272543066273</td>\n",
       "      <td>http://www.ebay.com/itm/Canon-PowerShot-G1-X-1...</td>\n",
       "      <td>374.99</td>\n",
       "      <td>EndedWithSales</td>\n",
       "      <td>StoreInventory</td>\n",
       "      <td>NaN</td>\n",
       "      <td>NaN</td>\n",
       "      <td>False</td>\n",
       "    </tr>\n",
       "    <tr>\n",
       "      <th>78200</th>\n",
       "      <td>292031335016</td>\n",
       "      <td>http://www.ebay.com/itm/Sony-DSC-RX10-digital-...</td>\n",
       "      <td>399.00</td>\n",
       "      <td>EndedWithSales</td>\n",
       "      <td>FixedPrice</td>\n",
       "      <td>NaN</td>\n",
       "      <td>NaN</td>\n",
       "      <td>False</td>\n",
       "    </tr>\n",
       "    <tr>\n",
       "      <th>78201</th>\n",
       "      <td>172535168790</td>\n",
       "      <td>http://www.ebay.com/itm/Canon-EOS-Rebel-T5i-DS...</td>\n",
       "      <td>384.99</td>\n",
       "      <td>EndedWithSales</td>\n",
       "      <td>StoreInventory</td>\n",
       "      <td>NaN</td>\n",
       "      <td>NaN</td>\n",
       "      <td>False</td>\n",
       "    </tr>\n",
       "    <tr>\n",
       "      <th>78202</th>\n",
       "      <td>262857072086</td>\n",
       "      <td>http://www.ebay.com/itm/Sony-Alpha-NEX-6-16-1M...</td>\n",
       "      <td>389.99</td>\n",
       "      <td>EndedWithSales</td>\n",
       "      <td>FixedPrice</td>\n",
       "      <td>NaN</td>\n",
       "      <td>NaN</td>\n",
       "      <td>False</td>\n",
       "    </tr>\n",
       "    <tr>\n",
       "      <th>78298</th>\n",
       "      <td>222407529325</td>\n",
       "      <td>http://www.ebay.com/itm/Kodak-Nikon-DCS-760-Pr...</td>\n",
       "      <td>385.00</td>\n",
       "      <td>EndedWithSales</td>\n",
       "      <td>FixedPrice</td>\n",
       "      <td>NaN</td>\n",
       "      <td>NaN</td>\n",
       "      <td>False</td>\n",
       "    </tr>\n",
       "    <tr>\n",
       "      <th>78397</th>\n",
       "      <td>222399372021</td>\n",
       "      <td>http://www.ebay.com/itm/Canon-EOS-7D-18-0-MP-D...</td>\n",
       "      <td>389.99</td>\n",
       "      <td>EndedWithSales</td>\n",
       "      <td>FixedPrice</td>\n",
       "      <td>NaN</td>\n",
       "      <td>NaN</td>\n",
       "      <td>False</td>\n",
       "    </tr>\n",
       "    <tr>\n",
       "      <th>78498</th>\n",
       "      <td>391695983653</td>\n",
       "      <td>http://www.ebay.com/itm/Fujifilm-X-series-X100...</td>\n",
       "      <td>385.00</td>\n",
       "      <td>EndedWithSales</td>\n",
       "      <td>FixedPrice</td>\n",
       "      <td>NaN</td>\n",
       "      <td>NaN</td>\n",
       "      <td>False</td>\n",
       "    </tr>\n",
       "    <tr>\n",
       "      <th>78595</th>\n",
       "      <td>192093063022</td>\n",
       "      <td>http://www.ebay.com/itm/Leica-C-Type-112-Digit...</td>\n",
       "      <td>379.95</td>\n",
       "      <td>EndedWithSales</td>\n",
       "      <td>FixedPrice</td>\n",
       "      <td>NaN</td>\n",
       "      <td>NaN</td>\n",
       "      <td>False</td>\n",
       "    </tr>\n",
       "    <tr>\n",
       "      <th>78596</th>\n",
       "      <td>162353870690</td>\n",
       "      <td>http://www.ebay.com/itm/New-DJI-OSMO-HANDHELD-...</td>\n",
       "      <td>390.00</td>\n",
       "      <td>EndedWithSales</td>\n",
       "      <td>StoreInventory</td>\n",
       "      <td>NaN</td>\n",
       "      <td>NaN</td>\n",
       "      <td>False</td>\n",
       "    </tr>\n",
       "    <tr>\n",
       "      <th>78597</th>\n",
       "      <td>222393678673</td>\n",
       "      <td>http://www.ebay.com/itm/Canon-EOS-7D-18-0-MP-D...</td>\n",
       "      <td>390.00</td>\n",
       "      <td>EndedWithSales</td>\n",
       "      <td>StoreInventory</td>\n",
       "      <td>NaN</td>\n",
       "      <td>NaN</td>\n",
       "      <td>False</td>\n",
       "    </tr>\n",
       "    <tr>\n",
       "      <th>78598</th>\n",
       "      <td>322392030611</td>\n",
       "      <td>http://www.ebay.com/itm/Nikon-D-D90-12-3MP-Dig...</td>\n",
       "      <td>380.00</td>\n",
       "      <td>EndedWithSales</td>\n",
       "      <td>FixedPrice</td>\n",
       "      <td>NaN</td>\n",
       "      <td>NaN</td>\n",
       "      <td>False</td>\n",
       "    </tr>\n",
       "    <tr>\n",
       "      <th>78599</th>\n",
       "      <td>142260735914</td>\n",
       "      <td>http://www.ebay.com/itm/Canon-EOS-60D-18-0-MP-...</td>\n",
       "      <td>380.00</td>\n",
       "      <td>EndedWithSales</td>\n",
       "      <td>FixedPrice</td>\n",
       "      <td>NaN</td>\n",
       "      <td>NaN</td>\n",
       "      <td>False</td>\n",
       "    </tr>\n",
       "    <tr>\n",
       "      <th>78600</th>\n",
       "      <td>122335482331</td>\n",
       "      <td>http://www.ebay.com/itm/Canon-EOS-60D-18-0-MP-...</td>\n",
       "      <td>380.00</td>\n",
       "      <td>EndedWithSales</td>\n",
       "      <td>FixedPrice</td>\n",
       "      <td>NaN</td>\n",
       "      <td>NaN</td>\n",
       "      <td>False</td>\n",
       "    </tr>\n",
       "    <tr>\n",
       "      <th>78601</th>\n",
       "      <td>222393039107</td>\n",
       "      <td>http://www.ebay.com/itm/New-Canon-EOS-Rebel-T5...</td>\n",
       "      <td>390.00</td>\n",
       "      <td>EndedWithSales</td>\n",
       "      <td>FixedPrice</td>\n",
       "      <td>NaN</td>\n",
       "      <td>NaN</td>\n",
       "      <td>False</td>\n",
       "    </tr>\n",
       "    <tr>\n",
       "      <th>78602</th>\n",
       "      <td>262831631293</td>\n",
       "      <td>http://www.ebay.com/itm/Canon-Rebel-T6-EOS-DSL...</td>\n",
       "      <td>386.00</td>\n",
       "      <td>EndedWithSales</td>\n",
       "      <td>StoreInventory</td>\n",
       "      <td>NaN</td>\n",
       "      <td>NaN</td>\n",
       "      <td>False</td>\n",
       "    </tr>\n",
       "    <tr>\n",
       "      <th>78603</th>\n",
       "      <td>262831742286</td>\n",
       "      <td>http://www.ebay.com/itm/Panasonic-Lumix-DMC-G7...</td>\n",
       "      <td>399.00</td>\n",
       "      <td>EndedWithSales</td>\n",
       "      <td>FixedPrice</td>\n",
       "      <td>NaN</td>\n",
       "      <td>NaN</td>\n",
       "      <td>False</td>\n",
       "    </tr>\n",
       "    <tr>\n",
       "      <th>78694</th>\n",
       "      <td>122329986872</td>\n",
       "      <td>http://www.ebay.com/itm/Canon-EOS-700D-T5i-Bod...</td>\n",
       "      <td>380.00</td>\n",
       "      <td>EndedWithSales</td>\n",
       "      <td>FixedPrice</td>\n",
       "      <td>NaN</td>\n",
       "      <td>NaN</td>\n",
       "      <td>False</td>\n",
       "    </tr>\n",
       "    <tr>\n",
       "      <th>78695</th>\n",
       "      <td>122329983564</td>\n",
       "      <td>http://www.ebay.com/itm/Canon-EOS-700D-T5i-Bod...</td>\n",
       "      <td>380.00</td>\n",
       "      <td>EndedWithSales</td>\n",
       "      <td>FixedPrice</td>\n",
       "      <td>NaN</td>\n",
       "      <td>NaN</td>\n",
       "      <td>False</td>\n",
       "    </tr>\n",
       "    <tr>\n",
       "      <th>78696</th>\n",
       "      <td>122329968660</td>\n",
       "      <td>http://www.ebay.com/itm/Canon-EOS-700D-T5i-Bod...</td>\n",
       "      <td>380.00</td>\n",
       "      <td>EndedWithSales</td>\n",
       "      <td>FixedPrice</td>\n",
       "      <td>NaN</td>\n",
       "      <td>NaN</td>\n",
       "      <td>False</td>\n",
       "    </tr>\n",
       "    <tr>\n",
       "      <th>78990</th>\n",
       "      <td>122310145744</td>\n",
       "      <td>http://www.ebay.com/itm/Sony-A58-Extra-Lens-/1...</td>\n",
       "      <td>375.00</td>\n",
       "      <td>EndedWithSales</td>\n",
       "      <td>FixedPrice</td>\n",
       "      <td>NaN</td>\n",
       "      <td>NaN</td>\n",
       "      <td>False</td>\n",
       "    </tr>\n",
       "    <tr>\n",
       "      <th>79076</th>\n",
       "      <td>371890815530</td>\n",
       "      <td>http://www.ebay.com/itm/Sony-Cyber-shot-DSC-HX...</td>\n",
       "      <td>139.99</td>\n",
       "      <td>EndedWithSales</td>\n",
       "      <td>StoreInventory</td>\n",
       "      <td>NaN</td>\n",
       "      <td>NaN</td>\n",
       "      <td>False</td>\n",
       "    </tr>\n",
       "    <tr>\n",
       "      <th>79077</th>\n",
       "      <td>292054003401</td>\n",
       "      <td>http://www.ebay.com/itm/Nikon-Coolpix-L840-Dig...</td>\n",
       "      <td>149.99</td>\n",
       "      <td>EndedWithSales</td>\n",
       "      <td>StoreInventory</td>\n",
       "      <td>NaN</td>\n",
       "      <td>NaN</td>\n",
       "      <td>False</td>\n",
       "    </tr>\n",
       "    <tr>\n",
       "      <th>79201</th>\n",
       "      <td>122397731738</td>\n",
       "      <td>http://www.ebay.com/itm/Panasonic-DMC-GF5-12-1...</td>\n",
       "      <td>132.99</td>\n",
       "      <td>EndedWithSales</td>\n",
       "      <td>FixedPrice</td>\n",
       "      <td>NaN</td>\n",
       "      <td>NaN</td>\n",
       "      <td>False</td>\n",
       "    </tr>\n",
       "    <tr>\n",
       "      <th>79232</th>\n",
       "      <td>122378182951</td>\n",
       "      <td>http://www.ebay.com/itm/PLEASE-READ-FIRST-Niko...</td>\n",
       "      <td>143.99</td>\n",
       "      <td>EndedWithSales</td>\n",
       "      <td>StoreInventory</td>\n",
       "      <td>NaN</td>\n",
       "      <td>NaN</td>\n",
       "      <td>False</td>\n",
       "    </tr>\n",
       "  </tbody>\n",
       "</table>\n",
       "<p>817 rows × 8 columns</p>\n",
       "</div>"
      ],
      "text/plain": [
       "             itemId                                        viewItemURL  \\\n",
       "1      162448179688  http://www.ebay.com/itm/Sony-Cyber-shot-DSC-F7...   \n",
       "2      122429789466  http://www.ebay.com/itm/Samsung-Galaxy-Camera-...   \n",
       "3      222378788434  http://www.ebay.com/itm/Kodak-EasyShare-M580-1...   \n",
       "4      252835915121  http://www.ebay.com/itm/Sanyo-VPC-X1200-12-0-M...   \n",
       "8      132142733893  http://www.ebay.com/itm/Polaroid-M737T-7-0MP-D...   \n",
       "9      262848754826  http://www.ebay.com/itm/Kodak-EasyShare-P880-5...   \n",
       "11     272499024591  http://www.ebay.com/itm/Silver-Sony-Cyber-Shot...   \n",
       "20     322469666570  http://www.ebay.com/itm/Kodak-EasyShare-C813-8...   \n",
       "22     152496317507  http://www.ebay.com/itm/Olympus-Stylus-710-7-1...   \n",
       "259    272610941974  http://www.ebay.com/itm/Sony-Cyber-shot-DSC-H9...   \n",
       "595    322453728653  http://www.ebay.com/itm/Panasonic-LUMIX-DMC-F3...   \n",
       "678    332161019055  http://www.ebay.com/itm/Kodak-EasyShare-Z1285-...   \n",
       "1016   252788129107  http://www.ebay.com/itm/Nikon-D-D1-2-7-MP-Digi...   \n",
       "1017   222424848763  http://www.ebay.com/itm/Kodak-EasyShare-Sport-...   \n",
       "1028   291770235966  http://www.ebay.com/itm/Lens-Pentax-M-ASAHI-SM...   \n",
       "1032   142316041695  http://www.ebay.com/itm/Nikon-COOLPIX-S3100-14...   \n",
       "1102   201801243202  http://www.ebay.com/itm/Kodak-C913-Digital-Cam...   \n",
       "1103   232266686882  http://www.ebay.com/itm/HP-CB350-12-0-MEGAPIXE...   \n",
       "1104   272590229263  http://www.ebay.com/itm/Polaroid-I1037-10-0-MP...   \n",
       "1520   282363788405  http://www.ebay.com/itm/NIKON-DIGITAL-CAMERA-C...   \n",
       "1680   112319370403  http://www.ebay.com/itm/NIKON-COOLPIX-950-DIGI...   \n",
       "2098   122349073216  http://www.ebay.com/itm/Sony-Cyber-shot-DSC-W8...   \n",
       "2180   262837904199  http://www.ebay.com/itm/Kodak-EasyShare-Sport-...   \n",
       "2181   112258531738  http://www.ebay.com/itm/Sony-Cyber-shot-DSC-T9...   \n",
       "2271   282350415264  http://www.ebay.com/itm/Digital-Camera-Lot-13-...   \n",
       "2715   262697283048  http://www.ebay.com/itm/Sony-Cyber-Shot-DSC-S5...   \n",
       "2779   152392353337  http://www.ebay.com/itm/Olympus-V-Series-VG-11...   \n",
       "3002   262838102143  http://www.ebay.com/itm/Kodak-EasyShare-Sport-...   \n",
       "3003   322419488949  http://www.ebay.com/itm/Kodak-EasyShare-Touch-...   \n",
       "3021   201813363232  http://www.ebay.com/itm/Plum-Nikon-COOLPIX-S22...   \n",
       "...             ...                                                ...   \n",
       "77608  152464307607  http://www.ebay.com/itm/Panasonic-Lumix-DMC-FZ...   \n",
       "77704  152462845379  http://www.ebay.com/itm/Sony-Alpha-a5000-20-1M...   \n",
       "77705  172555215617  http://www.ebay.com/itm/Sony-Alpha-a5000-Mirro...   \n",
       "77802  252799943355  http://www.ebay.com/itm/Sony-Alpha-a6000-24-3M...   \n",
       "77902  332127728482  http://www.ebay.com/itm/Excellent-Condition-Ni...   \n",
       "77903  381984106128  http://www.ebay.com/itm/Nikon-D3400-Digital-SL...   \n",
       "77904  272543066273  http://www.ebay.com/itm/Canon-PowerShot-G1-X-1...   \n",
       "78200  292031335016  http://www.ebay.com/itm/Sony-DSC-RX10-digital-...   \n",
       "78201  172535168790  http://www.ebay.com/itm/Canon-EOS-Rebel-T5i-DS...   \n",
       "78202  262857072086  http://www.ebay.com/itm/Sony-Alpha-NEX-6-16-1M...   \n",
       "78298  222407529325  http://www.ebay.com/itm/Kodak-Nikon-DCS-760-Pr...   \n",
       "78397  222399372021  http://www.ebay.com/itm/Canon-EOS-7D-18-0-MP-D...   \n",
       "78498  391695983653  http://www.ebay.com/itm/Fujifilm-X-series-X100...   \n",
       "78595  192093063022  http://www.ebay.com/itm/Leica-C-Type-112-Digit...   \n",
       "78596  162353870690  http://www.ebay.com/itm/New-DJI-OSMO-HANDHELD-...   \n",
       "78597  222393678673  http://www.ebay.com/itm/Canon-EOS-7D-18-0-MP-D...   \n",
       "78598  322392030611  http://www.ebay.com/itm/Nikon-D-D90-12-3MP-Dig...   \n",
       "78599  142260735914  http://www.ebay.com/itm/Canon-EOS-60D-18-0-MP-...   \n",
       "78600  122335482331  http://www.ebay.com/itm/Canon-EOS-60D-18-0-MP-...   \n",
       "78601  222393039107  http://www.ebay.com/itm/New-Canon-EOS-Rebel-T5...   \n",
       "78602  262831631293  http://www.ebay.com/itm/Canon-Rebel-T6-EOS-DSL...   \n",
       "78603  262831742286  http://www.ebay.com/itm/Panasonic-Lumix-DMC-G7...   \n",
       "78694  122329986872  http://www.ebay.com/itm/Canon-EOS-700D-T5i-Bod...   \n",
       "78695  122329983564  http://www.ebay.com/itm/Canon-EOS-700D-T5i-Bod...   \n",
       "78696  122329968660  http://www.ebay.com/itm/Canon-EOS-700D-T5i-Bod...   \n",
       "78990  122310145744  http://www.ebay.com/itm/Sony-A58-Extra-Lens-/1...   \n",
       "79076  371890815530  http://www.ebay.com/itm/Sony-Cyber-shot-DSC-HX...   \n",
       "79077  292054003401  http://www.ebay.com/itm/Nikon-Coolpix-L840-Dig...   \n",
       "79201  122397731738  http://www.ebay.com/itm/Panasonic-DMC-GF5-12-1...   \n",
       "79232  122378182951  http://www.ebay.com/itm/PLEASE-READ-FIRST-Niko...   \n",
       "\n",
       "       sellingStatus.currentPrice.value sellingStatus.sellingState  \\\n",
       "1                                 20.00             EndedWithSales   \n",
       "2                                 20.00             EndedWithSales   \n",
       "3                                 23.50             EndedWithSales   \n",
       "4                                 24.00             EndedWithSales   \n",
       "8                                 23.00             EndedWithSales   \n",
       "9                                 20.00             EndedWithSales   \n",
       "11                                24.00             EndedWithSales   \n",
       "20                                21.42             EndedWithSales   \n",
       "22                                23.99             EndedWithSales   \n",
       "259                               20.00             EndedWithSales   \n",
       "595                               22.49             EndedWithSales   \n",
       "678                               21.95             EndedWithSales   \n",
       "1016                              20.00             EndedWithSales   \n",
       "1017                              20.00             EndedWithSales   \n",
       "1028                              20.00             EndedWithSales   \n",
       "1032                              20.00             EndedWithSales   \n",
       "1102                              23.99             EndedWithSales   \n",
       "1103                              21.00             EndedWithSales   \n",
       "1104                              24.00             EndedWithSales   \n",
       "1520                              20.69             EndedWithSales   \n",
       "1680                              22.00             EndedWithSales   \n",
       "2098                              20.00             EndedWithSales   \n",
       "2180                              22.75             EndedWithSales   \n",
       "2181                              22.99             EndedWithSales   \n",
       "2271                              21.00             EndedWithSales   \n",
       "2715                              21.99             EndedWithSales   \n",
       "2779                              20.00             EndedWithSales   \n",
       "3002                              22.75             EndedWithSales   \n",
       "3003                              20.00             EndedWithSales   \n",
       "3021                              23.98             EndedWithSales   \n",
       "...                                 ...                        ...   \n",
       "77608                            380.00             EndedWithSales   \n",
       "77704                            398.90             EndedWithSales   \n",
       "77705                            369.00             EndedWithSales   \n",
       "77802                            370.00             EndedWithSales   \n",
       "77902                            385.00             EndedWithSales   \n",
       "77903                            389.99             EndedWithSales   \n",
       "77904                            374.99             EndedWithSales   \n",
       "78200                            399.00             EndedWithSales   \n",
       "78201                            384.99             EndedWithSales   \n",
       "78202                            389.99             EndedWithSales   \n",
       "78298                            385.00             EndedWithSales   \n",
       "78397                            389.99             EndedWithSales   \n",
       "78498                            385.00             EndedWithSales   \n",
       "78595                            379.95             EndedWithSales   \n",
       "78596                            390.00             EndedWithSales   \n",
       "78597                            390.00             EndedWithSales   \n",
       "78598                            380.00             EndedWithSales   \n",
       "78599                            380.00             EndedWithSales   \n",
       "78600                            380.00             EndedWithSales   \n",
       "78601                            390.00             EndedWithSales   \n",
       "78602                            386.00             EndedWithSales   \n",
       "78603                            399.00             EndedWithSales   \n",
       "78694                            380.00             EndedWithSales   \n",
       "78695                            380.00             EndedWithSales   \n",
       "78696                            380.00             EndedWithSales   \n",
       "78990                            375.00             EndedWithSales   \n",
       "79076                            139.99             EndedWithSales   \n",
       "79077                            149.99             EndedWithSales   \n",
       "79201                            132.99             EndedWithSales   \n",
       "79232                            143.99             EndedWithSales   \n",
       "\n",
       "      listingInfo.listingType  startprice  sellingStatus.bidCount  \\\n",
       "1              StoreInventory         NaN                     NaN   \n",
       "2              StoreInventory         NaN                     NaN   \n",
       "3                  FixedPrice         NaN                     NaN   \n",
       "4              StoreInventory         NaN                     NaN   \n",
       "8                  FixedPrice         NaN                     NaN   \n",
       "9              StoreInventory         NaN                     NaN   \n",
       "11             StoreInventory         NaN                     NaN   \n",
       "20             StoreInventory         NaN                     NaN   \n",
       "22                 FixedPrice         NaN                     NaN   \n",
       "259            StoreInventory         NaN                     NaN   \n",
       "595            StoreInventory         NaN                     NaN   \n",
       "678            StoreInventory         NaN                     NaN   \n",
       "1016           StoreInventory         NaN                     NaN   \n",
       "1017               FixedPrice         NaN                     NaN   \n",
       "1028           StoreInventory         NaN                     NaN   \n",
       "1032               FixedPrice         NaN                     NaN   \n",
       "1102           StoreInventory         NaN                     NaN   \n",
       "1103               FixedPrice         NaN                     NaN   \n",
       "1104               FixedPrice         NaN                     NaN   \n",
       "1520           StoreInventory         NaN                     NaN   \n",
       "1680               FixedPrice         NaN                     NaN   \n",
       "2098           StoreInventory         NaN                     NaN   \n",
       "2180               FixedPrice         NaN                     NaN   \n",
       "2181           StoreInventory         NaN                     NaN   \n",
       "2271           StoreInventory         NaN                     NaN   \n",
       "2715           StoreInventory         NaN                     NaN   \n",
       "2779               FixedPrice         NaN                     NaN   \n",
       "3002               FixedPrice         NaN                     NaN   \n",
       "3003               FixedPrice         NaN                     NaN   \n",
       "3021               FixedPrice         NaN                     NaN   \n",
       "...                       ...         ...                     ...   \n",
       "77608              FixedPrice         NaN                     NaN   \n",
       "77704          StoreInventory         NaN                     NaN   \n",
       "77705          StoreInventory         NaN                     NaN   \n",
       "77802          StoreInventory         NaN                     NaN   \n",
       "77902              FixedPrice         NaN                     NaN   \n",
       "77903          StoreInventory         NaN                     NaN   \n",
       "77904          StoreInventory         NaN                     NaN   \n",
       "78200              FixedPrice         NaN                     NaN   \n",
       "78201          StoreInventory         NaN                     NaN   \n",
       "78202              FixedPrice         NaN                     NaN   \n",
       "78298              FixedPrice         NaN                     NaN   \n",
       "78397              FixedPrice         NaN                     NaN   \n",
       "78498              FixedPrice         NaN                     NaN   \n",
       "78595              FixedPrice         NaN                     NaN   \n",
       "78596          StoreInventory         NaN                     NaN   \n",
       "78597          StoreInventory         NaN                     NaN   \n",
       "78598              FixedPrice         NaN                     NaN   \n",
       "78599              FixedPrice         NaN                     NaN   \n",
       "78600              FixedPrice         NaN                     NaN   \n",
       "78601              FixedPrice         NaN                     NaN   \n",
       "78602          StoreInventory         NaN                     NaN   \n",
       "78603              FixedPrice         NaN                     NaN   \n",
       "78694              FixedPrice         NaN                     NaN   \n",
       "78695              FixedPrice         NaN                     NaN   \n",
       "78696              FixedPrice         NaN                     NaN   \n",
       "78990              FixedPrice         NaN                     NaN   \n",
       "79076          StoreInventory         NaN                     NaN   \n",
       "79077          StoreInventory         NaN                     NaN   \n",
       "79201              FixedPrice         NaN                     NaN   \n",
       "79232          StoreInventory         NaN                     NaN   \n",
       "\n",
       "      listingInfo.buyItNowAvailable  \n",
       "1                             False  \n",
       "2                             False  \n",
       "3                             False  \n",
       "4                             False  \n",
       "8                             False  \n",
       "9                             False  \n",
       "11                            False  \n",
       "20                            False  \n",
       "22                            False  \n",
       "259                           False  \n",
       "595                           False  \n",
       "678                           False  \n",
       "1016                          False  \n",
       "1017                          False  \n",
       "1028                          False  \n",
       "1032                          False  \n",
       "1102                          False  \n",
       "1103                          False  \n",
       "1104                          False  \n",
       "1520                          False  \n",
       "1680                          False  \n",
       "2098                          False  \n",
       "2180                          False  \n",
       "2181                          False  \n",
       "2271                          False  \n",
       "2715                          False  \n",
       "2779                          False  \n",
       "3002                          False  \n",
       "3003                          False  \n",
       "3021                          False  \n",
       "...                             ...  \n",
       "77608                         False  \n",
       "77704                         False  \n",
       "77705                         False  \n",
       "77802                         False  \n",
       "77902                         False  \n",
       "77903                         False  \n",
       "77904                         False  \n",
       "78200                         False  \n",
       "78201                         False  \n",
       "78202                         False  \n",
       "78298                         False  \n",
       "78397                         False  \n",
       "78498                         False  \n",
       "78595                         False  \n",
       "78596                         False  \n",
       "78597                         False  \n",
       "78598                         False  \n",
       "78599                         False  \n",
       "78600                         False  \n",
       "78601                         False  \n",
       "78602                         False  \n",
       "78603                         False  \n",
       "78694                         False  \n",
       "78695                         False  \n",
       "78696                         False  \n",
       "78990                         False  \n",
       "79076                         False  \n",
       "79077                         False  \n",
       "79201                         False  \n",
       "79232                         False  \n",
       "\n",
       "[817 rows x 8 columns]"
      ]
     },
     "execution_count": 162,
     "metadata": {},
     "output_type": "execute_result"
    }
   ],
   "source": [
    "# listingType of ‘Auction’, no ‘startPrice’, BuyItNowAvailable=‘f’, and bidCount=1\n",
    "mask = (df['sellingStatus.sellingState']=='EndedWithSales')\\\n",
    "            & (np.isnan(df['sellingStatus.bidCount']))\n",
    "#             & (df['listingInfo.listingType']=='AuctionWithBIN')\n",
    "#             & (np.isnan(df['startprice']))\n",
    "#             & (df['sellingStatus.bidCount']==1.0)\n",
    "#             & (np.isfinite(df['startprice'])\\\n",
    "\n",
    "df[mask].loc[:,['itemId','viewItemURL','sellingStatus.currentPrice.value','sellingStatus.sellingState','listingInfo.listingType','startprice','sellingStatus.bidCount','listingInfo.buyItNowAvailable']]"
   ]
  },
  {
   "cell_type": "code",
   "execution_count": 26,
   "metadata": {
    "collapsed": false,
    "deletable": true,
    "editable": true
   },
   "outputs": [
    {
     "name": "stdout",
     "output_type": "stream",
     "text": [
      "http://www.ebay.com/itm/FujiFilm-FinePix-S-9150-16mp-50X-Zoom-Full-HD-Bundel-Used-/162416076668\n"
     ]
    }
   ],
   "source": [
    "print df[df['itemId']==162416076668]['viewItemURL'].values[0]"
   ]
  },
  {
   "cell_type": "code",
   "execution_count": 20,
   "metadata": {
    "collapsed": false,
    "deletable": true,
    "editable": true
   },
   "outputs": [
    {
     "data": {
      "text/html": [
       "<div>\n",
       "<table border=\"1\" class=\"dataframe\">\n",
       "  <thead>\n",
       "    <tr style=\"text-align: right;\">\n",
       "      <th></th>\n",
       "      <th>id</th>\n",
       "      <th>timestamp</th>\n",
       "      <th>itemId</th>\n",
       "      <th>topRatedListing</th>\n",
       "      <th>globalId</th>\n",
       "      <th>title</th>\n",
       "      <th>subtitle</th>\n",
       "      <th>country</th>\n",
       "      <th>primaryCategory.categoryId</th>\n",
       "      <th>primaryCategory.categoryName</th>\n",
       "      <th>secondaryCategory.categoryId</th>\n",
       "      <th>secondaryCategory.categoryName</th>\n",
       "      <th>pictureURLLarge</th>\n",
       "      <th>galleryURL</th>\n",
       "      <th>sellerInfo.feedbackRatingStar</th>\n",
       "      <th>sellerInfo.feedbackScore</th>\n",
       "      <th>sellerInfo.positiveFeedbackPercent</th>\n",
       "      <th>sellerInfo.topRatedSeller</th>\n",
       "      <th>shippingInfo.expeditedShipping</th>\n",
       "      <th>shippingInfo.shipToLocations</th>\n",
       "      <th>shippingInfo.shippingServiceCost.value</th>\n",
       "      <th>shippingInfo.oneDayShippingAvailable</th>\n",
       "      <th>shippingInfo.handlingTime</th>\n",
       "      <th>shippingInfo.shippingType</th>\n",
       "      <th>autoPay</th>\n",
       "      <th>returnsAccepted</th>\n",
       "      <th>viewItemURL</th>\n",
       "      <th>sellingStatus.currentPrice.value</th>\n",
       "      <th>startprice</th>\n",
       "      <th>endPrice</th>\n",
       "      <th>sellingStatus.bidCount</th>\n",
       "      <th>sellingStatus.sellingState</th>\n",
       "      <th>condition</th>\n",
       "      <th>condition.conditionId</th>\n",
       "      <th>condition.conditionDisplayName</th>\n",
       "      <th>listingInfo.listingType</th>\n",
       "      <th>listingInfo.bestOfferEnabled</th>\n",
       "      <th>listingInfo.buyItNowAvailable</th>\n",
       "      <th>listingInfo.buyItNowPrice.value</th>\n",
       "      <th>listingInfo.startTime</th>\n",
       "      <th>listingInfo.endTime</th>\n",
       "      <th>conditiondescription</th>\n",
       "    </tr>\n",
       "  </thead>\n",
       "  <tbody>\n",
       "    <tr>\n",
       "      <th>41</th>\n",
       "      <td>30613</td>\n",
       "      <td>2017-04-05 06:17:16.791000+00:00</td>\n",
       "      <td>172481027840</td>\n",
       "      <td>False</td>\n",
       "      <td>EBAY-US</td>\n",
       "      <td>Sony Alpha SLT-A58 20.4 MP Digital SLR Camera -</td>\n",
       "      <td>None</td>\n",
       "      <td>US</td>\n",
       "      <td>31388</td>\n",
       "      <td>Digital Cameras</td>\n",
       "      <td>None</td>\n",
       "      <td>None</td>\n",
       "      <td>http://i.ebayimg.com/00/s/NDgwWDY0MA==/z/uRQAA...</td>\n",
       "      <td>http://thumbs1.ebaystatic.com/m/mvI9fEnhMJRjgg...</td>\n",
       "      <td>Yellow</td>\n",
       "      <td>13</td>\n",
       "      <td>100.0</td>\n",
       "      <td>False</td>\n",
       "      <td>True</td>\n",
       "      <td>US</td>\n",
       "      <td>6.0</td>\n",
       "      <td>False</td>\n",
       "      <td>1</td>\n",
       "      <td>Calculated</td>\n",
       "      <td>False</td>\n",
       "      <td>False</td>\n",
       "      <td>http://www.ebay.com/itm/Sony-Alpha-SLT-A58-20-...</td>\n",
       "      <td>69.0</td>\n",
       "      <td>NaN</td>\n",
       "      <td>None</td>\n",
       "      <td>8.0</td>\n",
       "      <td>EndedWithSales</td>\n",
       "      <td>None</td>\n",
       "      <td>7000</td>\n",
       "      <td>For parts or not working</td>\n",
       "      <td>Auction</td>\n",
       "      <td>False</td>\n",
       "      <td>False</td>\n",
       "      <td>NaN</td>\n",
       "      <td>2017-01-10 03:07:32</td>\n",
       "      <td>2017-01-13 03:07:32</td>\n",
       "      <td>None</td>\n",
       "    </tr>\n",
       "  </tbody>\n",
       "</table>\n",
       "</div>"
      ],
      "text/plain": [
       "       id                        timestamp        itemId topRatedListing  \\\n",
       "41  30613 2017-04-05 06:17:16.791000+00:00  172481027840           False   \n",
       "\n",
       "   globalId                                            title subtitle country  \\\n",
       "41  EBAY-US  Sony Alpha SLT-A58 20.4 MP Digital SLR Camera -     None      US   \n",
       "\n",
       "    primaryCategory.categoryId primaryCategory.categoryName  \\\n",
       "41                       31388              Digital Cameras   \n",
       "\n",
       "   secondaryCategory.categoryId secondaryCategory.categoryName  \\\n",
       "41                         None                           None   \n",
       "\n",
       "                                      pictureURLLarge  \\\n",
       "41  http://i.ebayimg.com/00/s/NDgwWDY0MA==/z/uRQAA...   \n",
       "\n",
       "                                           galleryURL  \\\n",
       "41  http://thumbs1.ebaystatic.com/m/mvI9fEnhMJRjgg...   \n",
       "\n",
       "   sellerInfo.feedbackRatingStar  sellerInfo.feedbackScore  \\\n",
       "41                        Yellow                        13   \n",
       "\n",
       "    sellerInfo.positiveFeedbackPercent sellerInfo.topRatedSeller  \\\n",
       "41                               100.0                     False   \n",
       "\n",
       "   shippingInfo.expeditedShipping shippingInfo.shipToLocations  \\\n",
       "41                           True                           US   \n",
       "\n",
       "    shippingInfo.shippingServiceCost.value  \\\n",
       "41                                     6.0   \n",
       "\n",
       "   shippingInfo.oneDayShippingAvailable  shippingInfo.handlingTime  \\\n",
       "41                                False                          1   \n",
       "\n",
       "   shippingInfo.shippingType autoPay returnsAccepted  \\\n",
       "41                Calculated   False           False   \n",
       "\n",
       "                                          viewItemURL  \\\n",
       "41  http://www.ebay.com/itm/Sony-Alpha-SLT-A58-20-...   \n",
       "\n",
       "    sellingStatus.currentPrice.value  startprice endPrice  \\\n",
       "41                              69.0         NaN     None   \n",
       "\n",
       "    sellingStatus.bidCount sellingStatus.sellingState condition  \\\n",
       "41                     8.0             EndedWithSales      None   \n",
       "\n",
       "    condition.conditionId condition.conditionDisplayName  \\\n",
       "41                   7000       For parts or not working   \n",
       "\n",
       "   listingInfo.listingType listingInfo.bestOfferEnabled  \\\n",
       "41                 Auction                        False   \n",
       "\n",
       "   listingInfo.buyItNowAvailable  listingInfo.buyItNowPrice.value  \\\n",
       "41                         False                              NaN   \n",
       "\n",
       "   listingInfo.startTime listingInfo.endTime conditiondescription  \n",
       "41   2017-01-10 03:07:32 2017-01-13 03:07:32                 None  "
      ]
     },
     "execution_count": 20,
     "metadata": {},
     "output_type": "execute_result"
    }
   ],
   "source": [
    "df[df['itemId']==172481027840]"
   ]
  },
  {
   "cell_type": "code",
   "execution_count": 174,
   "metadata": {
    "collapsed": false,
    "deletable": true,
    "editable": true
   },
   "outputs": [
    {
     "name": "stdout",
     "output_type": "stream",
     "text": [
      "http://www.ebay.com/itm/canon-eos-rebel-t3-/122337817575\n"
     ]
    }
   ],
   "source": [
    "# 116.0 nan 7.0\n",
    "mask = (df['sellingStatus.bidCount']==7.0) & (np.isnan(df['startprice'])) & (df['sellingStatus.currentPrice.value']==116.0)\n",
    "print df[mask]['viewItemURL'].values[0]"
   ]
  },
  {
   "cell_type": "code",
   "execution_count": 82,
   "metadata": {
    "collapsed": false,
    "deletable": true,
    "editable": true
   },
   "outputs": [
    {
     "name": "stdout",
     "output_type": "stream",
     "text": [
      "http://www.ebay.com/itm/Nikon-COOLPIX-S3100-14-0-MP-Digital-Camera-Silver-/222456355217\n"
     ]
    }
   ],
   "source": [
    "print df[(df['listingInfo.listingType']=='Auction') & (df['sellingStatus.bidCount']==1.0)].iloc[0]['viewItemURL']"
   ]
  },
  {
   "cell_type": "code",
   "execution_count": 98,
   "metadata": {
    "collapsed": false,
    "deletable": true,
    "editable": true
   },
   "outputs": [
    {
     "data": {
      "text/html": [
       "<div>\n",
       "<table border=\"1\" class=\"dataframe\">\n",
       "  <thead>\n",
       "    <tr style=\"text-align: right;\">\n",
       "      <th></th>\n",
       "      <th>itemId</th>\n",
       "      <th>viewItemURL</th>\n",
       "      <th>sellingStatus.currentPrice.value</th>\n",
       "      <th>sellingStatus.sellingState</th>\n",
       "      <th>listingInfo.listingType</th>\n",
       "      <th>startprice</th>\n",
       "      <th>sellingStatus.bidCount</th>\n",
       "      <th>listingInfo.buyItNowAvailable</th>\n",
       "    </tr>\n",
       "  </thead>\n",
       "  <tbody>\n",
       "    <tr>\n",
       "      <th>56</th>\n",
       "      <td>222452911011</td>\n",
       "      <td>http://www.ebay.com/itm/Nikon-COOLPIX-5700-5-0...</td>\n",
       "      <td>20.00</td>\n",
       "      <td>EndedWithoutSales</td>\n",
       "      <td>AuctionWithBIN</td>\n",
       "      <td>NaN</td>\n",
       "      <td>0.0</td>\n",
       "      <td>True</td>\n",
       "    </tr>\n",
       "    <tr>\n",
       "      <th>63</th>\n",
       "      <td>292067974116</td>\n",
       "      <td>http://www.ebay.com/itm/Kodak-Easyshare-Digita...</td>\n",
       "      <td>22.00</td>\n",
       "      <td>EndedWithoutSales</td>\n",
       "      <td>AuctionWithBIN</td>\n",
       "      <td>NaN</td>\n",
       "      <td>0.0</td>\n",
       "      <td>True</td>\n",
       "    </tr>\n",
       "    <tr>\n",
       "      <th>71</th>\n",
       "      <td>292074420518</td>\n",
       "      <td>http://www.ebay.com/itm/HD-Video-Camera-Olympu...</td>\n",
       "      <td>20.00</td>\n",
       "      <td>EndedWithoutSales</td>\n",
       "      <td>AuctionWithBIN</td>\n",
       "      <td>NaN</td>\n",
       "      <td>0.0</td>\n",
       "      <td>True</td>\n",
       "    </tr>\n",
       "    <tr>\n",
       "      <th>74</th>\n",
       "      <td>132141388402</td>\n",
       "      <td>http://www.ebay.com/itm/Fujifilm-FinePix-F-Ser...</td>\n",
       "      <td>20.00</td>\n",
       "      <td>EndedWithoutSales</td>\n",
       "      <td>AuctionWithBIN</td>\n",
       "      <td>NaN</td>\n",
       "      <td>0.0</td>\n",
       "      <td>True</td>\n",
       "    </tr>\n",
       "    <tr>\n",
       "      <th>84</th>\n",
       "      <td>112348350233</td>\n",
       "      <td>http://www.ebay.com/itm/Canon-PowerShot-Digita...</td>\n",
       "      <td>20.00</td>\n",
       "      <td>EndedWithoutSales</td>\n",
       "      <td>AuctionWithBIN</td>\n",
       "      <td>NaN</td>\n",
       "      <td>0.0</td>\n",
       "      <td>True</td>\n",
       "    </tr>\n",
       "    <tr>\n",
       "      <th>85</th>\n",
       "      <td>222454806425</td>\n",
       "      <td>http://www.ebay.com/itm/Canon-Powershot-SD4000...</td>\n",
       "      <td>20.00</td>\n",
       "      <td>EndedWithoutSales</td>\n",
       "      <td>AuctionWithBIN</td>\n",
       "      <td>NaN</td>\n",
       "      <td>0.0</td>\n",
       "      <td>True</td>\n",
       "    </tr>\n",
       "    <tr>\n",
       "      <th>86</th>\n",
       "      <td>162448179463</td>\n",
       "      <td>http://www.ebay.com/itm/Four-4-Cameras-Sony-Ol...</td>\n",
       "      <td>20.00</td>\n",
       "      <td>EndedWithoutSales</td>\n",
       "      <td>AuctionWithBIN</td>\n",
       "      <td>NaN</td>\n",
       "      <td>0.0</td>\n",
       "      <td>True</td>\n",
       "    </tr>\n",
       "    <tr>\n",
       "      <th>116</th>\n",
       "      <td>262910323498</td>\n",
       "      <td>http://www.ebay.com/itm/Cannon-PowerShot-G2-4-...</td>\n",
       "      <td>20.00</td>\n",
       "      <td>EndedWithoutSales</td>\n",
       "      <td>AuctionWithBIN</td>\n",
       "      <td>NaN</td>\n",
       "      <td>0.0</td>\n",
       "      <td>True</td>\n",
       "    </tr>\n",
       "    <tr>\n",
       "      <th>117</th>\n",
       "      <td>292067175540</td>\n",
       "      <td>http://www.ebay.com/itm/purple-digital-camera-...</td>\n",
       "      <td>21.99</td>\n",
       "      <td>EndedWithoutSales</td>\n",
       "      <td>AuctionWithBIN</td>\n",
       "      <td>NaN</td>\n",
       "      <td>0.0</td>\n",
       "      <td>True</td>\n",
       "    </tr>\n",
       "    <tr>\n",
       "      <th>119</th>\n",
       "      <td>232283107829</td>\n",
       "      <td>http://www.ebay.com/itm/Nikon-COOLPIX-S6200-16...</td>\n",
       "      <td>20.00</td>\n",
       "      <td>EndedWithoutSales</td>\n",
       "      <td>AuctionWithBIN</td>\n",
       "      <td>NaN</td>\n",
       "      <td>0.0</td>\n",
       "      <td>True</td>\n",
       "    </tr>\n",
       "    <tr>\n",
       "      <th>184</th>\n",
       "      <td>292066345210</td>\n",
       "      <td>http://www.ebay.com/itm/Olympus-CAMEDIA-C-5000...</td>\n",
       "      <td>22.99</td>\n",
       "      <td>EndedWithoutSales</td>\n",
       "      <td>AuctionWithBIN</td>\n",
       "      <td>NaN</td>\n",
       "      <td>0.0</td>\n",
       "      <td>True</td>\n",
       "    </tr>\n",
       "    <tr>\n",
       "      <th>200</th>\n",
       "      <td>122416543957</td>\n",
       "      <td>http://www.ebay.com/itm/hp-photosmart-a536-pho...</td>\n",
       "      <td>20.00</td>\n",
       "      <td>EndedWithoutSales</td>\n",
       "      <td>AuctionWithBIN</td>\n",
       "      <td>NaN</td>\n",
       "      <td>0.0</td>\n",
       "      <td>True</td>\n",
       "    </tr>\n",
       "    <tr>\n",
       "      <th>218</th>\n",
       "      <td>172591699123</td>\n",
       "      <td>http://www.ebay.com/itm/COMPLETE-W-BOX-Fujifil...</td>\n",
       "      <td>24.00</td>\n",
       "      <td>EndedWithoutSales</td>\n",
       "      <td>AuctionWithBIN</td>\n",
       "      <td>NaN</td>\n",
       "      <td>0.0</td>\n",
       "      <td>True</td>\n",
       "    </tr>\n",
       "    <tr>\n",
       "      <th>226</th>\n",
       "      <td>152483710129</td>\n",
       "      <td>http://www.ebay.com/itm/Konica-Minolta-DiMAGE-...</td>\n",
       "      <td>23.90</td>\n",
       "      <td>EndedWithoutSales</td>\n",
       "      <td>AuctionWithBIN</td>\n",
       "      <td>NaN</td>\n",
       "      <td>0.0</td>\n",
       "      <td>True</td>\n",
       "    </tr>\n",
       "    <tr>\n",
       "      <th>235</th>\n",
       "      <td>182500913081</td>\n",
       "      <td>http://www.ebay.com/itm/Kodak-EasyShare-DX7630...</td>\n",
       "      <td>20.00</td>\n",
       "      <td>EndedWithoutSales</td>\n",
       "      <td>AuctionWithBIN</td>\n",
       "      <td>NaN</td>\n",
       "      <td>0.0</td>\n",
       "      <td>True</td>\n",
       "    </tr>\n",
       "    <tr>\n",
       "      <th>238</th>\n",
       "      <td>322460874250</td>\n",
       "      <td>http://www.ebay.com/itm/sony-Cyber-shot-10-1-M...</td>\n",
       "      <td>20.00</td>\n",
       "      <td>EndedWithoutSales</td>\n",
       "      <td>AuctionWithBIN</td>\n",
       "      <td>NaN</td>\n",
       "      <td>0.0</td>\n",
       "      <td>True</td>\n",
       "    </tr>\n",
       "    <tr>\n",
       "      <th>251</th>\n",
       "      <td>152487669333</td>\n",
       "      <td>http://www.ebay.com/itm/SONY-CYBER-SHOT-14-7-M...</td>\n",
       "      <td>20.00</td>\n",
       "      <td>EndedWithoutSales</td>\n",
       "      <td>AuctionWithBIN</td>\n",
       "      <td>NaN</td>\n",
       "      <td>0.0</td>\n",
       "      <td>True</td>\n",
       "    </tr>\n",
       "    <tr>\n",
       "      <th>256</th>\n",
       "      <td>232280976489</td>\n",
       "      <td>http://www.ebay.com/itm/fujifilm-digital-camer...</td>\n",
       "      <td>20.00</td>\n",
       "      <td>EndedWithoutSales</td>\n",
       "      <td>AuctionWithBIN</td>\n",
       "      <td>NaN</td>\n",
       "      <td>0.0</td>\n",
       "      <td>True</td>\n",
       "    </tr>\n",
       "    <tr>\n",
       "      <th>260</th>\n",
       "      <td>162442112952</td>\n",
       "      <td>http://www.ebay.com/itm/SVP-Aqua-WP5300-/16244...</td>\n",
       "      <td>20.00</td>\n",
       "      <td>EndedWithoutSales</td>\n",
       "      <td>AuctionWithBIN</td>\n",
       "      <td>NaN</td>\n",
       "      <td>0.0</td>\n",
       "      <td>True</td>\n",
       "    </tr>\n",
       "    <tr>\n",
       "      <th>294</th>\n",
       "      <td>132132181997</td>\n",
       "      <td>http://www.ebay.com/itm/sony-cybershot-camera-...</td>\n",
       "      <td>20.00</td>\n",
       "      <td>EndedWithoutSales</td>\n",
       "      <td>AuctionWithBIN</td>\n",
       "      <td>NaN</td>\n",
       "      <td>0.0</td>\n",
       "      <td>True</td>\n",
       "    </tr>\n",
       "    <tr>\n",
       "      <th>323</th>\n",
       "      <td>112343892139</td>\n",
       "      <td>http://www.ebay.com/itm/Nikon-COOLPIX-L29-16-1...</td>\n",
       "      <td>20.99</td>\n",
       "      <td>EndedWithoutSales</td>\n",
       "      <td>AuctionWithBIN</td>\n",
       "      <td>NaN</td>\n",
       "      <td>0.0</td>\n",
       "      <td>True</td>\n",
       "    </tr>\n",
       "    <tr>\n",
       "      <th>352</th>\n",
       "      <td>292063282755</td>\n",
       "      <td>http://www.ebay.com/itm/olympus-digital-camera...</td>\n",
       "      <td>20.00</td>\n",
       "      <td>EndedWithoutSales</td>\n",
       "      <td>AuctionWithBIN</td>\n",
       "      <td>NaN</td>\n",
       "      <td>0.0</td>\n",
       "      <td>True</td>\n",
       "    </tr>\n",
       "    <tr>\n",
       "      <th>359</th>\n",
       "      <td>182505649118</td>\n",
       "      <td>http://www.ebay.com/itm/Fujifilm-FinePix-JX-Se...</td>\n",
       "      <td>20.00</td>\n",
       "      <td>EndedWithoutSales</td>\n",
       "      <td>AuctionWithBIN</td>\n",
       "      <td>NaN</td>\n",
       "      <td>0.0</td>\n",
       "      <td>True</td>\n",
       "    </tr>\n",
       "    <tr>\n",
       "      <th>360</th>\n",
       "      <td>201864283426</td>\n",
       "      <td>http://www.ebay.com/itm/Sony-Cyber-shot-DSC-T3...</td>\n",
       "      <td>24.00</td>\n",
       "      <td>EndedWithoutSales</td>\n",
       "      <td>AuctionWithBIN</td>\n",
       "      <td>NaN</td>\n",
       "      <td>0.0</td>\n",
       "      <td>True</td>\n",
       "    </tr>\n",
       "    <tr>\n",
       "      <th>362</th>\n",
       "      <td>152480696400</td>\n",
       "      <td>http://www.ebay.com/itm/Konica-Minolta-DiMAGE-...</td>\n",
       "      <td>20.00</td>\n",
       "      <td>EndedWithoutSales</td>\n",
       "      <td>AuctionWithBIN</td>\n",
       "      <td>NaN</td>\n",
       "      <td>0.0</td>\n",
       "      <td>True</td>\n",
       "    </tr>\n",
       "    <tr>\n",
       "      <th>508</th>\n",
       "      <td>172579241067</td>\n",
       "      <td>http://www.ebay.com/itm/NIKON-COOLPIX-L4-Digit...</td>\n",
       "      <td>22.99</td>\n",
       "      <td>EndedWithoutSales</td>\n",
       "      <td>AuctionWithBIN</td>\n",
       "      <td>NaN</td>\n",
       "      <td>0.0</td>\n",
       "      <td>True</td>\n",
       "    </tr>\n",
       "    <tr>\n",
       "      <th>514</th>\n",
       "      <td>322464512068</td>\n",
       "      <td>http://www.ebay.com/itm/Nikon-COOLPIX-S6300-16...</td>\n",
       "      <td>21.00</td>\n",
       "      <td>EndedWithoutSales</td>\n",
       "      <td>AuctionWithBIN</td>\n",
       "      <td>NaN</td>\n",
       "      <td>0.0</td>\n",
       "      <td>True</td>\n",
       "    </tr>\n",
       "    <tr>\n",
       "      <th>518</th>\n",
       "      <td>282402210959</td>\n",
       "      <td>http://www.ebay.com/itm/Canon-PowerShot-Digita...</td>\n",
       "      <td>23.99</td>\n",
       "      <td>EndedWithoutSales</td>\n",
       "      <td>AuctionWithBIN</td>\n",
       "      <td>NaN</td>\n",
       "      <td>0.0</td>\n",
       "      <td>True</td>\n",
       "    </tr>\n",
       "    <tr>\n",
       "      <th>523</th>\n",
       "      <td>292061322952</td>\n",
       "      <td>http://www.ebay.com/itm/Camera-/292061322952</td>\n",
       "      <td>20.00</td>\n",
       "      <td>EndedWithoutSales</td>\n",
       "      <td>AuctionWithBIN</td>\n",
       "      <td>NaN</td>\n",
       "      <td>0.0</td>\n",
       "      <td>True</td>\n",
       "    </tr>\n",
       "    <tr>\n",
       "      <th>529</th>\n",
       "      <td>262898241418</td>\n",
       "      <td>http://www.ebay.com/itm/FujiFilm-Camera-FinePi...</td>\n",
       "      <td>20.00</td>\n",
       "      <td>EndedWithoutSales</td>\n",
       "      <td>AuctionWithBIN</td>\n",
       "      <td>NaN</td>\n",
       "      <td>0.0</td>\n",
       "      <td>True</td>\n",
       "    </tr>\n",
       "    <tr>\n",
       "      <th>...</th>\n",
       "      <td>...</td>\n",
       "      <td>...</td>\n",
       "      <td>...</td>\n",
       "      <td>...</td>\n",
       "      <td>...</td>\n",
       "      <td>...</td>\n",
       "      <td>...</td>\n",
       "      <td>...</td>\n",
       "    </tr>\n",
       "    <tr>\n",
       "      <th>77501</th>\n",
       "      <td>142307619928</td>\n",
       "      <td>http://www.ebay.com/itm/Bmpcc-Black-Magic-Pock...</td>\n",
       "      <td>369.00</td>\n",
       "      <td>EndedWithoutSales</td>\n",
       "      <td>AuctionWithBIN</td>\n",
       "      <td>NaN</td>\n",
       "      <td>0.0</td>\n",
       "      <td>True</td>\n",
       "    </tr>\n",
       "    <tr>\n",
       "      <th>77547</th>\n",
       "      <td>112323256374</td>\n",
       "      <td>http://www.ebay.com/itm/Nikon-D-D300S-12-3MP-D...</td>\n",
       "      <td>380.00</td>\n",
       "      <td>EndedWithoutSales</td>\n",
       "      <td>AuctionWithBIN</td>\n",
       "      <td>NaN</td>\n",
       "      <td>0.0</td>\n",
       "      <td>True</td>\n",
       "    </tr>\n",
       "    <tr>\n",
       "      <th>77564</th>\n",
       "      <td>172559914580</td>\n",
       "      <td>http://www.ebay.com/itm/Canon-Digital-PowerSho...</td>\n",
       "      <td>384.99</td>\n",
       "      <td>EndedWithoutSales</td>\n",
       "      <td>AuctionWithBIN</td>\n",
       "      <td>NaN</td>\n",
       "      <td>0.0</td>\n",
       "      <td>True</td>\n",
       "    </tr>\n",
       "    <tr>\n",
       "      <th>77574</th>\n",
       "      <td>292044055619</td>\n",
       "      <td>http://www.ebay.com/itm/Fuji-XT10-Body-Only-Si...</td>\n",
       "      <td>375.00</td>\n",
       "      <td>EndedWithoutSales</td>\n",
       "      <td>AuctionWithBIN</td>\n",
       "      <td>NaN</td>\n",
       "      <td>0.0</td>\n",
       "      <td>True</td>\n",
       "    </tr>\n",
       "    <tr>\n",
       "      <th>77581</th>\n",
       "      <td>172558923260</td>\n",
       "      <td>http://www.ebay.com/itm/Nikon-D-D3100-14-2-MP-...</td>\n",
       "      <td>370.00</td>\n",
       "      <td>EndedWithoutSales</td>\n",
       "      <td>AuctionWithBIN</td>\n",
       "      <td>NaN</td>\n",
       "      <td>0.0</td>\n",
       "      <td>True</td>\n",
       "    </tr>\n",
       "    <tr>\n",
       "      <th>77611</th>\n",
       "      <td>272575171543</td>\n",
       "      <td>http://www.ebay.com/itm/Sony-Alpha-a5000-20-1-...</td>\n",
       "      <td>375.00</td>\n",
       "      <td>EndedWithoutSales</td>\n",
       "      <td>AuctionWithBIN</td>\n",
       "      <td>NaN</td>\n",
       "      <td>0.0</td>\n",
       "      <td>True</td>\n",
       "    </tr>\n",
       "    <tr>\n",
       "      <th>77643</th>\n",
       "      <td>262876923635</td>\n",
       "      <td>http://www.ebay.com/itm/Sony-Alpha-NEX-5T-16-1...</td>\n",
       "      <td>370.00</td>\n",
       "      <td>EndedWithoutSales</td>\n",
       "      <td>AuctionWithBIN</td>\n",
       "      <td>NaN</td>\n",
       "      <td>0.0</td>\n",
       "      <td>True</td>\n",
       "    </tr>\n",
       "    <tr>\n",
       "      <th>77645</th>\n",
       "      <td>322439247053</td>\n",
       "      <td>http://www.ebay.com/itm/Canon-Rebel-T5-Camera-...</td>\n",
       "      <td>380.00</td>\n",
       "      <td>EndedWithoutSales</td>\n",
       "      <td>AuctionWithBIN</td>\n",
       "      <td>NaN</td>\n",
       "      <td>1.0</td>\n",
       "      <td>True</td>\n",
       "    </tr>\n",
       "    <tr>\n",
       "      <th>77697</th>\n",
       "      <td>272581144523</td>\n",
       "      <td>http://www.ebay.com/itm/Nikon-D7100-24-1-MP-DX...</td>\n",
       "      <td>399.00</td>\n",
       "      <td>EndedWithoutSales</td>\n",
       "      <td>AuctionWithBIN</td>\n",
       "      <td>NaN</td>\n",
       "      <td>0.0</td>\n",
       "      <td>True</td>\n",
       "    </tr>\n",
       "    <tr>\n",
       "      <th>77706</th>\n",
       "      <td>272580079032</td>\n",
       "      <td>http://www.ebay.com/itm/NIKON-D3200-lens-packa...</td>\n",
       "      <td>375.00</td>\n",
       "      <td>EndedWithoutSales</td>\n",
       "      <td>AuctionWithBIN</td>\n",
       "      <td>NaN</td>\n",
       "      <td>0.0</td>\n",
       "      <td>True</td>\n",
       "    </tr>\n",
       "    <tr>\n",
       "      <th>77719</th>\n",
       "      <td>162413711297</td>\n",
       "      <td>http://www.ebay.com/itm/Sony-NEX-3-14-2-MP-Dig...</td>\n",
       "      <td>380.00</td>\n",
       "      <td>EndedWithoutSales</td>\n",
       "      <td>AuctionWithBIN</td>\n",
       "      <td>NaN</td>\n",
       "      <td>0.0</td>\n",
       "      <td>True</td>\n",
       "    </tr>\n",
       "    <tr>\n",
       "      <th>77735</th>\n",
       "      <td>201836844714</td>\n",
       "      <td>http://www.ebay.com/itm/New-Olympus-Pen-EP5-w-...</td>\n",
       "      <td>373.22</td>\n",
       "      <td>EndedWithoutSales</td>\n",
       "      <td>AuctionWithBIN</td>\n",
       "      <td>NaN</td>\n",
       "      <td>0.0</td>\n",
       "      <td>True</td>\n",
       "    </tr>\n",
       "    <tr>\n",
       "      <th>77751</th>\n",
       "      <td>292040519401</td>\n",
       "      <td>http://www.ebay.com/itm/samsung-nx3000-/292040...</td>\n",
       "      <td>379.99</td>\n",
       "      <td>EndedWithoutSales</td>\n",
       "      <td>AuctionWithBIN</td>\n",
       "      <td>NaN</td>\n",
       "      <td>0.0</td>\n",
       "      <td>True</td>\n",
       "    </tr>\n",
       "    <tr>\n",
       "      <th>77765</th>\n",
       "      <td>182472247099</td>\n",
       "      <td>http://www.ebay.com/itm/Sony-Alpha-NEX-7K-24-3...</td>\n",
       "      <td>380.00</td>\n",
       "      <td>EndedWithoutSales</td>\n",
       "      <td>AuctionWithBIN</td>\n",
       "      <td>NaN</td>\n",
       "      <td>9.0</td>\n",
       "      <td>True</td>\n",
       "    </tr>\n",
       "    <tr>\n",
       "      <th>77783</th>\n",
       "      <td>182470302592</td>\n",
       "      <td>http://www.ebay.com/itm/Nikon-D70-DSLR-Camera-...</td>\n",
       "      <td>390.00</td>\n",
       "      <td>EndedWithoutSales</td>\n",
       "      <td>AuctionWithBIN</td>\n",
       "      <td>NaN</td>\n",
       "      <td>0.0</td>\n",
       "      <td>True</td>\n",
       "    </tr>\n",
       "    <tr>\n",
       "      <th>77789</th>\n",
       "      <td>252789938824</td>\n",
       "      <td>http://www.ebay.com/itm/nikon-d90-/252789938824</td>\n",
       "      <td>390.00</td>\n",
       "      <td>EndedWithoutSales</td>\n",
       "      <td>AuctionWithBIN</td>\n",
       "      <td>NaN</td>\n",
       "      <td>0.0</td>\n",
       "      <td>True</td>\n",
       "    </tr>\n",
       "    <tr>\n",
       "      <th>79084</th>\n",
       "      <td>232266834346</td>\n",
       "      <td>http://www.ebay.com/itm/Canon-EOS-Rebel-T3-12-...</td>\n",
       "      <td>150.00</td>\n",
       "      <td>EndedWithoutSales</td>\n",
       "      <td>AuctionWithBIN</td>\n",
       "      <td>NaN</td>\n",
       "      <td>0.0</td>\n",
       "      <td>True</td>\n",
       "    </tr>\n",
       "    <tr>\n",
       "      <th>79093</th>\n",
       "      <td>122392817631</td>\n",
       "      <td>http://www.ebay.com/itm/Canon-EOS-Rebel-T3-w-1...</td>\n",
       "      <td>150.00</td>\n",
       "      <td>EndedWithoutSales</td>\n",
       "      <td>AuctionWithBIN</td>\n",
       "      <td>NaN</td>\n",
       "      <td>0.0</td>\n",
       "      <td>True</td>\n",
       "    </tr>\n",
       "    <tr>\n",
       "      <th>79094</th>\n",
       "      <td>201846315937</td>\n",
       "      <td>http://www.ebay.com/itm/CANON-EOS-Digital-Rebe...</td>\n",
       "      <td>136.99</td>\n",
       "      <td>EndedWithoutSales</td>\n",
       "      <td>AuctionWithBIN</td>\n",
       "      <td>NaN</td>\n",
       "      <td>0.0</td>\n",
       "      <td>True</td>\n",
       "    </tr>\n",
       "    <tr>\n",
       "      <th>79095</th>\n",
       "      <td>302249514605</td>\n",
       "      <td>http://www.ebay.com/itm/Canon-PowerShot-SX530-...</td>\n",
       "      <td>150.00</td>\n",
       "      <td>EndedWithoutSales</td>\n",
       "      <td>AuctionWithBIN</td>\n",
       "      <td>NaN</td>\n",
       "      <td>0.0</td>\n",
       "      <td>True</td>\n",
       "    </tr>\n",
       "    <tr>\n",
       "      <th>79148</th>\n",
       "      <td>201857616365</td>\n",
       "      <td>http://www.ebay.com/itm/Nikon-D3200-Kit-/20185...</td>\n",
       "      <td>150.00</td>\n",
       "      <td>EndedWithoutSales</td>\n",
       "      <td>AuctionWithBIN</td>\n",
       "      <td>NaN</td>\n",
       "      <td>0.0</td>\n",
       "      <td>True</td>\n",
       "    </tr>\n",
       "    <tr>\n",
       "      <th>79165</th>\n",
       "      <td>252811972474</td>\n",
       "      <td>http://www.ebay.com/itm/Cameras-And-Lenses-/25...</td>\n",
       "      <td>150.00</td>\n",
       "      <td>EndedWithoutSales</td>\n",
       "      <td>AuctionWithBIN</td>\n",
       "      <td>NaN</td>\n",
       "      <td>0.0</td>\n",
       "      <td>True</td>\n",
       "    </tr>\n",
       "    <tr>\n",
       "      <th>79166</th>\n",
       "      <td>252811745586</td>\n",
       "      <td>http://www.ebay.com/itm/Panasonic-Lumix-DMC-G2...</td>\n",
       "      <td>140.00</td>\n",
       "      <td>EndedWithoutSales</td>\n",
       "      <td>AuctionWithBIN</td>\n",
       "      <td>NaN</td>\n",
       "      <td>0.0</td>\n",
       "      <td>True</td>\n",
       "    </tr>\n",
       "    <tr>\n",
       "      <th>79172</th>\n",
       "      <td>332152820322</td>\n",
       "      <td>http://www.ebay.com/itm/Ricoh-WG-WG-4-16-0-MP-...</td>\n",
       "      <td>150.00</td>\n",
       "      <td>EndedWithoutSales</td>\n",
       "      <td>AuctionWithBIN</td>\n",
       "      <td>NaN</td>\n",
       "      <td>0.0</td>\n",
       "      <td>True</td>\n",
       "    </tr>\n",
       "    <tr>\n",
       "      <th>79195</th>\n",
       "      <td>332155589348</td>\n",
       "      <td>http://www.ebay.com/itm/Nikon-D2H-Camera-Body-...</td>\n",
       "      <td>139.99</td>\n",
       "      <td>EndedWithoutSales</td>\n",
       "      <td>AuctionWithBIN</td>\n",
       "      <td>NaN</td>\n",
       "      <td>0.0</td>\n",
       "      <td>True</td>\n",
       "    </tr>\n",
       "    <tr>\n",
       "      <th>79213</th>\n",
       "      <td>302253593649</td>\n",
       "      <td>http://www.ebay.com/itm/Polaroid-Snap-Touch-In...</td>\n",
       "      <td>150.00</td>\n",
       "      <td>EndedWithoutSales</td>\n",
       "      <td>AuctionWithBIN</td>\n",
       "      <td>NaN</td>\n",
       "      <td>0.0</td>\n",
       "      <td>True</td>\n",
       "    </tr>\n",
       "    <tr>\n",
       "      <th>79215</th>\n",
       "      <td>142314573154</td>\n",
       "      <td>http://www.ebay.com/itm/SONY-SLT-A58-DIGITAL-S...</td>\n",
       "      <td>150.00</td>\n",
       "      <td>EndedWithoutSales</td>\n",
       "      <td>AuctionWithBIN</td>\n",
       "      <td>NaN</td>\n",
       "      <td>0.0</td>\n",
       "      <td>True</td>\n",
       "    </tr>\n",
       "    <tr>\n",
       "      <th>79223</th>\n",
       "      <td>302254628367</td>\n",
       "      <td>http://www.ebay.com/itm/Leica-D-Lux-4-Camera-B...</td>\n",
       "      <td>149.99</td>\n",
       "      <td>EndedWithoutSales</td>\n",
       "      <td>AuctionWithBIN</td>\n",
       "      <td>NaN</td>\n",
       "      <td>0.0</td>\n",
       "      <td>True</td>\n",
       "    </tr>\n",
       "    <tr>\n",
       "      <th>79235</th>\n",
       "      <td>232273273534</td>\n",
       "      <td>http://www.ebay.com/itm/PENTAX-Pentax-Q-Q10-12...</td>\n",
       "      <td>150.00</td>\n",
       "      <td>EndedWithoutSales</td>\n",
       "      <td>AuctionWithBIN</td>\n",
       "      <td>NaN</td>\n",
       "      <td>0.0</td>\n",
       "      <td>True</td>\n",
       "    </tr>\n",
       "    <tr>\n",
       "      <th>79236</th>\n",
       "      <td>252826334320</td>\n",
       "      <td>http://www.ebay.com/itm/Nikon-D200-10-2MP-Digi...</td>\n",
       "      <td>150.00</td>\n",
       "      <td>EndedWithoutSales</td>\n",
       "      <td>AuctionWithBIN</td>\n",
       "      <td>NaN</td>\n",
       "      <td>0.0</td>\n",
       "      <td>True</td>\n",
       "    </tr>\n",
       "  </tbody>\n",
       "</table>\n",
       "<p>2638 rows × 8 columns</p>\n",
       "</div>"
      ],
      "text/plain": [
       "             itemId                                        viewItemURL  \\\n",
       "56     222452911011  http://www.ebay.com/itm/Nikon-COOLPIX-5700-5-0...   \n",
       "63     292067974116  http://www.ebay.com/itm/Kodak-Easyshare-Digita...   \n",
       "71     292074420518  http://www.ebay.com/itm/HD-Video-Camera-Olympu...   \n",
       "74     132141388402  http://www.ebay.com/itm/Fujifilm-FinePix-F-Ser...   \n",
       "84     112348350233  http://www.ebay.com/itm/Canon-PowerShot-Digita...   \n",
       "85     222454806425  http://www.ebay.com/itm/Canon-Powershot-SD4000...   \n",
       "86     162448179463  http://www.ebay.com/itm/Four-4-Cameras-Sony-Ol...   \n",
       "116    262910323498  http://www.ebay.com/itm/Cannon-PowerShot-G2-4-...   \n",
       "117    292067175540  http://www.ebay.com/itm/purple-digital-camera-...   \n",
       "119    232283107829  http://www.ebay.com/itm/Nikon-COOLPIX-S6200-16...   \n",
       "184    292066345210  http://www.ebay.com/itm/Olympus-CAMEDIA-C-5000...   \n",
       "200    122416543957  http://www.ebay.com/itm/hp-photosmart-a536-pho...   \n",
       "218    172591699123  http://www.ebay.com/itm/COMPLETE-W-BOX-Fujifil...   \n",
       "226    152483710129  http://www.ebay.com/itm/Konica-Minolta-DiMAGE-...   \n",
       "235    182500913081  http://www.ebay.com/itm/Kodak-EasyShare-DX7630...   \n",
       "238    322460874250  http://www.ebay.com/itm/sony-Cyber-shot-10-1-M...   \n",
       "251    152487669333  http://www.ebay.com/itm/SONY-CYBER-SHOT-14-7-M...   \n",
       "256    232280976489  http://www.ebay.com/itm/fujifilm-digital-camer...   \n",
       "260    162442112952  http://www.ebay.com/itm/SVP-Aqua-WP5300-/16244...   \n",
       "294    132132181997  http://www.ebay.com/itm/sony-cybershot-camera-...   \n",
       "323    112343892139  http://www.ebay.com/itm/Nikon-COOLPIX-L29-16-1...   \n",
       "352    292063282755  http://www.ebay.com/itm/olympus-digital-camera...   \n",
       "359    182505649118  http://www.ebay.com/itm/Fujifilm-FinePix-JX-Se...   \n",
       "360    201864283426  http://www.ebay.com/itm/Sony-Cyber-shot-DSC-T3...   \n",
       "362    152480696400  http://www.ebay.com/itm/Konica-Minolta-DiMAGE-...   \n",
       "508    172579241067  http://www.ebay.com/itm/NIKON-COOLPIX-L4-Digit...   \n",
       "514    322464512068  http://www.ebay.com/itm/Nikon-COOLPIX-S6300-16...   \n",
       "518    282402210959  http://www.ebay.com/itm/Canon-PowerShot-Digita...   \n",
       "523    292061322952       http://www.ebay.com/itm/Camera-/292061322952   \n",
       "529    262898241418  http://www.ebay.com/itm/FujiFilm-Camera-FinePi...   \n",
       "...             ...                                                ...   \n",
       "77501  142307619928  http://www.ebay.com/itm/Bmpcc-Black-Magic-Pock...   \n",
       "77547  112323256374  http://www.ebay.com/itm/Nikon-D-D300S-12-3MP-D...   \n",
       "77564  172559914580  http://www.ebay.com/itm/Canon-Digital-PowerSho...   \n",
       "77574  292044055619  http://www.ebay.com/itm/Fuji-XT10-Body-Only-Si...   \n",
       "77581  172558923260  http://www.ebay.com/itm/Nikon-D-D3100-14-2-MP-...   \n",
       "77611  272575171543  http://www.ebay.com/itm/Sony-Alpha-a5000-20-1-...   \n",
       "77643  262876923635  http://www.ebay.com/itm/Sony-Alpha-NEX-5T-16-1...   \n",
       "77645  322439247053  http://www.ebay.com/itm/Canon-Rebel-T5-Camera-...   \n",
       "77697  272581144523  http://www.ebay.com/itm/Nikon-D7100-24-1-MP-DX...   \n",
       "77706  272580079032  http://www.ebay.com/itm/NIKON-D3200-lens-packa...   \n",
       "77719  162413711297  http://www.ebay.com/itm/Sony-NEX-3-14-2-MP-Dig...   \n",
       "77735  201836844714  http://www.ebay.com/itm/New-Olympus-Pen-EP5-w-...   \n",
       "77751  292040519401  http://www.ebay.com/itm/samsung-nx3000-/292040...   \n",
       "77765  182472247099  http://www.ebay.com/itm/Sony-Alpha-NEX-7K-24-3...   \n",
       "77783  182470302592  http://www.ebay.com/itm/Nikon-D70-DSLR-Camera-...   \n",
       "77789  252789938824    http://www.ebay.com/itm/nikon-d90-/252789938824   \n",
       "79084  232266834346  http://www.ebay.com/itm/Canon-EOS-Rebel-T3-12-...   \n",
       "79093  122392817631  http://www.ebay.com/itm/Canon-EOS-Rebel-T3-w-1...   \n",
       "79094  201846315937  http://www.ebay.com/itm/CANON-EOS-Digital-Rebe...   \n",
       "79095  302249514605  http://www.ebay.com/itm/Canon-PowerShot-SX530-...   \n",
       "79148  201857616365  http://www.ebay.com/itm/Nikon-D3200-Kit-/20185...   \n",
       "79165  252811972474  http://www.ebay.com/itm/Cameras-And-Lenses-/25...   \n",
       "79166  252811745586  http://www.ebay.com/itm/Panasonic-Lumix-DMC-G2...   \n",
       "79172  332152820322  http://www.ebay.com/itm/Ricoh-WG-WG-4-16-0-MP-...   \n",
       "79195  332155589348  http://www.ebay.com/itm/Nikon-D2H-Camera-Body-...   \n",
       "79213  302253593649  http://www.ebay.com/itm/Polaroid-Snap-Touch-In...   \n",
       "79215  142314573154  http://www.ebay.com/itm/SONY-SLT-A58-DIGITAL-S...   \n",
       "79223  302254628367  http://www.ebay.com/itm/Leica-D-Lux-4-Camera-B...   \n",
       "79235  232273273534  http://www.ebay.com/itm/PENTAX-Pentax-Q-Q10-12...   \n",
       "79236  252826334320  http://www.ebay.com/itm/Nikon-D200-10-2MP-Digi...   \n",
       "\n",
       "       sellingStatus.currentPrice.value sellingStatus.sellingState  \\\n",
       "56                                20.00          EndedWithoutSales   \n",
       "63                                22.00          EndedWithoutSales   \n",
       "71                                20.00          EndedWithoutSales   \n",
       "74                                20.00          EndedWithoutSales   \n",
       "84                                20.00          EndedWithoutSales   \n",
       "85                                20.00          EndedWithoutSales   \n",
       "86                                20.00          EndedWithoutSales   \n",
       "116                               20.00          EndedWithoutSales   \n",
       "117                               21.99          EndedWithoutSales   \n",
       "119                               20.00          EndedWithoutSales   \n",
       "184                               22.99          EndedWithoutSales   \n",
       "200                               20.00          EndedWithoutSales   \n",
       "218                               24.00          EndedWithoutSales   \n",
       "226                               23.90          EndedWithoutSales   \n",
       "235                               20.00          EndedWithoutSales   \n",
       "238                               20.00          EndedWithoutSales   \n",
       "251                               20.00          EndedWithoutSales   \n",
       "256                               20.00          EndedWithoutSales   \n",
       "260                               20.00          EndedWithoutSales   \n",
       "294                               20.00          EndedWithoutSales   \n",
       "323                               20.99          EndedWithoutSales   \n",
       "352                               20.00          EndedWithoutSales   \n",
       "359                               20.00          EndedWithoutSales   \n",
       "360                               24.00          EndedWithoutSales   \n",
       "362                               20.00          EndedWithoutSales   \n",
       "508                               22.99          EndedWithoutSales   \n",
       "514                               21.00          EndedWithoutSales   \n",
       "518                               23.99          EndedWithoutSales   \n",
       "523                               20.00          EndedWithoutSales   \n",
       "529                               20.00          EndedWithoutSales   \n",
       "...                                 ...                        ...   \n",
       "77501                            369.00          EndedWithoutSales   \n",
       "77547                            380.00          EndedWithoutSales   \n",
       "77564                            384.99          EndedWithoutSales   \n",
       "77574                            375.00          EndedWithoutSales   \n",
       "77581                            370.00          EndedWithoutSales   \n",
       "77611                            375.00          EndedWithoutSales   \n",
       "77643                            370.00          EndedWithoutSales   \n",
       "77645                            380.00          EndedWithoutSales   \n",
       "77697                            399.00          EndedWithoutSales   \n",
       "77706                            375.00          EndedWithoutSales   \n",
       "77719                            380.00          EndedWithoutSales   \n",
       "77735                            373.22          EndedWithoutSales   \n",
       "77751                            379.99          EndedWithoutSales   \n",
       "77765                            380.00          EndedWithoutSales   \n",
       "77783                            390.00          EndedWithoutSales   \n",
       "77789                            390.00          EndedWithoutSales   \n",
       "79084                            150.00          EndedWithoutSales   \n",
       "79093                            150.00          EndedWithoutSales   \n",
       "79094                            136.99          EndedWithoutSales   \n",
       "79095                            150.00          EndedWithoutSales   \n",
       "79148                            150.00          EndedWithoutSales   \n",
       "79165                            150.00          EndedWithoutSales   \n",
       "79166                            140.00          EndedWithoutSales   \n",
       "79172                            150.00          EndedWithoutSales   \n",
       "79195                            139.99          EndedWithoutSales   \n",
       "79213                            150.00          EndedWithoutSales   \n",
       "79215                            150.00          EndedWithoutSales   \n",
       "79223                            149.99          EndedWithoutSales   \n",
       "79235                            150.00          EndedWithoutSales   \n",
       "79236                            150.00          EndedWithoutSales   \n",
       "\n",
       "      listingInfo.listingType  startprice  sellingStatus.bidCount  \\\n",
       "56             AuctionWithBIN         NaN                     0.0   \n",
       "63             AuctionWithBIN         NaN                     0.0   \n",
       "71             AuctionWithBIN         NaN                     0.0   \n",
       "74             AuctionWithBIN         NaN                     0.0   \n",
       "84             AuctionWithBIN         NaN                     0.0   \n",
       "85             AuctionWithBIN         NaN                     0.0   \n",
       "86             AuctionWithBIN         NaN                     0.0   \n",
       "116            AuctionWithBIN         NaN                     0.0   \n",
       "117            AuctionWithBIN         NaN                     0.0   \n",
       "119            AuctionWithBIN         NaN                     0.0   \n",
       "184            AuctionWithBIN         NaN                     0.0   \n",
       "200            AuctionWithBIN         NaN                     0.0   \n",
       "218            AuctionWithBIN         NaN                     0.0   \n",
       "226            AuctionWithBIN         NaN                     0.0   \n",
       "235            AuctionWithBIN         NaN                     0.0   \n",
       "238            AuctionWithBIN         NaN                     0.0   \n",
       "251            AuctionWithBIN         NaN                     0.0   \n",
       "256            AuctionWithBIN         NaN                     0.0   \n",
       "260            AuctionWithBIN         NaN                     0.0   \n",
       "294            AuctionWithBIN         NaN                     0.0   \n",
       "323            AuctionWithBIN         NaN                     0.0   \n",
       "352            AuctionWithBIN         NaN                     0.0   \n",
       "359            AuctionWithBIN         NaN                     0.0   \n",
       "360            AuctionWithBIN         NaN                     0.0   \n",
       "362            AuctionWithBIN         NaN                     0.0   \n",
       "508            AuctionWithBIN         NaN                     0.0   \n",
       "514            AuctionWithBIN         NaN                     0.0   \n",
       "518            AuctionWithBIN         NaN                     0.0   \n",
       "523            AuctionWithBIN         NaN                     0.0   \n",
       "529            AuctionWithBIN         NaN                     0.0   \n",
       "...                       ...         ...                     ...   \n",
       "77501          AuctionWithBIN         NaN                     0.0   \n",
       "77547          AuctionWithBIN         NaN                     0.0   \n",
       "77564          AuctionWithBIN         NaN                     0.0   \n",
       "77574          AuctionWithBIN         NaN                     0.0   \n",
       "77581          AuctionWithBIN         NaN                     0.0   \n",
       "77611          AuctionWithBIN         NaN                     0.0   \n",
       "77643          AuctionWithBIN         NaN                     0.0   \n",
       "77645          AuctionWithBIN         NaN                     1.0   \n",
       "77697          AuctionWithBIN         NaN                     0.0   \n",
       "77706          AuctionWithBIN         NaN                     0.0   \n",
       "77719          AuctionWithBIN         NaN                     0.0   \n",
       "77735          AuctionWithBIN         NaN                     0.0   \n",
       "77751          AuctionWithBIN         NaN                     0.0   \n",
       "77765          AuctionWithBIN         NaN                     9.0   \n",
       "77783          AuctionWithBIN         NaN                     0.0   \n",
       "77789          AuctionWithBIN         NaN                     0.0   \n",
       "79084          AuctionWithBIN         NaN                     0.0   \n",
       "79093          AuctionWithBIN         NaN                     0.0   \n",
       "79094          AuctionWithBIN         NaN                     0.0   \n",
       "79095          AuctionWithBIN         NaN                     0.0   \n",
       "79148          AuctionWithBIN         NaN                     0.0   \n",
       "79165          AuctionWithBIN         NaN                     0.0   \n",
       "79166          AuctionWithBIN         NaN                     0.0   \n",
       "79172          AuctionWithBIN         NaN                     0.0   \n",
       "79195          AuctionWithBIN         NaN                     0.0   \n",
       "79213          AuctionWithBIN         NaN                     0.0   \n",
       "79215          AuctionWithBIN         NaN                     0.0   \n",
       "79223          AuctionWithBIN         NaN                     0.0   \n",
       "79235          AuctionWithBIN         NaN                     0.0   \n",
       "79236          AuctionWithBIN         NaN                     0.0   \n",
       "\n",
       "      listingInfo.buyItNowAvailable  \n",
       "56                             True  \n",
       "63                             True  \n",
       "71                             True  \n",
       "74                             True  \n",
       "84                             True  \n",
       "85                             True  \n",
       "86                             True  \n",
       "116                            True  \n",
       "117                            True  \n",
       "119                            True  \n",
       "184                            True  \n",
       "200                            True  \n",
       "218                            True  \n",
       "226                            True  \n",
       "235                            True  \n",
       "238                            True  \n",
       "251                            True  \n",
       "256                            True  \n",
       "260                            True  \n",
       "294                            True  \n",
       "323                            True  \n",
       "352                            True  \n",
       "359                            True  \n",
       "360                            True  \n",
       "362                            True  \n",
       "508                            True  \n",
       "514                            True  \n",
       "518                            True  \n",
       "523                            True  \n",
       "529                            True  \n",
       "...                             ...  \n",
       "77501                          True  \n",
       "77547                          True  \n",
       "77564                          True  \n",
       "77574                          True  \n",
       "77581                          True  \n",
       "77611                          True  \n",
       "77643                          True  \n",
       "77645                          True  \n",
       "77697                          True  \n",
       "77706                          True  \n",
       "77719                          True  \n",
       "77735                          True  \n",
       "77751                          True  \n",
       "77765                          True  \n",
       "77783                          True  \n",
       "77789                          True  \n",
       "79084                          True  \n",
       "79093                          True  \n",
       "79094                          True  \n",
       "79095                          True  \n",
       "79148                          True  \n",
       "79165                          True  \n",
       "79166                          True  \n",
       "79172                          True  \n",
       "79195                          True  \n",
       "79213                          True  \n",
       "79215                          True  \n",
       "79223                          True  \n",
       "79235                          True  \n",
       "79236                          True  \n",
       "\n",
       "[2638 rows x 8 columns]"
      ]
     },
     "execution_count": 98,
     "metadata": {},
     "output_type": "execute_result"
    }
   ],
   "source": [
    "# Check to see if any listings have buyItNowAvailable == True\n",
    "df[df['listingInfo.buyItNowAvailable']==True].loc[:,['itemId','viewItemURL','sellingStatus.currentPrice.value','sellingStatus.sellingState','listingInfo.listingType','startprice','sellingStatus.bidCount','listingInfo.buyItNowAvailable']]"
   ]
  },
  {
   "cell_type": "markdown",
   "metadata": {
    "deletable": true,
    "editable": true
   },
   "source": [
    "How many listings of each type are there?"
   ]
  },
  {
   "cell_type": "code",
   "execution_count": 7,
   "metadata": {
    "collapsed": false,
    "deletable": true,
    "editable": true
   },
   "outputs": [
    {
     "data": {
      "text/plain": [
       "Auction           47486\n",
       "FixedPrice        34220\n",
       "StoreInventory    19087\n",
       "AuctionWithBIN     3586\n",
       "Name: listingInfo.listingType, dtype: int64"
      ]
     },
     "execution_count": 7,
     "metadata": {},
     "output_type": "execute_result"
    }
   ],
   "source": [
    "df['listingInfo.listingType'].value_counts()"
   ]
  },
  {
   "cell_type": "code",
   "execution_count": 210,
   "metadata": {
    "collapsed": false,
    "deletable": true,
    "editable": true
   },
   "outputs": [],
   "source": [
    "camera_category_names = ['Digital Cameras','Film Cameras','Cameras','Digital Camera parts','Other Vintage Cameras','Box Cameras','35mm Cameras']\n",
    "df = df[df['primaryCategory.categoryName'].isin(camera_category_names)]"
   ]
  },
  {
   "cell_type": "code",
   "execution_count": 169,
   "metadata": {
    "collapsed": true,
    "deletable": true,
    "editable": true
   },
   "outputs": [
    {
     "data": {
      "text/plain": [
       "Index([                                    u'id',\n",
       "                                    u'timestamp',\n",
       "                                       u'itemId',\n",
       "                              u'topRatedListing',\n",
       "                                     u'globalId',\n",
       "                                        u'title',\n",
       "                                     u'subtitle',\n",
       "                                      u'country',\n",
       "                   u'primaryCategory.categoryId',\n",
       "                 u'primaryCategory.categoryName',\n",
       "                 u'secondaryCategory.categoryId',\n",
       "               u'secondaryCategory.categoryName',\n",
       "                              u'pictureURLLarge',\n",
       "                                   u'galleryURL',\n",
       "                u'sellerInfo.feedbackRatingStar',\n",
       "                     u'sellerInfo.feedbackScore',\n",
       "           u'sellerInfo.positiveFeedbackPercent',\n",
       "                    u'sellerInfo.sellerUserName',\n",
       "               u'shippingInfo.expeditedShipping',\n",
       "                 u'shippingInfo.shipToLocations',\n",
       "       u'shippingInfo.shippingServiceCost.value',\n",
       "         u'shippingInfo.oneDayShippingAvailable',\n",
       "                    u'shippingInfo.handlingTime',\n",
       "                    u'shippingInfo.shippingType',\n",
       "                                      u'autoPay',\n",
       "                                     u'location',\n",
       "                                   u'postalCode',\n",
       "                              u'returnsAccepted',\n",
       "                                  u'viewItemURL',\n",
       "             u'sellingStatus.currentPrice.value',\n",
       "                       u'sellingStatus.bidCount',\n",
       "                   u'sellingStatus.sellingState',\n",
       "                                u'paymentMethod',\n",
       "                      u'isMultiVariationListing',\n",
       "                        u'condition.conditionId',\n",
       "               u'condition.conditionDisplayName',\n",
       "                      u'listingInfo.listingType',\n",
       "                             u'listingInfo.gift',\n",
       "                 u'listingInfo.bestOfferEnabled',\n",
       "                        u'listingInfo.startTime',\n",
       "                u'listingInfo.buyItNowAvailable',\n",
       "                          u'listingInfo.endTime',\n",
       "                         u'conditiondescription',\n",
       "                                         u'sold',\n",
       "                   u'listingInfo.startTime.hour',\n",
       "                u'listingInfo.startTime.weekday'],\n",
       "      dtype='object')"
      ]
     },
     "execution_count": 169,
     "metadata": {},
     "output_type": "execute_result"
    }
   ],
   "source": [
    "df.columns"
   ]
  },
  {
   "cell_type": "markdown",
   "metadata": {
    "deletable": true,
    "editable": true
   },
   "source": [
    "# Cleaning"
   ]
  },
  {
   "cell_type": "code",
   "execution_count": 2,
   "metadata": {
    "collapsed": false,
    "deletable": true,
    "editable": true
   },
   "outputs": [],
   "source": [
    "dbname='ebay'\n",
    "user='nathan'\n",
    "host='localhost'\n",
    "TABLE_NAME = 'completed_items_v2'\n",
    "\n",
    "conn = psycopg2.connect(\"dbname={} user={} host={}\".format(dbname, user, host))\n",
    "cur = conn.cursor()\n",
    "SQL = '''\n",
    "SELECT * \n",
    "FROM {} as ci\n",
    "WHERE ci.\"listingInfo.startTime\" >= '2017-01-15'\n",
    "'''.format(TABLE_NAME)\n",
    "df = pd.read_sql_query(sql=SQL, con=conn)"
   ]
  },
  {
   "cell_type": "code",
   "execution_count": 3,
   "metadata": {
    "collapsed": false,
    "deletable": true,
    "editable": true
   },
   "outputs": [],
   "source": [
    "df['endListingType'] = ''"
   ]
  },
  {
   "cell_type": "code",
   "execution_count": 4,
   "metadata": {
    "collapsed": true,
    "deletable": true,
    "editable": true
   },
   "outputs": [],
   "source": [
    "columns_to_drop = ['sellerInfo.sellerUserName','location','postalCode','paymentMethod','isMultiVariationListing','listingInfo.gift']\n",
    "df = df.drop(labels=columns_to_drop, axis=1)"
   ]
  },
  {
   "cell_type": "code",
   "execution_count": 5,
   "metadata": {
    "collapsed": false,
    "deletable": true,
    "editable": true
   },
   "outputs": [],
   "source": [
    "def create_end_listing_type_and_start_price(itemId, sellingState,listingType,currentPrice,startPrice,bidCount):\n",
    "        \n",
    "    if sellingState == 'EndedWithoutSales': # if item didnt sell, the listingType could not have changed\n",
    "        endListingType = listingType \n",
    "        startPrice = currentPrice # item did not sell, so startPrice is = endPrice\n",
    "        \n",
    "    elif sellingState == 'EndedWithSales':\n",
    "        \n",
    "        if listingType == 'Auction': \n",
    "            \n",
    "            bidCount = int(bidCount)\n",
    "            \n",
    "            if np.isnan(startPrice) and bidCount == 1:\n",
    "                endListingType = 'FixedPrice' # auction was converted to BIN by user, and then sold\n",
    "                startPrice = currentPrice # although technically the end price was != startPrice, it makes our lives easier to consider these listings as having been BIN the entire life of the listing\n",
    "            \n",
    "            elif np.isnan(startPrice) and bidCount > 1: # scrapy didn't grab anything, probably because invalid URL\n",
    "                # Because if bidCount > 1, then there should be a bid history, and scrapy should have grabbed startPrice\n",
    "                return ('Invalid URL', np.nan)\n",
    "                \n",
    "            elif np.isfinite(startPrice):\n",
    "                endListingType = 'Auction'\n",
    "                \n",
    "                if np.isfinite(startPrice):\n",
    "                    startPrice = startPrice\n",
    "                        \n",
    "        elif listingType == 'FixedPrice' or listingType == 'StoreInventory':\n",
    "            endListingType = listingType\n",
    "            startPrice = currentPrice \n",
    "    \n",
    "    return pd.Series({'endListingType':endListingType,'startPrice':startPrice})\n",
    "    \n",
    "\n",
    "\n",
    "df[['endListingType','startPrice']] = df.apply(lambda row: create_end_listing_type_and_start_price(row['itemId'],\\\n",
    "                                                             row['sellingStatus.sellingState'],\\\n",
    "                                                             row['listingInfo.listingType'],\\\n",
    "                                                             row['sellingStatus.currentPrice.value'],\\\n",
    "                                                             row['startprice'],\\\n",
    "                                                             row['sellingStatus.bidCount']), \\\n",
    "         axis=1)"
   ]
  },
  {
   "cell_type": "markdown",
   "metadata": {
    "deletable": true,
    "editable": true
   },
   "source": [
    "Delete listings in which scrapy couldn't access the URL, probably because the URL no longer exists"
   ]
  },
  {
   "cell_type": "code",
   "execution_count": 6,
   "metadata": {
    "collapsed": false,
    "deletable": true,
    "editable": true
   },
   "outputs": [],
   "source": [
    "df = df[df['endListingType']!='Invalid URL']"
   ]
  },
  {
   "cell_type": "markdown",
   "metadata": {
    "deletable": true,
    "editable": true
   },
   "source": [
    "Convert bid count to int, and -1 for items that can't have any  bids (FixedPrice, storeinventory)"
   ]
  },
  {
   "cell_type": "code",
   "execution_count": 7,
   "metadata": {
    "collapsed": false,
    "deletable": true,
    "editable": true
   },
   "outputs": [],
   "source": [
    "def bid_count_to_int(bidCount):\n",
    "    if bidCount != bidCount:\n",
    "        return -1\n",
    "    else:\n",
    "        return int(bidCount)\n",
    "\n",
    "\n",
    "df['sellingStatus.bidCount'] = df['sellingStatus.bidCount'].apply(bid_count_to_int)"
   ]
  },
  {
   "cell_type": "code",
   "execution_count": 8,
   "metadata": {
    "collapsed": true,
    "deletable": true,
    "editable": true
   },
   "outputs": [],
   "source": [
    "# mask1 = (np.isfinite(df['listingInfo.buyItNowPrice.value']))\n",
    "# mask2 = (df['endListingType']=='Auction')\n",
    "# mask3 = (df['sellingStatus.sellingState']=='EndedWithSales')\n",
    "# mask4 = (df['sellingStatus.bidCount']>1.0)\n",
    "# mask = mask2 & mask3 & mask4\n",
    "# df[mask].head(4)\n",
    "# print df[df['itemId']==282420311215]['viewItemURL'].values[0]"
   ]
  },
  {
   "cell_type": "markdown",
   "metadata": {
    "deletable": true,
    "editable": true
   },
   "source": [
    "Create 'sold_state' target column"
   ]
  },
  {
   "cell_type": "code",
   "execution_count": 9,
   "metadata": {
    "collapsed": false,
    "deletable": true,
    "editable": true
   },
   "outputs": [],
   "source": [
    "df['sold_state'] = df['sellingStatus.sellingState'].apply(lambda x: 1 if x=='EndedWithSales' else 0)"
   ]
  },
  {
   "cell_type": "markdown",
   "metadata": {
    "deletable": true,
    "editable": true
   },
   "source": [
    "Transform True/False into 1/0"
   ]
  },
  {
   "cell_type": "code",
   "execution_count": 10,
   "metadata": {
    "collapsed": true,
    "deletable": true,
    "editable": true
   },
   "outputs": [],
   "source": [
    "true_false_col = ['topRatedListing','shippingInfo.expeditedShipping','shippingInfo.oneDayShippingAvailable',\n",
    "                 'autoPay','returnsAccepted',\n",
    "                  'listingInfo.bestOfferEnabled','listingInfo.buyItNowAvailable']\n",
    "for col in true_false_col:\n",
    "    df[col] = df[col].apply(lambda x: 0 if x==False else 1)"
   ]
  },
  {
   "cell_type": "markdown",
   "metadata": {
    "deletable": true,
    "editable": true
   },
   "source": [
    "replace 'NULL' in df['conditiondescription'] with empty string"
   ]
  },
  {
   "cell_type": "code",
   "execution_count": 11,
   "metadata": {
    "collapsed": true,
    "deletable": true,
    "editable": true
   },
   "outputs": [],
   "source": [
    "df['conditiondescription'] = df['conditiondescription'].apply(lambda x: '' if x=='NULL' else x)"
   ]
  },
  {
   "cell_type": "markdown",
   "metadata": {
    "deletable": true,
    "editable": true
   },
   "source": [
    "Create conditionAvailable column"
   ]
  },
  {
   "cell_type": "code",
   "execution_count": 12,
   "metadata": {
    "collapsed": false,
    "deletable": true,
    "editable": true
   },
   "outputs": [],
   "source": [
    "df['conditionAvailable'] = df['conditiondescription'].apply(lambda x: 1 if x!='' else 0)"
   ]
  },
  {
   "cell_type": "markdown",
   "metadata": {
    "deletable": true,
    "editable": true
   },
   "source": [
    "Impute endPrice"
   ]
  },
  {
   "cell_type": "code",
   "execution_count": 13,
   "metadata": {
    "collapsed": false,
    "deletable": true,
    "editable": true
   },
   "outputs": [],
   "source": [
    "df['endPrice'] = df['sellingStatus.currentPrice.value']"
   ]
  },
  {
   "cell_type": "markdown",
   "metadata": {
    "deletable": true,
    "editable": true
   },
   "source": [
    "Convert startTime and endTime to timestamp"
   ]
  },
  {
   "cell_type": "code",
   "execution_count": 14,
   "metadata": {
    "collapsed": true,
    "deletable": true,
    "editable": true
   },
   "outputs": [],
   "source": [
    "df['listingInfo.endTime'] = pd.to_datetime(df['listingInfo.endTime'], utc=True)\n",
    "df['listingInfo.startTime'] = pd.to_datetime(df['listingInfo.startTime'], utc=True)"
   ]
  },
  {
   "cell_type": "markdown",
   "metadata": {
    "deletable": true,
    "editable": true
   },
   "source": [
    "**Create multiple dataframes for Auctions, FixedPrice, StoreInventory**"
   ]
  },
  {
   "cell_type": "code",
   "execution_count": 15,
   "metadata": {
    "collapsed": true,
    "deletable": true,
    "editable": true
   },
   "outputs": [],
   "source": [
    "# auctions_w_bin = df[df['endListingType']=='AuctionWithBIN'].reset_index() # these didn't sell \n",
    "auctions = df[df['endListingType']=='Auction'].reset_index()\n",
    "# fixed_price = df[df['endListingType']=='FixedPrice'].reset_index()\n",
    "# store_inventory = df[df['endListingType']=='StoreInventory'].reset_index()"
   ]
  },
  {
   "cell_type": "code",
   "execution_count": 18,
   "metadata": {
    "collapsed": false,
    "deletable": true,
    "editable": true
   },
   "outputs": [
    {
     "name": "stdout",
     "output_type": "stream",
     "text": [
      "total listings: 89259\n",
      "num Auction listings: 29961\n"
     ]
    }
   ],
   "source": [
    "print 'total listings:', df.shape[0]\n",
    "# print 'num AuctionWithBIN listings', auctions_w_bin.shape[0]\n",
    "print 'num Auction listings:', auctions.shape[0]\n",
    "# print 'num FixedPrice listings:', fixed_price.shape[0]\n",
    "# print 'num StoreInventory listings:', store_inventory.shape[0]"
   ]
  },
  {
   "cell_type": "markdown",
   "metadata": {
    "deletable": true,
    "editable": true
   },
   "source": [
    "Delete unecessary objects "
   ]
  },
  {
   "cell_type": "code",
   "execution_count": 16,
   "metadata": {
    "collapsed": true,
    "deletable": true,
    "editable": true
   },
   "outputs": [],
   "source": [
    "del df"
   ]
  },
  {
   "cell_type": "markdown",
   "metadata": {},
   "source": [
    "Make Pickles"
   ]
  },
  {
   "cell_type": "code",
   "execution_count": 28,
   "metadata": {
    "collapsed": true
   },
   "outputs": [],
   "source": [
    "auctions.to_pickle('./pickles/auctions.p')"
   ]
  },
  {
   "cell_type": "markdown",
   "metadata": {
    "deletable": true,
    "editable": true
   },
   "source": [
    "# EDA"
   ]
  },
  {
   "cell_type": "markdown",
   "metadata": {
    "deletable": true,
    "editable": true
   },
   "source": [
    "Plot the distribution of endPrice for differnet types of listings."
   ]
  },
  {
   "cell_type": "code",
   "execution_count": 17,
   "metadata": {
    "collapsed": false,
    "deletable": true,
    "editable": true
   },
   "outputs": [
    {
     "data": {
      "text/plain": [
       "<matplotlib.text.Text at 0x111edce90>"
      ]
     },
     "execution_count": 17,
     "metadata": {},
     "output_type": "execute_result"
    },
    {
     "data": {
      "image/png": "[encoded data removed]",
      "text/plain": [
       "<matplotlib.figure.Figure at 0x12bb42d10>"
      ]
     },
     "metadata": {},
     "output_type": "display_data"
    }
   ],
   "source": [
    "fix, axarr = plt.subplots(2, figsize=(6,6))\n",
    "axarr[0].hist(df['endPrice'].values, bins=60);\n",
    "axarr[0].set_title('Distribution of endPrices for ALL listings')\n",
    "axarr[1].hist(auctions['endPrice'].values, bins=60, color='g');\n",
    "axarr[1].set_title('Distribution of endPrices for Auctions')"
   ]
  },
  {
   "cell_type": "markdown",
   "metadata": {
    "deletable": true,
    "editable": true
   },
   "source": [
    "There are very few auction listings with an endPrice of ~120 to ~180 dollars. I am not sure why this is. It could be just because when we grabbed data with the API, just didn't get a lot of auctions back that had an endPrice of around 120-180 dollars. \n",
    "\n",
    "you will know that issue has been fixed if the two distributions above look very similar. "
   ]
  },
  {
   "cell_type": "code",
   "execution_count": 215,
   "metadata": {
    "collapsed": false,
    "deletable": true,
    "editable": true
   },
   "outputs": [
    {
     "data": {
      "text/plain": [
       "(0, 10)"
      ]
     },
     "execution_count": 215,
     "metadata": {},
     "output_type": "execute_result"
    },
    {
     "data": {
      "image/png": "[encoded data removed]",
      "text/plain": [
       "<matplotlib.figure.Figure at 0x127b61590>"
      ]
     },
     "metadata": {},
     "output_type": "display_data"
    }
   ],
   "source": [
    "fig, (ax1,ax2) = plt.subplots(nrows=1, ncols=2, figsize=(14,4));\n",
    "sns.distplot(a=df['sellingStatus.bidCount'], bins=50, ax=ax1, kde=False, hist_kws={'alpha':1})\n",
    "ax1.set_xlim((0,80))\n",
    "sns.distplot(a=df[df['sellingStatus.bidCount'] < 10]['sellingStatus.bidCount'].reset_index().drop('index',axis=1), bins=50, ax=ax2, kde=False, hist_kws={'alpha':1})\n",
    "ax2.set_xlim((0,10))"
   ]
  },
  {
   "cell_type": "markdown",
   "metadata": {
    "deletable": true,
    "editable": true
   },
   "source": [
    "Look at start times vs. sold amount? "
   ]
  },
  {
   "cell_type": "code",
   "execution_count": 216,
   "metadata": {
    "collapsed": false,
    "deletable": true,
    "editable": true
   },
   "outputs": [],
   "source": [
    "df['listingInfo.startTime.hour'] = df['listingInfo.startTime'].apply(lambda x: x.hour)\n",
    "df['listingInfo.startTime.weekday'] = df['listingInfo.startTime'].apply(lambda x: x.weekday())"
   ]
  },
  {
   "cell_type": "code",
   "execution_count": 217,
   "metadata": {
    "collapsed": true,
    "deletable": true,
    "editable": true
   },
   "outputs": [
    {
     "data": {
      "text/html": [
       "<div>\n",
       "<table border=\"1\" class=\"dataframe\">\n",
       "  <thead>\n",
       "    <tr style=\"text-align: right;\">\n",
       "      <th></th>\n",
       "      <th>id</th>\n",
       "    </tr>\n",
       "    <tr>\n",
       "      <th>listingInfo.startTime.hour</th>\n",
       "      <th></th>\n",
       "    </tr>\n",
       "  </thead>\n",
       "  <tbody>\n",
       "    <tr>\n",
       "      <th>0</th>\n",
       "      <td>2056</td>\n",
       "    </tr>\n",
       "    <tr>\n",
       "      <th>1</th>\n",
       "      <td>2610</td>\n",
       "    </tr>\n",
       "    <tr>\n",
       "      <th>2</th>\n",
       "      <td>2764</td>\n",
       "    </tr>\n",
       "    <tr>\n",
       "      <th>3</th>\n",
       "      <td>2345</td>\n",
       "    </tr>\n",
       "    <tr>\n",
       "      <th>4</th>\n",
       "      <td>1221</td>\n",
       "    </tr>\n",
       "    <tr>\n",
       "      <th>5</th>\n",
       "      <td>690</td>\n",
       "    </tr>\n",
       "    <tr>\n",
       "      <th>6</th>\n",
       "      <td>436</td>\n",
       "    </tr>\n",
       "    <tr>\n",
       "      <th>7</th>\n",
       "      <td>312</td>\n",
       "    </tr>\n",
       "    <tr>\n",
       "      <th>8</th>\n",
       "      <td>218</td>\n",
       "    </tr>\n",
       "    <tr>\n",
       "      <th>9</th>\n",
       "      <td>169</td>\n",
       "    </tr>\n",
       "    <tr>\n",
       "      <th>10</th>\n",
       "      <td>133</td>\n",
       "    </tr>\n",
       "    <tr>\n",
       "      <th>11</th>\n",
       "      <td>145</td>\n",
       "    </tr>\n",
       "    <tr>\n",
       "      <th>12</th>\n",
       "      <td>221</td>\n",
       "    </tr>\n",
       "    <tr>\n",
       "      <th>13</th>\n",
       "      <td>435</td>\n",
       "    </tr>\n",
       "    <tr>\n",
       "      <th>14</th>\n",
       "      <td>725</td>\n",
       "    </tr>\n",
       "    <tr>\n",
       "      <th>15</th>\n",
       "      <td>1053</td>\n",
       "    </tr>\n",
       "    <tr>\n",
       "      <th>16</th>\n",
       "      <td>1359</td>\n",
       "    </tr>\n",
       "    <tr>\n",
       "      <th>17</th>\n",
       "      <td>1596</td>\n",
       "    </tr>\n",
       "    <tr>\n",
       "      <th>18</th>\n",
       "      <td>1719</td>\n",
       "    </tr>\n",
       "    <tr>\n",
       "      <th>19</th>\n",
       "      <td>1784</td>\n",
       "    </tr>\n",
       "    <tr>\n",
       "      <th>20</th>\n",
       "      <td>1906</td>\n",
       "    </tr>\n",
       "    <tr>\n",
       "      <th>21</th>\n",
       "      <td>1899</td>\n",
       "    </tr>\n",
       "    <tr>\n",
       "      <th>22</th>\n",
       "      <td>1861</td>\n",
       "    </tr>\n",
       "    <tr>\n",
       "      <th>23</th>\n",
       "      <td>1889</td>\n",
       "    </tr>\n",
       "  </tbody>\n",
       "</table>\n",
       "</div>"
      ],
      "text/plain": [
       "                              id\n",
       "listingInfo.startTime.hour      \n",
       "0                           2056\n",
       "1                           2610\n",
       "2                           2764\n",
       "3                           2345\n",
       "4                           1221\n",
       "5                            690\n",
       "6                            436\n",
       "7                            312\n",
       "8                            218\n",
       "9                            169\n",
       "10                           133\n",
       "11                           145\n",
       "12                           221\n",
       "13                           435\n",
       "14                           725\n",
       "15                          1053\n",
       "16                          1359\n",
       "17                          1596\n",
       "18                          1719\n",
       "19                          1784\n",
       "20                          1906\n",
       "21                          1899\n",
       "22                          1861\n",
       "23                          1889"
      ]
     },
     "execution_count": 217,
     "metadata": {},
     "output_type": "execute_result"
    }
   ],
   "source": [
    "df[['id','listingInfo.startTime.hour']].groupby(by='listingInfo.startTime.hour').count()"
   ]
  },
  {
   "cell_type": "code",
   "execution_count": 218,
   "metadata": {
    "collapsed": false,
    "deletable": true,
    "editable": true
   },
   "outputs": [
    {
     "data": {
      "text/plain": [
       "<matplotlib.axes._subplots.AxesSubplot at 0x12559bd90>"
      ]
     },
     "execution_count": 218,
     "metadata": {},
     "output_type": "execute_result"
    },
    {
     "data": {
      "image/png": "[encoded data removed]",
      "text/plain": [
       "<matplotlib.figure.Figure at 0x11689c390>"
      ]
     },
     "metadata": {},
     "output_type": "display_data"
    }
   ],
   "source": [
    "sns.distplot(a=df[df['sold']==1]['listingInfo.startTime.hour'],  kde=True, color='r', hist_kws={'alpha':1})\n",
    "sns.distplot(a=df[df['sold']==0]['listingInfo.startTime.hour'], kde=True)"
   ]
  },
  {
   "cell_type": "code",
   "execution_count": 219,
   "metadata": {
    "collapsed": false,
    "deletable": true,
    "editable": true
   },
   "outputs": [],
   "source": [
    "hour_sold = df[df['sold']==1][['id','listingInfo.startTime.hour']].groupby(by='listingInfo.startTime.hour').count()\n",
    "hour_unsold = df[df['sold']==0][['id','listingInfo.startTime.hour']].groupby(by='listingInfo.startTime.hour').count()\n",
    "\n",
    "hour = (hour_sold - hour_unsold) / df[['id','listingInfo.startTime.hour']].groupby(by='listingInfo.startTime.hour').count()"
   ]
  },
  {
   "cell_type": "code",
   "execution_count": 220,
   "metadata": {
    "collapsed": false,
    "deletable": true,
    "editable": true
   },
   "outputs": [
    {
     "data": {
      "text/plain": [
       "<matplotlib.text.Text at 0x11226ca10>"
      ]
     },
     "execution_count": 220,
     "metadata": {},
     "output_type": "execute_result"
    },
    {
     "data": {
      "image/png": "[encoded data removed]",
      "text/plain": [
       "<matplotlib.figure.Figure at 0x1122fe110>"
      ]
     },
     "metadata": {},
     "output_type": "display_data"
    }
   ],
   "source": [
    "plt.plot(hour)\n",
    "plt.title('Percentage sold-unsold vs. Hour')\n",
    "plt.ylabel('(sold-unsold) / hour')\n",
    "plt.xlabel('hour')\n"
   ]
  },
  {
   "cell_type": "markdown",
   "metadata": {
    "deletable": true,
    "editable": true
   },
   "source": [
    "# Classifying Auctions\n",
    "---"
   ]
  },
  {
   "cell_type": "markdown",
   "metadata": {
    "deletable": true,
    "editable": true
   },
   "source": [
    "Feature selection"
   ]
  },
  {
   "cell_type": "code",
   "execution_count": 16,
   "metadata": {
    "collapsed": false,
    "deletable": true,
    "editable": true
   },
   "outputs": [
    {
     "data": {
      "text/html": [
       "<div>\n",
       "<table border=\"1\" class=\"dataframe\">\n",
       "  <thead>\n",
       "    <tr style=\"text-align: right;\">\n",
       "      <th></th>\n",
       "      <th>index</th>\n",
       "      <th>id</th>\n",
       "      <th>timestamp</th>\n",
       "      <th>itemId</th>\n",
       "      <th>topRatedListing</th>\n",
       "      <th>globalId</th>\n",
       "      <th>title</th>\n",
       "      <th>subtitle</th>\n",
       "      <th>country</th>\n",
       "      <th>primaryCategory.categoryId</th>\n",
       "      <th>primaryCategory.categoryName</th>\n",
       "      <th>secondaryCategory.categoryId</th>\n",
       "      <th>secondaryCategory.categoryName</th>\n",
       "      <th>pictureURLLarge</th>\n",
       "      <th>galleryURL</th>\n",
       "      <th>sellerInfo.feedbackRatingStar</th>\n",
       "      <th>sellerInfo.feedbackScore</th>\n",
       "      <th>sellerInfo.positiveFeedbackPercent</th>\n",
       "      <th>sellerInfo.topRatedSeller</th>\n",
       "      <th>shippingInfo.expeditedShipping</th>\n",
       "      <th>shippingInfo.shipToLocations</th>\n",
       "      <th>shippingInfo.shippingServiceCost.value</th>\n",
       "      <th>shippingInfo.oneDayShippingAvailable</th>\n",
       "      <th>shippingInfo.handlingTime</th>\n",
       "      <th>shippingInfo.shippingType</th>\n",
       "      <th>autoPay</th>\n",
       "      <th>returnsAccepted</th>\n",
       "      <th>viewItemURL</th>\n",
       "      <th>sellingStatus.currentPrice.value</th>\n",
       "      <th>startprice</th>\n",
       "      <th>endPrice</th>\n",
       "      <th>sellingStatus.bidCount</th>\n",
       "      <th>sellingStatus.sellingState</th>\n",
       "      <th>condition</th>\n",
       "      <th>condition.conditionId</th>\n",
       "      <th>condition.conditionDisplayName</th>\n",
       "      <th>listingInfo.listingType</th>\n",
       "      <th>listingInfo.bestOfferEnabled</th>\n",
       "      <th>listingInfo.buyItNowAvailable</th>\n",
       "      <th>listingInfo.buyItNowPrice.value</th>\n",
       "      <th>listingInfo.startTime</th>\n",
       "      <th>listingInfo.endTime</th>\n",
       "      <th>conditiondescription</th>\n",
       "      <th>endListingType</th>\n",
       "      <th>startPrice</th>\n",
       "      <th>sold_state</th>\n",
       "      <th>conditionAvailable</th>\n",
       "    </tr>\n",
       "  </thead>\n",
       "  <tbody>\n",
       "    <tr>\n",
       "      <th>0</th>\n",
       "      <td>1</td>\n",
       "      <td>78584</td>\n",
       "      <td>2017-04-06 03:20:46.048000+00:00</td>\n",
       "      <td>322461255962</td>\n",
       "      <td>0</td>\n",
       "      <td>EBAY-US</td>\n",
       "      <td>Canon EOS Rebel SL1 / EOS 100D 18.0 MP Digital...</td>\n",
       "      <td>Buy Direct from Best Buy</td>\n",
       "      <td>US</td>\n",
       "      <td>31388</td>\n",
       "      <td>Digital Cameras</td>\n",
       "      <td>None</td>\n",
       "      <td>None</td>\n",
       "      <td>http://i.ebayimg.com/00/s/NTAwWDUwMA==/z/YqcAA...</td>\n",
       "      <td>http://thumbs3.ebaystatic.com/m/mv_DS7lPhi2xP4...</td>\n",
       "      <td>Blue</td>\n",
       "      <td>98</td>\n",
       "      <td>91.7</td>\n",
       "      <td>False</td>\n",
       "      <td>1</td>\n",
       "      <td>{US,CA,GB,AU,AT,BE,FR,DE,IT,JP,ES,TW,NL,HK,MX,...</td>\n",
       "      <td>0.0</td>\n",
       "      <td>0</td>\n",
       "      <td>2.0</td>\n",
       "      <td>Calculated</td>\n",
       "      <td>0</td>\n",
       "      <td>1</td>\n",
       "      <td>http://www.ebay.com/itm/Canon-EOS-Rebel-SL1-EO...</td>\n",
       "      <td>399.0</td>\n",
       "      <td>NaN</td>\n",
       "      <td>399.0</td>\n",
       "      <td>0</td>\n",
       "      <td>EndedWithoutSales</td>\n",
       "      <td>None</td>\n",
       "      <td>1000</td>\n",
       "      <td>New</td>\n",
       "      <td>Auction</td>\n",
       "      <td>0</td>\n",
       "      <td>0</td>\n",
       "      <td>529.0</td>\n",
       "      <td>2017-03-23 18:27:59</td>\n",
       "      <td>2017-03-30 18:27:59</td>\n",
       "      <td></td>\n",
       "      <td>Auction</td>\n",
       "      <td>399.0</td>\n",
       "      <td>0</td>\n",
       "      <td>0</td>\n",
       "    </tr>\n",
       "    <tr>\n",
       "      <th>1</th>\n",
       "      <td>5</td>\n",
       "      <td>78567</td>\n",
       "      <td>2017-04-06 03:20:46.048000+00:00</td>\n",
       "      <td>332163381834</td>\n",
       "      <td>0</td>\n",
       "      <td>EBAY-US</td>\n",
       "      <td>Sony Cyber-shot DSC-RX100 20.2MP Digital Camer...</td>\n",
       "      <td>Refurbished with 90 Day Nikon Warranty</td>\n",
       "      <td>US</td>\n",
       "      <td>31388</td>\n",
       "      <td>Digital Cameras</td>\n",
       "      <td>None</td>\n",
       "      <td>None</td>\n",
       "      <td>http://i.ebayimg.com/00/s/MTIwMFgxNjAw/z/4AsAA...</td>\n",
       "      <td>http://thumbs3.ebaystatic.com/m/myycjRB33Dwncv...</td>\n",
       "      <td>Yellow</td>\n",
       "      <td>45</td>\n",
       "      <td>100.0</td>\n",
       "      <td>False</td>\n",
       "      <td>1</td>\n",
       "      <td>{US,CA,GB,AU,AT,BE,FR,DE,IT,JP,ES,TW,NL,HK,MX,...</td>\n",
       "      <td>0.0</td>\n",
       "      <td>0</td>\n",
       "      <td>3.0</td>\n",
       "      <td>Calculated</td>\n",
       "      <td>1</td>\n",
       "      <td>0</td>\n",
       "      <td>http://www.ebay.com/itm/Sony-Cyber-shot-DSC-RX...</td>\n",
       "      <td>369.0</td>\n",
       "      <td>300.0</td>\n",
       "      <td>369.0</td>\n",
       "      <td>10</td>\n",
       "      <td>EndedWithSales</td>\n",
       "      <td>None</td>\n",
       "      <td>1000</td>\n",
       "      <td>New</td>\n",
       "      <td>Auction</td>\n",
       "      <td>0</td>\n",
       "      <td>0</td>\n",
       "      <td>NaN</td>\n",
       "      <td>2017-03-23 23:26:46</td>\n",
       "      <td>2017-03-30 23:26:46</td>\n",
       "      <td></td>\n",
       "      <td>Auction</td>\n",
       "      <td>300.0</td>\n",
       "      <td>1</td>\n",
       "      <td>0</td>\n",
       "    </tr>\n",
       "  </tbody>\n",
       "</table>\n",
       "</div>"
      ],
      "text/plain": [
       "   index     id                        timestamp        itemId  \\\n",
       "0      1  78584 2017-04-06 03:20:46.048000+00:00  322461255962   \n",
       "1      5  78567 2017-04-06 03:20:46.048000+00:00  332163381834   \n",
       "\n",
       "   topRatedListing globalId  \\\n",
       "0                0  EBAY-US   \n",
       "1                0  EBAY-US   \n",
       "\n",
       "                                               title  \\\n",
       "0  Canon EOS Rebel SL1 / EOS 100D 18.0 MP Digital...   \n",
       "1  Sony Cyber-shot DSC-RX100 20.2MP Digital Camer...   \n",
       "\n",
       "                                 subtitle country  primaryCategory.categoryId  \\\n",
       "0                Buy Direct from Best Buy      US                       31388   \n",
       "1  Refurbished with 90 Day Nikon Warranty      US                       31388   \n",
       "\n",
       "  primaryCategory.categoryName secondaryCategory.categoryId  \\\n",
       "0              Digital Cameras                         None   \n",
       "1              Digital Cameras                         None   \n",
       "\n",
       "  secondaryCategory.categoryName  \\\n",
       "0                           None   \n",
       "1                           None   \n",
       "\n",
       "                                     pictureURLLarge  \\\n",
       "0  http://i.ebayimg.com/00/s/NTAwWDUwMA==/z/YqcAA...   \n",
       "1  http://i.ebayimg.com/00/s/MTIwMFgxNjAw/z/4AsAA...   \n",
       "\n",
       "                                          galleryURL  \\\n",
       "0  http://thumbs3.ebaystatic.com/m/mv_DS7lPhi2xP4...   \n",
       "1  http://thumbs3.ebaystatic.com/m/myycjRB33Dwncv...   \n",
       "\n",
       "  sellerInfo.feedbackRatingStar  sellerInfo.feedbackScore  \\\n",
       "0                          Blue                        98   \n",
       "1                        Yellow                        45   \n",
       "\n",
       "   sellerInfo.positiveFeedbackPercent sellerInfo.topRatedSeller  \\\n",
       "0                                91.7                     False   \n",
       "1                               100.0                     False   \n",
       "\n",
       "   shippingInfo.expeditedShipping  \\\n",
       "0                               1   \n",
       "1                               1   \n",
       "\n",
       "                        shippingInfo.shipToLocations  \\\n",
       "0  {US,CA,GB,AU,AT,BE,FR,DE,IT,JP,ES,TW,NL,HK,MX,...   \n",
       "1  {US,CA,GB,AU,AT,BE,FR,DE,IT,JP,ES,TW,NL,HK,MX,...   \n",
       "\n",
       "   shippingInfo.shippingServiceCost.value  \\\n",
       "0                                     0.0   \n",
       "1                                     0.0   \n",
       "\n",
       "   shippingInfo.oneDayShippingAvailable  shippingInfo.handlingTime  \\\n",
       "0                                     0                        2.0   \n",
       "1                                     0                        3.0   \n",
       "\n",
       "  shippingInfo.shippingType  autoPay  returnsAccepted  \\\n",
       "0                Calculated        0                1   \n",
       "1                Calculated        1                0   \n",
       "\n",
       "                                         viewItemURL  \\\n",
       "0  http://www.ebay.com/itm/Canon-EOS-Rebel-SL1-EO...   \n",
       "1  http://www.ebay.com/itm/Sony-Cyber-shot-DSC-RX...   \n",
       "\n",
       "   sellingStatus.currentPrice.value  startprice  endPrice  \\\n",
       "0                             399.0         NaN     399.0   \n",
       "1                             369.0       300.0     369.0   \n",
       "\n",
       "   sellingStatus.bidCount sellingStatus.sellingState condition  \\\n",
       "0                       0          EndedWithoutSales      None   \n",
       "1                      10             EndedWithSales      None   \n",
       "\n",
       "   condition.conditionId condition.conditionDisplayName  \\\n",
       "0                   1000                            New   \n",
       "1                   1000                            New   \n",
       "\n",
       "  listingInfo.listingType  listingInfo.bestOfferEnabled  \\\n",
       "0                 Auction                             0   \n",
       "1                 Auction                             0   \n",
       "\n",
       "   listingInfo.buyItNowAvailable  listingInfo.buyItNowPrice.value  \\\n",
       "0                              0                            529.0   \n",
       "1                              0                              NaN   \n",
       "\n",
       "  listingInfo.startTime listingInfo.endTime conditiondescription  \\\n",
       "0   2017-03-23 18:27:59 2017-03-30 18:27:59                        \n",
       "1   2017-03-23 23:26:46 2017-03-30 23:26:46                        \n",
       "\n",
       "  endListingType  startPrice  sold_state  conditionAvailable  \n",
       "0        Auction       399.0           0                   0  \n",
       "1        Auction       300.0           1                   0  "
      ]
     },
     "execution_count": 16,
     "metadata": {},
     "output_type": "execute_result"
    }
   ],
   "source": [
    "auctions.head(2)"
   ]
  },
  {
   "cell_type": "code",
   "execution_count": 17,
   "metadata": {
    "collapsed": false,
    "deletable": true,
    "editable": true
   },
   "outputs": [],
   "source": [
    "# Use the conditionDisplayName if conditiondescription is empty\n",
    "auctions['conditionCombined'] = ''\n",
    "auctions['conditionCombined'] = auctions.apply(lambda x: x['condition.conditionDisplayName'] if (x['conditiondescription']=='' or x['conditiondescription']==None ) else x['conditiondescription'], axis=1)"
   ]
  },
  {
   "cell_type": "code",
   "execution_count": 18,
   "metadata": {
    "collapsed": false,
    "deletable": true,
    "editable": true
   },
   "outputs": [],
   "source": [
    "# Use startPrice, title (vectorized), conditionDisplayName (one-hot-encoded)\n",
    "auction_condition_dummies = pd.get_dummies(data=auctions['condition.conditionDisplayName'])\n",
    "\n",
    "start_price_series = auctions['startPrice']\n",
    "\n",
    "titles = auctions['title']\n",
    "\n",
    "sold = auctions['sold_state']\n",
    "\n",
    "condition_combined = auctions['conditionCombined']\n",
    "\n",
    "end_price = auctions['endPrice']\n",
    "\n",
    "start_time_series = auctions['listingInfo.startTime']\n",
    "\n",
    "end_time_series = auctions['listingInfo.endTime']"
   ]
  },
  {
   "cell_type": "markdown",
   "metadata": {
    "deletable": true,
    "editable": true
   },
   "source": [
    "# Vectorize"
   ]
  },
  {
   "cell_type": "markdown",
   "metadata": {
    "deletable": true,
    "editable": true
   },
   "source": [
    "#### Clean titles"
   ]
  },
  {
   "cell_type": "code",
   "execution_count": 19,
   "metadata": {
    "collapsed": false,
    "deletable": true,
    "editable": true
   },
   "outputs": [],
   "source": [
    "# for title in titles[:10]:\n",
    "#     print title, '\\n'"
   ]
  },
  {
   "cell_type": "code",
   "execution_count": 20,
   "metadata": {
    "collapsed": true,
    "deletable": true,
    "editable": true
   },
   "outputs": [],
   "source": [
    "from bs4 import BeautifulSoup\n",
    "import re\n",
    "import nltk\n",
    "from nltk.corpus import stopwords\n",
    "from nltk.stem.porter import PorterStemmer\n",
    "from nltk.stem.lancaster import LancasterStemmer\n",
    "\n",
    "def clean_text(doc, remove_stop_words=True, remove_digits=False, remove_punc=True, stem=False):\n",
    "    \n",
    "    # 1. Remove any HTML markup\n",
    "    text = BeautifulSoup(doc).get_text()  \n",
    "    \n",
    "    # 2. Extract special negator like n't\n",
    "    text = re.sub('n\\'t', ' not', text)\n",
    "    \n",
    "    # 3. remove punctuation(except .-)\n",
    "    if remove_punc:\n",
    "        text = re.sub('[^a-zA-Z.\\-\\d]', ' ', text)\n",
    "        \n",
    "    if remove_digits:\n",
    "        text = re.sub('[.\\d]', ' ', text)\n",
    "        \n",
    "    # 4. Convert to lower case \n",
    "    text = text.lower()\n",
    "        \n",
    "    # 5. Remove stop words\n",
    "    if remove_stop_words:\n",
    "        stops = set(stopwords.words(\"english\"))\n",
    "        text = [w for w in text.split(' ') if not w in stops]\n",
    "        text = ' '.join(text)\n",
    "                \n",
    "    # 6. apply Porter Stemming\n",
    "    # probably don't need this\n",
    "    if stem:\n",
    "        stemmer = PorterStemmer()\n",
    "        stemmer = LancasterStemmer()\n",
    "        text = [stemmer.stem(w) for w in text.split(' ')]\n",
    "        text = ' '.join(text)\n",
    "        \n",
    "    # 7. Remove extra white space\n",
    "    text = re.sub(' +',' ', text)\n",
    "        \n",
    "    return text"
   ]
  },
  {
   "cell_type": "code",
   "execution_count": 21,
   "metadata": {
    "collapsed": false,
    "deletable": true,
    "editable": true
   },
   "outputs": [
    {
     "name": "stderr",
     "output_type": "stream",
     "text": [
      "/Users/Naekid/anaconda3/envs/dsi/lib/python2.7/site-packages/bs4/__init__.py:181: UserWarning: No parser was explicitly specified, so I'm using the best available HTML parser for this system (\"lxml\"). This usually isn't a problem, but if you run this code on another system, or in a different virtual environment, it may use a different parser and behave differently.\n",
      "\n",
      "The code that caused this warning is on line 174 of the file /Users/Naekid/anaconda3/envs/dsi/lib/python2.7/runpy.py. To get rid of this warning, change code that looks like this:\n",
      "\n",
      " BeautifulSoup([your markup])\n",
      "\n",
      "to this:\n",
      "\n",
      " BeautifulSoup([your markup], \"lxml\")\n",
      "\n",
      "  markup_type=markup_type))\n"
     ]
    },
    {
     "name": "stdout",
     "output_type": "stream",
     "text": [
      "cleaning #5000 out of 29961 documents\n",
      "cleaning #10000 out of 29961 documents\n",
      "cleaning #15000 out of 29961 documents\n",
      "cleaning #20000 out of 29961 documents\n",
      "cleaning #25000 out of 29961 documents\n"
     ]
    }
   ],
   "source": [
    "clean_titles = []\n",
    "for i,title in enumerate(titles.values):\n",
    "    if (i+1)%5000==0:\n",
    "        print 'cleaning #{} out of {} documents'.format(i+1,len(condition_combined))\n",
    "    clean_titles.append(clean_text(title))"
   ]
  },
  {
   "cell_type": "code",
   "execution_count": 22,
   "metadata": {
    "collapsed": false,
    "deletable": true,
    "editable": true
   },
   "outputs": [],
   "source": [
    "# Test for cleaning conditions\n",
    "# for i in range(10):\n",
    "#     print condition_combined[i]\n",
    "#     print clean_text(condition_combined[i], remove_digits=True, remove_punc=True)"
   ]
  },
  {
   "cell_type": "code",
   "execution_count": 23,
   "metadata": {
    "collapsed": false,
    "deletable": true,
    "editable": true
   },
   "outputs": [
    {
     "name": "stdout",
     "output_type": "stream",
     "text": [
      "cleaning #5000 out of 29961 documents\n",
      "cleaning #10000 out of 29961 documents\n",
      "cleaning #15000 out of 29961 documents\n",
      "cleaning #20000 out of 29961 documents\n"
     ]
    },
    {
     "name": "stderr",
     "output_type": "stream",
     "text": [
      "/Users/Naekid/anaconda3/envs/dsi/lib/python2.7/site-packages/bs4/__init__.py:219: UserWarning: \".\" looks like a filename, not markup. You shouldprobably open this file and pass the filehandle intoBeautiful Soup.\n",
      "  'Beautiful Soup.' % markup)\n"
     ]
    },
    {
     "name": "stdout",
     "output_type": "stream",
     "text": [
      "cleaning #25000 out of 29961 documents\n"
     ]
    }
   ],
   "source": [
    "clean_conditions = []\n",
    "for i,cond in enumerate(condition_combined):\n",
    "    if (i+1)%5000==0:\n",
    "        print 'cleaning #{} out of {} documents'.format(i+1,len(condition_combined))\n",
    "    clean_conditions.append(clean_text(cond))"
   ]
  },
  {
   "cell_type": "markdown",
   "metadata": {
    "deletable": true,
    "editable": true
   },
   "source": [
    "### Feature Engineer - Vectorize"
   ]
  },
  {
   "cell_type": "markdown",
   "metadata": {
    "deletable": true,
    "editable": true
   },
   "source": [
    "Strategy: I want to use CountVectorizer, because I'm really searching for the presence of certain words/word combinations. I don't care so much about weighing up unique words because I expect a lot of the listings to be similar. For instance, I don't want to weigh the phrase \"24.2 MP\" down just because it appears in many of the listings, because it's an important phrase even if it is not that unique to the particular listing."
   ]
  },
  {
   "cell_type": "code",
   "execution_count": 24,
   "metadata": {
    "collapsed": false,
    "deletable": true,
    "editable": true,
    "scrolled": true
   },
   "outputs": [
    {
     "name": "stdout",
     "output_type": "stream",
     "text": [
      "[(u'zuiko digital', 6949), (u'zuiko 14', 6948), (u'zuiko', 6947), (u'zs8 14', 6946), (u'zs8', 6945)]\n"
     ]
    }
   ],
   "source": [
    "vectorizer = CountVectorizer(ngram_range = (1,2),\n",
    "                             min_df=5,\n",
    "                             analyzer='word',\n",
    "                             stop_words=None,\n",
    "                             max_features=10000,\n",
    "                            )\n",
    "\n",
    "titles_matrix = vectorizer.fit_transform(clean_titles)\n",
    "\n",
    "import operator\n",
    "print sorted(vectorizer.vocabulary_.items(), key=operator.itemgetter(1), reverse=True)[:5]\n",
    "titles_df = pd.DataFrame(titles_matrix.todense(), columns=vectorizer.vocabulary_.keys())"
   ]
  },
  {
   "cell_type": "code",
   "execution_count": 25,
   "metadata": {
    "collapsed": false,
    "deletable": true,
    "editable": true
   },
   "outputs": [
    {
     "name": "stdout",
     "output_type": "stream",
     "text": [
      "most common condition grams: [(u'zoom', 772), (u'years', 771), (u'year', 770), (u'wrong', 769), (u'wrist strap', 768)]\n",
      "least common condition grams: [(u'000', 0), (u'10', 1), (u'100', 2), (u'12', 3), (u'14', 4)]\n"
     ]
    }
   ],
   "source": [
    "vectorizer = CountVectorizer(ngram_range = (1,2),\n",
    "                             min_df=30,\n",
    "                             analyzer='word',\n",
    "                             stop_words=None,\n",
    "                             max_features=5000,\n",
    "                            )\n",
    "\n",
    "conditions_matrix = vectorizer.fit_transform(clean_conditions)\n",
    "\n",
    "import operator\n",
    "# sorted(vectorizer.vocabulary_.items(), key=lambda x: x[1], reverse=False) # print \n",
    "print 'most common condition grams:',sorted(vectorizer.vocabulary_.items(), key=operator.itemgetter(1), reverse=True)[:5]\n",
    "print 'least common condition grams:',sorted(vectorizer.vocabulary_.items(), key=operator.itemgetter(1), reverse=False)[:5]\n",
    "conditions_df = pd.DataFrame(conditions_matrix.todense(), columns=vectorizer.vocabulary_.keys())"
   ]
  },
  {
   "cell_type": "markdown",
   "metadata": {
    "deletable": true,
    "editable": true
   },
   "source": [
    "Clean up unused variables"
   ]
  },
  {
   "cell_type": "code",
   "execution_count": 26,
   "metadata": {
    "collapsed": true,
    "deletable": true,
    "editable": true
   },
   "outputs": [],
   "source": [
    "del clean_titles\n",
    "del clean_conditions\n",
    "del conditions_matrix\n",
    "del titles_matrix"
   ]
  },
  {
   "cell_type": "markdown",
   "metadata": {
    "deletable": true,
    "editable": true
   },
   "source": [
    "## Feature Engineer - Median Start Price of Similar, Concurrent Listings "
   ]
  },
  {
   "cell_type": "markdown",
   "metadata": {
    "deletable": true,
    "editable": true
   },
   "source": [
    "Method to group concurrent listings:\n",
    "```\n",
    "sort dataframe by startTime DESC\n",
    "for listing1 in listings:\n",
    "\tcreate new dataframe for concurrent and completed listings (no future listings)\n",
    "\tadd listing1 to new dataframe\n",
    "\tfor listing2 in listings:\n",
    "\t\tif listing2.startTime < listing1.startTime and listing2.endTime > listing1.startTime:\n",
    "\t\t\tadd listing2 to new dataframe with [‘concurrent’]=1\n",
    "    calculate cosine similarity for new dataframe\n",
    "    take top % most similar listings\n",
    "    calculate the median startPrice \n",
    "            \n",
    "```\n",
    "\n",
    "        "
   ]
  },
  {
   "cell_type": "code",
   "execution_count": 107,
   "metadata": {
    "collapsed": true,
    "deletable": true,
    "editable": true
   },
   "outputs": [],
   "source": [
    "data_frames_to_keep = [titles_df, conditions_df, start_time_series, end_time_series, start_price_series]\n",
    "auctions_temp = pd.concat(data_frames_to_keep, axis=1)"
   ]
  },
  {
   "cell_type": "code",
   "execution_count": 109,
   "metadata": {
    "collapsed": false,
    "deletable": true,
    "editable": true
   },
   "outputs": [],
   "source": [
    "# Sort dataframe by startTime DESC\n",
    "auctions_temp.sort_values(by='listingInfo.startTime', inplace=True)"
   ]
  },
  {
   "cell_type": "code",
   "execution_count": 115,
   "metadata": {
    "collapsed": true,
    "deletable": true,
    "editable": true
   },
   "outputs": [
    {
     "data": {
      "text/plain": [
       "z990 12                                    0\n",
       "excellent cond                             0\n",
       "lumix digital                              0\n",
       "grip charger                               0\n",
       "medium format                              0\n",
       "270                                        0\n",
       "275                                        0\n",
       "kodak                                      0\n",
       "af nikon                                   0\n",
       "body read                                  0\n",
       "cmos smart                                 0\n",
       "package deal                               0\n",
       "card case                                  0\n",
       "lens free                                  0\n",
       "batteries strap                            0\n",
       "e6                                         0\n",
       "slt a33                                    0\n",
       "slt a35                                    0\n",
       "zoom lense                                 0\n",
       "fe fe                                      1\n",
       "elph 170                                   0\n",
       "fujifilm pro1                              0\n",
       "tz25                                       0\n",
       "body working                               0\n",
       "12 megapixel                               0\n",
       "titanium                                   0\n",
       "zoom mega                                  0\n",
       "fuji fine                                  0\n",
       "dsc f707                                   0\n",
       "travel                                     0\n",
       "                                ...         \n",
       "cosmetic blemishes                         0\n",
       "corners                                    0\n",
       "look pictures                              0\n",
       "body cap                                   0\n",
       "factory                                    0\n",
       "view                                       0\n",
       "come                                       0\n",
       "working camera                             0\n",
       "rubber                                     0\n",
       "condition shutter                          0\n",
       "sony                                       0\n",
       "functioning                                0\n",
       "bundle                                     0\n",
       "photos hassle                              0\n",
       "scratches dents                            0\n",
       "cleaned                                    0\n",
       "condition low                              0\n",
       "please read                                0\n",
       "shutter actuations                         0\n",
       "store returns                              0\n",
       "dent                                       0\n",
       "operational                                0\n",
       "know                                       0\n",
       "repair                                     0\n",
       "warranty                                   0\n",
       "ex                                         0\n",
       "little use                                 0\n",
       "listingInfo.startTime    2017-01-15 08:29:25\n",
       "listingInfo.endTime      2017-01-21 20:29:17\n",
       "startPrice                               500\n",
       "Name: 15243, dtype: object"
      ]
     },
     "execution_count": 115,
     "metadata": {},
     "output_type": "execute_result"
    }
   ],
   "source": [
    "auctions_temp.iloc[1]"
   ]
  },
  {
   "cell_type": "code",
   "execution_count": 113,
   "metadata": {
    "collapsed": false,
    "deletable": true,
    "editable": true
   },
   "outputs": [
    {
     "ename": "KeyboardInterrupt",
     "evalue": "",
     "output_type": "error",
     "traceback": [
      "\u001b[0;31m---------------------------------------------------------------------------\u001b[0m",
      "\u001b[0;31mKeyboardInterrupt\u001b[0m                         Traceback (most recent call last)",
      "\u001b[0;32m<ipython-input-113-5f33e635f090>\u001b[0m in \u001b[0;36m<module>\u001b[0;34m()\u001b[0m\n\u001b[0;32m----> 1\u001b[0;31m \u001b[0mauctions_temp\u001b[0m\u001b[0;34m.\u001b[0m\u001b[0mapply\u001b[0m\u001b[0;34m(\u001b[0m\u001b[0;32mlambda\u001b[0m \u001b[0mx\u001b[0m\u001b[0;34m:\u001b[0m \u001b[0mx\u001b[0m\u001b[0;34m[\u001b[0m\u001b[0;34m'listingInfo.startTime'\u001b[0m\u001b[0;34m]\u001b[0m\u001b[0;34m<\u001b[0m\u001b[0mlisting_st\u001b[0m\u001b[0;34m<\u001b[0m\u001b[0mx\u001b[0m\u001b[0;34m[\u001b[0m\u001b[0;34m'listingInfo.endTime'\u001b[0m\u001b[0;34m]\u001b[0m\u001b[0;34m,\u001b[0m \u001b[0maxis\u001b[0m\u001b[0;34m=\u001b[0m\u001b[0;36m1\u001b[0m\u001b[0;34m)\u001b[0m\u001b[0;34m\u001b[0m\u001b[0m\n\u001b[0m",
      "\u001b[0;32m/Users/Naekid/anaconda3/envs/dsi/lib/python2.7/site-packages/pandas/core/frame.pyc\u001b[0m in \u001b[0;36mapply\u001b[0;34m(self, func, axis, broadcast, raw, reduce, args, **kwds)\u001b[0m\n\u001b[1;32m   4150\u001b[0m                     \u001b[0;32mif\u001b[0m \u001b[0mreduce\u001b[0m \u001b[0;32mis\u001b[0m \u001b[0mNone\u001b[0m\u001b[0;34m:\u001b[0m\u001b[0;34m\u001b[0m\u001b[0m\n\u001b[1;32m   4151\u001b[0m                         \u001b[0mreduce\u001b[0m \u001b[0;34m=\u001b[0m \u001b[0mTrue\u001b[0m\u001b[0;34m\u001b[0m\u001b[0m\n\u001b[0;32m-> 4152\u001b[0;31m                     \u001b[0;32mreturn\u001b[0m \u001b[0mself\u001b[0m\u001b[0;34m.\u001b[0m\u001b[0m_apply_standard\u001b[0m\u001b[0;34m(\u001b[0m\u001b[0mf\u001b[0m\u001b[0;34m,\u001b[0m \u001b[0maxis\u001b[0m\u001b[0;34m,\u001b[0m \u001b[0mreduce\u001b[0m\u001b[0;34m=\u001b[0m\u001b[0mreduce\u001b[0m\u001b[0;34m)\u001b[0m\u001b[0;34m\u001b[0m\u001b[0m\n\u001b[0m\u001b[1;32m   4153\u001b[0m             \u001b[0;32melse\u001b[0m\u001b[0;34m:\u001b[0m\u001b[0;34m\u001b[0m\u001b[0m\n\u001b[1;32m   4154\u001b[0m                 \u001b[0;32mreturn\u001b[0m \u001b[0mself\u001b[0m\u001b[0;34m.\u001b[0m\u001b[0m_apply_broadcast\u001b[0m\u001b[0;34m(\u001b[0m\u001b[0mf\u001b[0m\u001b[0;34m,\u001b[0m \u001b[0maxis\u001b[0m\u001b[0;34m)\u001b[0m\u001b[0;34m\u001b[0m\u001b[0m\n",
      "\u001b[0;32m/Users/Naekid/anaconda3/envs/dsi/lib/python2.7/site-packages/pandas/core/frame.pyc\u001b[0m in \u001b[0;36m_apply_standard\u001b[0;34m(self, func, axis, ignore_failures, reduce)\u001b[0m\n\u001b[1;32m   4246\u001b[0m             \u001b[0;32mtry\u001b[0m\u001b[0;34m:\u001b[0m\u001b[0;34m\u001b[0m\u001b[0m\n\u001b[1;32m   4247\u001b[0m                 \u001b[0;32mfor\u001b[0m \u001b[0mi\u001b[0m\u001b[0;34m,\u001b[0m \u001b[0mv\u001b[0m \u001b[0;32min\u001b[0m \u001b[0menumerate\u001b[0m\u001b[0;34m(\u001b[0m\u001b[0mseries_gen\u001b[0m\u001b[0;34m)\u001b[0m\u001b[0;34m:\u001b[0m\u001b[0;34m\u001b[0m\u001b[0m\n\u001b[0;32m-> 4248\u001b[0;31m                     \u001b[0mresults\u001b[0m\u001b[0;34m[\u001b[0m\u001b[0mi\u001b[0m\u001b[0;34m]\u001b[0m \u001b[0;34m=\u001b[0m \u001b[0mfunc\u001b[0m\u001b[0;34m(\u001b[0m\u001b[0mv\u001b[0m\u001b[0;34m)\u001b[0m\u001b[0;34m\u001b[0m\u001b[0m\n\u001b[0m\u001b[1;32m   4249\u001b[0m                     \u001b[0mkeys\u001b[0m\u001b[0;34m.\u001b[0m\u001b[0mappend\u001b[0m\u001b[0;34m(\u001b[0m\u001b[0mv\u001b[0m\u001b[0;34m.\u001b[0m\u001b[0mname\u001b[0m\u001b[0;34m)\u001b[0m\u001b[0;34m\u001b[0m\u001b[0m\n\u001b[1;32m   4250\u001b[0m             \u001b[0;32mexcept\u001b[0m \u001b[0mException\u001b[0m \u001b[0;32mas\u001b[0m \u001b[0me\u001b[0m\u001b[0;34m:\u001b[0m\u001b[0;34m\u001b[0m\u001b[0m\n",
      "\u001b[0;32m<ipython-input-113-5f33e635f090>\u001b[0m in \u001b[0;36m<lambda>\u001b[0;34m(x)\u001b[0m\n\u001b[0;32m----> 1\u001b[0;31m \u001b[0mauctions_temp\u001b[0m\u001b[0;34m.\u001b[0m\u001b[0mapply\u001b[0m\u001b[0;34m(\u001b[0m\u001b[0;32mlambda\u001b[0m \u001b[0mx\u001b[0m\u001b[0;34m:\u001b[0m \u001b[0mx\u001b[0m\u001b[0;34m[\u001b[0m\u001b[0;34m'listingInfo.startTime'\u001b[0m\u001b[0;34m]\u001b[0m\u001b[0;34m<\u001b[0m\u001b[0mlisting_st\u001b[0m\u001b[0;34m<\u001b[0m\u001b[0mx\u001b[0m\u001b[0;34m[\u001b[0m\u001b[0;34m'listingInfo.endTime'\u001b[0m\u001b[0;34m]\u001b[0m\u001b[0;34m,\u001b[0m \u001b[0maxis\u001b[0m\u001b[0;34m=\u001b[0m\u001b[0;36m1\u001b[0m\u001b[0;34m)\u001b[0m\u001b[0;34m\u001b[0m\u001b[0m\n\u001b[0m",
      "\u001b[0;32m/Users/Naekid/anaconda3/envs/dsi/lib/python2.7/site-packages/pandas/core/series.pyc\u001b[0m in \u001b[0;36m__getitem__\u001b[0;34m(self, key)\u001b[0m\n\u001b[1;32m    601\u001b[0m         \u001b[0mkey\u001b[0m \u001b[0;34m=\u001b[0m \u001b[0mcom\u001b[0m\u001b[0;34m.\u001b[0m\u001b[0m_apply_if_callable\u001b[0m\u001b[0;34m(\u001b[0m\u001b[0mkey\u001b[0m\u001b[0;34m,\u001b[0m \u001b[0mself\u001b[0m\u001b[0;34m)\u001b[0m\u001b[0;34m\u001b[0m\u001b[0m\n\u001b[1;32m    602\u001b[0m         \u001b[0;32mtry\u001b[0m\u001b[0;34m:\u001b[0m\u001b[0;34m\u001b[0m\u001b[0m\n\u001b[0;32m--> 603\u001b[0;31m             \u001b[0mresult\u001b[0m \u001b[0;34m=\u001b[0m \u001b[0mself\u001b[0m\u001b[0;34m.\u001b[0m\u001b[0mindex\u001b[0m\u001b[0;34m.\u001b[0m\u001b[0mget_value\u001b[0m\u001b[0;34m(\u001b[0m\u001b[0mself\u001b[0m\u001b[0;34m,\u001b[0m \u001b[0mkey\u001b[0m\u001b[0;34m)\u001b[0m\u001b[0;34m\u001b[0m\u001b[0m\n\u001b[0m\u001b[1;32m    604\u001b[0m \u001b[0;34m\u001b[0m\u001b[0m\n\u001b[1;32m    605\u001b[0m             \u001b[0;32mif\u001b[0m \u001b[0;32mnot\u001b[0m \u001b[0mis_scalar\u001b[0m\u001b[0;34m(\u001b[0m\u001b[0mresult\u001b[0m\u001b[0;34m)\u001b[0m\u001b[0;34m:\u001b[0m\u001b[0;34m\u001b[0m\u001b[0m\n",
      "\u001b[0;32m/Users/Naekid/anaconda3/envs/dsi/lib/python2.7/site-packages/pandas/indexes/base.pyc\u001b[0m in \u001b[0;36mget_value\u001b[0;34m(self, series, key)\u001b[0m\n\u001b[1;32m   2167\u001b[0m         \u001b[0;32mtry\u001b[0m\u001b[0;34m:\u001b[0m\u001b[0;34m\u001b[0m\u001b[0m\n\u001b[1;32m   2168\u001b[0m             return self._engine.get_value(s, k,\n\u001b[0;32m-> 2169\u001b[0;31m                                           tz=getattr(series.dtype, 'tz', None))\n\u001b[0m\u001b[1;32m   2170\u001b[0m         \u001b[0;32mexcept\u001b[0m \u001b[0mKeyError\u001b[0m \u001b[0;32mas\u001b[0m \u001b[0me1\u001b[0m\u001b[0;34m:\u001b[0m\u001b[0;34m\u001b[0m\u001b[0m\n\u001b[1;32m   2171\u001b[0m             \u001b[0;32mif\u001b[0m \u001b[0mlen\u001b[0m\u001b[0;34m(\u001b[0m\u001b[0mself\u001b[0m\u001b[0;34m)\u001b[0m \u001b[0;34m>\u001b[0m \u001b[0;36m0\u001b[0m \u001b[0;32mand\u001b[0m \u001b[0mself\u001b[0m\u001b[0;34m.\u001b[0m\u001b[0minferred_type\u001b[0m \u001b[0;32min\u001b[0m \u001b[0;34m[\u001b[0m\u001b[0;34m'integer'\u001b[0m\u001b[0;34m,\u001b[0m \u001b[0;34m'boolean'\u001b[0m\u001b[0;34m]\u001b[0m\u001b[0;34m:\u001b[0m\u001b[0;34m\u001b[0m\u001b[0m\n",
      "\u001b[0;31mKeyboardInterrupt\u001b[0m: "
     ]
    }
   ],
   "source": [
    "auctions_temp.apply(lambda x: x['listingInfo.startTime']<listing_st<x['listingInfo.endTime'], axis=1)"
   ]
  },
  {
   "cell_type": "markdown",
   "metadata": {
    "deletable": true,
    "editable": true
   },
   "source": [
    "Find median start price for concurrent listings "
   ]
  },
  {
   "cell_type": "code",
   "execution_count": 111,
   "metadata": {
    "collapsed": false,
    "deletable": true,
    "editable": true
   },
   "outputs": [
    {
     "ename": "KeyboardInterrupt",
     "evalue": "",
     "output_type": "error",
     "traceback": [
      "\u001b[0;31m---------------------------------------------------------------------------\u001b[0m",
      "\u001b[0;31mKeyboardInterrupt\u001b[0m                         Traceback (most recent call last)",
      "\u001b[0;32m<ipython-input-111-5af1ffabc1df>\u001b[0m in \u001b[0;36m<module>\u001b[0;34m()\u001b[0m\n\u001b[1;32m      3\u001b[0m \u001b[0;34m\u001b[0m\u001b[0m\n\u001b[1;32m      4\u001b[0m \u001b[0;31m# Find overlapping listings (filter for concurrent listings)\u001b[0m\u001b[0;34m\u001b[0m\u001b[0;34m\u001b[0m\u001b[0m\n\u001b[0;32m----> 5\u001b[0;31m \u001b[0moverlapping_listings_df\u001b[0m \u001b[0;34m=\u001b[0m \u001b[0mauctions_temp\u001b[0m\u001b[0;34m.\u001b[0m\u001b[0mloc\u001b[0m\u001b[0;34m[\u001b[0m\u001b[0mauctions_temp\u001b[0m\u001b[0;34m.\u001b[0m\u001b[0mapply\u001b[0m\u001b[0;34m(\u001b[0m\u001b[0;32mlambda\u001b[0m \u001b[0mcomp_list\u001b[0m\u001b[0;34m:\u001b[0m \u001b[0mcomp_list\u001b[0m\u001b[0;34m[\u001b[0m\u001b[0;34m'listingInfo.startTime'\u001b[0m\u001b[0;34m]\u001b[0m\u001b[0;34m<\u001b[0m\u001b[0mlisting_st\u001b[0m\u001b[0;34m<\u001b[0m\u001b[0mcomp_list\u001b[0m\u001b[0;34m[\u001b[0m\u001b[0;34m'listingInfo.endTime'\u001b[0m\u001b[0;34m]\u001b[0m\u001b[0;34m,\u001b[0m                \u001b[0maxis\u001b[0m\u001b[0;34m=\u001b[0m\u001b[0;36m1\u001b[0m\u001b[0;34m)\u001b[0m\u001b[0;34m]\u001b[0m\u001b[0;34m\u001b[0m\u001b[0m\n\u001b[0m\u001b[1;32m      6\u001b[0m \u001b[0;34m\u001b[0m\u001b[0m\n\u001b[1;32m      7\u001b[0m \u001b[0moverlapping_listings_df\u001b[0m\u001b[0;34m\u001b[0m\u001b[0m\n",
      "\u001b[0;32m/Users/Naekid/anaconda3/envs/dsi/lib/python2.7/site-packages/pandas/core/frame.pyc\u001b[0m in \u001b[0;36mapply\u001b[0;34m(self, func, axis, broadcast, raw, reduce, args, **kwds)\u001b[0m\n\u001b[1;32m   4150\u001b[0m                     \u001b[0;32mif\u001b[0m \u001b[0mreduce\u001b[0m \u001b[0;32mis\u001b[0m \u001b[0mNone\u001b[0m\u001b[0;34m:\u001b[0m\u001b[0;34m\u001b[0m\u001b[0m\n\u001b[1;32m   4151\u001b[0m                         \u001b[0mreduce\u001b[0m \u001b[0;34m=\u001b[0m \u001b[0mTrue\u001b[0m\u001b[0;34m\u001b[0m\u001b[0m\n\u001b[0;32m-> 4152\u001b[0;31m                     \u001b[0;32mreturn\u001b[0m \u001b[0mself\u001b[0m\u001b[0;34m.\u001b[0m\u001b[0m_apply_standard\u001b[0m\u001b[0;34m(\u001b[0m\u001b[0mf\u001b[0m\u001b[0;34m,\u001b[0m \u001b[0maxis\u001b[0m\u001b[0;34m,\u001b[0m \u001b[0mreduce\u001b[0m\u001b[0;34m=\u001b[0m\u001b[0mreduce\u001b[0m\u001b[0;34m)\u001b[0m\u001b[0;34m\u001b[0m\u001b[0m\n\u001b[0m\u001b[1;32m   4153\u001b[0m             \u001b[0;32melse\u001b[0m\u001b[0;34m:\u001b[0m\u001b[0;34m\u001b[0m\u001b[0m\n\u001b[1;32m   4154\u001b[0m                 \u001b[0;32mreturn\u001b[0m \u001b[0mself\u001b[0m\u001b[0;34m.\u001b[0m\u001b[0m_apply_broadcast\u001b[0m\u001b[0;34m(\u001b[0m\u001b[0mf\u001b[0m\u001b[0;34m,\u001b[0m \u001b[0maxis\u001b[0m\u001b[0;34m)\u001b[0m\u001b[0;34m\u001b[0m\u001b[0m\n",
      "\u001b[0;31mKeyboardInterrupt\u001b[0m: "
     ]
    }
   ],
   "source": [
    "# Sample listing \n",
    "listing_st = auctions_temp['listingInfo.startTime'][0] \n",
    "\n",
    "# Find overlapping listings (filter for concurrent listings)\n",
    "overlapping_listings_df = auctions_temp.loc[auctions_temp.apply(lambda comp_list: comp_list['listingInfo.startTime']<listing_st<comp_list['listingInfo.endTime'], \\\n",
    "               axis=1)]\n",
    "\n",
    "overlapping_listings_df\n"
   ]
  },
  {
   "cell_type": "code",
   "execution_count": null,
   "metadata": {
    "collapsed": true,
    "deletable": true,
    "editable": true
   },
   "outputs": [],
   "source": [
    "def filter_fn(listing):\n",
    "#     min_overlap = pd.to_timedelta('{} hour'.format(hours_overlap))\n",
    "#     overlapping_listings = auctions.apply(lambda comp_list: \n",
    "#                                           min(comp_list['listingInfo.endTime'], listing['listingInfo.endTime']) - \\\n",
    "#                                           max(comp_list['listingInfo.startTime'], listing['listingInfo.startTime']) > \\\n",
    "#                                           min_overlap, axis=1)\n",
    "    \n",
    "    listing_st = listing['listingInfo.startTime']\n",
    "    listing_et = listing['listingInfo.endTime']\n",
    "    \n",
    "    overlapping_listings = auctions.apply(lambda comp_list: \n",
    "    \n",
    "    return auctions.loc[overlapping_listings].id\n",
    "                             \n",
    "                   \n",
    "\n",
    "auctions.iloc[4:5].apply(filter_fn, axis=1)"
   ]
  },
  {
   "cell_type": "code",
   "execution_count": 94,
   "metadata": {
    "collapsed": false,
    "deletable": true,
    "editable": true
   },
   "outputs": [],
   "source": [
    "# auctions.apply(lambda x: median_of_concurrent, axis=1)"
   ]
  },
  {
   "cell_type": "code",
   "execution_count": null,
   "metadata": {
    "collapsed": true,
    "deletable": true,
    "editable": true
   },
   "outputs": [],
   "source": []
  },
  {
   "cell_type": "code",
   "execution_count": null,
   "metadata": {
    "collapsed": true,
    "deletable": true,
    "editable": true
   },
   "outputs": [],
   "source": [
    "del auctions_temp"
   ]
  },
  {
   "cell_type": "markdown",
   "metadata": {
    "deletable": true,
    "editable": true
   },
   "source": [
    "## Create Processed DataFrame"
   ]
  },
  {
   "cell_type": "markdown",
   "metadata": {
    "deletable": true,
    "editable": true
   },
   "source": [
    "**Create processed feature dataframe**"
   ]
  },
  {
   "cell_type": "code",
   "execution_count": 29,
   "metadata": {
    "collapsed": false,
    "deletable": true,
    "editable": true
   },
   "outputs": [],
   "source": [
    "data_frames_to_keep = [titles_df, conditions_df, auction_condition_dummies, start_price_series, sold]\n",
    "df_classification = pd.concat(data_frames_to_keep, axis=1)"
   ]
  },
  {
   "cell_type": "markdown",
   "metadata": {
    "deletable": true,
    "editable": true
   },
   "source": [
    "**Split data for modeling. **"
   ]
  },
  {
   "cell_type": "code",
   "execution_count": 30,
   "metadata": {
    "collapsed": false,
    "deletable": true,
    "editable": true
   },
   "outputs": [],
   "source": [
    "X_class = df_classification.ix[:, :-1].values\n",
    "y_class = df_classification.ix[:, -1].values\n",
    "\n",
    "X_train_class, X_test_class, y_train_class, y_test_class = train_test_split(X_class, y_class, random_state=42, test_size=0.2)"
   ]
  },
  {
   "cell_type": "markdown",
   "metadata": {
    "deletable": true,
    "editable": true
   },
   "source": [
    "## Model - Random Forest"
   ]
  },
  {
   "cell_type": "code",
   "execution_count": 31,
   "metadata": {
    "collapsed": false,
    "deletable": true,
    "editable": true
   },
   "outputs": [
    {
     "data": {
      "text/plain": [
       "RandomForestClassifier(bootstrap=True, class_weight=None, criterion='gini',\n",
       "            max_depth=None, max_features='auto', max_leaf_nodes=None,\n",
       "            min_impurity_split=1e-07, min_samples_leaf=1,\n",
       "            min_samples_split=2, min_weight_fraction_leaf=0.0,\n",
       "            n_estimators=100, n_jobs=-1, oob_score=False,\n",
       "            random_state=None, verbose=0, warm_start=False)"
      ]
     },
     "execution_count": 31,
     "metadata": {},
     "output_type": "execute_result"
    }
   ],
   "source": [
    "rfc = RandomForestClassifier(n_estimators=100, n_jobs=-1)\n",
    "\n",
    "rfc.fit(X_train_class, y_train_class)"
   ]
  },
  {
   "cell_type": "code",
   "execution_count": 32,
   "metadata": {
    "collapsed": false,
    "deletable": true,
    "editable": true,
    "scrolled": true
   },
   "outputs": [
    {
     "name": "stdout",
     "output_type": "stream",
     "text": [
      "top 5 features:\n"
     ]
    },
    {
     "data": {
      "text/plain": [
       "[('startPrice', 0.14287811357984162),\n",
       " (u'hardly', 0.006683594073913641),\n",
       " (u'4500', 0.0050250013878059396),\n",
       " (u'camera 42x', 0.0046158811034003096),\n",
       " (u'129', 0.0041481692264874696)]"
      ]
     },
     "execution_count": 32,
     "metadata": {},
     "output_type": "execute_result"
    }
   ],
   "source": [
    "print 'top 5 features:'\n",
    "sorted(zip(df_classification.columns.tolist()[:-1], rfc.feature_importances_), key=lambda x: x[1], reverse=True)[:5]"
   ]
  },
  {
   "cell_type": "markdown",
   "metadata": {
    "deletable": true,
    "editable": true
   },
   "source": [
    "## Score Model "
   ]
  },
  {
   "cell_type": "code",
   "execution_count": 33,
   "metadata": {
    "collapsed": true,
    "deletable": true,
    "editable": true
   },
   "outputs": [],
   "source": [
    "def calculate_baseline_classification(y):\n",
    "    y_true = y\n",
    "    y_naive = np.ones(y.shape[0])\n",
    "    print accuracy_score(y_true, y_naive)"
   ]
  },
  {
   "cell_type": "code",
   "execution_count": null,
   "metadata": {
    "collapsed": false,
    "deletable": true,
    "editable": true
   },
   "outputs": [],
   "source": [
    "from sklearn.metrics import accuracy_score\n",
    "# calculate baseline\n",
    "y_true = y_train_class\n",
    "y_pred = np.ones(y_true.shape[0])\n",
    "print accuracy_score(y_true, y_pred)\n",
    "print np.sum(y_train_class==1) / float(np.sum(y_train_class==1) + np.sum(y_train_class==0))"
   ]
  },
  {
   "cell_type": "code",
   "execution_count": 49,
   "metadata": {
    "collapsed": false,
    "deletable": true,
    "editable": true,
    "scrolled": true
   },
   "outputs": [
    {
     "name": "stdout",
     "output_type": "stream",
     "text": [
      "0.83241362431\n"
     ]
    }
   ],
   "source": [
    "scores = cross_val_score(estimator=RandomForestClassifier(n_estimators=100, n_jobs=-1), X=X_class, y=y_class, scoring='accuracy',cv=3, n_jobs=-1)\n",
    "print np.mean(scores)"
   ]
  },
  {
   "cell_type": "markdown",
   "metadata": {
    "deletable": true,
    "editable": true
   },
   "source": [
    "**Confusion Matrix**"
   ]
  },
  {
   "cell_type": "code",
   "execution_count": 64,
   "metadata": {
    "collapsed": false,
    "deletable": true,
    "editable": true
   },
   "outputs": [
    {
     "name": "stdout",
     "output_type": "stream",
     "text": [
      "Precision (TP, FP):  2644 321 Prec =  0.89173693086\n",
      "recall (TP, FN):  2644 90 Recall =  0.967081199707\n"
     ]
    }
   ],
   "source": [
    "y_true = y_test_class\n",
    "y_pred = rfc.predict(X_test_class)\n",
    "\n",
    "cm = confusion_matrix(y_true=y_true, y_pred=y_pred)\n",
    "\n",
    "TN = cm[0][0]\n",
    "FN = cm[1][0]\n",
    "TP = cm[1][1]\n",
    "FP = cm[0][1]\n",
    "\n",
    "print 'Precision (TP, FP): ', TP, FP, 'Prec = ', (TP)/(TP + FP)\n",
    "print 'recall (TP, FN): ', TP, FN, 'Recall = ', (TP)/(TP + FN)"
   ]
  },
  {
   "cell_type": "markdown",
   "metadata": {
    "deletable": true,
    "editable": true
   },
   "source": [
    "**ROC Curve**"
   ]
  },
  {
   "cell_type": "code",
   "execution_count": 65,
   "metadata": {
    "collapsed": false,
    "deletable": true,
    "editable": true
   },
   "outputs": [
    {
     "data": {
      "image/png": "[encoded data removed]",
      "text/plain": [
       "<matplotlib.figure.Figure at 0x1177c3650>"
      ]
     },
     "metadata": {},
     "output_type": "display_data"
    },
    {
     "name": "stdout",
     "output_type": "stream",
     "text": [
      "AUC: 0.877013959736\n"
     ]
    }
   ],
   "source": [
    "y_prob = rfc.predict_proba(X_test_class)\n",
    "\n",
    "FPR = dict()\n",
    "TPR = dict()\n",
    "ROC_AUC = dict()\n",
    "\n",
    "FPR[1], TPR[1], _ = roc_curve(y_test_class, y_prob[:, 1])\n",
    "ROC_AUC[1] = auc(FPR[1], TPR[1])\n",
    "\n",
    "plt.figure(figsize=[11,9])\n",
    "plt.plot(FPR[1], TPR[1], label='ROC curve (area = %0.3f)' % ROC_AUC[1], linewidth=4)\n",
    "plt.plot([0, 1], [0, 1], 'k--', linewidth=4)\n",
    "plt.xlim([0.0, 1.0])\n",
    "plt.ylim([0.0, 1.05])\n",
    "plt.xlabel('False Positive Rate', fontsize=18)\n",
    "plt.ylabel('True Positive Rate', fontsize=18)\n",
    "plt.title('ROC for Classifying Auction Sales', fontsize=18)\n",
    "plt.legend(loc=\"lower right\")\n",
    "plt.show()\n",
    "print 'AUC:',ROC_AUC[1]"
   ]
  },
  {
   "cell_type": "markdown",
   "metadata": {
    "deletable": true,
    "editable": true
   },
   "source": [
    "Explore what affect the startPrice has on probability of selling? We are interested in answering the question, as we increase startPrice do we decrease the probability of selling? \n",
    "\n",
    "<br>\n",
    "We will do this calculation for itemId = 132141823402, \"Sony Cyber-shot DSC-HX300 20.4MP Digital Camera\""
   ]
  },
  {
   "cell_type": "code",
   "execution_count": 125,
   "metadata": {
    "collapsed": false,
    "deletable": true,
    "editable": true
   },
   "outputs": [
    {
     "data": {
      "text/plain": [
       "<matplotlib.text.Text at 0x116a86c10>"
      ]
     },
     "execution_count": 125,
     "metadata": {},
     "output_type": "execute_result"
    },
    {
     "data": {
      "image/png": "[encoded data removed]",
      "text/plain": [
       "<matplotlib.figure.Figure at 0x1182b7d90>"
      ]
     },
     "metadata": {},
     "output_type": "display_data"
    }
   ],
   "source": [
    "# Select an item index to view start price vs. probability of sold \n",
    "item_index = 0\n",
    "\n",
    "test_item = df_classification.ix[item_index]\n",
    "\n",
    "testStartPrice = test_item.loc['startPrice']\n",
    "\n",
    "minStartPrice = 0\n",
    "maxStartPrice = testStartPrice * 2\n",
    "priceStepSize = 10\n",
    "\n",
    "sold_probabilities = []\n",
    "    \n",
    "    \n",
    "for price in np.arange(minStartPrice, maxStartPrice, priceStepSize):\n",
    "    test_item.loc['startPrice'] = price\n",
    "    test_vec = test_item.iloc[:-1].values.reshape(1,-1)\n",
    "    sold_proba = rfc.predict_proba(test_vec)[0][1]\n",
    "    sold_probabilities.append((price, sold_proba))\n",
    "    \n",
    "test_item_df = pd.DataFrame(sold_probabilities)\n",
    "\n",
    "plt.plot(test_item_df[0], test_item_df[1])\n",
    "plt.title('Start Price vs. Probabilty of Selling for 1 item.')"
   ]
  },
  {
   "cell_type": "markdown",
   "metadata": {
    "deletable": true,
    "editable": true
   },
   "source": [
    "Test for over-fitting by using KFold()/StratifiedKFold() to calculate train error and test error, so we can compare them. "
   ]
  },
  {
   "cell_type": "code",
   "execution_count": 329,
   "metadata": {
    "collapsed": false,
    "deletable": true,
    "editable": true
   },
   "outputs": [
    {
     "name": "stdout",
     "output_type": "stream",
     "text": [
      "training #0 model out of 5.\n",
      "training #1 model out of 5.\n",
      "training #2 model out of 5.\n",
      "training #3 model out of 5.\n",
      "training #4 model out of 5.\n"
     ]
    }
   ],
   "source": [
    "num_splits = 5\n",
    "skf = StratifiedKFold(n_splits=num_splits, shuffle=True, random_state=42)\n",
    "rfc = RandomForestClassifier(n_estimators=100, n_jobs=-1)\n",
    "scores = []\n",
    "for i,(train_indeces, test_indeces) in enumerate(skf.split(X_class,y_class)):\n",
    "    print 'training #{} model out of {}.'.format(i, num_splits)\n",
    "#     print(\"TRAIN:\", train_indeces, \"TEST:\", test_indeces)\n",
    "    X_train, X_test = X_class[train_indeces], X_class[test_indeces]\n",
    "    y_train, y_test = y_class[train_indeces], y_class[test_indeces]\n",
    "    \n",
    "    rfc.fit(X_train, y_train)\n",
    "    y_pred_train = rfc.predict(X_train)\n",
    "    y_pred_test = rfc.predict(X_test)\n",
    "    acc_train = accuracy_score(y_train, y_pred_train)\n",
    "    acc_test = accuracy_score(y_test, y_pred_test)\n",
    "    scores.append((acc_train, acc_test))    "
   ]
  },
  {
   "cell_type": "code",
   "execution_count": 331,
   "metadata": {
    "collapsed": false,
    "deletable": true,
    "editable": true
   },
   "outputs": [
    {
     "data": {
      "text/plain": [
       "[(0.99027586206896556, 0.88279095421952569),\n",
       " (0.98958764308371261, 0.88548565121412803),\n",
       " (0.98958764308371261, 0.89486754966887416),\n",
       " (0.98931034482758617, 0.8844456701599559),\n",
       " (0.98931034482758617, 0.8844456701599559)]"
      ]
     },
     "execution_count": 331,
     "metadata": {},
     "output_type": "execute_result"
    }
   ],
   "source": [
    "sorted(scores, key=lambda x: x[0], reverse=True)"
   ]
  },
  {
   "cell_type": "markdown",
   "metadata": {
    "deletable": true,
    "editable": true
   },
   "source": [
    "Looks like we are over-fitting since our training error rate is much much higher than the test. "
   ]
  },
  {
   "cell_type": "markdown",
   "metadata": {
    "collapsed": true,
    "deletable": true,
    "editable": true
   },
   "source": [
    "## Investigate errors of model"
   ]
  },
  {
   "cell_type": "code",
   "execution_count": 35,
   "metadata": {
    "collapsed": false,
    "deletable": true,
    "editable": true
   },
   "outputs": [],
   "source": [
    "y_pred = rfc.predict(X)\n",
    "auctions['y_pred'] = y_pred\n",
    "y_true = auctions['sold'].values"
   ]
  },
  {
   "cell_type": "code",
   "execution_count": 45,
   "metadata": {
    "collapsed": false,
    "deletable": true,
    "editable": true
   },
   "outputs": [
    {
     "data": {
      "text/plain": [
       "<matplotlib.axes._subplots.AxesSubplot at 0x1188ecc10>"
      ]
     },
     "execution_count": 45,
     "metadata": {},
     "output_type": "execute_result"
    },
    {
     "data": {
      "image/png": "[encoded data removed]",
      "text/plain": [
       "<matplotlib.figure.Figure at 0x11a588b50>"
      ]
     },
     "metadata": {},
     "output_type": "display_data"
    },
    {
     "data": {
      "image/png": "[encoded data removed]",
      "text/plain": [
       "<matplotlib.figure.Figure at 0x116258310>"
      ]
     },
     "metadata": {},
     "output_type": "display_data"
    }
   ],
   "source": [
    "residuals = auctions[auctions['y_pred']!=auctions['sold']]\n",
    "correct = auctions[auctions['y_pred']==auctions['sold']]\n",
    "fp = auctions[(auctions['y_pred']==1) & (auctions['sold']==0)]\n",
    "fn = auctions[(auctions['y_pred']==0) & (auctions['sold']==1)]\n",
    "\n",
    "fig = plt.figure()\n",
    "sns.distplot(correct['startPrice'], bins=30, color='g')\n",
    "sns.distplot(residuals['startPrice'], bins=30, color='r')\n",
    "sns.distplot(auctions['startPrice'], bins=30, color='b')\n",
    "\n",
    "fig, (ax1,ax2) = plt.subplots(nrows=1, ncols=2, figsize=(14,4))\n",
    "sns.distplot(fp['startPrice'], bins=30, color='r',ax=ax1)\n",
    "sns.distplot(correct['startPrice'], bins=30, color='g',ax=ax1)\n",
    "\n",
    "sns.distplot(fn['startPrice'], bins=30, color='r',ax=ax2)\n",
    "sns.distplot(correct['startPrice'], bins=30, color='g',ax=ax2)\n"
   ]
  },
  {
   "cell_type": "markdown",
   "metadata": {
    "deletable": true,
    "editable": true
   },
   "source": [
    "# Auction Regression - Predicting Sale Price \n",
    "---"
   ]
  },
  {
   "cell_type": "code",
   "execution_count": 33,
   "metadata": {
    "collapsed": true,
    "deletable": true,
    "editable": true
   },
   "outputs": [],
   "source": [
    "def calculate_baseline_regression(y):\n",
    "    y_true = y\n",
    "    y_naive = np.ones(y.shape[0])*np.mean(y)\n",
    "    return mean_absolute_error(y_true, y_naive)"
   ]
  },
  {
   "cell_type": "code",
   "execution_count": 34,
   "metadata": {
    "collapsed": false,
    "deletable": true,
    "editable": true
   },
   "outputs": [],
   "source": [
    "data_frames_to_keep = [titles_df, \\\n",
    "                       conditions_df, \\\n",
    "                       auction_condition_dummies, \\\n",
    "                       start_price_series, \\\n",
    "                       sold, \\\n",
    "                       end_price,\\\n",
    "]\n",
    "\n",
    "df_regression = pd.concat(data_frames_to_keep, axis=1)\n",
    "\n",
    "df_regression = df_regression[df_regression['sold_state']==1].drop('sold_state', axis=1)"
   ]
  },
  {
   "cell_type": "code",
   "execution_count": 35,
   "metadata": {
    "collapsed": false,
    "deletable": true,
    "editable": true
   },
   "outputs": [
    {
     "data": {
      "text/html": [
       "<div>\n",
       "<table border=\"1\" class=\"dataframe\">\n",
       "  <thead>\n",
       "    <tr style=\"text-align: right;\">\n",
       "      <th></th>\n",
       "      <th>z990 12</th>\n",
       "      <th>excellent cond</th>\n",
       "      <th>lumix digital</th>\n",
       "      <th>grip charger</th>\n",
       "      <th>medium format</th>\n",
       "      <th>270</th>\n",
       "      <th>275</th>\n",
       "      <th>kodak</th>\n",
       "      <th>af nikon</th>\n",
       "      <th>body read</th>\n",
       "      <th>cmos smart</th>\n",
       "      <th>card case</th>\n",
       "      <th>lens free</th>\n",
       "      <th>batteries strap</th>\n",
       "      <th>e6</th>\n",
       "      <th>slt a33</th>\n",
       "      <th>slt a35</th>\n",
       "      <th>zoom lense</th>\n",
       "      <th>fe fe</th>\n",
       "      <th>elph 170</th>\n",
       "      <th>fujifilm pro1</th>\n",
       "      <th>tz25</th>\n",
       "      <th>body working</th>\n",
       "      <th>12 megapixel</th>\n",
       "      <th>titanium</th>\n",
       "      <th>zoom mega</th>\n",
       "      <th>fuji fine</th>\n",
       "      <th>dsc f707</th>\n",
       "      <th>travel</th>\n",
       "      <th>card reader</th>\n",
       "      <th>...</th>\n",
       "      <th>issues</th>\n",
       "      <th>find</th>\n",
       "      <th>please read</th>\n",
       "      <th>use</th>\n",
       "      <th>usb</th>\n",
       "      <th>charger strap</th>\n",
       "      <th>condition little</th>\n",
       "      <th>wear fully</th>\n",
       "      <th>shutter actuations</th>\n",
       "      <th>please</th>\n",
       "      <th>actual item</th>\n",
       "      <th>operational</th>\n",
       "      <th>packaging</th>\n",
       "      <th>condition signs</th>\n",
       "      <th>care of</th>\n",
       "      <th>near mint</th>\n",
       "      <th>nicks</th>\n",
       "      <th>gently used</th>\n",
       "      <th>know</th>\n",
       "      <th>warranty</th>\n",
       "      <th>ex</th>\n",
       "      <th>battery pack</th>\n",
       "      <th>For parts or not working</th>\n",
       "      <th>Manufacturer refurbished</th>\n",
       "      <th>New</th>\n",
       "      <th>New other (see details)</th>\n",
       "      <th>Seller refurbished</th>\n",
       "      <th>Used</th>\n",
       "      <th>startPrice</th>\n",
       "      <th>endPrice</th>\n",
       "    </tr>\n",
       "  </thead>\n",
       "  <tbody>\n",
       "    <tr>\n",
       "      <th>1</th>\n",
       "      <td>0</td>\n",
       "      <td>0</td>\n",
       "      <td>0</td>\n",
       "      <td>0</td>\n",
       "      <td>0</td>\n",
       "      <td>0</td>\n",
       "      <td>0</td>\n",
       "      <td>0</td>\n",
       "      <td>0</td>\n",
       "      <td>0</td>\n",
       "      <td>0</td>\n",
       "      <td>0</td>\n",
       "      <td>0</td>\n",
       "      <td>0</td>\n",
       "      <td>0</td>\n",
       "      <td>0</td>\n",
       "      <td>0</td>\n",
       "      <td>0</td>\n",
       "      <td>0</td>\n",
       "      <td>0</td>\n",
       "      <td>0</td>\n",
       "      <td>0</td>\n",
       "      <td>0</td>\n",
       "      <td>0</td>\n",
       "      <td>0</td>\n",
       "      <td>0</td>\n",
       "      <td>0</td>\n",
       "      <td>0</td>\n",
       "      <td>0</td>\n",
       "      <td>0</td>\n",
       "      <td>...</td>\n",
       "      <td>0</td>\n",
       "      <td>0</td>\n",
       "      <td>0</td>\n",
       "      <td>0</td>\n",
       "      <td>0</td>\n",
       "      <td>0</td>\n",
       "      <td>0</td>\n",
       "      <td>0</td>\n",
       "      <td>0</td>\n",
       "      <td>0</td>\n",
       "      <td>0</td>\n",
       "      <td>0</td>\n",
       "      <td>0</td>\n",
       "      <td>0</td>\n",
       "      <td>0</td>\n",
       "      <td>0</td>\n",
       "      <td>0</td>\n",
       "      <td>0</td>\n",
       "      <td>0</td>\n",
       "      <td>0</td>\n",
       "      <td>0</td>\n",
       "      <td>0</td>\n",
       "      <td>0</td>\n",
       "      <td>0</td>\n",
       "      <td>1</td>\n",
       "      <td>0</td>\n",
       "      <td>0</td>\n",
       "      <td>0</td>\n",
       "      <td>300.00</td>\n",
       "      <td>369.0</td>\n",
       "    </tr>\n",
       "    <tr>\n",
       "      <th>2</th>\n",
       "      <td>0</td>\n",
       "      <td>0</td>\n",
       "      <td>0</td>\n",
       "      <td>0</td>\n",
       "      <td>0</td>\n",
       "      <td>0</td>\n",
       "      <td>0</td>\n",
       "      <td>0</td>\n",
       "      <td>0</td>\n",
       "      <td>0</td>\n",
       "      <td>0</td>\n",
       "      <td>0</td>\n",
       "      <td>0</td>\n",
       "      <td>0</td>\n",
       "      <td>0</td>\n",
       "      <td>0</td>\n",
       "      <td>0</td>\n",
       "      <td>0</td>\n",
       "      <td>0</td>\n",
       "      <td>0</td>\n",
       "      <td>0</td>\n",
       "      <td>0</td>\n",
       "      <td>0</td>\n",
       "      <td>0</td>\n",
       "      <td>0</td>\n",
       "      <td>0</td>\n",
       "      <td>0</td>\n",
       "      <td>0</td>\n",
       "      <td>0</td>\n",
       "      <td>0</td>\n",
       "      <td>...</td>\n",
       "      <td>0</td>\n",
       "      <td>0</td>\n",
       "      <td>0</td>\n",
       "      <td>0</td>\n",
       "      <td>0</td>\n",
       "      <td>0</td>\n",
       "      <td>0</td>\n",
       "      <td>0</td>\n",
       "      <td>0</td>\n",
       "      <td>0</td>\n",
       "      <td>0</td>\n",
       "      <td>0</td>\n",
       "      <td>0</td>\n",
       "      <td>0</td>\n",
       "      <td>0</td>\n",
       "      <td>0</td>\n",
       "      <td>0</td>\n",
       "      <td>0</td>\n",
       "      <td>0</td>\n",
       "      <td>0</td>\n",
       "      <td>0</td>\n",
       "      <td>0</td>\n",
       "      <td>0</td>\n",
       "      <td>0</td>\n",
       "      <td>0</td>\n",
       "      <td>1</td>\n",
       "      <td>0</td>\n",
       "      <td>0</td>\n",
       "      <td>349.99</td>\n",
       "      <td>385.0</td>\n",
       "    </tr>\n",
       "    <tr>\n",
       "      <th>3</th>\n",
       "      <td>0</td>\n",
       "      <td>0</td>\n",
       "      <td>0</td>\n",
       "      <td>0</td>\n",
       "      <td>0</td>\n",
       "      <td>0</td>\n",
       "      <td>0</td>\n",
       "      <td>0</td>\n",
       "      <td>0</td>\n",
       "      <td>0</td>\n",
       "      <td>0</td>\n",
       "      <td>0</td>\n",
       "      <td>0</td>\n",
       "      <td>0</td>\n",
       "      <td>0</td>\n",
       "      <td>0</td>\n",
       "      <td>0</td>\n",
       "      <td>0</td>\n",
       "      <td>0</td>\n",
       "      <td>0</td>\n",
       "      <td>0</td>\n",
       "      <td>0</td>\n",
       "      <td>0</td>\n",
       "      <td>0</td>\n",
       "      <td>0</td>\n",
       "      <td>0</td>\n",
       "      <td>0</td>\n",
       "      <td>0</td>\n",
       "      <td>0</td>\n",
       "      <td>0</td>\n",
       "      <td>...</td>\n",
       "      <td>0</td>\n",
       "      <td>0</td>\n",
       "      <td>0</td>\n",
       "      <td>0</td>\n",
       "      <td>0</td>\n",
       "      <td>0</td>\n",
       "      <td>0</td>\n",
       "      <td>0</td>\n",
       "      <td>0</td>\n",
       "      <td>0</td>\n",
       "      <td>0</td>\n",
       "      <td>0</td>\n",
       "      <td>0</td>\n",
       "      <td>0</td>\n",
       "      <td>0</td>\n",
       "      <td>0</td>\n",
       "      <td>0</td>\n",
       "      <td>0</td>\n",
       "      <td>0</td>\n",
       "      <td>0</td>\n",
       "      <td>0</td>\n",
       "      <td>0</td>\n",
       "      <td>0</td>\n",
       "      <td>0</td>\n",
       "      <td>1</td>\n",
       "      <td>0</td>\n",
       "      <td>0</td>\n",
       "      <td>0</td>\n",
       "      <td>0.99</td>\n",
       "      <td>387.0</td>\n",
       "    </tr>\n",
       "    <tr>\n",
       "      <th>5</th>\n",
       "      <td>0</td>\n",
       "      <td>0</td>\n",
       "      <td>0</td>\n",
       "      <td>0</td>\n",
       "      <td>0</td>\n",
       "      <td>0</td>\n",
       "      <td>0</td>\n",
       "      <td>0</td>\n",
       "      <td>0</td>\n",
       "      <td>0</td>\n",
       "      <td>0</td>\n",
       "      <td>0</td>\n",
       "      <td>0</td>\n",
       "      <td>0</td>\n",
       "      <td>0</td>\n",
       "      <td>0</td>\n",
       "      <td>0</td>\n",
       "      <td>0</td>\n",
       "      <td>0</td>\n",
       "      <td>0</td>\n",
       "      <td>0</td>\n",
       "      <td>0</td>\n",
       "      <td>0</td>\n",
       "      <td>0</td>\n",
       "      <td>0</td>\n",
       "      <td>0</td>\n",
       "      <td>0</td>\n",
       "      <td>0</td>\n",
       "      <td>0</td>\n",
       "      <td>0</td>\n",
       "      <td>...</td>\n",
       "      <td>0</td>\n",
       "      <td>0</td>\n",
       "      <td>0</td>\n",
       "      <td>0</td>\n",
       "      <td>0</td>\n",
       "      <td>0</td>\n",
       "      <td>0</td>\n",
       "      <td>0</td>\n",
       "      <td>0</td>\n",
       "      <td>0</td>\n",
       "      <td>0</td>\n",
       "      <td>0</td>\n",
       "      <td>0</td>\n",
       "      <td>0</td>\n",
       "      <td>0</td>\n",
       "      <td>0</td>\n",
       "      <td>0</td>\n",
       "      <td>0</td>\n",
       "      <td>0</td>\n",
       "      <td>0</td>\n",
       "      <td>0</td>\n",
       "      <td>0</td>\n",
       "      <td>0</td>\n",
       "      <td>0</td>\n",
       "      <td>0</td>\n",
       "      <td>1</td>\n",
       "      <td>0</td>\n",
       "      <td>0</td>\n",
       "      <td>370.00</td>\n",
       "      <td>370.0</td>\n",
       "    </tr>\n",
       "    <tr>\n",
       "      <th>6</th>\n",
       "      <td>0</td>\n",
       "      <td>0</td>\n",
       "      <td>0</td>\n",
       "      <td>0</td>\n",
       "      <td>0</td>\n",
       "      <td>0</td>\n",
       "      <td>0</td>\n",
       "      <td>0</td>\n",
       "      <td>0</td>\n",
       "      <td>0</td>\n",
       "      <td>0</td>\n",
       "      <td>0</td>\n",
       "      <td>0</td>\n",
       "      <td>0</td>\n",
       "      <td>0</td>\n",
       "      <td>0</td>\n",
       "      <td>0</td>\n",
       "      <td>0</td>\n",
       "      <td>0</td>\n",
       "      <td>0</td>\n",
       "      <td>0</td>\n",
       "      <td>0</td>\n",
       "      <td>0</td>\n",
       "      <td>0</td>\n",
       "      <td>0</td>\n",
       "      <td>0</td>\n",
       "      <td>0</td>\n",
       "      <td>0</td>\n",
       "      <td>0</td>\n",
       "      <td>0</td>\n",
       "      <td>...</td>\n",
       "      <td>0</td>\n",
       "      <td>0</td>\n",
       "      <td>0</td>\n",
       "      <td>0</td>\n",
       "      <td>0</td>\n",
       "      <td>0</td>\n",
       "      <td>0</td>\n",
       "      <td>0</td>\n",
       "      <td>0</td>\n",
       "      <td>0</td>\n",
       "      <td>0</td>\n",
       "      <td>0</td>\n",
       "      <td>0</td>\n",
       "      <td>0</td>\n",
       "      <td>0</td>\n",
       "      <td>0</td>\n",
       "      <td>0</td>\n",
       "      <td>0</td>\n",
       "      <td>0</td>\n",
       "      <td>0</td>\n",
       "      <td>0</td>\n",
       "      <td>0</td>\n",
       "      <td>0</td>\n",
       "      <td>0</td>\n",
       "      <td>0</td>\n",
       "      <td>0</td>\n",
       "      <td>0</td>\n",
       "      <td>1</td>\n",
       "      <td>378.00</td>\n",
       "      <td>378.0</td>\n",
       "    </tr>\n",
       "  </tbody>\n",
       "</table>\n",
       "<p>5 rows × 7269 columns</p>\n",
       "</div>"
      ],
      "text/plain": [
       "   z990 12  excellent cond  lumix digital  grip charger  medium format  270  \\\n",
       "1        0               0              0             0              0    0   \n",
       "2        0               0              0             0              0    0   \n",
       "3        0               0              0             0              0    0   \n",
       "5        0               0              0             0              0    0   \n",
       "6        0               0              0             0              0    0   \n",
       "\n",
       "   275  kodak  af nikon  body read  cmos smart  card case  lens free  \\\n",
       "1    0      0         0          0           0          0          0   \n",
       "2    0      0         0          0           0          0          0   \n",
       "3    0      0         0          0           0          0          0   \n",
       "5    0      0         0          0           0          0          0   \n",
       "6    0      0         0          0           0          0          0   \n",
       "\n",
       "   batteries strap  e6  slt a33  slt a35  zoom lense  fe fe  elph 170  \\\n",
       "1                0   0        0        0           0      0         0   \n",
       "2                0   0        0        0           0      0         0   \n",
       "3                0   0        0        0           0      0         0   \n",
       "5                0   0        0        0           0      0         0   \n",
       "6                0   0        0        0           0      0         0   \n",
       "\n",
       "   fujifilm pro1  tz25  body working  12 megapixel  titanium  zoom mega  \\\n",
       "1              0     0             0             0         0          0   \n",
       "2              0     0             0             0         0          0   \n",
       "3              0     0             0             0         0          0   \n",
       "5              0     0             0             0         0          0   \n",
       "6              0     0             0             0         0          0   \n",
       "\n",
       "   fuji fine  dsc f707  travel  card reader    ...     issues  find  \\\n",
       "1          0         0       0            0    ...          0     0   \n",
       "2          0         0       0            0    ...          0     0   \n",
       "3          0         0       0            0    ...          0     0   \n",
       "5          0         0       0            0    ...          0     0   \n",
       "6          0         0       0            0    ...          0     0   \n",
       "\n",
       "   please read  use  usb  charger strap  condition little  wear fully  \\\n",
       "1            0    0    0              0                 0           0   \n",
       "2            0    0    0              0                 0           0   \n",
       "3            0    0    0              0                 0           0   \n",
       "5            0    0    0              0                 0           0   \n",
       "6            0    0    0              0                 0           0   \n",
       "\n",
       "   shutter actuations  please  actual item  operational  packaging  \\\n",
       "1                   0       0            0            0          0   \n",
       "2                   0       0            0            0          0   \n",
       "3                   0       0            0            0          0   \n",
       "5                   0       0            0            0          0   \n",
       "6                   0       0            0            0          0   \n",
       "\n",
       "   condition signs  care of  near mint  nicks  gently used  know  warranty  \\\n",
       "1                0        0          0      0            0     0         0   \n",
       "2                0        0          0      0            0     0         0   \n",
       "3                0        0          0      0            0     0         0   \n",
       "5                0        0          0      0            0     0         0   \n",
       "6                0        0          0      0            0     0         0   \n",
       "\n",
       "   ex  battery pack  For parts or not working  Manufacturer refurbished  New  \\\n",
       "1   0             0                         0                         0    1   \n",
       "2   0             0                         0                         0    0   \n",
       "3   0             0                         0                         0    1   \n",
       "5   0             0                         0                         0    0   \n",
       "6   0             0                         0                         0    0   \n",
       "\n",
       "   New other (see details)  Seller refurbished  Used  startPrice  endPrice  \n",
       "1                        0                   0     0      300.00     369.0  \n",
       "2                        1                   0     0      349.99     385.0  \n",
       "3                        0                   0     0        0.99     387.0  \n",
       "5                        1                   0     0      370.00     370.0  \n",
       "6                        0                   0     1      378.00     378.0  \n",
       "\n",
       "[5 rows x 7269 columns]"
      ]
     },
     "execution_count": 35,
     "metadata": {},
     "output_type": "execute_result"
    }
   ],
   "source": [
    "df_regression.head(5)"
   ]
  },
  {
   "cell_type": "markdown",
   "metadata": {
    "deletable": true,
    "editable": true
   },
   "source": [
    "Split values into train/test"
   ]
  },
  {
   "cell_type": "code",
   "execution_count": 36,
   "metadata": {
    "collapsed": false,
    "deletable": true,
    "editable": true
   },
   "outputs": [],
   "source": [
    "X = df_regression.ix[:, :-1].values\n",
    "y = df_regression.ix[:, -1].values\n",
    "\n",
    "X_train, X_test, y_train, y_test = train_test_split(X, y, random_state=42, test_size=0.2)"
   ]
  },
  {
   "cell_type": "markdown",
   "metadata": {
    "deletable": true,
    "editable": true
   },
   "source": [
    "** Support Vector Regression **\n"
   ]
  },
  {
   "cell_type": "code",
   "execution_count": 37,
   "metadata": {
    "collapsed": false,
    "deletable": true,
    "editable": true
   },
   "outputs": [],
   "source": [
    "# from sklearn.svm import SVR\n",
    "\n",
    "# svr = SVR()\n",
    "\n",
    "# scores = cross_val_score(SVR(), X=X, y=y, scoring='neg_mean_absolute_error', cv=3, n_jobs=-1, verbose=1)\n",
    "\n",
    "# print np.mean(scores)"
   ]
  },
  {
   "cell_type": "code",
   "execution_count": 37,
   "metadata": {
    "collapsed": true,
    "deletable": true,
    "editable": true
   },
   "outputs": [],
   "source": [
    "# svr = SVR()\n",
    "\n",
    "# svr.fit(X_train, y_train)\n",
    "\n",
    "# print 'R^2 of SVR:',svr.score(X_test, y_test)\n"
   ]
  },
  {
   "cell_type": "markdown",
   "metadata": {
    "deletable": true,
    "editable": true
   },
   "source": [
    "** KNN Regression **"
   ]
  },
  {
   "cell_type": "markdown",
   "metadata": {
    "deletable": true,
    "editable": true
   },
   "source": [
    "KNN"
   ]
  },
  {
   "cell_type": "code",
   "execution_count": null,
   "metadata": {
    "collapsed": true,
    "deletable": true,
    "editable": true
   },
   "outputs": [],
   "source": [
    "knn = KNeighborsRegressor(n_neighbors=5, weights='distance')\n",
    "\n",
    "knn.fit(X_train, y_train)"
   ]
  },
  {
   "cell_type": "code",
   "execution_count": null,
   "metadata": {
    "collapsed": true,
    "deletable": true,
    "editable": true
   },
   "outputs": [],
   "source": [
    "df_regression.drop('endPrice_pred',axis=1, inplace=True)"
   ]
  },
  {
   "cell_type": "markdown",
   "metadata": {
    "deletable": true,
    "editable": true
   },
   "source": [
    "KNN Grid search "
   ]
  },
  {
   "cell_type": "code",
   "execution_count": 188,
   "metadata": {
    "collapsed": false,
    "deletable": true,
    "editable": true
   },
   "outputs": [
    {
     "name": "stdout",
     "output_type": "stream",
     "text": [
      "Fitting 3 folds for each of 2 candidates, totalling 6 fits\n"
     ]
    },
    {
     "name": "stderr",
     "output_type": "stream",
     "text": [
      "[Parallel(n_jobs=1)]: Done   6 out of   6 | elapsed:  5.9min finished\n"
     ]
    },
    {
     "data": {
      "text/plain": [
       "GridSearchCV(cv=None, error_score='raise',\n",
       "       estimator=KNeighborsRegressor(algorithm='auto', leaf_size=30, metric='minkowski',\n",
       "          metric_params=None, n_jobs=1, n_neighbors=5, p=2,\n",
       "          weights='uniform'),\n",
       "       fit_params={}, iid=True, n_jobs=1,\n",
       "       param_grid={'n_neighbors': [5], 'weights': ['uniform', 'distance']},\n",
       "       pre_dispatch='2*n_jobs', refit=True, return_train_score=True,\n",
       "       scoring='neg_mean_absolute_error', verbose=1)"
      ]
     },
     "execution_count": 188,
     "metadata": {},
     "output_type": "execute_result"
    }
   ],
   "source": [
    "from sklearn.neighbors import KNeighborsRegressor\n",
    "\n",
    "knr_params = {\n",
    "    'n_neighbors':[5],\n",
    "    'weights':['uniform','distance']\n",
    "}\n",
    "    \n",
    "gs = GridSearchCV(estimator=KNeighborsRegressor(), param_grid=knr_params, scoring='neg_mean_absolute_error', verbose=1)\n",
    "\n",
    "gs.fit(X_train,y_train)"
   ]
  },
  {
   "cell_type": "code",
   "execution_count": 194,
   "metadata": {
    "collapsed": false,
    "deletable": true,
    "editable": true
   },
   "outputs": [
    {
     "name": "stdout",
     "output_type": "stream",
     "text": [
      "best parameters: {'n_neighbors': 5, 'weights': 'distance'}\n",
      "best estimator: KNeighborsRegressor(algorithm='auto', leaf_size=30, metric='minkowski',\n",
      "          metric_params=None, n_jobs=1, n_neighbors=5, p=2,\n",
      "          weights='distance')\n"
     ]
    }
   ],
   "source": [
    "print 'best parameters:', gs.best_params_ \n",
    "print 'best estimator:', gs.best_estimator_"
   ]
  },
  {
   "cell_type": "code",
   "execution_count": 205,
   "metadata": {
    "collapsed": false,
    "deletable": true,
    "editable": true
   },
   "outputs": [
    {
     "name": "stdout",
     "output_type": "stream",
     "text": [
      "baseline mean_absolute_error: 66.7116406965 \n",
      "\n",
      "predicted mean_absolute_error: 27.0460162035\n"
     ]
    }
   ],
   "source": [
    "print 'baseline mean_absolute_error:',calculate_baseline_regression(y_test),'\\n'\n",
    "\n",
    "y_pred = gs.best_estimator_.predict(X_test)\n",
    "y_true = y_test\n",
    "print 'predicted mean_absolute_error:',mean_absolute_error(y_true, y_pred)\n"
   ]
  },
  {
   "cell_type": "code",
   "execution_count": 207,
   "metadata": {
    "collapsed": false,
    "deletable": true,
    "editable": true
   },
   "outputs": [],
   "source": [
    "df_regression['endPrice_pred'] = gs.best_estimator_.predict(X)"
   ]
  },
  {
   "cell_type": "markdown",
   "metadata": {
    "deletable": true,
    "editable": true
   },
   "source": [
    "Plot endPrice vs. endPrice_pred"
   ]
  },
  {
   "cell_type": "code",
   "execution_count": 39,
   "metadata": {
    "collapsed": true,
    "deletable": true,
    "editable": true
   },
   "outputs": [
    {
     "ename": "KeyError",
     "evalue": "'endPrice_pred'",
     "output_type": "error",
     "traceback": [
      "\u001b[0;31m---------------------------------------------------------------------------\u001b[0m",
      "\u001b[0;31mKeyError\u001b[0m                                  Traceback (most recent call last)",
      "\u001b[0;32m<ipython-input-39-212b479fbc1f>\u001b[0m in \u001b[0;36m<module>\u001b[0;34m()\u001b[0m\n\u001b[1;32m      1\u001b[0m \u001b[0mfig\u001b[0m\u001b[0;34m,\u001b[0m \u001b[0;34m(\u001b[0m\u001b[0max1\u001b[0m\u001b[0;34m,\u001b[0m \u001b[0max2\u001b[0m\u001b[0;34m)\u001b[0m \u001b[0;34m=\u001b[0m \u001b[0mplt\u001b[0m\u001b[0;34m.\u001b[0m\u001b[0msubplots\u001b[0m\u001b[0;34m(\u001b[0m\u001b[0mnrows\u001b[0m\u001b[0;34m=\u001b[0m\u001b[0;36m1\u001b[0m\u001b[0;34m,\u001b[0m\u001b[0mncols\u001b[0m\u001b[0;34m=\u001b[0m\u001b[0;36m2\u001b[0m\u001b[0;34m,\u001b[0m \u001b[0mfigsize\u001b[0m\u001b[0;34m=\u001b[0m\u001b[0;34m(\u001b[0m\u001b[0;36m14\u001b[0m\u001b[0;34m,\u001b[0m\u001b[0;36m5\u001b[0m\u001b[0;34m)\u001b[0m\u001b[0;34m)\u001b[0m\u001b[0;34m\u001b[0m\u001b[0m\n\u001b[1;32m      2\u001b[0m \u001b[0;34m\u001b[0m\u001b[0m\n\u001b[0;32m----> 3\u001b[0;31m \u001b[0mpred_price\u001b[0m \u001b[0;34m=\u001b[0m \u001b[0mdf_regression\u001b[0m\u001b[0;34m[\u001b[0m\u001b[0;34m'endPrice_pred'\u001b[0m\u001b[0;34m]\u001b[0m\u001b[0;34m.\u001b[0m\u001b[0mvalues\u001b[0m\u001b[0;34m\u001b[0m\u001b[0m\n\u001b[0m\u001b[1;32m      4\u001b[0m \u001b[0mactual_price\u001b[0m \u001b[0;34m=\u001b[0m \u001b[0mdf_regression\u001b[0m\u001b[0;34m[\u001b[0m\u001b[0;34m'endPrice'\u001b[0m\u001b[0;34m]\u001b[0m\u001b[0;34m.\u001b[0m\u001b[0mvalues\u001b[0m\u001b[0;34m\u001b[0m\u001b[0m\n\u001b[1;32m      5\u001b[0m \u001b[0;34m\u001b[0m\u001b[0m\n",
      "\u001b[0;32m/Users/Naekid/anaconda3/envs/dsi/lib/python2.7/site-packages/pandas/core/frame.pyc\u001b[0m in \u001b[0;36m__getitem__\u001b[0;34m(self, key)\u001b[0m\n\u001b[1;32m   2057\u001b[0m             \u001b[0;32mreturn\u001b[0m \u001b[0mself\u001b[0m\u001b[0;34m.\u001b[0m\u001b[0m_getitem_multilevel\u001b[0m\u001b[0;34m(\u001b[0m\u001b[0mkey\u001b[0m\u001b[0;34m)\u001b[0m\u001b[0;34m\u001b[0m\u001b[0m\n\u001b[1;32m   2058\u001b[0m         \u001b[0;32melse\u001b[0m\u001b[0;34m:\u001b[0m\u001b[0;34m\u001b[0m\u001b[0m\n\u001b[0;32m-> 2059\u001b[0;31m             \u001b[0;32mreturn\u001b[0m \u001b[0mself\u001b[0m\u001b[0;34m.\u001b[0m\u001b[0m_getitem_column\u001b[0m\u001b[0;34m(\u001b[0m\u001b[0mkey\u001b[0m\u001b[0;34m)\u001b[0m\u001b[0;34m\u001b[0m\u001b[0m\n\u001b[0m\u001b[1;32m   2060\u001b[0m \u001b[0;34m\u001b[0m\u001b[0m\n\u001b[1;32m   2061\u001b[0m     \u001b[0;32mdef\u001b[0m \u001b[0m_getitem_column\u001b[0m\u001b[0;34m(\u001b[0m\u001b[0mself\u001b[0m\u001b[0;34m,\u001b[0m \u001b[0mkey\u001b[0m\u001b[0;34m)\u001b[0m\u001b[0;34m:\u001b[0m\u001b[0;34m\u001b[0m\u001b[0m\n",
      "\u001b[0;32m/Users/Naekid/anaconda3/envs/dsi/lib/python2.7/site-packages/pandas/core/frame.pyc\u001b[0m in \u001b[0;36m_getitem_column\u001b[0;34m(self, key)\u001b[0m\n\u001b[1;32m   2069\u001b[0m         \u001b[0mresult\u001b[0m \u001b[0;34m=\u001b[0m \u001b[0mself\u001b[0m\u001b[0;34m.\u001b[0m\u001b[0m_constructor\u001b[0m\u001b[0;34m(\u001b[0m\u001b[0mself\u001b[0m\u001b[0;34m.\u001b[0m\u001b[0m_data\u001b[0m\u001b[0;34m.\u001b[0m\u001b[0mget\u001b[0m\u001b[0;34m(\u001b[0m\u001b[0mkey\u001b[0m\u001b[0;34m)\u001b[0m\u001b[0;34m)\u001b[0m\u001b[0;34m\u001b[0m\u001b[0m\n\u001b[1;32m   2070\u001b[0m         \u001b[0;32mif\u001b[0m \u001b[0mresult\u001b[0m\u001b[0;34m.\u001b[0m\u001b[0mcolumns\u001b[0m\u001b[0;34m.\u001b[0m\u001b[0mis_unique\u001b[0m\u001b[0;34m:\u001b[0m\u001b[0;34m\u001b[0m\u001b[0m\n\u001b[0;32m-> 2071\u001b[0;31m             \u001b[0mresult\u001b[0m \u001b[0;34m=\u001b[0m \u001b[0mresult\u001b[0m\u001b[0;34m[\u001b[0m\u001b[0mkey\u001b[0m\u001b[0;34m]\u001b[0m\u001b[0;34m\u001b[0m\u001b[0m\n\u001b[0m\u001b[1;32m   2072\u001b[0m \u001b[0;34m\u001b[0m\u001b[0m\n\u001b[1;32m   2073\u001b[0m         \u001b[0;32mreturn\u001b[0m \u001b[0mresult\u001b[0m\u001b[0;34m\u001b[0m\u001b[0m\n",
      "\u001b[0;32m/Users/Naekid/anaconda3/envs/dsi/lib/python2.7/site-packages/pandas/core/frame.pyc\u001b[0m in \u001b[0;36m__getitem__\u001b[0;34m(self, key)\u001b[0m\n\u001b[1;32m   2057\u001b[0m             \u001b[0;32mreturn\u001b[0m \u001b[0mself\u001b[0m\u001b[0;34m.\u001b[0m\u001b[0m_getitem_multilevel\u001b[0m\u001b[0;34m(\u001b[0m\u001b[0mkey\u001b[0m\u001b[0;34m)\u001b[0m\u001b[0;34m\u001b[0m\u001b[0m\n\u001b[1;32m   2058\u001b[0m         \u001b[0;32melse\u001b[0m\u001b[0;34m:\u001b[0m\u001b[0;34m\u001b[0m\u001b[0m\n\u001b[0;32m-> 2059\u001b[0;31m             \u001b[0;32mreturn\u001b[0m \u001b[0mself\u001b[0m\u001b[0;34m.\u001b[0m\u001b[0m_getitem_column\u001b[0m\u001b[0;34m(\u001b[0m\u001b[0mkey\u001b[0m\u001b[0;34m)\u001b[0m\u001b[0;34m\u001b[0m\u001b[0m\n\u001b[0m\u001b[1;32m   2060\u001b[0m \u001b[0;34m\u001b[0m\u001b[0m\n\u001b[1;32m   2061\u001b[0m     \u001b[0;32mdef\u001b[0m \u001b[0m_getitem_column\u001b[0m\u001b[0;34m(\u001b[0m\u001b[0mself\u001b[0m\u001b[0;34m,\u001b[0m \u001b[0mkey\u001b[0m\u001b[0;34m)\u001b[0m\u001b[0;34m:\u001b[0m\u001b[0;34m\u001b[0m\u001b[0m\n",
      "\u001b[0;32m/Users/Naekid/anaconda3/envs/dsi/lib/python2.7/site-packages/pandas/core/frame.pyc\u001b[0m in \u001b[0;36m_getitem_column\u001b[0;34m(self, key)\u001b[0m\n\u001b[1;32m   2064\u001b[0m         \u001b[0;31m# get column\u001b[0m\u001b[0;34m\u001b[0m\u001b[0;34m\u001b[0m\u001b[0m\n\u001b[1;32m   2065\u001b[0m         \u001b[0;32mif\u001b[0m \u001b[0mself\u001b[0m\u001b[0;34m.\u001b[0m\u001b[0mcolumns\u001b[0m\u001b[0;34m.\u001b[0m\u001b[0mis_unique\u001b[0m\u001b[0;34m:\u001b[0m\u001b[0;34m\u001b[0m\u001b[0m\n\u001b[0;32m-> 2066\u001b[0;31m             \u001b[0;32mreturn\u001b[0m \u001b[0mself\u001b[0m\u001b[0;34m.\u001b[0m\u001b[0m_get_item_cache\u001b[0m\u001b[0;34m(\u001b[0m\u001b[0mkey\u001b[0m\u001b[0;34m)\u001b[0m\u001b[0;34m\u001b[0m\u001b[0m\n\u001b[0m\u001b[1;32m   2067\u001b[0m \u001b[0;34m\u001b[0m\u001b[0m\n\u001b[1;32m   2068\u001b[0m         \u001b[0;31m# duplicate columns & possible reduce dimensionality\u001b[0m\u001b[0;34m\u001b[0m\u001b[0;34m\u001b[0m\u001b[0m\n",
      "\u001b[0;32m/Users/Naekid/anaconda3/envs/dsi/lib/python2.7/site-packages/pandas/core/generic.pyc\u001b[0m in \u001b[0;36m_get_item_cache\u001b[0;34m(self, item)\u001b[0m\n\u001b[1;32m   1384\u001b[0m         \u001b[0mres\u001b[0m \u001b[0;34m=\u001b[0m \u001b[0mcache\u001b[0m\u001b[0;34m.\u001b[0m\u001b[0mget\u001b[0m\u001b[0;34m(\u001b[0m\u001b[0mitem\u001b[0m\u001b[0;34m)\u001b[0m\u001b[0;34m\u001b[0m\u001b[0m\n\u001b[1;32m   1385\u001b[0m         \u001b[0;32mif\u001b[0m \u001b[0mres\u001b[0m \u001b[0;32mis\u001b[0m \u001b[0mNone\u001b[0m\u001b[0;34m:\u001b[0m\u001b[0;34m\u001b[0m\u001b[0m\n\u001b[0;32m-> 1386\u001b[0;31m             \u001b[0mvalues\u001b[0m \u001b[0;34m=\u001b[0m \u001b[0mself\u001b[0m\u001b[0;34m.\u001b[0m\u001b[0m_data\u001b[0m\u001b[0;34m.\u001b[0m\u001b[0mget\u001b[0m\u001b[0;34m(\u001b[0m\u001b[0mitem\u001b[0m\u001b[0;34m)\u001b[0m\u001b[0;34m\u001b[0m\u001b[0m\n\u001b[0m\u001b[1;32m   1387\u001b[0m             \u001b[0mres\u001b[0m \u001b[0;34m=\u001b[0m \u001b[0mself\u001b[0m\u001b[0;34m.\u001b[0m\u001b[0m_box_item_values\u001b[0m\u001b[0;34m(\u001b[0m\u001b[0mitem\u001b[0m\u001b[0;34m,\u001b[0m \u001b[0mvalues\u001b[0m\u001b[0;34m)\u001b[0m\u001b[0;34m\u001b[0m\u001b[0m\n\u001b[1;32m   1388\u001b[0m             \u001b[0mcache\u001b[0m\u001b[0;34m[\u001b[0m\u001b[0mitem\u001b[0m\u001b[0;34m]\u001b[0m \u001b[0;34m=\u001b[0m \u001b[0mres\u001b[0m\u001b[0;34m\u001b[0m\u001b[0m\n",
      "\u001b[0;32m/Users/Naekid/anaconda3/envs/dsi/lib/python2.7/site-packages/pandas/core/internals.pyc\u001b[0m in \u001b[0;36mget\u001b[0;34m(self, item, fastpath)\u001b[0m\n\u001b[1;32m   3541\u001b[0m \u001b[0;34m\u001b[0m\u001b[0m\n\u001b[1;32m   3542\u001b[0m             \u001b[0;32mif\u001b[0m \u001b[0;32mnot\u001b[0m \u001b[0misnull\u001b[0m\u001b[0;34m(\u001b[0m\u001b[0mitem\u001b[0m\u001b[0;34m)\u001b[0m\u001b[0;34m:\u001b[0m\u001b[0;34m\u001b[0m\u001b[0m\n\u001b[0;32m-> 3543\u001b[0;31m                 \u001b[0mloc\u001b[0m \u001b[0;34m=\u001b[0m \u001b[0mself\u001b[0m\u001b[0;34m.\u001b[0m\u001b[0mitems\u001b[0m\u001b[0;34m.\u001b[0m\u001b[0mget_loc\u001b[0m\u001b[0;34m(\u001b[0m\u001b[0mitem\u001b[0m\u001b[0;34m)\u001b[0m\u001b[0;34m\u001b[0m\u001b[0m\n\u001b[0m\u001b[1;32m   3544\u001b[0m             \u001b[0;32melse\u001b[0m\u001b[0;34m:\u001b[0m\u001b[0;34m\u001b[0m\u001b[0m\n\u001b[1;32m   3545\u001b[0m                 \u001b[0mindexer\u001b[0m \u001b[0;34m=\u001b[0m \u001b[0mnp\u001b[0m\u001b[0;34m.\u001b[0m\u001b[0marange\u001b[0m\u001b[0;34m(\u001b[0m\u001b[0mlen\u001b[0m\u001b[0;34m(\u001b[0m\u001b[0mself\u001b[0m\u001b[0;34m.\u001b[0m\u001b[0mitems\u001b[0m\u001b[0;34m)\u001b[0m\u001b[0;34m)\u001b[0m\u001b[0;34m[\u001b[0m\u001b[0misnull\u001b[0m\u001b[0;34m(\u001b[0m\u001b[0mself\u001b[0m\u001b[0;34m.\u001b[0m\u001b[0mitems\u001b[0m\u001b[0;34m)\u001b[0m\u001b[0;34m]\u001b[0m\u001b[0;34m\u001b[0m\u001b[0m\n",
      "\u001b[0;32m/Users/Naekid/anaconda3/envs/dsi/lib/python2.7/site-packages/pandas/indexes/base.pyc\u001b[0m in \u001b[0;36mget_loc\u001b[0;34m(self, key, method, tolerance)\u001b[0m\n\u001b[1;32m   2134\u001b[0m                 \u001b[0;32mreturn\u001b[0m \u001b[0mself\u001b[0m\u001b[0;34m.\u001b[0m\u001b[0m_engine\u001b[0m\u001b[0;34m.\u001b[0m\u001b[0mget_loc\u001b[0m\u001b[0;34m(\u001b[0m\u001b[0mkey\u001b[0m\u001b[0;34m)\u001b[0m\u001b[0;34m\u001b[0m\u001b[0m\n\u001b[1;32m   2135\u001b[0m             \u001b[0;32mexcept\u001b[0m \u001b[0mKeyError\u001b[0m\u001b[0;34m:\u001b[0m\u001b[0;34m\u001b[0m\u001b[0m\n\u001b[0;32m-> 2136\u001b[0;31m                 \u001b[0;32mreturn\u001b[0m \u001b[0mself\u001b[0m\u001b[0;34m.\u001b[0m\u001b[0m_engine\u001b[0m\u001b[0;34m.\u001b[0m\u001b[0mget_loc\u001b[0m\u001b[0;34m(\u001b[0m\u001b[0mself\u001b[0m\u001b[0;34m.\u001b[0m\u001b[0m_maybe_cast_indexer\u001b[0m\u001b[0;34m(\u001b[0m\u001b[0mkey\u001b[0m\u001b[0;34m)\u001b[0m\u001b[0;34m)\u001b[0m\u001b[0;34m\u001b[0m\u001b[0m\n\u001b[0m\u001b[1;32m   2137\u001b[0m \u001b[0;34m\u001b[0m\u001b[0m\n\u001b[1;32m   2138\u001b[0m         \u001b[0mindexer\u001b[0m \u001b[0;34m=\u001b[0m \u001b[0mself\u001b[0m\u001b[0;34m.\u001b[0m\u001b[0mget_indexer\u001b[0m\u001b[0;34m(\u001b[0m\u001b[0;34m[\u001b[0m\u001b[0mkey\u001b[0m\u001b[0;34m]\u001b[0m\u001b[0;34m,\u001b[0m \u001b[0mmethod\u001b[0m\u001b[0;34m=\u001b[0m\u001b[0mmethod\u001b[0m\u001b[0;34m,\u001b[0m \u001b[0mtolerance\u001b[0m\u001b[0;34m=\u001b[0m\u001b[0mtolerance\u001b[0m\u001b[0;34m)\u001b[0m\u001b[0;34m\u001b[0m\u001b[0m\n",
      "\u001b[0;32mpandas/index.pyx\u001b[0m in \u001b[0;36mpandas.index.IndexEngine.get_loc (pandas/index.c:4433)\u001b[0;34m()\u001b[0m\n",
      "\u001b[0;32mpandas/index.pyx\u001b[0m in \u001b[0;36mpandas.index.IndexEngine.get_loc (pandas/index.c:4279)\u001b[0;34m()\u001b[0m\n",
      "\u001b[0;32mpandas/src/hashtable_class_helper.pxi\u001b[0m in \u001b[0;36mpandas.hashtable.PyObjectHashTable.get_item (pandas/hashtable.c:13742)\u001b[0;34m()\u001b[0m\n",
      "\u001b[0;32mpandas/src/hashtable_class_helper.pxi\u001b[0m in \u001b[0;36mpandas.hashtable.PyObjectHashTable.get_item (pandas/hashtable.c:13696)\u001b[0;34m()\u001b[0m\n",
      "\u001b[0;31mKeyError\u001b[0m: 'endPrice_pred'"
     ]
    },
    {
     "data": {
      "image/png": "[encoded data removed]",
      "text/plain": [
       "<matplotlib.figure.Figure at 0x1134c8f10>"
      ]
     },
     "metadata": {},
     "output_type": "display_data"
    }
   ],
   "source": [
    "fig, (ax1, ax2) = plt.subplots(nrows=1,ncols=2, figsize=(14,5))\n",
    "\n",
    "pred_price = df_regression['endPrice_pred'].values\n",
    "actual_price = df_regression['endPrice'].values\n",
    "\n",
    "ax1.scatter(actual_price, pred_price)\n",
    "ax1.set_title('Actual vs Predicted Price')\n",
    "\n",
    "ax2.hist(actual_price, bins=30);\n",
    "ax2.set_title('Distribution of Actual End Prices')"
   ]
  },
  {
   "cell_type": "code",
   "execution_count": null,
   "metadata": {
    "collapsed": false,
    "deletable": true,
    "editable": true
   },
   "outputs": [],
   "source": [
    "plt.figure(figsize=(12,6))\n",
    "plt.hist(x=df_regression['endPrice_pred'].values-df_regression['endPrice'].values, bins=100);\n",
    "plt.xlim((-75,75))\n",
    "plt.ylim((0,500))\n",
    "plt.ylabel('Predicted Price - Actual Price ($)')"
   ]
  },
  {
   "cell_type": "code",
   "execution_count": null,
   "metadata": {
    "collapsed": false,
    "deletable": true,
    "editable": true
   },
   "outputs": [],
   "source": [
    "print 'average endPrice of listings: ${}'.format(round(np.mean(df_regression['endPrice']), 2))"
   ]
  },
  {
   "cell_type": "markdown",
   "metadata": {
    "deletable": true,
    "editable": true
   },
   "source": [
    "### Explore relationship between startPrice, endPrice, and probability of sold_state==1"
   ]
  },
  {
   "cell_type": "markdown",
   "metadata": {
    "deletable": true,
    "editable": true
   },
   "source": [
    "Plot startPrice vs. endPrice (where sold_state == 1), and startPrice vs. probability sold_state==1 on the same figure"
   ]
  },
  {
   "cell_type": "code",
   "execution_count": 55,
   "metadata": {
    "collapsed": true,
    "deletable": true,
    "editable": true
   },
   "outputs": [],
   "source": [
    "# Select an item index to view start price vs. probability of sold \n",
    "item_index = 3"
   ]
  },
  {
   "cell_type": "code",
   "execution_count": 56,
   "metadata": {
    "collapsed": false,
    "deletable": true,
    "editable": true
   },
   "outputs": [],
   "source": [
    "possible_indeces = list(df_classification[df_classification['sold_state']==1].index)\n",
    "test_item_index = possible_indeces[item_index]\n",
    "\n",
    "test_item_class = df_classification.ix[test_item_index, :]\n",
    "test_item_reg = df_regression.ix[test_item_index, :]"
   ]
  },
  {
   "cell_type": "code",
   "execution_count": 57,
   "metadata": {
    "collapsed": false,
    "deletable": true,
    "editable": true
   },
   "outputs": [],
   "source": [
    "testStartPrice = test_item_class.loc['startPrice']\n",
    "testEndPrice = test_item_reg.loc['endPrice']"
   ]
  },
  {
   "cell_type": "code",
   "execution_count": null,
   "metadata": {
    "collapsed": true,
    "deletable": true,
    "editable": true
   },
   "outputs": [],
   "source": [
    "minStartPrice = 0\n",
    "maxStartPrice = testStartPrice * 2\n",
    "priceStepSize = 10\n",
    "\n",
    "sold_probabilities = []\n",
    "predicted_end_prices = []\n",
    "    \n",
    "max_expected_price = (0,0,0,0,0)\n",
    "for i,price in enumerate(np.arange(minStartPrice, maxStartPrice, priceStepSize)):\n",
    "    # Classification\n",
    "    test_item_class.loc['startPrice'] = price\n",
    "    test_vec = test_item_class.iloc[:-1].values.reshape(1,-1)\n",
    "    sold_proba = rfc.predict_proba(test_vec)[0][1]\n",
    "    sold_probabilities.append( (price, sold_proba) )\n",
    "        \n",
    "    # Regression\n",
    "    test_item_reg.loc['startPrice'] = price\n",
    "    test_vec = test_item_reg.iloc[:-1].values.reshape(1,-1)\n",
    "    predicted_end_price = knn.predict(test_vec)[0]\n",
    "    predicted_end_prices.append( (price, predicted_end_price) )\n",
    "    \n",
    "    \n",
    "    # Find Optimal End Price\n",
    "    if sold_proba > 0.5:\n",
    "        expected_price = sold_probabilities[i][1] * predicted_end_prices[i][1] # Sold Probability * Predicted End Price\n",
    "        if expected_price > max_expected_price[len(max_expected_price)-1]:\n",
    "            max_expected_price = (i,price, sold_probabilities[i][1], predicted_end_prices[i][1], expected_price)\n",
    "    \n",
    "test_item_class_df = pd.DataFrame(sold_probabilities)\n",
    "test_item_reg_df = pd.DataFrame(predicted_end_prices)"
   ]
  },
  {
   "cell_type": "code",
   "execution_count": 61,
   "metadata": {
    "collapsed": false,
    "deletable": true,
    "editable": true
   },
   "outputs": [
    {
     "name": "stdout",
     "output_type": "stream",
     "text": [
      "Optimal Predicted End Price:$618.714156395, Optimal Start Price:$590.0, Chance of Selling:0.87, Expected Profit:$538.281316064\n"
     ]
    }
   ],
   "source": [
    "print 'Optimal Predicted End Price:${}, Optimal Start Price:${}, Chance of Selling:{}, Expected Profit:${}'.format(max_expected_price[3],\n",
    "                                                                                                        max_expected_price[1],\n",
    "                                                                                                        max_expected_price[2],\n",
    "                                                                                                        max_expected_price[4])"
   ]
  },
  {
   "cell_type": "markdown",
   "metadata": {
    "deletable": true,
    "editable": true
   },
   "source": [
    "Plot"
   ]
  },
  {
   "cell_type": "code",
   "execution_count": 72,
   "metadata": {
    "collapsed": false,
    "deletable": true,
    "editable": true
   },
   "outputs": [
    {
     "data": {
      "image/png": "[encoded data removed]",
      "text/plain": [
       "<matplotlib.figure.Figure at 0x11223ff10>"
      ]
     },
     "metadata": {},
     "output_type": "display_data"
    }
   ],
   "source": [
    "fig, ax1 = plt.subplots(figsize=(10,6))\n",
    "\n",
    "# Probability of sale\n",
    "ax1.plot(test_item_class_df[0], test_item_class_df[1], color='b')\n",
    "ax1.set_xlabel('Start Price ($)')\n",
    "ax1.set_ylabel('Probability Of Selling (%)', color='b')\n",
    "\n",
    "# Predicted end Price\n",
    "ax2 = ax1.twinx()\n",
    "ax2.plot(test_item_reg_df[0], test_item_reg_df[1], color='r')\n",
    "ax2.set_ylabel('Predicted End Price ($)', color='r')\n",
    "\n",
    "# Optimal Predicted End Price Price\n",
    "plt.axvline(x=max_expected_price[1], linestyle='--', color='g') # optimal start price\n",
    "plt.axhline(y=max_expected_price[3], linestyle='--', color='g') # corresponding predicted end price\n",
    "\n",
    "# Actual startPrice / endPrice\n",
    "plt.axvline(x=testStartPrice, linestyle='--', color='k', label='Actual Start Price')\n",
    "plt.axhline(y=testEndPrice, linestyle='--', color='k', label='Actual End Price')\n",
    "\n",
    "\n",
    "fig.tight_layout()\n",
    "plt.show()"
   ]
  },
  {
   "cell_type": "code",
   "execution_count": null,
   "metadata": {
    "collapsed": true,
    "deletable": true,
    "editable": true
   },
   "outputs": [],
   "source": []
  },
  {
   "cell_type": "markdown",
   "metadata": {
    "deletable": true,
    "editable": true
   },
   "source": [
    "Test for Canon 40D"
   ]
  },
  {
   "cell_type": "markdown",
   "metadata": {
    "deletable": true,
    "editable": true
   },
   "source": [
    "## Explore Errors"
   ]
  },
  {
   "cell_type": "code",
   "execution_count": null,
   "metadata": {
    "collapsed": true,
    "deletable": true,
    "editable": true
   },
   "outputs": [],
   "source": []
  }
 ],
 "metadata": {
  "kernelspec": {
   "display_name": "Python 2",
   "language": "python",
   "name": "python2"
  },
  "language_info": {
   "codemirror_mode": {
    "name": "ipython",
    "version": 2
   },
   "file_extension": ".py",
   "mimetype": "text/x-python",
   "name": "python",
   "nbconvert_exporter": "python",
   "pygments_lexer": "ipython2",
   "version": "2.7.13"
  }
 },
 "nbformat": 4,
 "nbformat_minor": 2
}
