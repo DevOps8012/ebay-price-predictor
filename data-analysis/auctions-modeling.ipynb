{
 "cells": [
  {
   "cell_type": "code",
   "execution_count": 72,
   "metadata": {
    "collapsed": false,
    "deletable": true,
    "editable": true
   },
   "outputs": [],
   "source": [
    "from __future__ import division\n",
    "import pandas as pd\n",
    "import datetime\n",
    "import numpy as np\n",
    "\n",
    "from sklearn.feature_extraction.text import CountVectorizer, TfidfVectorizer\n",
    "from sklearn.metrics import confusion_matrix, roc_curve, auc, mean_absolute_error, accuracy_score\n",
    "from sklearn.model_selection import train_test_split, cross_val_score, GridSearchCV, KFold, StratifiedKFold\n",
    "from sklearn.model_selection import ShuffleSplit, learning_curve\n",
    "from sklearn.ensemble import RandomForestClassifier, RandomForestRegressor\n",
    "from sklearn.metrics.pairwise import cosine_similarity\n",
    "from sklearn.neighbors import KNeighborsRegressor\n",
    "from sklearn.externals import joblib\n",
    "\n",
    "import sys\n",
    "sys.path.insert(0, '/Users/Naekid/Desktop/capstone-DSI-5/ebay-price-predictor/data-analysis/utilities/')\n",
    "from plot_learning_curve import plot_learning_curve\n",
    "from clean_text import clean_text\n",
    "\n",
    "\n",
    "pd.set_option('display.max_columns', 60)"
   ]
  },
  {
   "cell_type": "markdown",
   "metadata": {
    "deletable": true,
    "editable": true
   },
   "source": [
    "### Import data"
   ]
  },
  {
   "cell_type": "code",
   "execution_count": 28,
   "metadata": {
    "collapsed": true,
    "deletable": true,
    "editable": true
   },
   "outputs": [],
   "source": [
    "auctions = pd.read_pickle('./pickles/auctions.p')"
   ]
  },
  {
   "cell_type": "code",
   "execution_count": 29,
   "metadata": {
    "collapsed": true,
    "deletable": true,
    "editable": true
   },
   "outputs": [],
   "source": [
    "concurrent_similar_median_start_price_series = pd.read_pickle('./feature-engineering-concurrent-similar-median-start-price/pickles/auctions_median_start_price_series.p')\n",
    "concurrent_similar_median_start_price_series.name = 'concurrent_similar_median_start_price'"
   ]
  },
  {
   "cell_type": "code",
   "execution_count": 30,
   "metadata": {
    "collapsed": false,
    "deletable": true,
    "editable": true
   },
   "outputs": [
    {
     "name": "stdout",
     "output_type": "stream",
     "text": [
      "Total Values: 29961\n",
      "Non NaN Values: 22376\n",
      "NaN Values: 7585\n"
     ]
    }
   ],
   "source": [
    "# Count NaN values\n",
    "print 'Total Values:',concurrent_similar_median_start_price_series.shape[0]\n",
    "print 'Non NaN Values:',concurrent_similar_median_start_price_series.count()\n",
    "print 'NaN Values:',concurrent_similar_median_start_price_series.shape[0] - concurrent_similar_median_start_price_series.count()"
   ]
  },
  {
   "cell_type": "markdown",
   "metadata": {
    "deletable": true,
    "editable": true
   },
   "source": [
    "Impute missing values"
   ]
  },
  {
   "cell_type": "code",
   "execution_count": 31,
   "metadata": {
    "collapsed": true,
    "deletable": true,
    "editable": true
   },
   "outputs": [],
   "source": [
    "# Replace missing concurrent median start prices with the median overall start price\n",
    "concurrent_similar_median_start_price_series[concurrent_similar_median_start_price_series.isnull()] = np.median(auctions['startPrice'])"
   ]
  },
  {
   "cell_type": "markdown",
   "metadata": {
    "deletable": true,
    "editable": true
   },
   "source": [
    "### Extract Features"
   ]
  },
  {
   "cell_type": "code",
   "execution_count": 32,
   "metadata": {
    "collapsed": false,
    "deletable": true,
    "editable": true
   },
   "outputs": [],
   "source": [
    "# Use startPrice, title (vectorized), conditionDisplayName (one-hot-encoded)\n",
    "auction_condition_dummies = pd.get_dummies(data=auctions['condition.conditionDisplayName'])\n",
    "\n",
    "start_price_series = auctions['startPrice']\n",
    "\n",
    "titles = auctions['title']\n",
    "\n",
    "sold = auctions['sold_state']\n",
    "\n",
    "condition_combined = auctions['conditionCombined']\n",
    "\n",
    "end_price = auctions['endPrice']\n",
    "\n",
    "start_time_series = auctions['listingInfo.startTime']\n",
    "\n",
    "end_time_series = auctions['listingInfo.endTime']\n",
    "\n",
    "feedback_percent_series = pd.Series(auctions['sellerInfo.positiveFeedbackPercent'], name='feedback_percent')\n",
    "\n",
    "top_rated_seller_series = pd.Series(auctions['sellerInfo.topRatedSeller'].apply(lambda x: 1 if x==True else 0), name='top_rated_seller')\n",
    "\n",
    "expedited_shipping_series = pd.Series(auctions['shippingInfo.expeditedShipping'], name='expedited_shipping')\n",
    "\n",
    "shipping_cost_series = pd.Series(auctions['shippingInfo.shippingServiceCost.value'], name='shipping_cost')\n",
    "\n",
    "handling_time_series = pd.Series(auctions['shippingInfo.handlingTime'], name='handling_time')\n",
    "\n",
    "one_day_shipping_series = pd.Series(auctions['shippingInfo.oneDayShippingAvailable'], name='one_day_shipping')\n",
    "\n",
    "one_day_shipping_series = pd.Series(auctions['shippingInfo.oneDayShippingAvailable'], name='one_day_shipping')\n",
    "\n",
    "returns_accepted_series = pd.Series(auctions['returnsAccepted'], name='returns_accepted')\n",
    "\n"
   ]
  },
  {
   "cell_type": "markdown",
   "metadata": {
    "deletable": true,
    "editable": true
   },
   "source": [
    "Clean text"
   ]
  },
  {
   "cell_type": "code",
   "execution_count": 33,
   "metadata": {
    "collapsed": false,
    "deletable": true,
    "editable": true
   },
   "outputs": [
    {
     "name": "stdout",
     "output_type": "stream",
     "text": [
      "cleaning #5000 out of 29961 documents\n",
      "cleaning #10000 out of 29961 documents\n",
      "cleaning #15000 out of 29961 documents\n",
      "cleaning #20000 out of 29961 documents\n",
      "cleaning #25000 out of 29961 documents\n",
      "cleaning #5000 out of 29961 documents\n",
      "cleaning #10000 out of 29961 documents\n",
      "cleaning #15000 out of 29961 documents\n",
      "cleaning #20000 out of 29961 documents\n"
     ]
    },
    {
     "name": "stderr",
     "output_type": "stream",
     "text": [
      "/Users/Naekid/anaconda3/envs/dsi/lib/python2.7/site-packages/bs4/__init__.py:219: UserWarning: \".\" looks like a filename, not markup. You shouldprobably open this file and pass the filehandle intoBeautiful Soup.\n",
      "  'Beautiful Soup.' % markup)\n"
     ]
    },
    {
     "name": "stdout",
     "output_type": "stream",
     "text": [
      "cleaning #25000 out of 29961 documents\n"
     ]
    }
   ],
   "source": [
    "clean_titles = []\n",
    "for i,title in enumerate(titles.values):\n",
    "    if (i+1)%5000==0:\n",
    "        print 'cleaning #{} out of {} documents'.format(i+1,len(condition_combined))\n",
    "    clean_titles.append(clean_text(title))\n",
    "\n",
    "clean_conditions = []\n",
    "for i,cond in enumerate(condition_combined):\n",
    "    if (i+1)%5000==0:\n",
    "        print 'cleaning #{} out of {} documents'.format(i+1,len(condition_combined))\n",
    "    clean_conditions.append(clean_text(cond))"
   ]
  },
  {
   "cell_type": "code",
   "execution_count": 34,
   "metadata": {
    "collapsed": true
   },
   "outputs": [],
   "source": [
    "vectorizer = TfidfVectorizer(ngram_range = (1,2),\n",
    "                             min_df=5,\n",
    "                             analyzer='word',\n",
    "                             stop_words=None,\n",
    "                             max_features=10000,\n",
    "                            )\n",
    "\n",
    "titles_matrix = vectorizer.fit_transform(clean_titles)\n",
    "\n",
    "import operator\n",
    "# print sorted(vectorizer.vocabulary_.items(), key=operator.itemgetter(1), reverse=True)[:5]\n",
    "\n",
    "titles_df = pd.DataFrame(titles_matrix.todense(), columns=vectorizer.vocabulary_.keys())"
   ]
  },
  {
   "cell_type": "code",
   "execution_count": 35,
   "metadata": {
    "collapsed": false,
    "deletable": true,
    "editable": true
   },
   "outputs": [],
   "source": [
    "vectorizer = CountVectorizer(ngram_range = (1,2),\n",
    "                             min_df=30,\n",
    "                             analyzer='word',\n",
    "                             stop_words=None,\n",
    "                             max_features=5000,\n",
    "                            )\n",
    "\n",
    "conditions_matrix = vectorizer.fit_transform(clean_conditions)\n",
    "\n",
    "import operator\n",
    "# print 'most common condition grams:',sorted(vectorizer.vocabulary_.items(), key=operator.itemgetter(1), reverse=True)[:5]\n",
    "# print 'least common condition grams:',sorted(vectorizer.vocabulary_.items(), key=operator.itemgetter(1), reverse=False)[:5]\n",
    "\n",
    "conditions_df = pd.DataFrame(conditions_matrix.todense(), columns=vectorizer.vocabulary_.keys())"
   ]
  },
  {
   "cell_type": "code",
   "execution_count": 36,
   "metadata": {
    "collapsed": true,
    "deletable": true,
    "editable": true
   },
   "outputs": [],
   "source": [
    "del clean_titles\n",
    "del clean_conditions\n",
    "del conditions_matrix\n",
    "del titles_matrix"
   ]
  },
  {
   "cell_type": "markdown",
   "metadata": {
    "deletable": true,
    "editable": true
   },
   "source": [
    "## Create Processed DataFrame"
   ]
  },
  {
   "cell_type": "markdown",
   "metadata": {
    "deletable": true,
    "editable": true
   },
   "source": [
    "**Create processed feature dataframe**"
   ]
  },
  {
   "cell_type": "code",
   "execution_count": 37,
   "metadata": {
    "collapsed": false,
    "deletable": true,
    "editable": true
   },
   "outputs": [],
   "source": [
    "data_frames_to_keep = [titles_df,\\\n",
    "                       conditions_df,\\\n",
    "                       auction_condition_dummies,\\\n",
    "                       feedback_percent_series,\\\n",
    "                       top_rated_seller_series,\\\n",
    "                       expedited_shipping_series,\\\n",
    "                       shipping_cost_series,\\\n",
    "                       handling_time_series,\\\n",
    "                       one_day_shipping_series,\\\n",
    "                       returns_accepted_series,\\\n",
    "                       start_price_series,\\\n",
    "                       sold]\n",
    "\n",
    "df_classification = pd.concat(data_frames_to_keep, axis=1)"
   ]
  },
  {
   "cell_type": "code",
   "execution_count": 39,
   "metadata": {
    "collapsed": false,
    "deletable": true,
    "editable": true
   },
   "outputs": [],
   "source": [
    "# Impute missing values\n",
    "from sklearn.preprocessing import Imputer\n",
    "imputer = Imputer(strategy='most_frequent', axis=0)\n",
    "df_classification['shipping_cost'] = imputer.fit_transform(df_classification['shipping_cost'].values.reshape(-1,1))"
   ]
  },
  {
   "cell_type": "code",
   "execution_count": 58,
   "metadata": {
    "collapsed": false
   },
   "outputs": [],
   "source": [
    "df_classification['handling_time'] = imputer.fit_transform(df_classification['handling_time'].values.reshape(-1,1))"
   ]
  },
  {
   "cell_type": "code",
   "execution_count": 60,
   "metadata": {
    "collapsed": false
   },
   "outputs": [
    {
     "name": "stdout",
     "output_type": "stream",
     "text": [
      "Null Rows %: 0.0\n"
     ]
    }
   ],
   "source": [
    "print 'Null Rows %:',np.sum(df_classification.isnull().sum())/df_classification.shape[0]"
   ]
  },
  {
   "cell_type": "code",
   "execution_count": 38,
   "metadata": {
    "collapsed": true,
    "deletable": true,
    "editable": true
   },
   "outputs": [],
   "source": [
    "for dataframe in data_frames_to_keep:\n",
    "    del dataframe"
   ]
  },
  {
   "cell_type": "code",
   "execution_count": 33,
   "metadata": {
    "collapsed": false,
    "deletable": true,
    "editable": true
   },
   "outputs": [
    {
     "data": {
      "text/html": [
       "<div>\n",
       "<table border=\"1\" class=\"dataframe\">\n",
       "  <thead>\n",
       "    <tr style=\"text-align: right;\">\n",
       "      <th></th>\n",
       "      <th>z990 12</th>\n",
       "      <th>excellent cond</th>\n",
       "      <th>lumix digital</th>\n",
       "      <th>grip charger</th>\n",
       "      <th>medium format</th>\n",
       "      <th>270</th>\n",
       "      <th>275</th>\n",
       "      <th>kodak</th>\n",
       "      <th>af nikon</th>\n",
       "      <th>body read</th>\n",
       "      <th>cmos smart</th>\n",
       "      <th>package deal</th>\n",
       "      <th>card case</th>\n",
       "      <th>lens free</th>\n",
       "      <th>batteries strap</th>\n",
       "      <th>e6</th>\n",
       "      <th>slt a33</th>\n",
       "      <th>slt a35</th>\n",
       "      <th>zoom lense</th>\n",
       "      <th>fe fe</th>\n",
       "      <th>elph 170</th>\n",
       "      <th>fujifilm pro1</th>\n",
       "      <th>tz25</th>\n",
       "      <th>body working</th>\n",
       "      <th>12 megapixel</th>\n",
       "      <th>titanium</th>\n",
       "      <th>zoom mega</th>\n",
       "      <th>fuji fine</th>\n",
       "      <th>dsc f707</th>\n",
       "      <th>travel</th>\n",
       "      <th>...</th>\n",
       "      <th>bundle</th>\n",
       "      <th>photos hassle</th>\n",
       "      <th>scratches dents</th>\n",
       "      <th>cleaned</th>\n",
       "      <th>condition low</th>\n",
       "      <th>please read</th>\n",
       "      <th>shutter actuations</th>\n",
       "      <th>store returns</th>\n",
       "      <th>dent</th>\n",
       "      <th>operational</th>\n",
       "      <th>know</th>\n",
       "      <th>repair</th>\n",
       "      <th>warranty</th>\n",
       "      <th>ex</th>\n",
       "      <th>little use</th>\n",
       "      <th>For parts or not working</th>\n",
       "      <th>Manufacturer refurbished</th>\n",
       "      <th>New</th>\n",
       "      <th>New other (see details)</th>\n",
       "      <th>Seller refurbished</th>\n",
       "      <th>Used</th>\n",
       "      <th>feedback_percent</th>\n",
       "      <th>top_rated_seller</th>\n",
       "      <th>expedited_shipping</th>\n",
       "      <th>shipping_cost</th>\n",
       "      <th>handling_time</th>\n",
       "      <th>one_day_shipping</th>\n",
       "      <th>returns_accepted</th>\n",
       "      <th>startPrice</th>\n",
       "      <th>sold_state</th>\n",
       "    </tr>\n",
       "  </thead>\n",
       "  <tbody>\n",
       "    <tr>\n",
       "      <th>0</th>\n",
       "      <td>0.0</td>\n",
       "      <td>0.0</td>\n",
       "      <td>0.0</td>\n",
       "      <td>0.0</td>\n",
       "      <td>0.0</td>\n",
       "      <td>0.0</td>\n",
       "      <td>0.0</td>\n",
       "      <td>0.0</td>\n",
       "      <td>0.0</td>\n",
       "      <td>0.0</td>\n",
       "      <td>0.0</td>\n",
       "      <td>0.0</td>\n",
       "      <td>0.0</td>\n",
       "      <td>0.0</td>\n",
       "      <td>0.0</td>\n",
       "      <td>0.0</td>\n",
       "      <td>0.0</td>\n",
       "      <td>0.0</td>\n",
       "      <td>0.0</td>\n",
       "      <td>0.0</td>\n",
       "      <td>0.0</td>\n",
       "      <td>0.0</td>\n",
       "      <td>0.0</td>\n",
       "      <td>0.0</td>\n",
       "      <td>0.0</td>\n",
       "      <td>0.0</td>\n",
       "      <td>0.0</td>\n",
       "      <td>0.0</td>\n",
       "      <td>0.0</td>\n",
       "      <td>0.0</td>\n",
       "      <td>...</td>\n",
       "      <td>0</td>\n",
       "      <td>0</td>\n",
       "      <td>0</td>\n",
       "      <td>0</td>\n",
       "      <td>0</td>\n",
       "      <td>0</td>\n",
       "      <td>0</td>\n",
       "      <td>0</td>\n",
       "      <td>0</td>\n",
       "      <td>0</td>\n",
       "      <td>0</td>\n",
       "      <td>0</td>\n",
       "      <td>0</td>\n",
       "      <td>0</td>\n",
       "      <td>0</td>\n",
       "      <td>0</td>\n",
       "      <td>0</td>\n",
       "      <td>1</td>\n",
       "      <td>0</td>\n",
       "      <td>0</td>\n",
       "      <td>0</td>\n",
       "      <td>91.7</td>\n",
       "      <td>0</td>\n",
       "      <td>1</td>\n",
       "      <td>0.0</td>\n",
       "      <td>2.0</td>\n",
       "      <td>0</td>\n",
       "      <td>1</td>\n",
       "      <td>399.0</td>\n",
       "      <td>0</td>\n",
       "    </tr>\n",
       "    <tr>\n",
       "      <th>1</th>\n",
       "      <td>0.0</td>\n",
       "      <td>0.0</td>\n",
       "      <td>0.0</td>\n",
       "      <td>0.0</td>\n",
       "      <td>0.0</td>\n",
       "      <td>0.0</td>\n",
       "      <td>0.0</td>\n",
       "      <td>0.0</td>\n",
       "      <td>0.0</td>\n",
       "      <td>0.0</td>\n",
       "      <td>0.0</td>\n",
       "      <td>0.0</td>\n",
       "      <td>0.0</td>\n",
       "      <td>0.0</td>\n",
       "      <td>0.0</td>\n",
       "      <td>0.0</td>\n",
       "      <td>0.0</td>\n",
       "      <td>0.0</td>\n",
       "      <td>0.0</td>\n",
       "      <td>0.0</td>\n",
       "      <td>0.0</td>\n",
       "      <td>0.0</td>\n",
       "      <td>0.0</td>\n",
       "      <td>0.0</td>\n",
       "      <td>0.0</td>\n",
       "      <td>0.0</td>\n",
       "      <td>0.0</td>\n",
       "      <td>0.0</td>\n",
       "      <td>0.0</td>\n",
       "      <td>0.0</td>\n",
       "      <td>...</td>\n",
       "      <td>0</td>\n",
       "      <td>0</td>\n",
       "      <td>0</td>\n",
       "      <td>0</td>\n",
       "      <td>0</td>\n",
       "      <td>0</td>\n",
       "      <td>0</td>\n",
       "      <td>0</td>\n",
       "      <td>0</td>\n",
       "      <td>0</td>\n",
       "      <td>0</td>\n",
       "      <td>0</td>\n",
       "      <td>0</td>\n",
       "      <td>0</td>\n",
       "      <td>0</td>\n",
       "      <td>0</td>\n",
       "      <td>0</td>\n",
       "      <td>1</td>\n",
       "      <td>0</td>\n",
       "      <td>0</td>\n",
       "      <td>0</td>\n",
       "      <td>100.0</td>\n",
       "      <td>0</td>\n",
       "      <td>1</td>\n",
       "      <td>0.0</td>\n",
       "      <td>3.0</td>\n",
       "      <td>0</td>\n",
       "      <td>0</td>\n",
       "      <td>300.0</td>\n",
       "      <td>1</td>\n",
       "    </tr>\n",
       "  </tbody>\n",
       "</table>\n",
       "<p>2 rows × 7738 columns</p>\n",
       "</div>"
      ],
      "text/plain": [
       "   z990 12  excellent cond  lumix digital  grip charger  medium format  270  \\\n",
       "0      0.0             0.0            0.0           0.0            0.0  0.0   \n",
       "1      0.0             0.0            0.0           0.0            0.0  0.0   \n",
       "\n",
       "   275  kodak  af nikon  body read  cmos smart  package deal  card case  \\\n",
       "0  0.0    0.0       0.0        0.0         0.0           0.0        0.0   \n",
       "1  0.0    0.0       0.0        0.0         0.0           0.0        0.0   \n",
       "\n",
       "   lens free  batteries strap   e6  slt a33  slt a35  zoom lense  fe fe  \\\n",
       "0        0.0              0.0  0.0      0.0      0.0         0.0    0.0   \n",
       "1        0.0              0.0  0.0      0.0      0.0         0.0    0.0   \n",
       "\n",
       "   elph 170  fujifilm pro1  tz25  body working  12 megapixel  titanium  \\\n",
       "0       0.0            0.0   0.0           0.0           0.0       0.0   \n",
       "1       0.0            0.0   0.0           0.0           0.0       0.0   \n",
       "\n",
       "   zoom mega  fuji fine  dsc f707  travel     ...      bundle  photos hassle  \\\n",
       "0        0.0        0.0       0.0     0.0     ...           0              0   \n",
       "1        0.0        0.0       0.0     0.0     ...           0              0   \n",
       "\n",
       "   scratches dents  cleaned  condition low  please read  shutter actuations  \\\n",
       "0                0        0              0            0                   0   \n",
       "1                0        0              0            0                   0   \n",
       "\n",
       "   store returns  dent  operational  know  repair  warranty  ex  little use  \\\n",
       "0              0     0            0     0       0         0   0           0   \n",
       "1              0     0            0     0       0         0   0           0   \n",
       "\n",
       "   For parts or not working  Manufacturer refurbished  New  \\\n",
       "0                         0                         0    1   \n",
       "1                         0                         0    1   \n",
       "\n",
       "   New other (see details)  Seller refurbished  Used  feedback_percent  \\\n",
       "0                        0                   0     0              91.7   \n",
       "1                        0                   0     0             100.0   \n",
       "\n",
       "   top_rated_seller  expedited_shipping  shipping_cost  handling_time  \\\n",
       "0                 0                   1            0.0            2.0   \n",
       "1                 0                   1            0.0            3.0   \n",
       "\n",
       "   one_day_shipping  returns_accepted  startPrice  sold_state  \n",
       "0                 0                 1       399.0           0  \n",
       "1                 0                 0       300.0           1  \n",
       "\n",
       "[2 rows x 7738 columns]"
      ]
     },
     "execution_count": 33,
     "metadata": {},
     "output_type": "execute_result"
    }
   ],
   "source": [
    "df_classification.head(2)"
   ]
  },
  {
   "cell_type": "markdown",
   "metadata": {
    "deletable": true,
    "editable": true
   },
   "source": [
    "Save df_classification to a pickle"
   ]
  },
  {
   "cell_type": "code",
   "execution_count": 61,
   "metadata": {
    "collapsed": true,
    "deletable": true,
    "editable": true
   },
   "outputs": [],
   "source": [
    "df_classification.to_pickle('./pickles/df_classification_tfidf.p')"
   ]
  },
  {
   "cell_type": "markdown",
   "metadata": {
    "deletable": true,
    "editable": true
   },
   "source": [
    "# Import Data"
   ]
  },
  {
   "cell_type": "markdown",
   "metadata": {},
   "source": [
    "Import classification data"
   ]
  },
  {
   "cell_type": "code",
   "execution_count": 62,
   "metadata": {
    "collapsed": true,
    "deletable": true,
    "editable": true
   },
   "outputs": [],
   "source": [
    "df_classification = pd.read_pickle('./pickles/df_classification_tfidf.p')"
   ]
  },
  {
   "cell_type": "code",
   "execution_count": 63,
   "metadata": {
    "collapsed": false
   },
   "outputs": [
    {
     "data": {
      "text/html": [
       "<div>\n",
       "<table border=\"1\" class=\"dataframe\">\n",
       "  <thead>\n",
       "    <tr style=\"text-align: right;\">\n",
       "      <th></th>\n",
       "      <th>z990 12</th>\n",
       "      <th>excellent cond</th>\n",
       "      <th>lumix digital</th>\n",
       "      <th>grip charger</th>\n",
       "      <th>medium format</th>\n",
       "      <th>270</th>\n",
       "      <th>275</th>\n",
       "      <th>kodak</th>\n",
       "      <th>af nikon</th>\n",
       "      <th>body read</th>\n",
       "      <th>cmos smart</th>\n",
       "      <th>package deal</th>\n",
       "      <th>card case</th>\n",
       "      <th>lens free</th>\n",
       "      <th>batteries strap</th>\n",
       "      <th>e6</th>\n",
       "      <th>slt a33</th>\n",
       "      <th>slt a35</th>\n",
       "      <th>zoom lense</th>\n",
       "      <th>fe fe</th>\n",
       "      <th>elph 170</th>\n",
       "      <th>fujifilm pro1</th>\n",
       "      <th>tz25</th>\n",
       "      <th>body working</th>\n",
       "      <th>12 megapixel</th>\n",
       "      <th>titanium</th>\n",
       "      <th>zoom mega</th>\n",
       "      <th>fuji fine</th>\n",
       "      <th>dsc f707</th>\n",
       "      <th>travel</th>\n",
       "      <th>...</th>\n",
       "      <th>bundle</th>\n",
       "      <th>photos hassle</th>\n",
       "      <th>scratches dents</th>\n",
       "      <th>cleaned</th>\n",
       "      <th>condition low</th>\n",
       "      <th>please read</th>\n",
       "      <th>shutter actuations</th>\n",
       "      <th>store returns</th>\n",
       "      <th>dent</th>\n",
       "      <th>operational</th>\n",
       "      <th>know</th>\n",
       "      <th>repair</th>\n",
       "      <th>warranty</th>\n",
       "      <th>ex</th>\n",
       "      <th>little use</th>\n",
       "      <th>For parts or not working</th>\n",
       "      <th>Manufacturer refurbished</th>\n",
       "      <th>New</th>\n",
       "      <th>New other (see details)</th>\n",
       "      <th>Seller refurbished</th>\n",
       "      <th>Used</th>\n",
       "      <th>feedback_percent</th>\n",
       "      <th>top_rated_seller</th>\n",
       "      <th>expedited_shipping</th>\n",
       "      <th>shipping_cost</th>\n",
       "      <th>handling_time</th>\n",
       "      <th>one_day_shipping</th>\n",
       "      <th>returns_accepted</th>\n",
       "      <th>startPrice</th>\n",
       "      <th>sold_state</th>\n",
       "    </tr>\n",
       "  </thead>\n",
       "  <tbody>\n",
       "    <tr>\n",
       "      <th>0</th>\n",
       "      <td>0.0</td>\n",
       "      <td>0.0</td>\n",
       "      <td>0.0</td>\n",
       "      <td>0.0</td>\n",
       "      <td>0.0</td>\n",
       "      <td>0.0</td>\n",
       "      <td>0.0</td>\n",
       "      <td>0.0</td>\n",
       "      <td>0.0</td>\n",
       "      <td>0.0</td>\n",
       "      <td>0.0</td>\n",
       "      <td>0.0</td>\n",
       "      <td>0.0</td>\n",
       "      <td>0.0</td>\n",
       "      <td>0.0</td>\n",
       "      <td>0.0</td>\n",
       "      <td>0.0</td>\n",
       "      <td>0.0</td>\n",
       "      <td>0.0</td>\n",
       "      <td>0.0</td>\n",
       "      <td>0.0</td>\n",
       "      <td>0.0</td>\n",
       "      <td>0.0</td>\n",
       "      <td>0.0</td>\n",
       "      <td>0.0</td>\n",
       "      <td>0.0</td>\n",
       "      <td>0.0</td>\n",
       "      <td>0.0</td>\n",
       "      <td>0.0</td>\n",
       "      <td>0.0</td>\n",
       "      <td>...</td>\n",
       "      <td>0</td>\n",
       "      <td>0</td>\n",
       "      <td>0</td>\n",
       "      <td>0</td>\n",
       "      <td>0</td>\n",
       "      <td>0</td>\n",
       "      <td>0</td>\n",
       "      <td>0</td>\n",
       "      <td>0</td>\n",
       "      <td>0</td>\n",
       "      <td>0</td>\n",
       "      <td>0</td>\n",
       "      <td>0</td>\n",
       "      <td>0</td>\n",
       "      <td>0</td>\n",
       "      <td>0</td>\n",
       "      <td>0</td>\n",
       "      <td>1</td>\n",
       "      <td>0</td>\n",
       "      <td>0</td>\n",
       "      <td>0</td>\n",
       "      <td>91.7</td>\n",
       "      <td>0</td>\n",
       "      <td>1</td>\n",
       "      <td>0.0</td>\n",
       "      <td>2.0</td>\n",
       "      <td>0</td>\n",
       "      <td>1</td>\n",
       "      <td>399.0</td>\n",
       "      <td>0</td>\n",
       "    </tr>\n",
       "    <tr>\n",
       "      <th>1</th>\n",
       "      <td>0.0</td>\n",
       "      <td>0.0</td>\n",
       "      <td>0.0</td>\n",
       "      <td>0.0</td>\n",
       "      <td>0.0</td>\n",
       "      <td>0.0</td>\n",
       "      <td>0.0</td>\n",
       "      <td>0.0</td>\n",
       "      <td>0.0</td>\n",
       "      <td>0.0</td>\n",
       "      <td>0.0</td>\n",
       "      <td>0.0</td>\n",
       "      <td>0.0</td>\n",
       "      <td>0.0</td>\n",
       "      <td>0.0</td>\n",
       "      <td>0.0</td>\n",
       "      <td>0.0</td>\n",
       "      <td>0.0</td>\n",
       "      <td>0.0</td>\n",
       "      <td>0.0</td>\n",
       "      <td>0.0</td>\n",
       "      <td>0.0</td>\n",
       "      <td>0.0</td>\n",
       "      <td>0.0</td>\n",
       "      <td>0.0</td>\n",
       "      <td>0.0</td>\n",
       "      <td>0.0</td>\n",
       "      <td>0.0</td>\n",
       "      <td>0.0</td>\n",
       "      <td>0.0</td>\n",
       "      <td>...</td>\n",
       "      <td>0</td>\n",
       "      <td>0</td>\n",
       "      <td>0</td>\n",
       "      <td>0</td>\n",
       "      <td>0</td>\n",
       "      <td>0</td>\n",
       "      <td>0</td>\n",
       "      <td>0</td>\n",
       "      <td>0</td>\n",
       "      <td>0</td>\n",
       "      <td>0</td>\n",
       "      <td>0</td>\n",
       "      <td>0</td>\n",
       "      <td>0</td>\n",
       "      <td>0</td>\n",
       "      <td>0</td>\n",
       "      <td>0</td>\n",
       "      <td>1</td>\n",
       "      <td>0</td>\n",
       "      <td>0</td>\n",
       "      <td>0</td>\n",
       "      <td>100.0</td>\n",
       "      <td>0</td>\n",
       "      <td>1</td>\n",
       "      <td>0.0</td>\n",
       "      <td>3.0</td>\n",
       "      <td>0</td>\n",
       "      <td>0</td>\n",
       "      <td>300.0</td>\n",
       "      <td>1</td>\n",
       "    </tr>\n",
       "  </tbody>\n",
       "</table>\n",
       "<p>2 rows × 7738 columns</p>\n",
       "</div>"
      ],
      "text/plain": [
       "   z990 12  excellent cond  lumix digital  grip charger  medium format  270  \\\n",
       "0      0.0             0.0            0.0           0.0            0.0  0.0   \n",
       "1      0.0             0.0            0.0           0.0            0.0  0.0   \n",
       "\n",
       "   275  kodak  af nikon  body read  cmos smart  package deal  card case  \\\n",
       "0  0.0    0.0       0.0        0.0         0.0           0.0        0.0   \n",
       "1  0.0    0.0       0.0        0.0         0.0           0.0        0.0   \n",
       "\n",
       "   lens free  batteries strap   e6  slt a33  slt a35  zoom lense  fe fe  \\\n",
       "0        0.0              0.0  0.0      0.0      0.0         0.0    0.0   \n",
       "1        0.0              0.0  0.0      0.0      0.0         0.0    0.0   \n",
       "\n",
       "   elph 170  fujifilm pro1  tz25  body working  12 megapixel  titanium  \\\n",
       "0       0.0            0.0   0.0           0.0           0.0       0.0   \n",
       "1       0.0            0.0   0.0           0.0           0.0       0.0   \n",
       "\n",
       "   zoom mega  fuji fine  dsc f707  travel     ...      bundle  photos hassle  \\\n",
       "0        0.0        0.0       0.0     0.0     ...           0              0   \n",
       "1        0.0        0.0       0.0     0.0     ...           0              0   \n",
       "\n",
       "   scratches dents  cleaned  condition low  please read  shutter actuations  \\\n",
       "0                0        0              0            0                   0   \n",
       "1                0        0              0            0                   0   \n",
       "\n",
       "   store returns  dent  operational  know  repair  warranty  ex  little use  \\\n",
       "0              0     0            0     0       0         0   0           0   \n",
       "1              0     0            0     0       0         0   0           0   \n",
       "\n",
       "   For parts or not working  Manufacturer refurbished  New  \\\n",
       "0                         0                         0    1   \n",
       "1                         0                         0    1   \n",
       "\n",
       "   New other (see details)  Seller refurbished  Used  feedback_percent  \\\n",
       "0                        0                   0     0              91.7   \n",
       "1                        0                   0     0             100.0   \n",
       "\n",
       "   top_rated_seller  expedited_shipping  shipping_cost  handling_time  \\\n",
       "0                 0                   1            0.0            2.0   \n",
       "1                 0                   1            0.0            3.0   \n",
       "\n",
       "   one_day_shipping  returns_accepted  startPrice  sold_state  \n",
       "0                 0                 1       399.0           0  \n",
       "1                 0                 0       300.0           1  \n",
       "\n",
       "[2 rows x 7738 columns]"
      ]
     },
     "execution_count": 63,
     "metadata": {},
     "output_type": "execute_result"
    }
   ],
   "source": [
    "df_classification.head(2)"
   ]
  },
  {
   "cell_type": "markdown",
   "metadata": {},
   "source": [
    "import regression data"
   ]
  },
  {
   "cell_type": "code",
   "execution_count": 86,
   "metadata": {
    "collapsed": true
   },
   "outputs": [],
   "source": [
    "df_regression_all = pd.read_pickle('./pickles/df_regression_tfidf_all.p')"
   ]
  },
  {
   "cell_type": "code",
   "execution_count": 87,
   "metadata": {
    "collapsed": false
   },
   "outputs": [
    {
     "data": {
      "text/html": [
       "<div>\n",
       "<table border=\"1\" class=\"dataframe\">\n",
       "  <thead>\n",
       "    <tr style=\"text-align: right;\">\n",
       "      <th></th>\n",
       "      <th>z990 12</th>\n",
       "      <th>excellent cond</th>\n",
       "      <th>lumix digital</th>\n",
       "      <th>grip charger</th>\n",
       "      <th>medium format</th>\n",
       "      <th>270</th>\n",
       "      <th>275</th>\n",
       "      <th>kodak</th>\n",
       "      <th>af nikon</th>\n",
       "      <th>body read</th>\n",
       "      <th>cmos smart</th>\n",
       "      <th>package deal</th>\n",
       "      <th>card case</th>\n",
       "      <th>lens free</th>\n",
       "      <th>batteries strap</th>\n",
       "      <th>e6</th>\n",
       "      <th>slt a33</th>\n",
       "      <th>slt a35</th>\n",
       "      <th>zoom lense</th>\n",
       "      <th>fe fe</th>\n",
       "      <th>elph 170</th>\n",
       "      <th>fujifilm pro1</th>\n",
       "      <th>tz25</th>\n",
       "      <th>body working</th>\n",
       "      <th>12 megapixel</th>\n",
       "      <th>titanium</th>\n",
       "      <th>zoom mega</th>\n",
       "      <th>fuji fine</th>\n",
       "      <th>dsc f707</th>\n",
       "      <th>travel</th>\n",
       "      <th>...</th>\n",
       "      <th>scratches dents</th>\n",
       "      <th>cleaned</th>\n",
       "      <th>condition low</th>\n",
       "      <th>please read</th>\n",
       "      <th>shutter actuations</th>\n",
       "      <th>store returns</th>\n",
       "      <th>dent</th>\n",
       "      <th>operational</th>\n",
       "      <th>know</th>\n",
       "      <th>repair</th>\n",
       "      <th>warranty</th>\n",
       "      <th>ex</th>\n",
       "      <th>little use</th>\n",
       "      <th>For parts or not working</th>\n",
       "      <th>Manufacturer refurbished</th>\n",
       "      <th>New</th>\n",
       "      <th>New other (see details)</th>\n",
       "      <th>Seller refurbished</th>\n",
       "      <th>Used</th>\n",
       "      <th>feedback_percent</th>\n",
       "      <th>top_rated_seller</th>\n",
       "      <th>expedited_shipping</th>\n",
       "      <th>shipping_cost</th>\n",
       "      <th>handling_time</th>\n",
       "      <th>one_day_shipping</th>\n",
       "      <th>returns_accepted</th>\n",
       "      <th>startPrice</th>\n",
       "      <th>concurrent_similar_median_start_price</th>\n",
       "      <th>sold_state</th>\n",
       "      <th>endPrice</th>\n",
       "    </tr>\n",
       "  </thead>\n",
       "  <tbody>\n",
       "    <tr>\n",
       "      <th>0</th>\n",
       "      <td>0.0</td>\n",
       "      <td>0.0</td>\n",
       "      <td>0.0</td>\n",
       "      <td>0.0</td>\n",
       "      <td>0.0</td>\n",
       "      <td>0.0</td>\n",
       "      <td>0.0</td>\n",
       "      <td>0.0</td>\n",
       "      <td>0.0</td>\n",
       "      <td>0.0</td>\n",
       "      <td>0.0</td>\n",
       "      <td>0.0</td>\n",
       "      <td>0.0</td>\n",
       "      <td>0.0</td>\n",
       "      <td>0.0</td>\n",
       "      <td>0.0</td>\n",
       "      <td>0.0</td>\n",
       "      <td>0.0</td>\n",
       "      <td>0.0</td>\n",
       "      <td>0.0</td>\n",
       "      <td>0.0</td>\n",
       "      <td>0.0</td>\n",
       "      <td>0.0</td>\n",
       "      <td>0.0</td>\n",
       "      <td>0.0</td>\n",
       "      <td>0.0</td>\n",
       "      <td>0.0</td>\n",
       "      <td>0.0</td>\n",
       "      <td>0.0</td>\n",
       "      <td>0.0</td>\n",
       "      <td>...</td>\n",
       "      <td>0</td>\n",
       "      <td>0</td>\n",
       "      <td>0</td>\n",
       "      <td>0</td>\n",
       "      <td>0</td>\n",
       "      <td>0</td>\n",
       "      <td>0</td>\n",
       "      <td>0</td>\n",
       "      <td>0</td>\n",
       "      <td>0</td>\n",
       "      <td>0</td>\n",
       "      <td>0</td>\n",
       "      <td>0</td>\n",
       "      <td>0</td>\n",
       "      <td>0</td>\n",
       "      <td>1</td>\n",
       "      <td>0</td>\n",
       "      <td>0</td>\n",
       "      <td>0</td>\n",
       "      <td>91.7</td>\n",
       "      <td>0</td>\n",
       "      <td>1</td>\n",
       "      <td>0.0</td>\n",
       "      <td>2.0</td>\n",
       "      <td>0</td>\n",
       "      <td>1</td>\n",
       "      <td>399.0</td>\n",
       "      <td>92.5</td>\n",
       "      <td>0</td>\n",
       "      <td>399.0</td>\n",
       "    </tr>\n",
       "    <tr>\n",
       "      <th>1</th>\n",
       "      <td>0.0</td>\n",
       "      <td>0.0</td>\n",
       "      <td>0.0</td>\n",
       "      <td>0.0</td>\n",
       "      <td>0.0</td>\n",
       "      <td>0.0</td>\n",
       "      <td>0.0</td>\n",
       "      <td>0.0</td>\n",
       "      <td>0.0</td>\n",
       "      <td>0.0</td>\n",
       "      <td>0.0</td>\n",
       "      <td>0.0</td>\n",
       "      <td>0.0</td>\n",
       "      <td>0.0</td>\n",
       "      <td>0.0</td>\n",
       "      <td>0.0</td>\n",
       "      <td>0.0</td>\n",
       "      <td>0.0</td>\n",
       "      <td>0.0</td>\n",
       "      <td>0.0</td>\n",
       "      <td>0.0</td>\n",
       "      <td>0.0</td>\n",
       "      <td>0.0</td>\n",
       "      <td>0.0</td>\n",
       "      <td>0.0</td>\n",
       "      <td>0.0</td>\n",
       "      <td>0.0</td>\n",
       "      <td>0.0</td>\n",
       "      <td>0.0</td>\n",
       "      <td>0.0</td>\n",
       "      <td>...</td>\n",
       "      <td>0</td>\n",
       "      <td>0</td>\n",
       "      <td>0</td>\n",
       "      <td>0</td>\n",
       "      <td>0</td>\n",
       "      <td>0</td>\n",
       "      <td>0</td>\n",
       "      <td>0</td>\n",
       "      <td>0</td>\n",
       "      <td>0</td>\n",
       "      <td>0</td>\n",
       "      <td>0</td>\n",
       "      <td>0</td>\n",
       "      <td>0</td>\n",
       "      <td>0</td>\n",
       "      <td>1</td>\n",
       "      <td>0</td>\n",
       "      <td>0</td>\n",
       "      <td>0</td>\n",
       "      <td>100.0</td>\n",
       "      <td>0</td>\n",
       "      <td>1</td>\n",
       "      <td>0.0</td>\n",
       "      <td>3.0</td>\n",
       "      <td>0</td>\n",
       "      <td>0</td>\n",
       "      <td>300.0</td>\n",
       "      <td>92.5</td>\n",
       "      <td>1</td>\n",
       "      <td>369.0</td>\n",
       "    </tr>\n",
       "  </tbody>\n",
       "</table>\n",
       "<p>2 rows × 7740 columns</p>\n",
       "</div>"
      ],
      "text/plain": [
       "   z990 12  excellent cond  lumix digital  grip charger  medium format  270  \\\n",
       "0      0.0             0.0            0.0           0.0            0.0  0.0   \n",
       "1      0.0             0.0            0.0           0.0            0.0  0.0   \n",
       "\n",
       "   275  kodak  af nikon  body read  cmos smart  package deal  card case  \\\n",
       "0  0.0    0.0       0.0        0.0         0.0           0.0        0.0   \n",
       "1  0.0    0.0       0.0        0.0         0.0           0.0        0.0   \n",
       "\n",
       "   lens free  batteries strap   e6  slt a33  slt a35  zoom lense  fe fe  \\\n",
       "0        0.0              0.0  0.0      0.0      0.0         0.0    0.0   \n",
       "1        0.0              0.0  0.0      0.0      0.0         0.0    0.0   \n",
       "\n",
       "   elph 170  fujifilm pro1  tz25  body working  12 megapixel  titanium  \\\n",
       "0       0.0            0.0   0.0           0.0           0.0       0.0   \n",
       "1       0.0            0.0   0.0           0.0           0.0       0.0   \n",
       "\n",
       "   zoom mega  fuji fine  dsc f707  travel    ...     scratches dents  cleaned  \\\n",
       "0        0.0        0.0       0.0     0.0    ...                   0        0   \n",
       "1        0.0        0.0       0.0     0.0    ...                   0        0   \n",
       "\n",
       "   condition low  please read  shutter actuations  store returns  dent  \\\n",
       "0              0            0                   0              0     0   \n",
       "1              0            0                   0              0     0   \n",
       "\n",
       "   operational  know  repair  warranty  ex  little use  \\\n",
       "0            0     0       0         0   0           0   \n",
       "1            0     0       0         0   0           0   \n",
       "\n",
       "   For parts or not working  Manufacturer refurbished  New  \\\n",
       "0                         0                         0    1   \n",
       "1                         0                         0    1   \n",
       "\n",
       "   New other (see details)  Seller refurbished  Used  feedback_percent  \\\n",
       "0                        0                   0     0              91.7   \n",
       "1                        0                   0     0             100.0   \n",
       "\n",
       "   top_rated_seller  expedited_shipping  shipping_cost  handling_time  \\\n",
       "0                 0                   1            0.0            2.0   \n",
       "1                 0                   1            0.0            3.0   \n",
       "\n",
       "   one_day_shipping  returns_accepted  startPrice  \\\n",
       "0                 0                 1       399.0   \n",
       "1                 0                 0       300.0   \n",
       "\n",
       "   concurrent_similar_median_start_price  sold_state  endPrice  \n",
       "0                                   92.5           0     399.0  \n",
       "1                                   92.5           1     369.0  \n",
       "\n",
       "[2 rows x 7740 columns]"
      ]
     },
     "execution_count": 87,
     "metadata": {},
     "output_type": "execute_result"
    }
   ],
   "source": [
    "df_regression_all.head(2)"
   ]
  },
  {
   "cell_type": "code",
   "execution_count": 130,
   "metadata": {
    "collapsed": false
   },
   "outputs": [
    {
     "data": {
      "text/html": [
       "<div>\n",
       "<table border=\"1\" class=\"dataframe\">\n",
       "  <thead>\n",
       "    <tr style=\"text-align: right;\">\n",
       "      <th></th>\n",
       "      <th>z990 12</th>\n",
       "      <th>excellent cond</th>\n",
       "      <th>lumix digital</th>\n",
       "      <th>grip charger</th>\n",
       "      <th>medium format</th>\n",
       "      <th>270</th>\n",
       "      <th>275</th>\n",
       "      <th>kodak</th>\n",
       "      <th>af nikon</th>\n",
       "      <th>body read</th>\n",
       "      <th>cmos smart</th>\n",
       "      <th>package deal</th>\n",
       "      <th>card case</th>\n",
       "      <th>lens free</th>\n",
       "      <th>batteries strap</th>\n",
       "      <th>e6</th>\n",
       "      <th>slt a33</th>\n",
       "      <th>slt a35</th>\n",
       "      <th>zoom lense</th>\n",
       "      <th>fe fe</th>\n",
       "      <th>elph 170</th>\n",
       "      <th>fujifilm pro1</th>\n",
       "      <th>tz25</th>\n",
       "      <th>body working</th>\n",
       "      <th>12 megapixel</th>\n",
       "      <th>titanium</th>\n",
       "      <th>zoom mega</th>\n",
       "      <th>fuji fine</th>\n",
       "      <th>dsc f707</th>\n",
       "      <th>travel</th>\n",
       "      <th>...</th>\n",
       "      <th>scratches dents</th>\n",
       "      <th>cleaned</th>\n",
       "      <th>condition low</th>\n",
       "      <th>please read</th>\n",
       "      <th>shutter actuations</th>\n",
       "      <th>store returns</th>\n",
       "      <th>dent</th>\n",
       "      <th>operational</th>\n",
       "      <th>know</th>\n",
       "      <th>repair</th>\n",
       "      <th>warranty</th>\n",
       "      <th>ex</th>\n",
       "      <th>little use</th>\n",
       "      <th>For parts or not working</th>\n",
       "      <th>Manufacturer refurbished</th>\n",
       "      <th>New</th>\n",
       "      <th>New other (see details)</th>\n",
       "      <th>Seller refurbished</th>\n",
       "      <th>Used</th>\n",
       "      <th>feedback_percent</th>\n",
       "      <th>top_rated_seller</th>\n",
       "      <th>expedited_shipping</th>\n",
       "      <th>shipping_cost</th>\n",
       "      <th>handling_time</th>\n",
       "      <th>one_day_shipping</th>\n",
       "      <th>returns_accepted</th>\n",
       "      <th>startPrice</th>\n",
       "      <th>concurrent_similar_median_start_price</th>\n",
       "      <th>sold_state</th>\n",
       "      <th>endPrice</th>\n",
       "    </tr>\n",
       "  </thead>\n",
       "  <tbody>\n",
       "    <tr>\n",
       "      <th>1</th>\n",
       "      <td>0.0</td>\n",
       "      <td>0.0</td>\n",
       "      <td>0.0</td>\n",
       "      <td>0.0</td>\n",
       "      <td>0.0</td>\n",
       "      <td>0.0</td>\n",
       "      <td>0.0</td>\n",
       "      <td>0.0</td>\n",
       "      <td>0.0</td>\n",
       "      <td>0.0</td>\n",
       "      <td>0.0</td>\n",
       "      <td>0.0</td>\n",
       "      <td>0.0</td>\n",
       "      <td>0.0</td>\n",
       "      <td>0.0</td>\n",
       "      <td>0.0</td>\n",
       "      <td>0.0</td>\n",
       "      <td>0.0</td>\n",
       "      <td>0.0</td>\n",
       "      <td>0.0</td>\n",
       "      <td>0.0</td>\n",
       "      <td>0.0</td>\n",
       "      <td>0.0</td>\n",
       "      <td>0.0</td>\n",
       "      <td>0.0</td>\n",
       "      <td>0.0</td>\n",
       "      <td>0.0</td>\n",
       "      <td>0.0</td>\n",
       "      <td>0.0</td>\n",
       "      <td>0.0</td>\n",
       "      <td>...</td>\n",
       "      <td>0</td>\n",
       "      <td>0</td>\n",
       "      <td>0</td>\n",
       "      <td>0</td>\n",
       "      <td>0</td>\n",
       "      <td>0</td>\n",
       "      <td>0</td>\n",
       "      <td>0</td>\n",
       "      <td>0</td>\n",
       "      <td>0</td>\n",
       "      <td>0</td>\n",
       "      <td>0</td>\n",
       "      <td>0</td>\n",
       "      <td>0</td>\n",
       "      <td>0</td>\n",
       "      <td>1</td>\n",
       "      <td>0</td>\n",
       "      <td>0</td>\n",
       "      <td>0</td>\n",
       "      <td>100.0</td>\n",
       "      <td>0</td>\n",
       "      <td>1</td>\n",
       "      <td>0.00</td>\n",
       "      <td>3.0</td>\n",
       "      <td>0</td>\n",
       "      <td>0</td>\n",
       "      <td>300.00</td>\n",
       "      <td>92.5</td>\n",
       "      <td>1</td>\n",
       "      <td>369.0</td>\n",
       "    </tr>\n",
       "    <tr>\n",
       "      <th>2</th>\n",
       "      <td>0.0</td>\n",
       "      <td>0.0</td>\n",
       "      <td>0.0</td>\n",
       "      <td>0.0</td>\n",
       "      <td>0.0</td>\n",
       "      <td>0.0</td>\n",
       "      <td>0.0</td>\n",
       "      <td>0.0</td>\n",
       "      <td>0.0</td>\n",
       "      <td>0.0</td>\n",
       "      <td>0.0</td>\n",
       "      <td>0.0</td>\n",
       "      <td>0.0</td>\n",
       "      <td>0.0</td>\n",
       "      <td>0.0</td>\n",
       "      <td>0.0</td>\n",
       "      <td>0.0</td>\n",
       "      <td>0.0</td>\n",
       "      <td>0.0</td>\n",
       "      <td>0.0</td>\n",
       "      <td>0.0</td>\n",
       "      <td>0.0</td>\n",
       "      <td>0.0</td>\n",
       "      <td>0.0</td>\n",
       "      <td>0.0</td>\n",
       "      <td>0.0</td>\n",
       "      <td>0.0</td>\n",
       "      <td>0.0</td>\n",
       "      <td>0.0</td>\n",
       "      <td>0.0</td>\n",
       "      <td>...</td>\n",
       "      <td>0</td>\n",
       "      <td>0</td>\n",
       "      <td>0</td>\n",
       "      <td>0</td>\n",
       "      <td>0</td>\n",
       "      <td>0</td>\n",
       "      <td>0</td>\n",
       "      <td>0</td>\n",
       "      <td>0</td>\n",
       "      <td>0</td>\n",
       "      <td>0</td>\n",
       "      <td>0</td>\n",
       "      <td>0</td>\n",
       "      <td>0</td>\n",
       "      <td>0</td>\n",
       "      <td>0</td>\n",
       "      <td>1</td>\n",
       "      <td>0</td>\n",
       "      <td>0</td>\n",
       "      <td>99.8</td>\n",
       "      <td>1</td>\n",
       "      <td>0</td>\n",
       "      <td>17.99</td>\n",
       "      <td>1.0</td>\n",
       "      <td>0</td>\n",
       "      <td>1</td>\n",
       "      <td>349.99</td>\n",
       "      <td>92.5</td>\n",
       "      <td>1</td>\n",
       "      <td>385.0</td>\n",
       "    </tr>\n",
       "  </tbody>\n",
       "</table>\n",
       "<p>2 rows × 7740 columns</p>\n",
       "</div>"
      ],
      "text/plain": [
       "   z990 12  excellent cond  lumix digital  grip charger  medium format  270  \\\n",
       "1      0.0             0.0            0.0           0.0            0.0  0.0   \n",
       "2      0.0             0.0            0.0           0.0            0.0  0.0   \n",
       "\n",
       "   275  kodak  af nikon  body read  cmos smart  package deal  card case  \\\n",
       "1  0.0    0.0       0.0        0.0         0.0           0.0        0.0   \n",
       "2  0.0    0.0       0.0        0.0         0.0           0.0        0.0   \n",
       "\n",
       "   lens free  batteries strap   e6  slt a33  slt a35  zoom lense  fe fe  \\\n",
       "1        0.0              0.0  0.0      0.0      0.0         0.0    0.0   \n",
       "2        0.0              0.0  0.0      0.0      0.0         0.0    0.0   \n",
       "\n",
       "   elph 170  fujifilm pro1  tz25  body working  12 megapixel  titanium  \\\n",
       "1       0.0            0.0   0.0           0.0           0.0       0.0   \n",
       "2       0.0            0.0   0.0           0.0           0.0       0.0   \n",
       "\n",
       "   zoom mega  fuji fine  dsc f707  travel    ...     scratches dents  cleaned  \\\n",
       "1        0.0        0.0       0.0     0.0    ...                   0        0   \n",
       "2        0.0        0.0       0.0     0.0    ...                   0        0   \n",
       "\n",
       "   condition low  please read  shutter actuations  store returns  dent  \\\n",
       "1              0            0                   0              0     0   \n",
       "2              0            0                   0              0     0   \n",
       "\n",
       "   operational  know  repair  warranty  ex  little use  \\\n",
       "1            0     0       0         0   0           0   \n",
       "2            0     0       0         0   0           0   \n",
       "\n",
       "   For parts or not working  Manufacturer refurbished  New  \\\n",
       "1                         0                         0    1   \n",
       "2                         0                         0    0   \n",
       "\n",
       "   New other (see details)  Seller refurbished  Used  feedback_percent  \\\n",
       "1                        0                   0     0             100.0   \n",
       "2                        1                   0     0              99.8   \n",
       "\n",
       "   top_rated_seller  expedited_shipping  shipping_cost  handling_time  \\\n",
       "1                 0                   1           0.00            3.0   \n",
       "2                 1                   0          17.99            1.0   \n",
       "\n",
       "   one_day_shipping  returns_accepted  startPrice  \\\n",
       "1                 0                 0      300.00   \n",
       "2                 0                 1      349.99   \n",
       "\n",
       "   concurrent_similar_median_start_price  sold_state  endPrice  \n",
       "1                                   92.5           1     369.0  \n",
       "2                                   92.5           1     385.0  \n",
       "\n",
       "[2 rows x 7740 columns]"
      ]
     },
     "execution_count": 130,
     "metadata": {},
     "output_type": "execute_result"
    }
   ],
   "source": [
    "df_regression = pd.read_pickle('./pickles/df_regression_tfidf.p')\n",
    "df_regression.head(2)"
   ]
  },
  {
   "cell_type": "markdown",
   "metadata": {
    "deletable": true,
    "editable": true
   },
   "source": [
    "## Train Test Split"
   ]
  },
  {
   "cell_type": "code",
   "execution_count": 140,
   "metadata": {
    "collapsed": false
   },
   "outputs": [
    {
     "ename": "NameError",
     "evalue": "name 'df_classification' is not defined",
     "output_type": "error",
     "traceback": [
      "\u001b[0;31m---------------------------------------------------------------------------\u001b[0m",
      "\u001b[0;31mNameError\u001b[0m                                 Traceback (most recent call last)",
      "\u001b[0;32m<ipython-input-140-99007e5400b1>\u001b[0m in \u001b[0;36m<module>\u001b[0;34m()\u001b[0m\n\u001b[0;32m----> 1\u001b[0;31m \u001b[0mX_class\u001b[0m \u001b[0;34m=\u001b[0m \u001b[0mdf_classification\u001b[0m\u001b[0;34m.\u001b[0m\u001b[0mix\u001b[0m\u001b[0;34m[\u001b[0m\u001b[0;34m:\u001b[0m\u001b[0;34m,\u001b[0m \u001b[0;34m:\u001b[0m\u001b[0;34m-\u001b[0m\u001b[0;36m1\u001b[0m\u001b[0;34m]\u001b[0m\u001b[0;34m.\u001b[0m\u001b[0mvalues\u001b[0m\u001b[0;34m\u001b[0m\u001b[0m\n\u001b[0m\u001b[1;32m      2\u001b[0m \u001b[0my_class\u001b[0m \u001b[0;34m=\u001b[0m \u001b[0mdf_classification\u001b[0m\u001b[0;34m.\u001b[0m\u001b[0mix\u001b[0m\u001b[0;34m[\u001b[0m\u001b[0;34m:\u001b[0m\u001b[0;34m,\u001b[0m \u001b[0;34m-\u001b[0m\u001b[0;36m1\u001b[0m\u001b[0;34m]\u001b[0m\u001b[0;34m.\u001b[0m\u001b[0mvalues\u001b[0m\u001b[0;34m\u001b[0m\u001b[0m\n",
      "\u001b[0;31mNameError\u001b[0m: name 'df_classification' is not defined"
     ]
    }
   ],
   "source": [
    "X_class = df_classification.ix[:, :-1].values\n",
    "y_class = df_classification.ix[:, -1].values\n",
    "X_train_class, X_test_class, y_train_class, y_test_class = train_test_split(X_class, y_class, random_state=42, test_size=0.2)"
   ]
  },
  {
   "cell_type": "code",
   "execution_count": 147,
   "metadata": {
    "collapsed": false
   },
   "outputs": [],
   "source": [
    "X_reg = df_regression.ix[:, :-2].values # skip sold_state\n",
    "y_reg = df_regression.ix[:, -1].values\n",
    "X_train_reg, X_test_reg, y_train_reg, y_test_reg = train_test_split(X_reg, y_reg, random_state=42, test_size=0.2) "
   ]
  },
  {
   "cell_type": "code",
   "execution_count": 71,
   "metadata": {
    "collapsed": true,
    "deletable": true,
    "editable": true
   },
   "outputs": [],
   "source": [
    "del df_classification\n",
    "del df_regression"
   ]
  },
  {
   "cell_type": "markdown",
   "metadata": {
    "deletable": true,
    "editable": true
   },
   "source": [
    "## Learning Curve "
   ]
  },
  {
   "cell_type": "code",
   "execution_count": 9,
   "metadata": {
    "collapsed": true,
    "deletable": true,
    "editable": true
   },
   "outputs": [],
   "source": [
    "from sklearn.model_selection import learning_curve"
   ]
  },
  {
   "cell_type": "code",
   "execution_count": null,
   "metadata": {
    "collapsed": false,
    "deletable": true,
    "editable": true
   },
   "outputs": [],
   "source": [
    "cv = ShuffleSplit(n_splits=5, test_size=0.2, random_state=42)\n",
    "\n",
    "estimator = RandomForestClassifier(n_estimators=50)\n",
    "\n",
    "title = \"Learning Curves (Random Forest Classifier)\"\n",
    "\n",
    "train_sizes, train_scores, test_scores = learning_curve(estimator=estimator, X=X_class, y=y_class, scoring='accuracy')\n",
    "\n",
    "train_scores_mean = np.mean(train_scores, axis=1)\n",
    "train_scores_std = np.std(train_scores, axis=1)\n",
    "test_scores_mean = np.mean(test_scores, axis=1)\n",
    "test_scores_std = np.std(test_scores, axis=1)\n",
    "\n",
    "plt.grid()\n",
    "\n",
    "plt.fill_between(train_sizes, train_scores_mean - train_scores_std,\n",
    "                 train_scores_mean + train_scores_std, alpha=0.1,\n",
    "                 color=\"r\")\n",
    "plt.fill_between(train_sizes, test_scores_mean - test_scores_std,\n",
    "                 test_scores_mean + test_scores_std, alpha=0.1, color=\"g\")\n",
    "plt.plot(train_sizes, train_scores_mean, 'o-', color=\"r\",\n",
    "         label=\"Training score\")\n",
    "plt.plot(train_sizes, test_scores_mean, 'o-', color=\"g\",\n",
    "         label=\"Cross-validation score\")\n",
    "\n",
    "plt.legend(loc=\"best\")"
   ]
  },
  {
   "cell_type": "markdown",
   "metadata": {
    "deletable": true,
    "editable": true
   },
   "source": [
    "## Profitability Metric"
   ]
  },
  {
   "cell_type": "markdown",
   "metadata": {
    "deletable": true,
    "editable": true
   },
   "source": [
    "### Random Forest"
   ]
  },
  {
   "cell_type": "code",
   "execution_count": 169,
   "metadata": {
    "collapsed": false
   },
   "outputs": [
    {
     "data": {
      "text/plain": [
       "RandomForestClassifier(bootstrap=True, class_weight=None, criterion='gini',\n",
       "            max_depth=None, max_features='auto', max_leaf_nodes=None,\n",
       "            min_impurity_split=1e-07, min_samples_leaf=1,\n",
       "            min_samples_split=2, min_weight_fraction_leaf=0.0,\n",
       "            n_estimators=100, n_jobs=-1, oob_score=False,\n",
       "            random_state=None, verbose=0, warm_start=False)"
      ]
     },
     "execution_count": 169,
     "metadata": {},
     "output_type": "execute_result"
    }
   ],
   "source": [
    "rfc = RandomForestClassifier(n_estimators=100, n_jobs=-1)\n",
    "\n",
    "rfc.fit(X_train_class, y_train_class)"
   ]
  },
  {
   "cell_type": "code",
   "execution_count": 118,
   "metadata": {
    "collapsed": false
   },
   "outputs": [
    {
     "name": "stdout",
     "output_type": "stream",
     "text": [
      "Baseline Accuracy: 0.857667278492\n",
      "Model accuracy: 0.902719839813\n"
     ]
    },
    {
     "name": "stderr",
     "output_type": "stream",
     "text": [
      "[Parallel(n_jobs=4)]: Done  10 out of  10 | elapsed:    0.0s finished\n"
     ]
    }
   ],
   "source": [
    "print 'Baseline Accuracy:',accuracy_score(y_test_class, np.ones(y_test_class.shape[0]))\n",
    "print 'Model accuracy:',accuracy_score(y_test_class, rfc.predict(X_test_class))"
   ]
  },
  {
   "cell_type": "code",
   "execution_count": null,
   "metadata": {
    "collapsed": false
   },
   "outputs": [],
   "source": [
    "# rfr = RandomForestRegressor(n_estimators=10, n_jobs=-1)\n",
    "\n",
    "# rfr.fit(X_train_reg, y_train_reg)"
   ]
  },
  {
   "cell_type": "code",
   "execution_count": 148,
   "metadata": {
    "collapsed": false
   },
   "outputs": [
    {
     "data": {
      "text/plain": [
       "KNeighborsRegressor(algorithm='auto', leaf_size=30, metric='minkowski',\n",
       "          metric_params=None, n_jobs=1, n_neighbors=5, p=2,\n",
       "          weights='distance')"
      ]
     },
     "execution_count": 148,
     "metadata": {},
     "output_type": "execute_result"
    }
   ],
   "source": [
    "knn = KNeighborsRegressor(n_neighbors=5, weights='distance')\n",
    "\n",
    "knn.fit(X_train_reg, y_train_reg)"
   ]
  },
  {
   "cell_type": "code",
   "execution_count": null,
   "metadata": {
    "collapsed": true
   },
   "outputs": [],
   "source": [
    "plt.hist(y_train_reg, bins=50)"
   ]
  },
  {
   "cell_type": "code",
   "execution_count": null,
   "metadata": {
    "collapsed": true
   },
   "outputs": [],
   "source": [
    "# rfr.predict(X_test_reg)\n",
    "print 'Baseline  Absolute Error:'\n",
    "print 'Baseline  Absolute Error:'"
   ]
  },
  {
   "cell_type": "markdown",
   "metadata": {},
   "source": [
    "**Grab a subsample of 2000 rows**"
   ]
  },
  {
   "cell_type": "code",
   "execution_count": 131,
   "metadata": {
    "collapsed": true
   },
   "outputs": [],
   "source": [
    "df_test = df_regression.sample(n=2000) # sub sample with all sold_state"
   ]
  },
  {
   "cell_type": "code",
   "execution_count": 149,
   "metadata": {
    "collapsed": false
   },
   "outputs": [
    {
     "data": {
      "text/plain": [
       "(20482, 7738)"
      ]
     },
     "execution_count": 149,
     "metadata": {},
     "output_type": "execute_result"
    }
   ],
   "source": [
    "X_train_reg.shape"
   ]
  },
  {
   "cell_type": "code",
   "execution_count": 150,
   "metadata": {
    "collapsed": false
   },
   "outputs": [
    {
     "data": {
      "text/plain": [
       "(7738,)"
      ]
     },
     "execution_count": 150,
     "metadata": {},
     "output_type": "execute_result"
    }
   ],
   "source": [
    "df_test.iloc[0,:-2].shape"
   ]
  },
  {
   "cell_type": "code",
   "execution_count": 163,
   "metadata": {
    "collapsed": false
   },
   "outputs": [
    {
     "data": {
      "text/html": [
       "<div>\n",
       "<table border=\"1\" class=\"dataframe\">\n",
       "  <thead>\n",
       "    <tr style=\"text-align: right;\">\n",
       "      <th></th>\n",
       "      <th>z990 12</th>\n",
       "      <th>excellent cond</th>\n",
       "      <th>lumix digital</th>\n",
       "      <th>grip charger</th>\n",
       "      <th>medium format</th>\n",
       "      <th>270</th>\n",
       "      <th>275</th>\n",
       "      <th>kodak</th>\n",
       "      <th>af nikon</th>\n",
       "      <th>body read</th>\n",
       "      <th>cmos smart</th>\n",
       "      <th>package deal</th>\n",
       "      <th>card case</th>\n",
       "      <th>lens free</th>\n",
       "      <th>batteries strap</th>\n",
       "      <th>e6</th>\n",
       "      <th>slt a33</th>\n",
       "      <th>slt a35</th>\n",
       "      <th>zoom lense</th>\n",
       "      <th>fe fe</th>\n",
       "      <th>elph 170</th>\n",
       "      <th>fujifilm pro1</th>\n",
       "      <th>tz25</th>\n",
       "      <th>body working</th>\n",
       "      <th>12 megapixel</th>\n",
       "      <th>titanium</th>\n",
       "      <th>zoom mega</th>\n",
       "      <th>fuji fine</th>\n",
       "      <th>dsc f707</th>\n",
       "      <th>travel</th>\n",
       "      <th>...</th>\n",
       "      <th>scratches dents</th>\n",
       "      <th>cleaned</th>\n",
       "      <th>condition low</th>\n",
       "      <th>please read</th>\n",
       "      <th>shutter actuations</th>\n",
       "      <th>store returns</th>\n",
       "      <th>dent</th>\n",
       "      <th>operational</th>\n",
       "      <th>know</th>\n",
       "      <th>repair</th>\n",
       "      <th>warranty</th>\n",
       "      <th>ex</th>\n",
       "      <th>little use</th>\n",
       "      <th>For parts or not working</th>\n",
       "      <th>Manufacturer refurbished</th>\n",
       "      <th>New</th>\n",
       "      <th>New other (see details)</th>\n",
       "      <th>Seller refurbished</th>\n",
       "      <th>Used</th>\n",
       "      <th>feedback_percent</th>\n",
       "      <th>top_rated_seller</th>\n",
       "      <th>expedited_shipping</th>\n",
       "      <th>shipping_cost</th>\n",
       "      <th>handling_time</th>\n",
       "      <th>one_day_shipping</th>\n",
       "      <th>returns_accepted</th>\n",
       "      <th>startPrice</th>\n",
       "      <th>concurrent_similar_median_start_price</th>\n",
       "      <th>sold_state</th>\n",
       "      <th>endPrice</th>\n",
       "    </tr>\n",
       "  </thead>\n",
       "  <tbody>\n",
       "    <tr>\n",
       "      <th>8837</th>\n",
       "      <td>0.0</td>\n",
       "      <td>0.0</td>\n",
       "      <td>0.0</td>\n",
       "      <td>0.0</td>\n",
       "      <td>0.0</td>\n",
       "      <td>0.0</td>\n",
       "      <td>0.0</td>\n",
       "      <td>0.0</td>\n",
       "      <td>0.0</td>\n",
       "      <td>0.0</td>\n",
       "      <td>0.0</td>\n",
       "      <td>0.0</td>\n",
       "      <td>0.0</td>\n",
       "      <td>0.0</td>\n",
       "      <td>0.0</td>\n",
       "      <td>0.0</td>\n",
       "      <td>0.0</td>\n",
       "      <td>0.0</td>\n",
       "      <td>0.0</td>\n",
       "      <td>0.0</td>\n",
       "      <td>0.0</td>\n",
       "      <td>0.0</td>\n",
       "      <td>0.0</td>\n",
       "      <td>0.0</td>\n",
       "      <td>0.0</td>\n",
       "      <td>0.0</td>\n",
       "      <td>0.0</td>\n",
       "      <td>0.0</td>\n",
       "      <td>0.0</td>\n",
       "      <td>0.0</td>\n",
       "      <td>...</td>\n",
       "      <td>0</td>\n",
       "      <td>0</td>\n",
       "      <td>0</td>\n",
       "      <td>0</td>\n",
       "      <td>0</td>\n",
       "      <td>0</td>\n",
       "      <td>0</td>\n",
       "      <td>0</td>\n",
       "      <td>0</td>\n",
       "      <td>0</td>\n",
       "      <td>0</td>\n",
       "      <td>0</td>\n",
       "      <td>0</td>\n",
       "      <td>0</td>\n",
       "      <td>0</td>\n",
       "      <td>0</td>\n",
       "      <td>0</td>\n",
       "      <td>0</td>\n",
       "      <td>1</td>\n",
       "      <td>100.0</td>\n",
       "      <td>0</td>\n",
       "      <td>1</td>\n",
       "      <td>10.0</td>\n",
       "      <td>2.0</td>\n",
       "      <td>0</td>\n",
       "      <td>0</td>\n",
       "      <td>240.0</td>\n",
       "      <td>92.5</td>\n",
       "      <td>1</td>\n",
       "      <td>290.0</td>\n",
       "    </tr>\n",
       "    <tr>\n",
       "      <th>779</th>\n",
       "      <td>0.0</td>\n",
       "      <td>0.0</td>\n",
       "      <td>0.0</td>\n",
       "      <td>0.0</td>\n",
       "      <td>0.0</td>\n",
       "      <td>0.0</td>\n",
       "      <td>0.0</td>\n",
       "      <td>0.0</td>\n",
       "      <td>0.0</td>\n",
       "      <td>0.0</td>\n",
       "      <td>0.0</td>\n",
       "      <td>0.0</td>\n",
       "      <td>0.0</td>\n",
       "      <td>0.0</td>\n",
       "      <td>0.0</td>\n",
       "      <td>0.0</td>\n",
       "      <td>0.0</td>\n",
       "      <td>0.0</td>\n",
       "      <td>0.0</td>\n",
       "      <td>0.0</td>\n",
       "      <td>0.0</td>\n",
       "      <td>0.0</td>\n",
       "      <td>0.0</td>\n",
       "      <td>0.0</td>\n",
       "      <td>0.0</td>\n",
       "      <td>0.0</td>\n",
       "      <td>0.0</td>\n",
       "      <td>0.0</td>\n",
       "      <td>0.0</td>\n",
       "      <td>0.0</td>\n",
       "      <td>...</td>\n",
       "      <td>0</td>\n",
       "      <td>0</td>\n",
       "      <td>0</td>\n",
       "      <td>0</td>\n",
       "      <td>0</td>\n",
       "      <td>0</td>\n",
       "      <td>0</td>\n",
       "      <td>0</td>\n",
       "      <td>0</td>\n",
       "      <td>0</td>\n",
       "      <td>0</td>\n",
       "      <td>0</td>\n",
       "      <td>0</td>\n",
       "      <td>0</td>\n",
       "      <td>0</td>\n",
       "      <td>0</td>\n",
       "      <td>0</td>\n",
       "      <td>0</td>\n",
       "      <td>1</td>\n",
       "      <td>100.0</td>\n",
       "      <td>0</td>\n",
       "      <td>1</td>\n",
       "      <td>0.0</td>\n",
       "      <td>3.0</td>\n",
       "      <td>0</td>\n",
       "      <td>0</td>\n",
       "      <td>70.0</td>\n",
       "      <td>92.5</td>\n",
       "      <td>1</td>\n",
       "      <td>122.5</td>\n",
       "    </tr>\n",
       "  </tbody>\n",
       "</table>\n",
       "<p>2 rows × 7740 columns</p>\n",
       "</div>"
      ],
      "text/plain": [
       "      z990 12  excellent cond  lumix digital  grip charger  medium format  \\\n",
       "8837      0.0             0.0            0.0           0.0            0.0   \n",
       "779       0.0             0.0            0.0           0.0            0.0   \n",
       "\n",
       "      270  275  kodak  af nikon  body read  cmos smart  package deal  \\\n",
       "8837  0.0  0.0    0.0       0.0        0.0         0.0           0.0   \n",
       "779   0.0  0.0    0.0       0.0        0.0         0.0           0.0   \n",
       "\n",
       "      card case  lens free  batteries strap   e6  slt a33  slt a35  \\\n",
       "8837        0.0        0.0              0.0  0.0      0.0      0.0   \n",
       "779         0.0        0.0              0.0  0.0      0.0      0.0   \n",
       "\n",
       "      zoom lense  fe fe  elph 170  fujifilm pro1  tz25  body working  \\\n",
       "8837         0.0    0.0       0.0            0.0   0.0           0.0   \n",
       "779          0.0    0.0       0.0            0.0   0.0           0.0   \n",
       "\n",
       "      12 megapixel  titanium  zoom mega  fuji fine  dsc f707  travel  \\\n",
       "8837           0.0       0.0        0.0        0.0       0.0     0.0   \n",
       "779            0.0       0.0        0.0        0.0       0.0     0.0   \n",
       "\n",
       "        ...     scratches dents  cleaned  condition low  please read  \\\n",
       "8837    ...                   0        0              0            0   \n",
       "779     ...                   0        0              0            0   \n",
       "\n",
       "      shutter actuations  store returns  dent  operational  know  repair  \\\n",
       "8837                   0              0     0            0     0       0   \n",
       "779                    0              0     0            0     0       0   \n",
       "\n",
       "      warranty  ex  little use  For parts or not working  \\\n",
       "8837         0   0           0                         0   \n",
       "779          0   0           0                         0   \n",
       "\n",
       "      Manufacturer refurbished  New  New other (see details)  \\\n",
       "8837                         0    0                        0   \n",
       "779                          0    0                        0   \n",
       "\n",
       "      Seller refurbished  Used  feedback_percent  top_rated_seller  \\\n",
       "8837                   0     1             100.0                 0   \n",
       "779                    0     1             100.0                 0   \n",
       "\n",
       "      expedited_shipping  shipping_cost  handling_time  one_day_shipping  \\\n",
       "8837                   1           10.0            2.0                 0   \n",
       "779                    1            0.0            3.0                 0   \n",
       "\n",
       "      returns_accepted  startPrice  concurrent_similar_median_start_price  \\\n",
       "8837                 0       240.0                                   92.5   \n",
       "779                  0        70.0                                   92.5   \n",
       "\n",
       "      sold_state  endPrice  \n",
       "8837           1     290.0  \n",
       "779            1     122.5  \n",
       "\n",
       "[2 rows x 7740 columns]"
      ]
     },
     "execution_count": 163,
     "metadata": {},
     "output_type": "execute_result"
    }
   ],
   "source": [
    "df_test.head(2)"
   ]
  },
  {
   "cell_type": "markdown",
   "metadata": {},
   "source": [
    "**Calculate profitability metric **"
   ]
  },
  {
   "cell_type": "code",
   "execution_count": 165,
   "metadata": {
    "collapsed": false
   },
   "outputs": [
    {
     "name": "stderr",
     "output_type": "stream",
     "text": [
      "[Parallel(n_jobs=4)]: Done  10 out of  10 | elapsed:    0.0s finished\n",
      "[Parallel(n_jobs=4)]: Done  10 out of  10 | elapsed:    0.0s finished\n",
      "[Parallel(n_jobs=4)]: Done  10 out of  10 | elapsed:    0.0s finished\n",
      "[Parallel(n_jobs=4)]: Done  10 out of  10 | elapsed:    0.0s finished\n",
      "[Parallel(n_jobs=4)]: Done  10 out of  10 | elapsed:    0.0s finished\n",
      "[Parallel(n_jobs=4)]: Done  10 out of  10 | elapsed:    0.0s finished\n",
      "[Parallel(n_jobs=4)]: Done  10 out of  10 | elapsed:    0.0s finished\n",
      "[Parallel(n_jobs=4)]: Done  10 out of  10 | elapsed:    0.0s finished\n",
      "[Parallel(n_jobs=4)]: Done  10 out of  10 | elapsed:    0.0s finished\n",
      "[Parallel(n_jobs=4)]: Done  10 out of  10 | elapsed:    0.0s finished\n",
      "[Parallel(n_jobs=4)]: Done  10 out of  10 | elapsed:    0.0s finished\n",
      "[Parallel(n_jobs=4)]: Done  10 out of  10 | elapsed:    0.0s finished\n",
      "[Parallel(n_jobs=4)]: Done  10 out of  10 | elapsed:    0.0s finished\n",
      "[Parallel(n_jobs=4)]: Done  10 out of  10 | elapsed:    0.0s finished\n",
      "[Parallel(n_jobs=4)]: Done  10 out of  10 | elapsed:    0.0s finished\n",
      "[Parallel(n_jobs=4)]: Done  10 out of  10 | elapsed:    0.0s finished\n",
      "[Parallel(n_jobs=4)]: Done  10 out of  10 | elapsed:    0.0s finished\n",
      "[Parallel(n_jobs=4)]: Done  10 out of  10 | elapsed:    0.0s finished\n",
      "[Parallel(n_jobs=4)]: Done  10 out of  10 | elapsed:    0.0s finished\n",
      "[Parallel(n_jobs=4)]: Done  10 out of  10 | elapsed:    0.0s finished\n",
      "[Parallel(n_jobs=4)]: Done  10 out of  10 | elapsed:    0.0s finished\n",
      "[Parallel(n_jobs=4)]: Done  10 out of  10 | elapsed:    0.0s finished\n",
      "[Parallel(n_jobs=4)]: Done  10 out of  10 | elapsed:    0.0s finished\n",
      "[Parallel(n_jobs=4)]: Done  10 out of  10 | elapsed:    0.0s finished\n",
      "[Parallel(n_jobs=4)]: Done  10 out of  10 | elapsed:    0.0s finished\n",
      "[Parallel(n_jobs=4)]: Done  10 out of  10 | elapsed:    0.0s finished\n",
      "[Parallel(n_jobs=4)]: Done  10 out of  10 | elapsed:    0.0s finished\n",
      "[Parallel(n_jobs=4)]: Done  10 out of  10 | elapsed:    0.0s finished\n",
      "[Parallel(n_jobs=4)]: Done  10 out of  10 | elapsed:    0.0s finished\n",
      "[Parallel(n_jobs=4)]: Done  10 out of  10 | elapsed:    0.0s finished\n"
     ]
    }
   ],
   "source": [
    "prices = []\n",
    "sold_probabilities = []\n",
    "predicted_end_prices = []\n",
    "# for i in range(df_test.shape[0]): # actual \n",
    "for i in range(3): # test\n",
    "    \n",
    "    # Grab vector\n",
    "    item_vec = df_test.iloc[i]\n",
    "    testStartPrice = item_vec.loc['startPrice']\n",
    "    testEndPrice = item_vec.loc['endPrice']\n",
    "    testSoldState = item_vec.loc['sold_state']\n",
    "    \n",
    "    # Set up parameters\n",
    "    minStartPrice = 0\n",
    "    maxStartPrice = testStartPrice * 2\n",
    "    priceStepSize = testStartPrice / 5 \n",
    "    \n",
    "    max_expected_price = (0,0,0,0,0)\n",
    "    # Loop through all start prices \n",
    "    for price_index,price in enumerate(np.arange(minStartPrice, maxStartPrice, priceStepSize)):\n",
    "        # Grab test start price \n",
    "        item_vec.loc['startPrice'] = price\n",
    "        \n",
    "        # Classification        \n",
    "        test_vec = item_vec.iloc[:-3].values.reshape(1,-1) # :-3 don't include CSM_start_price, sold_state, end_price\n",
    "        sold_proba = rfc.predict_proba(test_vec)[0][1]\n",
    "        sold_probabilities.append( (price, sold_proba) )\n",
    "        \n",
    "        # Regression\n",
    "        test_vec = item_vec.iloc[:-2].values.reshape(1,-1) # don't include sold_state, end_price\n",
    "        predicted_end_price = knn.predict(test_vec)[0]\n",
    "        predicted_end_prices.append( (price, predicted_end_price) )\n",
    "        \n",
    "        # Find Optimal End Price\n",
    "        if sold_proba > 0.5:\n",
    "            expected_price = sold_probabilities[price_index][1] * predicted_end_prices[price_index][1] # Sold Probability * Predicted End Price\n",
    "            if expected_price > max_expected_price[len(max_expected_price)-3]:\n",
    "                max_expected_price = (price_index,\\\n",
    "                                      price,\\\n",
    "                                      sold_probabilities[price_index][1],\\\n",
    "                                      predicted_end_prices[price_index][1],\\\n",
    "                                      expected_price,\\\n",
    "                                      testSoldState,\\\n",
    "                                      testEndPrice)\n",
    "    \n",
    "    # If after looping through all potential start prices, there is no sold_proa > 0.5, then \n",
    "    if max_expected_price == (0,0,0,0,0):\n",
    "        max_expected_price = (0, 0, 0, 0, 0, testSoldState, testEndPrice)\n",
    "    \n",
    "    prices.append(max_expected_price)"
   ]
  },
  {
   "cell_type": "code",
   "execution_count": null,
   "metadata": {
    "collapsed": true
   },
   "outputs": [],
   "source": [
    "# print 'Optimal Predicted End Price:${}, \\\n",
    "#         Optimal Start Price:${}, \\\n",
    "#         Chance of Selling:{}, \\\n",
    "#         Expected Profit:${}'.format(max_expected_price[3],\\\n",
    "#                                     max_expected_price[1],\\\n",
    "#                                     max_expected_price[2],\\\n",
    "#                                     max_expected_price[4])"
   ]
  },
  {
   "cell_type": "markdown",
   "metadata": {},
   "source": [
    "Use prices list of tuples to create average_profit_lift "
   ]
  },
  {
   "cell_type": "code",
   "execution_count": 166,
   "metadata": {
    "collapsed": false
   },
   "outputs": [
    {
     "data": {
      "text/plain": [
       "[(9,\n",
       "  432.0,\n",
       "  0.69999999999999996,\n",
       "  507.55711599617786,\n",
       "  355.28998119732449,\n",
       "  1.0,\n",
       "  290.0),\n",
       " (9,\n",
       "  126.0,\n",
       "  0.69999999999999996,\n",
       "  507.55711599617786,\n",
       "  355.28998119732449,\n",
       "  1.0,\n",
       "  122.5),\n",
       " (9,\n",
       "  38.699999999999996,\n",
       "  0.69999999999999996,\n",
       "  507.55711599617786,\n",
       "  355.28998119732449,\n",
       "  1.0,\n",
       "  21.5)]"
      ]
     },
     "execution_count": 166,
     "metadata": {},
     "output_type": "execute_result"
    }
   ],
   "source": [
    "prices"
   ]
  },
  {
   "cell_type": "markdown",
   "metadata": {},
   "source": [
    "## Grid Search"
   ]
  },
  {
   "cell_type": "code",
   "execution_count": 14,
   "metadata": {
    "collapsed": true,
    "deletable": true,
    "editable": true
   },
   "outputs": [
    {
     "name": "stdout",
     "output_type": "stream",
     "text": [
      "Fitting 3 folds for each of 27 candidates, totalling 81 fits\n",
      "Memmaping (shape=(29749, 7737), dtype=float64) to new file /var/folders/90/m6j358k94lxbhz0y6yl5rd640000gp/T/joblib_memmaping_pool_11173_4564184464/11173-4564163024-0783137f3d0ee86f4888b0659d6d8145.pkl\n",
      "[CV] max_features=auto, min_samples_split=2, n_estimators=100, min_samples_leaf=1 \n",
      "Pickling array (shape=(29749,), dtype=int64).\n",
      "Pickling array (shape=(19832,), dtype=int64).\n",
      "Pickling array (shape=(9917,), dtype=int64).\n",
      "[CV] max_features=auto, min_samples_split=2, n_estimators=100, min_samples_leaf=1 \n",
      "Memmaping (shape=(29749, 7737), dtype=float64) to old file /var/folders/90/m6j358k94lxbhz0y6yl5rd640000gp/T/joblib_memmaping_pool_11173_4564184464/11173-4564163024-0783137f3d0ee86f4888b0659d6d8145.pkl\n",
      "Pickling array (shape=(29749,), dtype=int64).\n",
      "Pickling array (shape=(19833,), dtype=int64).\n",
      "Pickling array (shape=(9916,), dtype=int64).\n",
      "[CV] max_features=auto, min_samples_split=2, n_estimators=100, min_samples_leaf=1 \n",
      "Memmaping (shape=(29749, 7737), dtype=float64) to old file /var/folders/90/m6j358k94lxbhz0y6yl5rd640000gp/T/joblib_memmaping_pool_11173_4564184464/11173-4564163024-0783137f3d0ee86f4888b0659d6d8145.pkl\n",
      "Pickling array (shape=(29749,), dtype=int64).\n",
      "Pickling array (shape=(19833,), dtype=int64).\n",
      "Pickling array (shape=(9916,), dtype=int64).\n",
      "[CV] max_features=auto, min_samples_split=5, n_estimators=100, min_samples_leaf=1 \n",
      "Memmaping (shape=(29749, 7737), dtype=float64) to old file /var/folders/90/m6j358k94lxbhz0y6yl5rd640000gp/T/joblib_memmaping_pool_11173_4564184464/11173-4564163024-0783137f3d0ee86f4888b0659d6d8145.pkl\n",
      "Pickling array (shape=(29749,), dtype=int64).\n",
      "Pickling array (shape=(19832,), dtype=int64).\n",
      "Pickling array (shape=(9917,), dtype=int64).\n",
      "Memmaping (shape=(29749, 7737), dtype=float64) to old file /var/folders/90/m6j358k94lxbhz0y6yl5rd640000gp/T/joblib_memmaping_pool_11173_4564184464/11173-4564163024-0783137f3d0ee86f4888b0659d6d8145.pkl\n",
      "Pickling array (shape=(29749,), dtype=int64).\n",
      "Pickling array (shape=(19833,), dtype=int64).\n",
      "Pickling array (shape=(9916,), dtype=int64).\n",
      "[CV] max_features=auto, min_samples_split=5, n_estimators=100, min_samples_leaf=1 \n",
      "Memmaping (shape=(29749, 7737), dtype=float64) to old file /var/folders/90/m6j358k94lxbhz0y6yl5rd640000gp/T/joblib_memmaping_pool_11173_4564184464/11173-4564163024-0783137f3d0ee86f4888b0659d6d8145.pkl\n",
      "Pickling array (shape=(29749,), dtype=int64).\n",
      "Pickling array (shape=(19833,), dtype=int64).\n",
      "Pickling array (shape=(9916,), dtype=int64).\n"
     ]
    },
    {
     "ename": "KeyboardInterrupt",
     "evalue": "",
     "output_type": "error",
     "traceback": [
      "\u001b[0;31m---------------------------------------------------------------------------\u001b[0m",
      "\u001b[0;31mKeyboardInterrupt\u001b[0m                         Traceback (most recent call last)",
      "\u001b[0;32m<ipython-input-14-95173fa377ff>\u001b[0m in \u001b[0;36m<module>\u001b[0;34m()\u001b[0m\n\u001b[1;32m     10\u001b[0m \u001b[0mgs\u001b[0m \u001b[0;34m=\u001b[0m \u001b[0mGridSearchCV\u001b[0m\u001b[0;34m(\u001b[0m\u001b[0mestimator\u001b[0m\u001b[0;34m=\u001b[0m\u001b[0mRandomForestClassifier\u001b[0m\u001b[0;34m(\u001b[0m\u001b[0;34m)\u001b[0m\u001b[0;34m,\u001b[0m \u001b[0mparam_grid\u001b[0m\u001b[0;34m=\u001b[0m\u001b[0mrfc_param_grid\u001b[0m\u001b[0;34m,\u001b[0m \u001b[0mscoring\u001b[0m\u001b[0;34m=\u001b[0m\u001b[0;34m'recall'\u001b[0m\u001b[0;34m,\u001b[0m\u001b[0mn_jobs\u001b[0m\u001b[0;34m=\u001b[0m\u001b[0;34m-\u001b[0m\u001b[0;36m1\u001b[0m\u001b[0;34m,\u001b[0m\u001b[0mverbose\u001b[0m\u001b[0;34m=\u001b[0m\u001b[0;36m100\u001b[0m\u001b[0;34m)\u001b[0m\u001b[0;34m\u001b[0m\u001b[0m\n\u001b[1;32m     11\u001b[0m \u001b[0;34m\u001b[0m\u001b[0m\n\u001b[0;32m---> 12\u001b[0;31m \u001b[0mgs\u001b[0m\u001b[0;34m.\u001b[0m\u001b[0mfit\u001b[0m\u001b[0;34m(\u001b[0m\u001b[0mX_class\u001b[0m\u001b[0;34m,\u001b[0m \u001b[0my_class\u001b[0m\u001b[0;34m)\u001b[0m\u001b[0;34m\u001b[0m\u001b[0m\n\u001b[0m",
      "\u001b[0;32m/Users/Naekid/anaconda3/envs/dsi/lib/python2.7/site-packages/sklearn/model_selection/_search.pyc\u001b[0m in \u001b[0;36mfit\u001b[0;34m(self, X, y, groups)\u001b[0m\n\u001b[1;32m    943\u001b[0m             \u001b[0mtrain\u001b[0m\u001b[0;34m/\u001b[0m\u001b[0mtest\u001b[0m \u001b[0mset\u001b[0m\u001b[0;34m.\u001b[0m\u001b[0;34m\u001b[0m\u001b[0m\n\u001b[1;32m    944\u001b[0m         \"\"\"\n\u001b[0;32m--> 945\u001b[0;31m         \u001b[0;32mreturn\u001b[0m \u001b[0mself\u001b[0m\u001b[0;34m.\u001b[0m\u001b[0m_fit\u001b[0m\u001b[0;34m(\u001b[0m\u001b[0mX\u001b[0m\u001b[0;34m,\u001b[0m \u001b[0my\u001b[0m\u001b[0;34m,\u001b[0m \u001b[0mgroups\u001b[0m\u001b[0;34m,\u001b[0m \u001b[0mParameterGrid\u001b[0m\u001b[0;34m(\u001b[0m\u001b[0mself\u001b[0m\u001b[0;34m.\u001b[0m\u001b[0mparam_grid\u001b[0m\u001b[0;34m)\u001b[0m\u001b[0;34m)\u001b[0m\u001b[0;34m\u001b[0m\u001b[0m\n\u001b[0m\u001b[1;32m    946\u001b[0m \u001b[0;34m\u001b[0m\u001b[0m\n\u001b[1;32m    947\u001b[0m \u001b[0;34m\u001b[0m\u001b[0m\n",
      "\u001b[0;32m/Users/Naekid/anaconda3/envs/dsi/lib/python2.7/site-packages/sklearn/model_selection/_search.pyc\u001b[0m in \u001b[0;36m_fit\u001b[0;34m(self, X, y, groups, parameter_iterable)\u001b[0m\n\u001b[1;32m    562\u001b[0m                                   \u001b[0mreturn_times\u001b[0m\u001b[0;34m=\u001b[0m\u001b[0mTrue\u001b[0m\u001b[0;34m,\u001b[0m \u001b[0mreturn_parameters\u001b[0m\u001b[0;34m=\u001b[0m\u001b[0mTrue\u001b[0m\u001b[0;34m,\u001b[0m\u001b[0;34m\u001b[0m\u001b[0m\n\u001b[1;32m    563\u001b[0m                                   error_score=self.error_score)\n\u001b[0;32m--> 564\u001b[0;31m           \u001b[0;32mfor\u001b[0m \u001b[0mparameters\u001b[0m \u001b[0;32min\u001b[0m \u001b[0mparameter_iterable\u001b[0m\u001b[0;34m\u001b[0m\u001b[0m\n\u001b[0m\u001b[1;32m    565\u001b[0m           for train, test in cv_iter)\n\u001b[1;32m    566\u001b[0m \u001b[0;34m\u001b[0m\u001b[0m\n",
      "\u001b[0;32m/Users/Naekid/anaconda3/envs/dsi/lib/python2.7/site-packages/sklearn/externals/joblib/parallel.pyc\u001b[0m in \u001b[0;36m__call__\u001b[0;34m(self, iterable)\u001b[0m\n\u001b[1;32m    766\u001b[0m                 \u001b[0;31m# consumption.\u001b[0m\u001b[0;34m\u001b[0m\u001b[0;34m\u001b[0m\u001b[0m\n\u001b[1;32m    767\u001b[0m                 \u001b[0mself\u001b[0m\u001b[0;34m.\u001b[0m\u001b[0m_iterating\u001b[0m \u001b[0;34m=\u001b[0m \u001b[0mFalse\u001b[0m\u001b[0;34m\u001b[0m\u001b[0m\n\u001b[0;32m--> 768\u001b[0;31m             \u001b[0mself\u001b[0m\u001b[0;34m.\u001b[0m\u001b[0mretrieve\u001b[0m\u001b[0;34m(\u001b[0m\u001b[0;34m)\u001b[0m\u001b[0;34m\u001b[0m\u001b[0m\n\u001b[0m\u001b[1;32m    769\u001b[0m             \u001b[0;31m# Make sure that we get a last message telling us we are done\u001b[0m\u001b[0;34m\u001b[0m\u001b[0;34m\u001b[0m\u001b[0m\n\u001b[1;32m    770\u001b[0m             \u001b[0melapsed_time\u001b[0m \u001b[0;34m=\u001b[0m \u001b[0mtime\u001b[0m\u001b[0;34m.\u001b[0m\u001b[0mtime\u001b[0m\u001b[0;34m(\u001b[0m\u001b[0;34m)\u001b[0m \u001b[0;34m-\u001b[0m \u001b[0mself\u001b[0m\u001b[0;34m.\u001b[0m\u001b[0m_start_time\u001b[0m\u001b[0;34m\u001b[0m\u001b[0m\n",
      "\u001b[0;32m/Users/Naekid/anaconda3/envs/dsi/lib/python2.7/site-packages/sklearn/externals/joblib/parallel.pyc\u001b[0m in \u001b[0;36mretrieve\u001b[0;34m(self)\u001b[0m\n\u001b[1;32m    717\u001b[0m                     \u001b[0mensure_ready\u001b[0m \u001b[0;34m=\u001b[0m \u001b[0mself\u001b[0m\u001b[0;34m.\u001b[0m\u001b[0m_managed_backend\u001b[0m\u001b[0;34m\u001b[0m\u001b[0m\n\u001b[1;32m    718\u001b[0m                     \u001b[0mbackend\u001b[0m\u001b[0;34m.\u001b[0m\u001b[0mabort_everything\u001b[0m\u001b[0;34m(\u001b[0m\u001b[0mensure_ready\u001b[0m\u001b[0;34m=\u001b[0m\u001b[0mensure_ready\u001b[0m\u001b[0;34m)\u001b[0m\u001b[0;34m\u001b[0m\u001b[0m\n\u001b[0;32m--> 719\u001b[0;31m                 \u001b[0;32mraise\u001b[0m \u001b[0mexception\u001b[0m\u001b[0;34m\u001b[0m\u001b[0m\n\u001b[0m\u001b[1;32m    720\u001b[0m \u001b[0;34m\u001b[0m\u001b[0m\n\u001b[1;32m    721\u001b[0m     \u001b[0;32mdef\u001b[0m \u001b[0m__call__\u001b[0m\u001b[0;34m(\u001b[0m\u001b[0mself\u001b[0m\u001b[0;34m,\u001b[0m \u001b[0miterable\u001b[0m\u001b[0;34m)\u001b[0m\u001b[0;34m:\u001b[0m\u001b[0;34m\u001b[0m\u001b[0m\n",
      "\u001b[0;31mKeyboardInterrupt\u001b[0m: "
     ]
    }
   ],
   "source": [
    "RandomForestClassifier()\n",
    "\n",
    "rfc_param_grid = {\n",
    "    'n_estimators':[100],\n",
    "    'min_samples_split':[2, 5, 10],\n",
    "    'max_features':['auto',0.3,0.5],\n",
    "    'min_samples_leaf':[1,3,5]\n",
    "}\n",
    "\n",
    "gs = GridSearchCV(estimator=RandomForestClassifier(), param_grid=rfc_param_grid, scoring='recall',n_jobs=-1,verbose=100)\n",
    "\n",
    "gs.fit(X_class, y_class)"
   ]
  },
  {
   "cell_type": "code",
   "execution_count": null,
   "metadata": {
    "collapsed": true,
    "deletable": true,
    "editable": true
   },
   "outputs": [],
   "source": [
    "print 'Best Estimator:',gs.best_estimator_\n",
    "print 'Best Score:',gs.best_score_\n",
    "print 'Best Parameters:',gs.best_params_"
   ]
  },
  {
   "cell_type": "code",
   "execution_count": null,
   "metadata": {
    "collapsed": true,
    "deletable": true,
    "editable": true
   },
   "outputs": [],
   "source": [
    "joblib.dump(gs.best_estimator_, './model_pickles/gs_random_forest.pkl') "
   ]
  },
  {
   "cell_type": "markdown",
   "metadata": {
    "deletable": true,
    "editable": true
   },
   "source": [
    "### Logistic Regression"
   ]
  },
  {
   "cell_type": "code",
   "execution_count": null,
   "metadata": {
    "collapsed": true,
    "deletable": true,
    "editable": true
   },
   "outputs": [],
   "source": []
  },
  {
   "cell_type": "markdown",
   "metadata": {
    "deletable": true,
    "editable": true
   },
   "source": [
    "### KNN"
   ]
  },
  {
   "cell_type": "code",
   "execution_count": null,
   "metadata": {
    "collapsed": true,
    "deletable": true,
    "editable": true
   },
   "outputs": [],
   "source": []
  },
  {
   "cell_type": "markdown",
   "metadata": {
    "deletable": true,
    "editable": true
   },
   "source": [
    "### SVM"
   ]
  },
  {
   "cell_type": "code",
   "execution_count": null,
   "metadata": {
    "collapsed": true,
    "deletable": true,
    "editable": true
   },
   "outputs": [],
   "source": []
  },
  {
   "cell_type": "markdown",
   "metadata": {
    "deletable": true,
    "editable": true
   },
   "source": [
    "** Model **"
   ]
  },
  {
   "cell_type": "code",
   "execution_count": 76,
   "metadata": {
    "collapsed": false,
    "deletable": true,
    "editable": true
   },
   "outputs": [
    {
     "data": {
      "text/plain": [
       "RandomForestClassifier(bootstrap=True, class_weight=None, criterion='gini',\n",
       "            max_depth=None, max_features='auto', max_leaf_nodes=None,\n",
       "            min_impurity_split=1e-07, min_samples_leaf=1,\n",
       "            min_samples_split=2, min_weight_fraction_leaf=0.0,\n",
       "            n_estimators=100, n_jobs=-1, oob_score=False,\n",
       "            random_state=None, verbose=0, warm_start=False)"
      ]
     },
     "execution_count": 76,
     "metadata": {},
     "output_type": "execute_result"
    }
   ],
   "source": [
    "rfc = RandomForestClassifier(n_estimators=100, n_jobs=-1)\n",
    "\n",
    "rfc.fit(X_train_class, y_train_class)"
   ]
  },
  {
   "cell_type": "code",
   "execution_count": 63,
   "metadata": {
    "collapsed": false,
    "deletable": true,
    "editable": true
   },
   "outputs": [
    {
     "name": "stdout",
     "output_type": "stream",
     "text": [
      "top 5 features:\n"
     ]
    },
    {
     "data": {
      "text/plain": [
       "[('startPrice', 0.091041724275354508),\n",
       " ('concurrent_similar_median_start_price', 0.072779250151591424),\n",
       " (u'scratches body', 0.0065584151677305557),\n",
       " (u'50mm prime', 0.0048426325250845821),\n",
       " (u'255', 0.0041375394373774389)]"
      ]
     },
     "execution_count": 63,
     "metadata": {},
     "output_type": "execute_result"
    }
   ],
   "source": [
    "print 'top 5 features:'\n",
    "feature_importances = sorted(zip(df_classification.columns.tolist()[:-1], rfc.feature_importances_), key=lambda x: x[1], reverse=True)\n",
    "sorted(zip(df_classification.columns.tolist()[:-1], rfc.feature_importances_), key=lambda x: x[1], reverse=True)[:5]"
   ]
  },
  {
   "cell_type": "markdown",
   "metadata": {
    "deletable": true,
    "editable": true
   },
   "source": [
    "# Score Model"
   ]
  },
  {
   "cell_type": "markdown",
   "metadata": {
    "deletable": true,
    "editable": true
   },
   "source": [
    "Baseline "
   ]
  },
  {
   "cell_type": "code",
   "execution_count": 71,
   "metadata": {
    "collapsed": false,
    "deletable": true,
    "editable": true
   },
   "outputs": [
    {
     "name": "stdout",
     "output_type": "stream",
     "text": [
      "Baseline accuracy: 0.853763351135\n"
     ]
    }
   ],
   "source": [
    "from sklearn.metrics import accuracy_score\n",
    "# calculate baseline\n",
    "y_true = y_train_class\n",
    "y_pred = np.ones(y_true.shape[0])\n",
    "print 'Baseline accuracy:',accuracy_score(y_true, y_pred)"
   ]
  },
  {
   "cell_type": "markdown",
   "metadata": {
    "deletable": true,
    "editable": true
   },
   "source": [
    "Cross val score"
   ]
  },
  {
   "cell_type": "code",
   "execution_count": 69,
   "metadata": {
    "collapsed": false,
    "deletable": true,
    "editable": true
   },
   "outputs": [],
   "source": [
    "# scores = cross_val_score(estimator=RandomForestClassifier(n_estimators=100, n_jobs=-1), X=X_class, y=y_class, scoring='accuracy',cv=3, n_jobs=-1)\n",
    "# print np.mean(scores)"
   ]
  }
 ],
 "metadata": {
  "kernelspec": {
   "display_name": "Python 2",
   "language": "python",
   "name": "python2"
  },
  "language_info": {
   "codemirror_mode": {
    "name": "ipython",
    "version": 2
   },
   "file_extension": ".py",
   "mimetype": "text/x-python",
   "name": "python",
   "nbconvert_exporter": "python",
   "pygments_lexer": "ipython2",
   "version": "2.7.13"
  }
 },
 "nbformat": 4,
 "nbformat_minor": 2
}
