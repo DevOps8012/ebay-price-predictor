{
 "cells": [
  {
   "cell_type": "code",
   "execution_count": 1,
   "metadata": {
    "collapsed": false,
    "deletable": true,
    "editable": true
   },
   "outputs": [],
   "source": [
    "import psycopg2\n",
    "import pandas as pd\n",
    "from sqlalchemy import create_engine\n",
    "import matplotlib.pyplot as plt\n",
    "%matplotlib inline\n",
    "import seaborn as sns\n",
    "import datetime\n",
    "import numpy as np\n",
    "\n",
    "from sklearn.model_selection import train_test_split\n",
    "from vectorizer_utility import get_tf_idf\n",
    "from sklearn.feature_extraction.text import CountVectorizer, TfidfVectorizer\n",
    "\n",
    "from sklearn.ensemble import RandomForestClassifier\n",
    "from sklearn.model_selection import cross_val_score"
   ]
  },
  {
   "cell_type": "markdown",
   "metadata": {
    "deletable": true,
    "editable": true
   },
   "source": [
    "Connect to DataBase"
   ]
  },
  {
   "cell_type": "code",
   "execution_count": 2,
   "metadata": {
    "collapsed": false,
    "deletable": true,
    "editable": true
   },
   "outputs": [],
   "source": [
    "dbname='ebay'\n",
    "user='nathan'\n",
    "host='localhost'\n",
    "TABLE_NAME = 'completed_items_15230_31388'\n",
    "\n",
    "engine = create_engine('postgresql://%s@%s/%s' % (user,host,dbname), echo=False)\n",
    "\n",
    "df = pd.read_sql_table(TABLE_NAME, engine)"
   ]
  },
  {
   "cell_type": "code",
   "execution_count": 3,
   "metadata": {
    "collapsed": false,
    "deletable": true,
    "editable": true
   },
   "outputs": [
    {
     "name": "stdout",
     "output_type": "stream",
     "text": [
      "No duplicate itemIds.\n"
     ]
    }
   ],
   "source": [
    "# yields true if there are no duplicate 'itemId'\n",
    "if df['itemId'].shape[0] == len(df['itemId'].unique()):\n",
    "    print 'No duplicate itemIds.'\n",
    "else:\n",
    "    raise ValueError('Duplicate itemId in dataframe.')"
   ]
  },
  {
   "cell_type": "code",
   "execution_count": 4,
   "metadata": {
    "collapsed": false,
    "deletable": true,
    "editable": true
   },
   "outputs": [
    {
     "data": {
      "text/plain": [
       "(104379, 47)"
      ]
     },
     "execution_count": 4,
     "metadata": {},
     "output_type": "execute_result"
    }
   ],
   "source": [
    "df.shape"
   ]
  },
  {
   "cell_type": "code",
   "execution_count": 5,
   "metadata": {
    "collapsed": false,
    "deletable": true,
    "editable": true
   },
   "outputs": [
    {
     "data": {
      "text/html": [
       "<div>\n",
       "<table border=\"1\" class=\"dataframe\">\n",
       "  <thead>\n",
       "    <tr style=\"text-align: right;\">\n",
       "      <th></th>\n",
       "      <th>timestamp</th>\n",
       "      <th>itemId</th>\n",
       "      <th>topRatedListing</th>\n",
       "      <th>globalId</th>\n",
       "      <th>title</th>\n",
       "      <th>subtitle</th>\n",
       "      <th>country</th>\n",
       "      <th>primaryCategory.categoryId</th>\n",
       "      <th>primaryCategory.categoryName</th>\n",
       "      <th>secondaryCategory.categoryId</th>\n",
       "      <th>...</th>\n",
       "      <th>listingInfo.bestOfferEnabled</th>\n",
       "      <th>listingInfo.startTime</th>\n",
       "      <th>listingInfo.buyItNowAvailable</th>\n",
       "      <th>listingInfo.endTime</th>\n",
       "      <th>conditiondescription</th>\n",
       "      <th>id</th>\n",
       "      <th>startprice</th>\n",
       "      <th>duration</th>\n",
       "      <th>listingInfo.buyItNowPrice.value</th>\n",
       "      <th>endprice</th>\n",
       "    </tr>\n",
       "  </thead>\n",
       "  <tbody>\n",
       "    <tr>\n",
       "      <th>0</th>\n",
       "      <td>2017-04-02 19:54:06.407000+00:00</td>\n",
       "      <td>282412322268</td>\n",
       "      <td>False</td>\n",
       "      <td>EBAY-US</td>\n",
       "      <td>Canon Rebel EOS T1i EF-S 18-55 IS Kit and Supe...</td>\n",
       "      <td>None</td>\n",
       "      <td>US</td>\n",
       "      <td>31388</td>\n",
       "      <td>Digital Cameras</td>\n",
       "      <td>None</td>\n",
       "      <td>...</td>\n",
       "      <td>False</td>\n",
       "      <td>2017-03-28 00:20:53</td>\n",
       "      <td>True</td>\n",
       "      <td>2017-04-02 00:20:53</td>\n",
       "      <td>None</td>\n",
       "      <td>70828</td>\n",
       "      <td>NaN</td>\n",
       "      <td>None</td>\n",
       "      <td>265.0</td>\n",
       "      <td>None</td>\n",
       "    </tr>\n",
       "    <tr>\n",
       "      <th>1</th>\n",
       "      <td>2017-04-02 19:54:06.407000+00:00</td>\n",
       "      <td>282406128032</td>\n",
       "      <td>False</td>\n",
       "      <td>EBAY-US</td>\n",
       "      <td>Fujifilm FinePix A Series AX650 16.0 MP Digita...</td>\n",
       "      <td>None</td>\n",
       "      <td>US</td>\n",
       "      <td>31388</td>\n",
       "      <td>Digital Cameras</td>\n",
       "      <td>None</td>\n",
       "      <td>...</td>\n",
       "      <td>False</td>\n",
       "      <td>2017-03-23 00:17:56</td>\n",
       "      <td>True</td>\n",
       "      <td>2017-04-02 00:17:56</td>\n",
       "      <td>None</td>\n",
       "      <td>70829</td>\n",
       "      <td>NaN</td>\n",
       "      <td>None</td>\n",
       "      <td>50.0</td>\n",
       "      <td>None</td>\n",
       "    </tr>\n",
       "  </tbody>\n",
       "</table>\n",
       "<p>2 rows × 47 columns</p>\n",
       "</div>"
      ],
      "text/plain": [
       "                         timestamp        itemId topRatedListing globalId  \\\n",
       "0 2017-04-02 19:54:06.407000+00:00  282412322268           False  EBAY-US   \n",
       "1 2017-04-02 19:54:06.407000+00:00  282406128032           False  EBAY-US   \n",
       "\n",
       "                                               title subtitle country  \\\n",
       "0  Canon Rebel EOS T1i EF-S 18-55 IS Kit and Supe...     None      US   \n",
       "1  Fujifilm FinePix A Series AX650 16.0 MP Digita...     None      US   \n",
       "\n",
       "   primaryCategory.categoryId primaryCategory.categoryName  \\\n",
       "0                       31388              Digital Cameras   \n",
       "1                       31388              Digital Cameras   \n",
       "\n",
       "  secondaryCategory.categoryId    ...    listingInfo.bestOfferEnabled  \\\n",
       "0                         None    ...                           False   \n",
       "1                         None    ...                           False   \n",
       "\n",
       "  listingInfo.startTime listingInfo.buyItNowAvailable listingInfo.endTime  \\\n",
       "0   2017-03-28 00:20:53                          True 2017-04-02 00:20:53   \n",
       "1   2017-03-23 00:17:56                          True 2017-04-02 00:17:56   \n",
       "\n",
       "   conditiondescription     id startprice duration  \\\n",
       "0                  None  70828        NaN     None   \n",
       "1                  None  70829        NaN     None   \n",
       "\n",
       "  listingInfo.buyItNowPrice.value  endprice  \n",
       "0                           265.0      None  \n",
       "1                            50.0      None  \n",
       "\n",
       "[2 rows x 47 columns]"
      ]
     },
     "execution_count": 5,
     "metadata": {},
     "output_type": "execute_result"
    }
   ],
   "source": [
    "df.head(2)"
   ]
  },
  {
   "cell_type": "markdown",
   "metadata": {
    "deletable": true,
    "editable": true
   },
   "source": [
    "How many listings of each type are there?"
   ]
  },
  {
   "cell_type": "code",
   "execution_count": 7,
   "metadata": {
    "collapsed": false,
    "deletable": true,
    "editable": true
   },
   "outputs": [
    {
     "data": {
      "text/plain": [
       "Auction           47486\n",
       "FixedPrice        34220\n",
       "StoreInventory    19087\n",
       "AuctionWithBIN     3586\n",
       "Name: listingInfo.listingType, dtype: int64"
      ]
     },
     "execution_count": 7,
     "metadata": {},
     "output_type": "execute_result"
    }
   ],
   "source": [
    "df['listingInfo.listingType'].value_counts()"
   ]
  },
  {
   "cell_type": "code",
   "execution_count": 210,
   "metadata": {
    "collapsed": false,
    "deletable": true,
    "editable": true
   },
   "outputs": [],
   "source": [
    "# camera_category_names = [name for name in df['primaryCategory.categoryName'].unique().tolist() if 'Camera' in name]\n",
    "camera_category_names = ['Digital Cameras','Film Cameras','Cameras','Digital Camera parts','Other Vintage Cameras','Box Cameras','35mm Cameras']\n",
    "df = df[df['primaryCategory.categoryName'].isin(camera_category_names)]"
   ]
  },
  {
   "cell_type": "code",
   "execution_count": 169,
   "metadata": {
    "collapsed": true,
    "deletable": true,
    "editable": true
   },
   "outputs": [
    {
     "data": {
      "text/plain": [
       "Index([                                    u'id',\n",
       "                                    u'timestamp',\n",
       "                                       u'itemId',\n",
       "                              u'topRatedListing',\n",
       "                                     u'globalId',\n",
       "                                        u'title',\n",
       "                                     u'subtitle',\n",
       "                                      u'country',\n",
       "                   u'primaryCategory.categoryId',\n",
       "                 u'primaryCategory.categoryName',\n",
       "                 u'secondaryCategory.categoryId',\n",
       "               u'secondaryCategory.categoryName',\n",
       "                              u'pictureURLLarge',\n",
       "                                   u'galleryURL',\n",
       "                u'sellerInfo.feedbackRatingStar',\n",
       "                     u'sellerInfo.feedbackScore',\n",
       "           u'sellerInfo.positiveFeedbackPercent',\n",
       "                    u'sellerInfo.sellerUserName',\n",
       "               u'shippingInfo.expeditedShipping',\n",
       "                 u'shippingInfo.shipToLocations',\n",
       "       u'shippingInfo.shippingServiceCost.value',\n",
       "         u'shippingInfo.oneDayShippingAvailable',\n",
       "                    u'shippingInfo.handlingTime',\n",
       "                    u'shippingInfo.shippingType',\n",
       "                                      u'autoPay',\n",
       "                                     u'location',\n",
       "                                   u'postalCode',\n",
       "                              u'returnsAccepted',\n",
       "                                  u'viewItemURL',\n",
       "             u'sellingStatus.currentPrice.value',\n",
       "                       u'sellingStatus.bidCount',\n",
       "                   u'sellingStatus.sellingState',\n",
       "                                u'paymentMethod',\n",
       "                      u'isMultiVariationListing',\n",
       "                        u'condition.conditionId',\n",
       "               u'condition.conditionDisplayName',\n",
       "                      u'listingInfo.listingType',\n",
       "                             u'listingInfo.gift',\n",
       "                 u'listingInfo.bestOfferEnabled',\n",
       "                        u'listingInfo.startTime',\n",
       "                u'listingInfo.buyItNowAvailable',\n",
       "                          u'listingInfo.endTime',\n",
       "                         u'conditiondescription',\n",
       "                                         u'sold',\n",
       "                   u'listingInfo.startTime.hour',\n",
       "                u'listingInfo.startTime.weekday'],\n",
       "      dtype='object')"
      ]
     },
     "execution_count": 169,
     "metadata": {},
     "output_type": "execute_result"
    }
   ],
   "source": [
    "df.columns"
   ]
  },
  {
   "cell_type": "markdown",
   "metadata": {
    "deletable": true,
    "editable": true
   },
   "source": [
    "# Cleaning"
   ]
  },
  {
   "cell_type": "code",
   "execution_count": 76,
   "metadata": {
    "collapsed": false,
    "deletable": true,
    "editable": true
   },
   "outputs": [],
   "source": [
    "# Create 'sold' target column\n",
    "df['sold'] = df['sellingStatus.bidCount'].apply(lambda x: 1 if x > 0 else 0)"
   ]
  },
  {
   "cell_type": "code",
   "execution_count": 82,
   "metadata": {
    "collapsed": true,
    "deletable": true,
    "editable": true
   },
   "outputs": [],
   "source": [
    "# Transform True/False into 1/0\n",
    "true_false_col = ['topRatedListing','shippingInfo.expeditedShipping','shippingInfo.oneDayShippingAvailable',\n",
    "                 'autoPay','returnsAccepted','isMultiVariationListing','listingInfo.gift',\n",
    "                  'listingInfo.bestOfferEnabled','listingInfo.buyItNowAvailable']\n",
    "for col in true_false_col:\n",
    "    df[col] = df[col].apply(lambda x: 0 if x==False else 1)"
   ]
  },
  {
   "cell_type": "code",
   "execution_count": 84,
   "metadata": {
    "collapsed": false,
    "deletable": true,
    "editable": true
   },
   "outputs": [],
   "source": [
    "# replace 'NULL' in df['conditiondescription'] with empty string\n",
    "df['conditiondescription'] = df['conditiondescription'].apply(lambda x: '' if x=='NULL' else x)"
   ]
  },
  {
   "cell_type": "markdown",
   "metadata": {
    "deletable": true,
    "editable": true
   },
   "source": [
    "encode categorical columns"
   ]
  },
  {
   "cell_type": "code",
   "execution_count": null,
   "metadata": {
    "collapsed": true,
    "deletable": true,
    "editable": true
   },
   "outputs": [],
   "source": []
  },
  {
   "cell_type": "markdown",
   "metadata": {
    "deletable": true,
    "editable": true
   },
   "source": [
    "# EDA"
   ]
  },
  {
   "cell_type": "code",
   "execution_count": 215,
   "metadata": {
    "collapsed": false,
    "deletable": true,
    "editable": true
   },
   "outputs": [
    {
     "data": {
      "text/plain": [
       "(0, 10)"
      ]
     },
     "execution_count": 215,
     "metadata": {},
     "output_type": "execute_result"
    },
    {
     "data": {
      "image/png": "[encoded data removed]",
      "text/plain": [
       "<matplotlib.figure.Figure at 0x127b61590>"
      ]
     },
     "metadata": {},
     "output_type": "display_data"
    }
   ],
   "source": [
    "fig, (ax1,ax2) = plt.subplots(nrows=1, ncols=2, figsize=(14,4));\n",
    "sns.distplot(a=df['sellingStatus.bidCount'], bins=50, ax=ax1, kde=False, hist_kws={'alpha':1})\n",
    "ax1.set_xlim((0,80))\n",
    "sns.distplot(a=df[df['sellingStatus.bidCount'] < 10]['sellingStatus.bidCount'].reset_index().drop('index',axis=1), bins=50, ax=ax2, kde=False, hist_kws={'alpha':1})\n",
    "ax2.set_xlim((0,10))"
   ]
  },
  {
   "cell_type": "markdown",
   "metadata": {
    "deletable": true,
    "editable": true
   },
   "source": [
    "Look at start times vs. sold amount? "
   ]
  },
  {
   "cell_type": "code",
   "execution_count": 216,
   "metadata": {
    "collapsed": false,
    "deletable": true,
    "editable": true
   },
   "outputs": [],
   "source": [
    "df['listingInfo.startTime.hour'] = df['listingInfo.startTime'].apply(lambda x: x.hour)\n",
    "df['listingInfo.startTime.weekday'] = df['listingInfo.startTime'].apply(lambda x: x.weekday())"
   ]
  },
  {
   "cell_type": "code",
   "execution_count": 217,
   "metadata": {
    "collapsed": true,
    "deletable": true,
    "editable": true
   },
   "outputs": [
    {
     "data": {
      "text/html": [
       "<div>\n",
       "<table border=\"1\" class=\"dataframe\">\n",
       "  <thead>\n",
       "    <tr style=\"text-align: right;\">\n",
       "      <th></th>\n",
       "      <th>id</th>\n",
       "    </tr>\n",
       "    <tr>\n",
       "      <th>listingInfo.startTime.hour</th>\n",
       "      <th></th>\n",
       "    </tr>\n",
       "  </thead>\n",
       "  <tbody>\n",
       "    <tr>\n",
       "      <th>0</th>\n",
       "      <td>2056</td>\n",
       "    </tr>\n",
       "    <tr>\n",
       "      <th>1</th>\n",
       "      <td>2610</td>\n",
       "    </tr>\n",
       "    <tr>\n",
       "      <th>2</th>\n",
       "      <td>2764</td>\n",
       "    </tr>\n",
       "    <tr>\n",
       "      <th>3</th>\n",
       "      <td>2345</td>\n",
       "    </tr>\n",
       "    <tr>\n",
       "      <th>4</th>\n",
       "      <td>1221</td>\n",
       "    </tr>\n",
       "    <tr>\n",
       "      <th>5</th>\n",
       "      <td>690</td>\n",
       "    </tr>\n",
       "    <tr>\n",
       "      <th>6</th>\n",
       "      <td>436</td>\n",
       "    </tr>\n",
       "    <tr>\n",
       "      <th>7</th>\n",
       "      <td>312</td>\n",
       "    </tr>\n",
       "    <tr>\n",
       "      <th>8</th>\n",
       "      <td>218</td>\n",
       "    </tr>\n",
       "    <tr>\n",
       "      <th>9</th>\n",
       "      <td>169</td>\n",
       "    </tr>\n",
       "    <tr>\n",
       "      <th>10</th>\n",
       "      <td>133</td>\n",
       "    </tr>\n",
       "    <tr>\n",
       "      <th>11</th>\n",
       "      <td>145</td>\n",
       "    </tr>\n",
       "    <tr>\n",
       "      <th>12</th>\n",
       "      <td>221</td>\n",
       "    </tr>\n",
       "    <tr>\n",
       "      <th>13</th>\n",
       "      <td>435</td>\n",
       "    </tr>\n",
       "    <tr>\n",
       "      <th>14</th>\n",
       "      <td>725</td>\n",
       "    </tr>\n",
       "    <tr>\n",
       "      <th>15</th>\n",
       "      <td>1053</td>\n",
       "    </tr>\n",
       "    <tr>\n",
       "      <th>16</th>\n",
       "      <td>1359</td>\n",
       "    </tr>\n",
       "    <tr>\n",
       "      <th>17</th>\n",
       "      <td>1596</td>\n",
       "    </tr>\n",
       "    <tr>\n",
       "      <th>18</th>\n",
       "      <td>1719</td>\n",
       "    </tr>\n",
       "    <tr>\n",
       "      <th>19</th>\n",
       "      <td>1784</td>\n",
       "    </tr>\n",
       "    <tr>\n",
       "      <th>20</th>\n",
       "      <td>1906</td>\n",
       "    </tr>\n",
       "    <tr>\n",
       "      <th>21</th>\n",
       "      <td>1899</td>\n",
       "    </tr>\n",
       "    <tr>\n",
       "      <th>22</th>\n",
       "      <td>1861</td>\n",
       "    </tr>\n",
       "    <tr>\n",
       "      <th>23</th>\n",
       "      <td>1889</td>\n",
       "    </tr>\n",
       "  </tbody>\n",
       "</table>\n",
       "</div>"
      ],
      "text/plain": [
       "                              id\n",
       "listingInfo.startTime.hour      \n",
       "0                           2056\n",
       "1                           2610\n",
       "2                           2764\n",
       "3                           2345\n",
       "4                           1221\n",
       "5                            690\n",
       "6                            436\n",
       "7                            312\n",
       "8                            218\n",
       "9                            169\n",
       "10                           133\n",
       "11                           145\n",
       "12                           221\n",
       "13                           435\n",
       "14                           725\n",
       "15                          1053\n",
       "16                          1359\n",
       "17                          1596\n",
       "18                          1719\n",
       "19                          1784\n",
       "20                          1906\n",
       "21                          1899\n",
       "22                          1861\n",
       "23                          1889"
      ]
     },
     "execution_count": 217,
     "metadata": {},
     "output_type": "execute_result"
    }
   ],
   "source": [
    "df[['id','listingInfo.startTime.hour']].groupby(by='listingInfo.startTime.hour').count()"
   ]
  },
  {
   "cell_type": "code",
   "execution_count": 218,
   "metadata": {
    "collapsed": false,
    "deletable": true,
    "editable": true
   },
   "outputs": [
    {
     "data": {
      "text/plain": [
       "<matplotlib.axes._subplots.AxesSubplot at 0x12559bd90>"
      ]
     },
     "execution_count": 218,
     "metadata": {},
     "output_type": "execute_result"
    },
    {
     "data": {
      "image/png": "[encoded data removed]",
      "text/plain": [
       "<matplotlib.figure.Figure at 0x11689c390>"
      ]
     },
     "metadata": {},
     "output_type": "display_data"
    }
   ],
   "source": [
    "sns.distplot(a=df[df['sold']==1]['listingInfo.startTime.hour'],  kde=True, color='r', hist_kws={'alpha':1})\n",
    "sns.distplot(a=df[df['sold']==0]['listingInfo.startTime.hour'], kde=True)"
   ]
  },
  {
   "cell_type": "code",
   "execution_count": 219,
   "metadata": {
    "collapsed": false,
    "deletable": true,
    "editable": true
   },
   "outputs": [],
   "source": [
    "hour_sold = df[df['sold']==1][['id','listingInfo.startTime.hour']].groupby(by='listingInfo.startTime.hour').count()\n",
    "hour_unsold = df[df['sold']==0][['id','listingInfo.startTime.hour']].groupby(by='listingInfo.startTime.hour').count()\n",
    "\n",
    "hour = (hour_sold - hour_unsold) / df[['id','listingInfo.startTime.hour']].groupby(by='listingInfo.startTime.hour').count()"
   ]
  },
  {
   "cell_type": "code",
   "execution_count": 220,
   "metadata": {
    "collapsed": false,
    "deletable": true,
    "editable": true
   },
   "outputs": [
    {
     "data": {
      "text/plain": [
       "<matplotlib.text.Text at 0x11226ca10>"
      ]
     },
     "execution_count": 220,
     "metadata": {},
     "output_type": "execute_result"
    },
    {
     "data": {
      "image/png": "[encoded data removed]",
      "text/plain": [
       "<matplotlib.figure.Figure at 0x1122fe110>"
      ]
     },
     "metadata": {},
     "output_type": "display_data"
    }
   ],
   "source": [
    "plt.plot(hour)\n",
    "plt.title('Percentage sold-unsold vs. Hour')\n",
    "plt.ylabel('(sold-unsold) / hour')\n",
    "plt.xlabel('hour')\n"
   ]
  },
  {
   "cell_type": "markdown",
   "metadata": {
    "deletable": true,
    "editable": true
   },
   "source": [
    "# Vectorize"
   ]
  },
  {
   "cell_type": "markdown",
   "metadata": {
    "deletable": true,
    "editable": true
   },
   "source": [
    "**Clean title column**"
   ]
  },
  {
   "cell_type": "code",
   "execution_count": 211,
   "metadata": {
    "collapsed": true,
    "deletable": true,
    "editable": true
   },
   "outputs": [
    {
     "name": "stdout",
     "output_type": "stream",
     "text": [
      "Nikon D D3300 24.2 MP Digital SLR Camera (Kit w/ 18-55mm and 55-200mm lens) \n",
      "\n",
      "Canon EOS 6D Digital Camera \n",
      "\n",
      "Nikon D D300S 12.3MP Digital SLR Camera - Black (Body Only) \n",
      "\n",
      "Canon EOS Rebel SL1 / EOS 100D 18.0 MP Digital SLR Camera - Black (Body Only) \n",
      "\n",
      "Nikon D D750 24.3 MP Digital SLR Camera - Black (Kit w/ DX VR 24-120mm Lens) \n",
      "\n",
      "Canon EOS 70D 20.2MP Digital SLR Camera - Plus 3 Lens Kit 10-18mm, 50mm, 24mm \n",
      "\n",
      "Nikon  D810 DSLR Camera Body Only, Excellent ,shutter count : 406 \n",
      "\n",
      "Canon EOS 5D Mark III 22.3MP Digital SLR Camera ,shutter count : 2135 \n",
      "\n",
      "Canon EOS 1Ds Mark III 21.1MP Digital SLR Camera \n",
      "\n",
      "Canon EOS 70D 20.2 MP Digital SLR Camera - Black (Kit w/ EF-S IS STM 18-135mm) \n",
      "\n"
     ]
    }
   ],
   "source": [
    "for title in df['title'][:10]:\n",
    "    print title, '\\n'"
   ]
  },
  {
   "cell_type": "markdown",
   "metadata": {
    "deletable": true,
    "editable": true
   },
   "source": [
    "**Split data into train,test. **"
   ]
  },
  {
   "cell_type": "code",
   "execution_count": null,
   "metadata": {
    "collapsed": true,
    "deletable": true,
    "editable": true
   },
   "outputs": [],
   "source": [
    "# Prepare arrays \n",
    "df_train, df_test = train_test_split(df, random_state=1, test_size=0.1)\n",
    "\n",
    "titles_train = df_train['title'].values\n",
    "titles_test = df_test['title'].values"
   ]
  },
  {
   "cell_type": "markdown",
   "metadata": {
    "deletable": true,
    "editable": true
   },
   "source": [
    "**Vectorize**\n",
    "<br>\n",
    "Strategy: I want to use CountVectorizer, because I'm really searching for the presence of certain words/word combinations. I don't care so much about weighing up unique words because I expect a lot of the listings to be similar. For instance, I don't want to weigh the phrase \"24.2 MP\" down just because it appears in many of the listings, because it's an important phrase even if it is not that unique to the particular listing."
   ]
  },
  {
   "cell_type": "code",
   "execution_count": 248,
   "metadata": {
    "collapsed": false,
    "deletable": true,
    "editable": true
   },
   "outputs": [],
   "source": [
    "# Vectorize\n",
    "vectorizer = CountVectorizer(ngram_range = (1,2),\n",
    "                             min_df=0.0005,\n",
    "                             max_df=0.9,\n",
    "                             analyzer='word',\n",
    "                             stop_words=None,\n",
    "                            )\n",
    "\n",
    "titles_train_mat = vectorizer.fit_transform(titles_train)\n",
    "titles_test_mat = vectorizer.transform(titles_test)"
   ]
  },
  {
   "cell_type": "markdown",
   "metadata": {
    "deletable": true,
    "editable": true
   },
   "source": [
    "**Create dataframes from vectors**"
   ]
  },
  {
   "cell_type": "code",
   "execution_count": 262,
   "metadata": {
    "collapsed": false,
    "deletable": true,
    "editable": true
   },
   "outputs": [],
   "source": [
    "titles_train_df = pd.DataFrame(data=titles_train_mat.todense(), index=df_train.index)\n",
    "titles_test_df = pd.DataFrame(data=titles_test_mat.todense(), index=df_test.index)\n",
    "\n",
    "titles_train_df = pd.concat(objs=[titles_train_df,df_train['sold']], axis=1).reset_index().drop('index', axis=1)\n",
    "titles_test_df = pd.concat(objs=[titles_test_df,df_test['sold']], axis=1).reset_index().drop('index', axis=1)"
   ]
  },
  {
   "cell_type": "markdown",
   "metadata": {
    "deletable": true,
    "editable": true
   },
   "source": [
    "**Split data for modeling. **"
   ]
  },
  {
   "cell_type": "code",
   "execution_count": 273,
   "metadata": {
    "collapsed": false,
    "deletable": true,
    "editable": true
   },
   "outputs": [],
   "source": [
    "X_train = titles_train_df.ix[:, :-1].values\n",
    "y_train = np.ravel(titles_train_df.ix[:, -1:].values)\n",
    "\n",
    "X_test = titles_test_df.ix[:, :-1].values\n",
    "y_test = np.ravel(titles_test_df.ix[:, -1:].values)"
   ]
  },
  {
   "cell_type": "markdown",
   "metadata": {
    "deletable": true,
    "editable": true
   },
   "source": [
    "**Fit model. **"
   ]
  },
  {
   "cell_type": "code",
   "execution_count": 274,
   "metadata": {
    "collapsed": false,
    "deletable": true,
    "editable": true
   },
   "outputs": [
    {
     "data": {
      "text/plain": [
       "RandomForestClassifier(bootstrap=True, class_weight=None, criterion='gini',\n",
       "            max_depth=None, max_features='auto', max_leaf_nodes=None,\n",
       "            min_impurity_split=1e-07, min_samples_leaf=1,\n",
       "            min_samples_split=2, min_weight_fraction_leaf=0.0,\n",
       "            n_estimators=10, n_jobs=1, oob_score=False, random_state=None,\n",
       "            verbose=0, warm_start=False)"
      ]
     },
     "execution_count": 274,
     "metadata": {},
     "output_type": "execute_result"
    }
   ],
   "source": [
    "rfc = RandomForestClassifier(n_estimators=200, n_jobs=-1)\n",
    "\n",
    "rfc.fit(X_train, y_train)"
   ]
  },
  {
   "cell_type": "markdown",
   "metadata": {
    "deletable": true,
    "editable": true
   },
   "source": [
    "**Test Model. **"
   ]
  },
  {
   "cell_type": "code",
   "execution_count": 295,
   "metadata": {
    "collapsed": false,
    "deletable": true,
    "editable": true
   },
   "outputs": [
    {
     "name": "stdout",
     "output_type": "stream",
     "text": [
      "0.897972998383\n",
      "0.897972998383\n"
     ]
    }
   ],
   "source": [
    "from sklearn.metrics import accuracy_score\n",
    "# calculate baseline\n",
    "y_true = y_train\n",
    "y_pred = np.ones(y_true.shape[0])\n",
    "print accuracy_score(y_true, y_pred)\n",
    "print np.sum(y_train==1) / float(np.sum(y_train==1) + np.sum(y_train==0))"
   ]
  },
  {
   "cell_type": "code",
   "execution_count": 296,
   "metadata": {
    "collapsed": false,
    "deletable": true,
    "editable": true
   },
   "outputs": [
    {
     "name": "stdout",
     "output_type": "stream",
     "text": [
      "0.913203630563\n"
     ]
    }
   ],
   "source": [
    "scores = cross_val_score(estimator=rfc, X=X_train, y=y_train, scoring='accuracy',cv=5, n_jobs=-1)\n",
    "print np.mean(scores)"
   ]
  },
  {
   "cell_type": "code",
   "execution_count": null,
   "metadata": {
    "collapsed": true,
    "deletable": true,
    "editable": true
   },
   "outputs": [],
   "source": []
  }
 ],
 "metadata": {
  "kernelspec": {
   "display_name": "Python 2",
   "language": "python",
   "name": "python2"
  },
  "language_info": {
   "codemirror_mode": {
    "name": "ipython",
    "version": 2
   },
   "file_extension": ".py",
   "mimetype": "text/x-python",
   "name": "python",
   "nbconvert_exporter": "python",
   "pygments_lexer": "ipython2",
   "version": "2.7.13"
  }
 },
 "nbformat": 4,
 "nbformat_minor": 2
}
